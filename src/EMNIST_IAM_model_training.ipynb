{
 "nbformat": 4,
 "nbformat_minor": 0,
 "metadata": {
  "colab": {
   "provenance": [],
   "gpuType": "V28"
  },
  "kernelspec": {
   "name": "python3",
   "display_name": "Python 3 (ipykernel)",
   "language": "python"
  },
  "language_info": {
   "name": "python"
  },
  "accelerator": "TPU"
 },
 "cells": [
  {
   "cell_type": "markdown",
   "source": [
    " Below is a complete code example that combines the MNIST, EMNIST, and IAM datasets to train a neural network model capable of recognizing numbers, letters (both upper and lower case), and cursive handwriting using Google Colab. I'll include explanations for each step.\n",
    "Full Code with Explanations\n",
    "\n",
    "Step 1: Set Up Environment and Import Libraries\n",
    "\n",
    "First, we need to set up our environment and import the necessary libraries."
   ],
   "metadata": {
    "id": "K8XMJU7sXLQX"
   }
  },
  {
   "cell_type": "code",
   "metadata": {
    "colab": {
     "base_uri": "https://localhost:8080/"
    },
    "id": "VVlCMtHQW7fo",
    "outputId": "0be01c17-ef71-47cf-dd7d-fccbc5b03853",
    "ExecuteTime": {
     "end_time": "2024-08-13T05:24:33.629719Z",
     "start_time": "2024-08-13T05:24:25.306090Z"
    }
   },
   "source": [
    "# Install TensorFlow and necessary libraries (run this if not already installed)\n",
    "# !pip install tensorflow opencv-python-headless numpy matplotlib emnist scipy"
   ],
   "outputs": [
    {
     "name": "stdout",
     "output_type": "stream",
     "text": [
      "Requirement already satisfied: tensorflow in c:\\programdata\\anaconda3\\lib\\site-packages (2.10.0)\n",
      "Collecting opencv-python-headless\n",
      "  Downloading opencv_python_headless-4.10.0.84-cp37-abi3-win_amd64.whl (38.8 MB)\n",
      "Requirement already satisfied: numpy in c:\\programdata\\anaconda3\\lib\\site-packages (1.20.3)\n",
      "Requirement already satisfied: matplotlib in c:\\programdata\\anaconda3\\lib\\site-packages (3.4.3)\n",
      "Collecting emnist\n",
      "  Downloading emnist-0.0-py3-none-any.whl (7.3 kB)\n",
      "Requirement already satisfied: scipy in c:\\programdata\\anaconda3\\lib\\site-packages (1.7.1)\n",
      "Requirement already satisfied: opt-einsum>=2.3.2 in c:\\programdata\\anaconda3\\lib\\site-packages (from tensorflow) (3.3.0)\n",
      "Requirement already satisfied: flatbuffers>=2.0 in c:\\programdata\\anaconda3\\lib\\site-packages (from tensorflow) (22.9.24)\n",
      "Requirement already satisfied: termcolor>=1.1.0 in c:\\programdata\\anaconda3\\lib\\site-packages (from tensorflow) (1.1.0)\n",
      "Requirement already satisfied: tensorboard<2.11,>=2.10 in c:\\programdata\\anaconda3\\lib\\site-packages (from tensorflow) (2.10.1)\n",
      "Requirement already satisfied: wrapt>=1.11.0 in c:\\programdata\\anaconda3\\lib\\site-packages (from tensorflow) (1.12.1)\n",
      "Requirement already satisfied: keras<2.11,>=2.10.0 in c:\\programdata\\anaconda3\\lib\\site-packages (from tensorflow) (2.10.0)\n",
      "Requirement already satisfied: protobuf<3.20,>=3.9.2 in c:\\programdata\\anaconda3\\lib\\site-packages (from tensorflow) (3.19.6)\n",
      "Requirement already satisfied: astunparse>=1.6.0 in c:\\programdata\\anaconda3\\lib\\site-packages (from tensorflow) (1.6.3)\n",
      "Requirement already satisfied: tensorflow-io-gcs-filesystem>=0.23.1 in c:\\programdata\\anaconda3\\lib\\site-packages (from tensorflow) (0.26.0)\n",
      "Requirement already satisfied: google-pasta>=0.1.1 in c:\\programdata\\anaconda3\\lib\\site-packages (from tensorflow) (0.2.0)\n",
      "Requirement already satisfied: packaging in c:\\programdata\\anaconda3\\lib\\site-packages (from tensorflow) (21.0)\n",
      "Requirement already satisfied: grpcio<2.0,>=1.24.3 in c:\\programdata\\anaconda3\\lib\\site-packages (from tensorflow) (1.46.3)\n",
      "Requirement already satisfied: libclang>=13.0.0 in c:\\programdata\\anaconda3\\lib\\site-packages (from tensorflow) (14.0.1)\n",
      "Requirement already satisfied: h5py>=2.9.0 in c:\\programdata\\anaconda3\\lib\\site-packages (from tensorflow) (3.2.1)\n",
      "Requirement already satisfied: gast<=0.4.0,>=0.2.1 in c:\\programdata\\anaconda3\\lib\\site-packages (from tensorflow) (0.4.0)\n",
      "Requirement already satisfied: typing-extensions>=3.6.6 in c:\\programdata\\anaconda3\\lib\\site-packages (from tensorflow) (3.10.0.2)\n",
      "Requirement already satisfied: tensorflow-estimator<2.11,>=2.10.0 in c:\\programdata\\anaconda3\\lib\\site-packages (from tensorflow) (2.10.0)\n",
      "Requirement already satisfied: setuptools in c:\\programdata\\anaconda3\\lib\\site-packages (from tensorflow) (58.0.4)\n",
      "Requirement already satisfied: absl-py>=1.0.0 in c:\\programdata\\anaconda3\\lib\\site-packages (from tensorflow) (1.0.0)\n",
      "Requirement already satisfied: keras-preprocessing>=1.1.1 in c:\\programdata\\anaconda3\\lib\\site-packages (from tensorflow) (1.1.2)\n",
      "Requirement already satisfied: six>=1.12.0 in c:\\programdata\\anaconda3\\lib\\site-packages (from tensorflow) (1.16.0)\n",
      "Requirement already satisfied: pillow>=6.2.0 in c:\\programdata\\anaconda3\\lib\\site-packages (from matplotlib) (8.4.0)\n",
      "Requirement already satisfied: python-dateutil>=2.7 in c:\\programdata\\anaconda3\\lib\\site-packages (from matplotlib) (2.8.2)\n",
      "Requirement already satisfied: pyparsing>=2.2.1 in c:\\programdata\\anaconda3\\lib\\site-packages (from matplotlib) (3.0.4)\n",
      "Requirement already satisfied: cycler>=0.10 in c:\\programdata\\anaconda3\\lib\\site-packages (from matplotlib) (0.10.0)\n",
      "Requirement already satisfied: kiwisolver>=1.0.1 in c:\\programdata\\anaconda3\\lib\\site-packages (from matplotlib) (1.3.1)\n",
      "Requirement already satisfied: requests in c:\\programdata\\anaconda3\\lib\\site-packages (from emnist) (2.26.0)\n",
      "Requirement already satisfied: tqdm in c:\\programdata\\anaconda3\\lib\\site-packages (from emnist) (4.62.3)\n",
      "Requirement already satisfied: wheel<1.0,>=0.23.0 in c:\\programdata\\anaconda3\\lib\\site-packages (from astunparse>=1.6.0->tensorflow) (0.37.0)\n",
      "Requirement already satisfied: tensorboard-plugin-wit>=1.6.0 in c:\\programdata\\anaconda3\\lib\\site-packages (from tensorboard<2.11,>=2.10->tensorflow) (1.8.1)\n",
      "Requirement already satisfied: werkzeug>=1.0.1 in c:\\programdata\\anaconda3\\lib\\site-packages (from tensorboard<2.11,>=2.10->tensorflow) (2.0.2)\n",
      "Requirement already satisfied: google-auth-oauthlib<0.5,>=0.4.1 in c:\\programdata\\anaconda3\\lib\\site-packages (from tensorboard<2.11,>=2.10->tensorflow) (0.4.6)\n",
      "Requirement already satisfied: markdown>=2.6.8 in c:\\programdata\\anaconda3\\lib\\site-packages (from tensorboard<2.11,>=2.10->tensorflow) (3.3.7)\n",
      "Requirement already satisfied: google-auth<3,>=1.6.3 in c:\\programdata\\anaconda3\\lib\\site-packages (from tensorboard<2.11,>=2.10->tensorflow) (2.6.6)\n",
      "Requirement already satisfied: tensorboard-data-server<0.7.0,>=0.6.0 in c:\\programdata\\anaconda3\\lib\\site-packages (from tensorboard<2.11,>=2.10->tensorflow) (0.6.1)\n",
      "Requirement already satisfied: rsa<5,>=3.1.4 in c:\\programdata\\anaconda3\\lib\\site-packages (from google-auth<3,>=1.6.3->tensorboard<2.11,>=2.10->tensorflow) (4.8)\n",
      "Requirement already satisfied: cachetools<6.0,>=2.0.0 in c:\\programdata\\anaconda3\\lib\\site-packages (from google-auth<3,>=1.6.3->tensorboard<2.11,>=2.10->tensorflow) (5.1.0)\n",
      "Requirement already satisfied: pyasn1-modules>=0.2.1 in c:\\programdata\\anaconda3\\lib\\site-packages (from google-auth<3,>=1.6.3->tensorboard<2.11,>=2.10->tensorflow) (0.2.8)\n",
      "Requirement already satisfied: requests-oauthlib>=0.7.0 in c:\\programdata\\anaconda3\\lib\\site-packages (from google-auth-oauthlib<0.5,>=0.4.1->tensorboard<2.11,>=2.10->tensorflow) (1.3.1)\n",
      "Requirement already satisfied: importlib-metadata>=4.4 in c:\\programdata\\anaconda3\\lib\\site-packages (from markdown>=2.6.8->tensorboard<2.11,>=2.10->tensorflow) (4.8.1)\n",
      "Requirement already satisfied: zipp>=0.5 in c:\\programdata\\anaconda3\\lib\\site-packages (from importlib-metadata>=4.4->markdown>=2.6.8->tensorboard<2.11,>=2.10->tensorflow) (3.6.0)\n",
      "Requirement already satisfied: pyasn1<0.5.0,>=0.4.6 in c:\\programdata\\anaconda3\\lib\\site-packages (from pyasn1-modules>=0.2.1->google-auth<3,>=1.6.3->tensorboard<2.11,>=2.10->tensorflow) (0.4.8)\n",
      "Requirement already satisfied: idna<4,>=2.5 in c:\\programdata\\anaconda3\\lib\\site-packages (from requests->emnist) (3.2)\n",
      "Requirement already satisfied: certifi>=2017.4.17 in c:\\programdata\\anaconda3\\lib\\site-packages (from requests->emnist) (2021.10.8)\n",
      "Requirement already satisfied: charset-normalizer~=2.0.0 in c:\\programdata\\anaconda3\\lib\\site-packages (from requests->emnist) (2.0.4)\n",
      "Requirement already satisfied: urllib3<1.27,>=1.21.1 in c:\\programdata\\anaconda3\\lib\\site-packages (from requests->emnist) (1.26.7)\n",
      "Requirement already satisfied: oauthlib>=3.0.0 in c:\\programdata\\anaconda3\\lib\\site-packages (from requests-oauthlib>=0.7.0->google-auth-oauthlib<0.5,>=0.4.1->tensorboard<2.11,>=2.10->tensorflow) (3.2.0)\n",
      "Requirement already satisfied: colorama in c:\\programdata\\anaconda3\\lib\\site-packages (from tqdm->emnist) (0.4.4)\n"
     ]
    },
    {
     "name": "stderr",
     "output_type": "stream",
     "text": [
      "WARNING: Ignoring invalid distribution -umpy (c:\\programdata\\anaconda3\\lib\\site-packages)\n",
      "WARNING: Ignoring invalid distribution -ryptography (c:\\programdata\\anaconda3\\lib\\site-packages)\n",
      "WARNING: Ignoring invalid distribution -rotobuf (c:\\programdata\\anaconda3\\lib\\site-packages)\n",
      "WARNING: Ignoring invalid distribution -umpy (c:\\programdata\\anaconda3\\lib\\site-packages)\n",
      "WARNING: Ignoring invalid distribution -ryptography (c:\\programdata\\anaconda3\\lib\\site-packages)\n",
      "WARNING: Ignoring invalid distribution -rotobuf (c:\\programdata\\anaconda3\\lib\\site-packages)\n",
      "WARNING: Ignoring invalid distribution -umpy (c:\\programdata\\anaconda3\\lib\\site-packages)\n",
      "WARNING: Ignoring invalid distribution -ryptography (c:\\programdata\\anaconda3\\lib\\site-packages)\n",
      "WARNING: Ignoring invalid distribution -rotobuf (c:\\programdata\\anaconda3\\lib\\site-packages)\n",
      "WARNING: Ignoring invalid distribution -umpy (c:\\programdata\\anaconda3\\lib\\site-packages)\n",
      "WARNING: Ignoring invalid distribution -ryptography (c:\\programdata\\anaconda3\\lib\\site-packages)\n",
      "WARNING: Ignoring invalid distribution -rotobuf (c:\\programdata\\anaconda3\\lib\\site-packages)\n",
      "WARNING: Ignoring invalid distribution -umpy (c:\\programdata\\anaconda3\\lib\\site-packages)\n",
      "WARNING: Ignoring invalid distribution -ryptography (c:\\programdata\\anaconda3\\lib\\site-packages)\n",
      "WARNING: Ignoring invalid distribution -rotobuf (c:\\programdata\\anaconda3\\lib\\site-packages)\n",
      "WARNING: Ignoring invalid distribution -umpy (c:\\programdata\\anaconda3\\lib\\site-packages)\n",
      "WARNING: Ignoring invalid distribution -ryptography (c:\\programdata\\anaconda3\\lib\\site-packages)\n",
      "WARNING: Ignoring invalid distribution -rotobuf (c:\\programdata\\anaconda3\\lib\\site-packages)\n",
      "WARNING: Ignoring invalid distribution -umpy (c:\\programdata\\anaconda3\\lib\\site-packages)\n",
      "WARNING: Ignoring invalid distribution -ryptography (c:\\programdata\\anaconda3\\lib\\site-packages)\n",
      "WARNING: Ignoring invalid distribution -rotobuf (c:\\programdata\\anaconda3\\lib\\site-packages)\n",
      "WARNING: Ignoring invalid distribution -umpy (c:\\programdata\\anaconda3\\lib\\site-packages)\n",
      "WARNING: Ignoring invalid distribution -ryptography (c:\\programdata\\anaconda3\\lib\\site-packages)\n",
      "WARNING: Ignoring invalid distribution -rotobuf (c:\\programdata\\anaconda3\\lib\\site-packages)\n"
     ]
    },
    {
     "name": "stdout",
     "output_type": "stream",
     "text": [
      "Installing collected packages: opencv-python-headless, emnist\n",
      "Successfully installed emnist-0.0 opencv-python-headless-4.10.0.84\n"
     ]
    }
   ],
   "execution_count": 1
  },
  {
   "cell_type": "code",
   "source": [
    "import tensorflow as tf\n",
    "from tensorflow.keras import Sequential\n",
    "from tensorflow.keras.layers import Dense, Conv2D, MaxPooling2D, Flatten, Dense, Dropout, BatchNormalization, Reshape, GRU, Bidirectional, TimeDistributed\n",
    "import numpy as np\n",
    "import cv2\n",
    "import os\n",
    "import urllib.request\n",
    "import tarfile\n",
    "import struct\n",
    "import scipy.io\n",
    "import gzip\n",
    "import matplotlib.pyplot as plt"
   ],
   "metadata": {
    "id": "aMJBTpqFXQe6",
    "ExecuteTime": {
     "end_time": "2024-08-13T05:24:48.059163Z",
     "start_time": "2024-08-13T05:24:33.631721Z"
    }
   },
   "outputs": [],
   "execution_count": 2
  },
  {
   "cell_type": "markdown",
   "source": [
    "Step 2: Load and Preprocess the Datasets\n",
    "\n",
    "We'll load the MNIST and EMNIST datasets using TensorFlow's built-in functions. For the IAM dataset, we need to preprocess the images manually.\n",
    "\n",
    "Start from NMIST"
   ],
   "metadata": {
    "id": "JGmjLOJ9Ypg3"
   }
  },
  {
   "cell_type": "code",
   "source": [
    "# Load MNIST and EMNIST datasets\n",
    "mnist = tf.keras.datasets.mnist\n",
    "\n",
    "(X_mnist_train, y_mnist_train), (X_mnist_test, y_mnist_test) = mnist.load_data()\n",
    "\n",
    "# Normalize the data\n",
    "X_mnist_train = X_mnist_train.astype('float32') / 255.0\n",
    "X_mnist_test = X_mnist_test.astype('float32') / 255.0\n",
    "\n",
    "# Reshape to add channel dimension (28x28 images, 1 channel)\n",
    "X_mnist_train = X_mnist_train.reshape(-1, 28, 28, 1)\n",
    "X_mnist_test = X_mnist_test.reshape(-1, 28, 28, 1)\n",
    "\n",
    "# One-hot encode the labels\n",
    "y_mnist_train = tf.keras.utils.to_categorical(y_mnist_train, num_classes=10)  # 10 classes for digits\n",
    "y_mnist_test = tf.keras.utils.to_categorical(y_mnist_test, num_classes=10)"
   ],
   "metadata": {
    "colab": {
     "base_uri": "https://localhost:8080/"
    },
    "id": "4JSyzG8uYsti",
    "outputId": "a6f61fcd-c180-45c0-ac92-142d0b5e945d",
    "ExecuteTime": {
     "end_time": "2024-08-13T05:24:48.446669Z",
     "start_time": "2024-08-13T05:24:48.060140Z"
    }
   },
   "outputs": [],
   "execution_count": 3
  },
  {
   "cell_type": "markdown",
   "source": [
    "Now the EMNIST part"
   ],
   "metadata": {
    "id": "bmHbh24q2dOi"
   }
  },
  {
   "cell_type": "code",
   "source": [
    "# Create a directory to store the dataset\n",
    "dataset_dir = 'emnist'\n",
    "os.makedirs(dataset_dir, exist_ok=True)\n",
    "\n",
    "# Download the EMNIST dataset\n",
    "url = \"https://biometrics.nist.gov/cs_links/EMNIST/gzip.zip\"\n",
    "zip_path = os.path.join(dataset_dir, \"emnist.zip\")\n",
    "urllib.request.urlretrieve(url, zip_path)\n",
    "\n",
    "# Extract the zip file\n",
    "import zipfile\n",
    "with zipfile.ZipFile(zip_path, 'r') as zip_ref:\n",
    "    zip_ref.extractall(dataset_dir)"
   ],
   "metadata": {
    "id": "cjowIX2ocaxv",
    "ExecuteTime": {
     "end_time": "2024-08-13T05:26:04.994246Z",
     "start_time": "2024-08-13T05:24:48.447676Z"
    }
   },
   "outputs": [],
   "execution_count": 4
  },
  {
   "cell_type": "markdown",
   "source": [
    "Define Helper Functions to Load the Data\n",
    "\n",
    "We'll define functions to load the images and labels from the idx format used in the EMNIST dataset."
   ],
   "metadata": {
    "id": "0u0Y4Bqucq5y"
   }
  },
  {
   "cell_type": "code",
   "source": [
    "def load_images(file_path):\n",
    "    with gzip.open(file_path, 'rb') as f:\n",
    "        # Read the header information\n",
    "        magic_number, num_images, rows, cols = struct.unpack(\">IIII\", f.read(16))\n",
    "        # Read the image data\n",
    "        image_data = np.frombuffer(f.read(), dtype=np.uint8).reshape(num_images, rows, cols, 1)\n",
    "        return image_data.astype('float32') / 255.0\n",
    "\n",
    "def load_labels(file_path):\n",
    "    with gzip.open(file_path, 'rb') as f:\n",
    "        # Read the header information\n",
    "        magic_number, num_labels = struct.unpack(\">II\", f.read(8))\n",
    "        # Read the label data\n",
    "        label_data = np.frombuffer(f.read(), dtype=np.uint8)\n",
    "        return label_data"
   ],
   "metadata": {
    "id": "ONKF_DjAh4fy",
    "ExecuteTime": {
     "end_time": "2024-08-13T05:26:05.009746Z",
     "start_time": "2024-08-13T05:26:04.996253Z"
    }
   },
   "outputs": [],
   "execution_count": 5
  },
  {
   "cell_type": "code",
   "source": [
    "# File paths\n",
    "train_images_path = 'emnist/gzip/emnist-byclass-train-images-idx3-ubyte.gz'\n",
    "train_labels_path = 'emnist/gzip/emnist-byclass-train-labels-idx1-ubyte.gz'\n",
    "test_images_path = 'emnist/gzip/emnist-byclass-test-images-idx3-ubyte.gz'\n",
    "test_labels_path = 'emnist/gzip/emnist-byclass-test-labels-idx1-ubyte.gz'\n",
    "\n",
    "# Load the data\n",
    "X_emnist_train = load_images(train_images_path)\n",
    "y_emnist_train = load_labels(train_labels_path)\n",
    "X_emnist_test = load_images(test_images_path)\n",
    "y_emnist_test = load_labels(test_labels_path)\n",
    "\n",
    "# Convert labels to one-hot encoding\n",
    "y_emnist_train = tf.keras.utils.to_categorical(y_emnist_train, num_classes=62) # assume 62 classes for the combined dataset\n",
    "y_emnist_test = tf.keras.utils.to_categorical(y_emnist_test, num_classes=62)\n"
   ],
   "metadata": {
    "id": "2ixj4Tg1myFI",
    "ExecuteTime": {
     "end_time": "2024-08-13T05:26:10.450344Z",
     "start_time": "2024-08-13T05:26:05.010746Z"
    }
   },
   "outputs": [],
   "execution_count": 6
  },
  {
   "cell_type": "markdown",
   "source": [
    "Combine MNIST and EMNIST\n",
    "\n",
    "The mismatch in shapes between y_mnist_train (shape (60000, 10)) and y_emnist_train (shape (697932, 62)) occurs because MNIST has 10 classes (digits 0-9), while EMNIST has 62 classes (digits, uppercase, and lowercase letters). To combine these datasets, we need to adjust the labels to a consistent shape.\n",
    "Approach to Combine Datasets:\n",
    "\n",
    "    Expand MNIST Labels: Expand the MNIST labels to match the EMNIST format by padding with zeros.\n",
    "\n",
    "    Combine the Labels: Concatenate the expanded MNIST labels with the EMNIST labels."
   ],
   "metadata": {
    "id": "e-0gaiukYsPP"
   }
  },
  {
   "cell_type": "code",
   "source": [
    "# Expand MNIST labels from (60000, 10) to (60000, 62)\n",
    "num_classes_emnist = 62\n",
    "num_classes_mnist = 10\n",
    "\n",
    "y_mnist_train_expanded = np.zeros((y_mnist_train.shape[0], num_classes_emnist))\n",
    "y_mnist_test_expanded = np.zeros((y_mnist_test.shape[0], num_classes_emnist))\n",
    "\n",
    "y_mnist_train_expanded[:, :num_classes_mnist] = y_mnist_train\n",
    "y_mnist_test_expanded[:, :num_classes_mnist] = y_mnist_test\n"
   ],
   "metadata": {
    "id": "q14_CETV_MLE",
    "ExecuteTime": {
     "end_time": "2024-08-13T05:26:10.481247Z",
     "start_time": "2024-08-13T05:26:10.453752Z"
    }
   },
   "outputs": [],
   "execution_count": 7
  },
  {
   "cell_type": "code",
   "source": [
    "# Combine with MNIST if necessary (assuming X_mnist_train, y_mnist_train are already loaded)\n",
    "X_train_combined = np.concatenate((X_mnist_train, X_emnist_train), axis=0)\n",
    "y_train_combined = np.concatenate((y_mnist_train_expanded, y_emnist_train), axis=0)\n",
    "\n",
    "X_test_combined = np.concatenate((X_mnist_test, X_emnist_test), axis=0)\n",
    "y_test_combined = np.concatenate((y_mnist_test_expanded, y_emnist_test), axis=0)\n"
   ],
   "metadata": {
    "id": "1R8OdLZq2ax3",
    "ExecuteTime": {
     "end_time": "2024-08-13T05:26:11.256276Z",
     "start_time": "2024-08-13T05:26:10.482747Z"
    }
   },
   "outputs": [],
   "execution_count": 8
  },
  {
   "cell_type": "markdown",
   "source": [
    "Step 4: Define the Neural Network Model\n",
    "\n",
    "We define the model architecture that can handle the complexity of letters, numbers, and cursive handwriting."
   ],
   "metadata": {
    "id": "59eFMhmfAZD3"
   }
  },
  {
   "cell_type": "code",
   "source": [
    "# Model architecture\n",
    "model = Sequential([\n",
    "    Conv2D(32, (3, 3), activation='relu', input_shape=(28, 28, 1)),\n",
    "    BatchNormalization(),\n",
    "    MaxPooling2D((2, 2)),\n",
    "    Dropout(0.25),\n",
    "    Conv2D(64, (3, 3), activation='relu'),\n",
    "    BatchNormalization(),\n",
    "    MaxPooling2D((2, 2)),\n",
    "    Dropout(0.25),\n",
    "    Conv2D(128, (3, 3), activation='relu'),\n",
    "    BatchNormalization(),\n",
    "    MaxPooling2D((2, 2)),\n",
    "    Flatten(),\n",
    "    Dense(256, activation='relu'),\n",
    "    Dropout(0.5),\n",
    "    Dense(62, activation='softmax')\n",
    "])\n",
    "\n",
    "model.compile(optimizer='adam', loss='sparse_categorical_crossentropy', metrics=['accuracy'])\n",
    "\n",
    "model.summary()"
   ],
   "metadata": {
    "colab": {
     "base_uri": "https://localhost:8080/"
    },
    "id": "kKMX58UhAeAH",
    "outputId": "2ff62c3b-4887-4139-cb88-b7a601cccdef",
    "ExecuteTime": {
     "end_time": "2024-08-13T05:26:11.643776Z",
     "start_time": "2024-08-13T05:26:11.257746Z"
    }
   },
   "outputs": [
    {
     "name": "stdout",
     "output_type": "stream",
     "text": [
      "Model: \"sequential\"\n",
      "_________________________________________________________________\n",
      " Layer (type)                Output Shape              Param #   \n",
      "=================================================================\n",
      " conv2d (Conv2D)             (None, 26, 26, 32)        320       \n",
      "                                                                 \n",
      " batch_normalization (BatchN  (None, 26, 26, 32)       128       \n",
      " ormalization)                                                   \n",
      "                                                                 \n",
      " max_pooling2d (MaxPooling2D  (None, 13, 13, 32)       0         \n",
      " )                                                               \n",
      "                                                                 \n",
      " dropout (Dropout)           (None, 13, 13, 32)        0         \n",
      "                                                                 \n",
      " conv2d_1 (Conv2D)           (None, 11, 11, 64)        18496     \n",
      "                                                                 \n",
      " batch_normalization_1 (Batc  (None, 11, 11, 64)       256       \n",
      " hNormalization)                                                 \n",
      "                                                                 \n",
      " max_pooling2d_1 (MaxPooling  (None, 5, 5, 64)         0         \n",
      " 2D)                                                             \n",
      "                                                                 \n",
      " dropout_1 (Dropout)         (None, 5, 5, 64)          0         \n",
      "                                                                 \n",
      " conv2d_2 (Conv2D)           (None, 3, 3, 128)         73856     \n",
      "                                                                 \n",
      " batch_normalization_2 (Batc  (None, 3, 3, 128)        512       \n",
      " hNormalization)                                                 \n",
      "                                                                 \n",
      " max_pooling2d_2 (MaxPooling  (None, 1, 1, 128)        0         \n",
      " 2D)                                                             \n",
      "                                                                 \n",
      " flatten (Flatten)           (None, 128)               0         \n",
      "                                                                 \n",
      " dense (Dense)               (None, 256)               33024     \n",
      "                                                                 \n",
      " dropout_2 (Dropout)         (None, 256)               0         \n",
      "                                                                 \n",
      " dense_1 (Dense)             (None, 62)                15934     \n",
      "                                                                 \n",
      "=================================================================\n",
      "Total params: 142,526\n",
      "Trainable params: 142,078\n",
      "Non-trainable params: 448\n",
      "_________________________________________________________________\n"
     ]
    }
   ],
   "execution_count": 9
  },
  {
   "cell_type": "code",
   "source": [
    "# Set up callbacks\n",
    "early_stopping = tf.keras.callbacks.EarlyStopping(monitor='val_loss', patience=5, restore_best_weights=True)\n",
    "model_checkpoint = tf.keras.callbacks.ModelCheckpoint('best_model.keras', save_best_only=True, monitor='val_loss')\n",
    "\n",
    "# Train the model\n",
    "history = model.fit(X_train_combined, y_train_combined.argmax(axis=1),\n",
    "        epochs=50, validation_data=(X_test_combined, y_test_combined.argmax(axis=1)),\n",
    "        callbacks=[early_stopping, model_checkpoint]\n",
    "        )"
   ],
   "metadata": {
    "colab": {
     "base_uri": "https://localhost:8080/"
    },
    "id": "Cs7mWvTrCU16",
    "outputId": "509cc9db-167f-46f2-9f57-7154ec4a393d",
    "ExecuteTime": {
     "end_time": "2024-08-13T07:15:32.594552Z",
     "start_time": "2024-08-13T05:26:11.644776Z"
    }
   },
   "outputs": [
    {
     "name": "stdout",
     "output_type": "stream",
     "text": [
      "Epoch 1/50\n",
      "23686/23686 [==============================] - 445s 19ms/step - loss: 0.7091 - accuracy: 0.7741 - val_loss: 0.4532 - val_accuracy: 0.8439\n",
      "Epoch 2/50\n",
      "23686/23686 [==============================] - 561s 24ms/step - loss: 0.5495 - accuracy: 0.8164 - val_loss: 0.4228 - val_accuracy: 0.8517\n",
      "Epoch 3/50\n",
      "23686/23686 [==============================] - 537s 23ms/step - loss: 0.5152 - accuracy: 0.8260 - val_loss: 0.4081 - val_accuracy: 0.8550\n",
      "Epoch 4/50\n",
      "23686/23686 [==============================] - 449s 19ms/step - loss: 0.4975 - accuracy: 0.8309 - val_loss: 0.4131 - val_accuracy: 0.8552\n",
      "Epoch 5/50\n",
      "23686/23686 [==============================] - 436s 18ms/step - loss: 0.4892 - accuracy: 0.8334 - val_loss: 0.3979 - val_accuracy: 0.8587\n",
      "Epoch 6/50\n",
      "23686/23686 [==============================] - 426s 18ms/step - loss: 0.4835 - accuracy: 0.8353 - val_loss: 0.3980 - val_accuracy: 0.8583\n",
      "Epoch 7/50\n",
      "23686/23686 [==============================] - 460s 19ms/step - loss: 0.4799 - accuracy: 0.8360 - val_loss: 0.3949 - val_accuracy: 0.8586\n",
      "Epoch 8/50\n",
      "23686/23686 [==============================] - 478s 20ms/step - loss: 0.4785 - accuracy: 0.8368 - val_loss: 0.4024 - val_accuracy: 0.8586\n",
      "Epoch 9/50\n",
      "23686/23686 [==============================] - 482s 20ms/step - loss: 0.4765 - accuracy: 0.8373 - val_loss: 0.3882 - val_accuracy: 0.8613\n",
      "Epoch 10/50\n",
      "23686/23686 [==============================] - 457s 19ms/step - loss: 0.4751 - accuracy: 0.8376 - val_loss: 0.3907 - val_accuracy: 0.8621\n",
      "Epoch 11/50\n",
      "23686/23686 [==============================] - 448s 19ms/step - loss: 0.4752 - accuracy: 0.8377 - val_loss: 0.3942 - val_accuracy: 0.8612\n",
      "Epoch 12/50\n",
      "23686/23686 [==============================] - 453s 19ms/step - loss: 0.4744 - accuracy: 0.8386 - val_loss: 0.3944 - val_accuracy: 0.8614\n",
      "Epoch 13/50\n",
      "23686/23686 [==============================] - 458s 19ms/step - loss: 0.4739 - accuracy: 0.8380 - val_loss: 0.4009 - val_accuracy: 0.8592\n",
      "Epoch 14/50\n",
      "23686/23686 [==============================] - 469s 20ms/step - loss: 0.4738 - accuracy: 0.8385 - val_loss: 0.3970 - val_accuracy: 0.8594\n"
     ]
    }
   ],
   "execution_count": 10
  },
  {
   "cell_type": "markdown",
   "source": [
    "Step 6: Evaluate and Save the Model\n",
    "\n",
    "After training, evaluate the model and save it."
   ],
   "metadata": {
    "id": "cndVwtWZCUgM"
   }
  },
  {
   "cell_type": "code",
   "source": [
    "loss, accuracy = model.evaluate(X_test_combined, y_test_combined.argmax(axis=1))\n",
    "print(f'Test accuracy: {accuracy:.4f}')"
   ],
   "metadata": {
    "id": "1zSpkK8JE5ru",
    "ExecuteTime": {
     "end_time": "2024-08-13T07:30:38.945361Z",
     "start_time": "2024-08-13T07:30:14.626862Z"
    }
   },
   "outputs": [
    {
     "name": "stdout",
     "output_type": "stream",
     "text": [
      "3948/3948 [==============================] - 24s 6ms/step - loss: 0.3882 - accuracy: 0.8613\n",
      "Test accuracy: 0.8613\n"
     ]
    }
   ],
   "execution_count": 12
  },
  {
   "cell_type": "markdown",
   "source": [
    "Also make a plot"
   ],
   "metadata": {
    "id": "UWqoWC9UFEfY"
   }
  },
  {
   "cell_type": "code",
   "source": [
    "import matplotlib.pyplot as plt\n",
    "\n",
    "# Plot training & validation accuracy values\n",
    "plt.figure(figsize=(12, 4))\n",
    "plt.subplot(1, 2, 1)\n",
    "plt.plot(history.history['accuracy'], label='Train Accuracy')\n",
    "plt.plot(history.history['val_accuracy'], label='Validation Accuracy')\n",
    "plt.title('Model Accuracy')\n",
    "plt.ylabel('Accuracy')\n",
    "plt.xlabel('Epoch')\n",
    "plt.legend(loc='upper left')\n",
    "\n",
    "# Plot training & validation loss values\n",
    "plt.subplot(1, 2, 2)\n",
    "plt.plot(history.history['loss'], label='Train Loss')\n",
    "plt.plot(history.history['val_loss'], label='Validation Loss')\n",
    "plt.title('Model Loss')\n",
    "plt.ylabel('Loss')\n",
    "plt.xlabel('Epoch')\n",
    "plt.legend(loc='upper left')\n",
    "\n",
    "plt.show()"
   ],
   "metadata": {
    "id": "QppFI7JkFEDE",
    "ExecuteTime": {
     "end_time": "2024-08-13T07:30:40.216361Z",
     "start_time": "2024-08-13T07:30:38.946861Z"
    }
   },
   "outputs": [
    {
     "data": {
      "text/plain": [
       "<Figure size 864x288 with 2 Axes>"
      ],
      "image/png": "[encoded data removed]"
     },
     "metadata": {
      "needs_background": "light"
     },
     "output_type": "display_data"
    }
   ],
   "execution_count": 13
  },
  {
   "cell_type": "code",
   "source": [
    "# Save the trained model\n",
    "model.save('combined_handwriting_model.keras')"
   ],
   "metadata": {
    "id": "g0SDRX5cJsTu",
    "ExecuteTime": {
     "end_time": "2024-08-13T07:30:40.293860Z",
     "start_time": "2024-08-13T07:30:40.217361Z"
    }
   },
   "outputs": [],
   "execution_count": 14
  },
  {
   "cell_type": "markdown",
   "source": [
    "Step 7: Download the Model to Local Machine\n",
    "\n",
    "Finally, download the model to use in your local PyCharm setup."
   ],
   "metadata": {
    "id": "Xdh332y3JyGw"
   }
  },
  {
   "cell_type": "code",
   "source": [
    "# from google.colab import files\n",
    "# files.download('combined_handwriting_model.keras')"
   ],
   "metadata": {
    "id": "1aIDL2NAJtxV",
    "ExecuteTime": {
     "end_time": "2024-08-13T07:30:40.309361Z",
     "start_time": "2024-08-13T07:30:40.296361Z"
    }
   },
   "outputs": [],
   "execution_count": 15
  },
  {
   "metadata": {},
   "cell_type": "markdown",
   "source": "Not a good sign. Model accuracy graph result looks a bit off. Need another model config."
  },
  {
   "metadata": {
    "ExecuteTime": {
     "end_time": "2024-08-13T07:30:41.006863Z",
     "start_time": "2024-08-13T07:30:40.311363Z"
    }
   },
   "cell_type": "code",
   "source": [
    "model2 = Sequential([\n",
    "    Conv2D(64, (3, 3), activation='relu', input_shape=(28, 28, 1)),\n",
    "    BatchNormalization(),\n",
    "    MaxPooling2D((2, 2)),\n",
    "    Conv2D(128, (3, 3), activation='relu'),\n",
    "    BatchNormalization(),\n",
    "    MaxPooling2D((2, 2)),\n",
    "    Conv2D(256, (3, 3), activation='relu'),\n",
    "    BatchNormalization(),\n",
    "    MaxPooling2D((2, 2)),\n",
    "    Reshape((-1, 256)),  # Reshape for GRU layers\n",
    "    Bidirectional(GRU(128, return_sequences=True)),\n",
    "    TimeDistributed(Dense(128, activation='relu')),\n",
    "    TimeDistributed(Dense(62, activation='softmax')),  # Wrap with TimeDistributed\n",
    "    Flatten(),\n",
    "    Dense(62, activation='softmax')  # Assuming 62 classes for the combined dataset\n",
    "])\n",
    "\n",
    "model2.compile(optimizer='adam', loss='categorical_crossentropy', metrics=['accuracy'])\n",
    "\n",
    "model2.summary()"
   ],
   "outputs": [
    {
     "name": "stdout",
     "output_type": "stream",
     "text": [
      "Model: \"sequential_1\"\n",
      "_________________________________________________________________\n",
      " Layer (type)                Output Shape              Param #   \n",
      "=================================================================\n",
      " conv2d_3 (Conv2D)           (None, 26, 26, 64)        640       \n",
      "                                                                 \n",
      " batch_normalization_3 (Batc  (None, 26, 26, 64)       256       \n",
      " hNormalization)                                                 \n",
      "                                                                 \n",
      " max_pooling2d_3 (MaxPooling  (None, 13, 13, 64)       0         \n",
      " 2D)                                                             \n",
      "                                                                 \n",
      " conv2d_4 (Conv2D)           (None, 11, 11, 128)       73856     \n",
      "                                                                 \n",
      " batch_normalization_4 (Batc  (None, 11, 11, 128)      512       \n",
      " hNormalization)                                                 \n",
      "                                                                 \n",
      " max_pooling2d_4 (MaxPooling  (None, 5, 5, 128)        0         \n",
      " 2D)                                                             \n",
      "                                                                 \n",
      " conv2d_5 (Conv2D)           (None, 3, 3, 256)         295168    \n",
      "                                                                 \n",
      " batch_normalization_5 (Batc  (None, 3, 3, 256)        1024      \n",
      " hNormalization)                                                 \n",
      "                                                                 \n",
      " max_pooling2d_5 (MaxPooling  (None, 1, 1, 256)        0         \n",
      " 2D)                                                             \n",
      "                                                                 \n",
      " reshape (Reshape)           (None, 1, 256)            0         \n",
      "                                                                 \n",
      " bidirectional (Bidirectiona  (None, 1, 256)           296448    \n",
      " l)                                                              \n",
      "                                                                 \n",
      " time_distributed (TimeDistr  (None, 1, 128)           32896     \n",
      " ibuted)                                                         \n",
      "                                                                 \n",
      " time_distributed_1 (TimeDis  (None, 1, 62)            7998      \n",
      " tributed)                                                       \n",
      "                                                                 \n",
      " flatten_1 (Flatten)         (None, 62)                0         \n",
      "                                                                 \n",
      " dense_4 (Dense)             (None, 62)                3906      \n",
      "                                                                 \n",
      "=================================================================\n",
      "Total params: 712,704\n",
      "Trainable params: 711,808\n",
      "Non-trainable params: 896\n",
      "_________________________________________________________________\n"
     ]
    }
   ],
   "execution_count": 16
  },
  {
   "metadata": {
    "ExecuteTime": {
     "end_time": "2024-08-13T15:19:22.309197Z",
     "start_time": "2024-08-13T07:30:41.008362Z"
    }
   },
   "cell_type": "code",
   "source": [
    "# Set up callbacks\n",
    "early_stopping = tf.keras.callbacks.EarlyStopping(monitor='val_loss', patience=5, restore_best_weights=True)\n",
    "model_checkpoint = tf.keras.callbacks.ModelCheckpoint('best_model_combined_v2.keras', save_best_only=True, monitor='val_loss')\n",
    "\n",
    "# Train the model\n",
    "history2 = model2.fit(X_train_combined, y_train_combined,  # Remove argmax \n",
    "        epochs=50, validation_data=(X_test_combined, y_test_combined),  # Remove argmax\n",
    "        callbacks=[early_stopping, model_checkpoint]\n",
    "        )"
   ],
   "outputs": [
    {
     "name": "stdout",
     "output_type": "stream",
     "text": [
      "Epoch 1/50\n",
      "23686/23686 [==============================] - 835s 35ms/step - loss: 1.5499 - accuracy: 0.5647 - val_loss: 0.7511 - val_accuracy: 0.7985\n",
      "Epoch 2/50\n",
      "23686/23686 [==============================] - 877s 37ms/step - loss: 0.6295 - accuracy: 0.8227 - val_loss: 0.5615 - val_accuracy: 0.8324\n",
      "Epoch 3/50\n",
      "23686/23686 [==============================] - 884s 37ms/step - loss: 0.5124 - accuracy: 0.8423 - val_loss: 0.4838 - val_accuracy: 0.8468\n",
      "Epoch 4/50\n",
      "23686/23686 [==============================] - 934s 39ms/step - loss: 0.4678 - accuracy: 0.8501 - val_loss: 0.4627 - val_accuracy: 0.8533\n",
      "Epoch 5/50\n",
      "23686/23686 [==============================] - 910s 38ms/step - loss: 0.4412 - accuracy: 0.8557 - val_loss: 0.4432 - val_accuracy: 0.8575\n",
      "Epoch 6/50\n",
      "23686/23686 [==============================] - 889s 38ms/step - loss: 0.4234 - accuracy: 0.8597 - val_loss: 0.4373 - val_accuracy: 0.8570\n",
      "Epoch 7/50\n",
      "23686/23686 [==============================] - 881s 37ms/step - loss: 0.4083 - accuracy: 0.8631 - val_loss: 0.4185 - val_accuracy: 0.8610\n",
      "Epoch 8/50\n",
      "23686/23686 [==============================] - 882s 37ms/step - loss: 0.3964 - accuracy: 0.8654 - val_loss: 0.4178 - val_accuracy: 0.8613\n",
      "Epoch 9/50\n",
      "23686/23686 [==============================] - 913s 39ms/step - loss: 0.3853 - accuracy: 0.8678 - val_loss: 0.4041 - val_accuracy: 0.8644\n",
      "Epoch 10/50\n",
      "23686/23686 [==============================] - 985s 42ms/step - loss: 0.3750 - accuracy: 0.8703 - val_loss: 0.4056 - val_accuracy: 0.8648\n",
      "Epoch 11/50\n",
      "23686/23686 [==============================] - 1681s 71ms/step - loss: 0.3667 - accuracy: 0.8718 - val_loss: 0.4106 - val_accuracy: 0.8637\n",
      "Epoch 12/50\n",
      "23686/23686 [==============================] - 1747s 74ms/step - loss: 0.3594 - accuracy: 0.8736 - val_loss: 0.4011 - val_accuracy: 0.8653\n",
      "Epoch 13/50\n",
      "23686/23686 [==============================] - 1772s 75ms/step - loss: 0.3519 - accuracy: 0.8752 - val_loss: 0.3965 - val_accuracy: 0.8662\n",
      "Epoch 14/50\n",
      "23686/23686 [==============================] - 1566s 66ms/step - loss: 0.3457 - accuracy: 0.8768 - val_loss: 0.3990 - val_accuracy: 0.8647\n",
      "Epoch 15/50\n",
      "23686/23686 [==============================] - 1657s 70ms/step - loss: 0.3398 - accuracy: 0.8781 - val_loss: 0.4015 - val_accuracy: 0.8645\n",
      "Epoch 16/50\n",
      "23686/23686 [==============================] - 1828s 77ms/step - loss: 0.3347 - accuracy: 0.8795 - val_loss: 0.3907 - val_accuracy: 0.8684\n",
      "Epoch 17/50\n",
      "23686/23686 [==============================] - 1287s 54ms/step - loss: 0.3301 - accuracy: 0.8803 - val_loss: 0.3980 - val_accuracy: 0.8656\n",
      "Epoch 18/50\n",
      "23686/23686 [==============================] - 1196s 50ms/step - loss: 0.3258 - accuracy: 0.8813 - val_loss: 0.3969 - val_accuracy: 0.8655\n",
      "Epoch 19/50\n",
      "23686/23686 [==============================] - 1107s 47ms/step - loss: 0.3211 - accuracy: 0.8824 - val_loss: 0.3887 - val_accuracy: 0.8687\n",
      "Epoch 20/50\n",
      "23686/23686 [==============================] - 1040s 44ms/step - loss: 0.3172 - accuracy: 0.8833 - val_loss: 0.3921 - val_accuracy: 0.8681\n",
      "Epoch 21/50\n",
      "23686/23686 [==============================] - 1042s 44ms/step - loss: 0.3128 - accuracy: 0.8847 - val_loss: 0.3976 - val_accuracy: 0.8670\n",
      "Epoch 22/50\n",
      "23686/23686 [==============================] - 1054s 44ms/step - loss: 0.3104 - accuracy: 0.8855 - val_loss: 0.4023 - val_accuracy: 0.8667\n",
      "Epoch 23/50\n",
      "23686/23686 [==============================] - 1066s 45ms/step - loss: 0.3069 - accuracy: 0.8864 - val_loss: 0.3953 - val_accuracy: 0.8675\n",
      "Epoch 24/50\n",
      "23686/23686 [==============================] - 1087s 46ms/step - loss: 0.3040 - accuracy: 0.8870 - val_loss: 0.4030 - val_accuracy: 0.8671\n"
     ]
    }
   ],
   "execution_count": 17
  },
  {
   "metadata": {
    "ExecuteTime": {
     "end_time": "2024-08-14T03:32:30.962485Z",
     "start_time": "2024-08-14T03:31:26.967987Z"
    }
   },
   "cell_type": "code",
   "source": [
    "loss, accuracy = model2.evaluate(X_test_combined, y_test_combined)\n",
    "print(f'Test accuracy: {accuracy:.4f}')"
   ],
   "outputs": [
    {
     "name": "stdout",
     "output_type": "stream",
     "text": [
      "3948/3948 [==============================] - 64s 16ms/step - loss: 0.3887 - accuracy: 0.8687\n",
      "Test accuracy: 0.8687\n"
     ]
    }
   ],
   "execution_count": 19
  },
  {
   "metadata": {
    "ExecuteTime": {
     "end_time": "2024-08-14T03:32:31.566986Z",
     "start_time": "2024-08-14T03:32:31.352486Z"
    }
   },
   "cell_type": "code",
   "source": [
    "import matplotlib.pyplot as plt\n",
    "\n",
    "# Plot training & validation accuracy values\n",
    "plt.figure(figsize=(12, 4))\n",
    "plt.subplot(1, 2, 1)\n",
    "plt.plot(history.history['accuracy'], label='Train Accuracy')\n",
    "plt.plot(history.history['val_accuracy'], label='Validation Accuracy')\n",
    "plt.title('Model Accuracy')\n",
    "plt.ylabel('Accuracy')\n",
    "plt.xlabel('Epoch')\n",
    "plt.legend(loc='upper left')\n",
    "\n",
    "# Plot training & validation loss values\n",
    "plt.subplot(1, 2, 2)\n",
    "plt.plot(history.history['loss'], label='Train Loss')\n",
    "plt.plot(history.history['val_loss'], label='Validation Loss')\n",
    "plt.title('Model Loss')\n",
    "plt.ylabel('Loss')\n",
    "plt.xlabel('Epoch')\n",
    "plt.legend(loc='upper left')\n",
    "\n",
    "plt.show()"
   ],
   "outputs": [
    {
     "data": {
      "text/plain": [
       "<Figure size 864x288 with 2 Axes>"
      ],
      "image/png": "[encoded data removed]"
     },
     "metadata": {
      "needs_background": "light"
     },
     "output_type": "display_data"
    }
   ],
   "execution_count": 21
  },
  {
   "metadata": {
    "ExecuteTime": {
     "end_time": "2024-08-14T03:32:31.690986Z",
     "start_time": "2024-08-14T03:32:31.571490Z"
    }
   },
   "cell_type": "code",
   "source": [
    "# Save the trained model\n",
    "model2.save('combined_handwriting_model_v2.keras')"
   ],
   "outputs": [],
   "execution_count": 22
  },
  {
   "metadata": {},
   "cell_type": "code",
   "outputs": [],
   "execution_count": null,
   "source": ""
  }
 ]
}
