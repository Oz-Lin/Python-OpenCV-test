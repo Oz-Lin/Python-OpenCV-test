{
 "nbformat": 4,
 "nbformat_minor": 0,
 "metadata": {
  "colab": {
   "provenance": [],
   "gpuType": "V28"
  },
  "kernelspec": {
   "name": "python3",
   "display_name": "Python 3 (ipykernel)",
   "language": "python"
  },
  "language_info": {
   "name": "python"
  },
  "accelerator": "TPU"
 },
 "cells": [
  {
   "cell_type": "markdown",
   "source": [
    "# Step 1: Download the CROHME Dataset\n",
    "\n",
    "You can download the CROHME dataset from a publicly available source like the following:\n",
    "\n",
    "CROHME Official Competition Dataset\n",
    "\n",
    "Alternatively, you can search for “CROHME Dataset” to find additional sources or archives."
   ],
   "metadata": {
    "id": "mMggfwuyq3NI"
   }
  },
  {
   "cell_type": "code",
   "metadata": {
    "id": "ts3Wu4UwQ284",
    "ExecuteTime": {
     "end_time": "2024-12-15T23:11:36.892286Z",
     "start_time": "2024-12-15T23:11:16.762865Z"
    }
   },
   "source": [
    "import requests\n",
    "import zipfile\n",
    "import os\n",
    "#from google.colab.patches import cv2_imshow\n",
    "import cv2\n",
    "import numpy as np\n",
    "import matplotlib.pyplot as plt\n",
    "import tensorflow as tf\n",
    "from tensorflow.keras import Sequential\n",
    "from tensorflow.keras.layers import Dense, Flatten, Conv2D, MaxPooling2D, Dropout, BatchNormalization"
   ],
   "outputs": [
    {
     "name": "stderr",
     "output_type": "stream",
     "text": [
      "2024-12-16 10:11:22.625868: I tensorflow/core/platform/cpu_feature_guard.cc:210] This TensorFlow binary is optimized to use available CPU instructions in performance-critical operations.\n",
      "To enable the following instructions: AVX2 FMA, in other operations, rebuild TensorFlow with the appropriate compiler flags.\n",
      "/home/tsp330/miniconda3/lib/python3.12/site-packages/numpy/core/getlimits.py:542: UserWarning: Signature b'\\x00\\xd0\\xcc\\xcc\\xcc\\xcc\\xcc\\xcc\\xfb\\xbf\\x00\\x00\\x00\\x00\\x00\\x00' for <class 'numpy.longdouble'> does not match any known type: falling back to type probe function.\n",
      "This warnings indicates broken support for the dtype!\n",
      "  machar = _get_machar(dtype)\n"
     ]
    }
   ],
   "execution_count": 1
  },
  {
   "cell_type": "markdown",
   "source": [
    "# Step 2: Unzip the Dataset\n",
    "\n",
    "Once you download the dataset, unzip it using Python."
   ],
   "metadata": {
    "id": "vby-VfWbq-Rz"
   }
  },
  {
   "cell_type": "code",
   "source": [
    "# URL of the dataset\n",
    "url = 'https://ddfe.curtin.edu.au/563B05F210B82/CROHME.zip'\n",
    "\n",
    "# Path to save the zip file\n",
    "zip_file_path = 'CROHME.zip'\n",
    "\n",
    "# Download the file from the URL\n",
    "print(\"Downloading the dataset...\")\n",
    "response = requests.get(url)\n",
    "with open(zip_file_path, 'wb') as f:\n",
    "    f.write(response.content)\n",
    "print(f\"Downloaded dataset to {zip_file_path}\")\n",
    "\n",
    "# Extract the downloaded ZIP file\n",
    "print(\"Extracting the dataset...\")\n",
    "with zipfile.ZipFile(zip_file_path, 'r') as zip_ref:\n",
    "    zip_ref.extractall('crohme_dataset')  # Extract to 'crohme_dataset' folder\n",
    "\n",
    "print(\"Extraction completed!\")\n",
    "\n",
    "# Clean up the zip file if no longer needed\n",
    "os.remove(zip_file_path)\n",
    "print(\"ZIP file removed.\")"
   ],
   "metadata": {
    "id": "vaFxd0DRRECc",
    "colab": {
     "base_uri": "https://localhost:8080/"
    },
    "outputId": "898a6dbe-f5a8-410c-b08f-e279fb097054",
    "ExecuteTime": {
     "end_time": "2024-12-15T23:13:28.947893Z",
     "start_time": "2024-12-15T23:11:36.911638Z"
    }
   },
   "outputs": [
    {
     "name": "stdout",
     "output_type": "stream",
     "text": [
      "Downloading the dataset...\n",
      "Downloaded dataset to CROHME.zip\n",
      "Extracting the dataset...\n",
      "Extraction completed!\n",
      "ZIP file removed.\n"
     ]
    }
   ],
   "execution_count": 2
  },
  {
   "cell_type": "markdown",
   "source": [
    "# Step 3: Load the Dataset in Python\n",
    "\n",
    "Assuming the dataset contains .inkml files (the standard format for handwritten mathematical symbols), we need to parse them. We can use libraries like xml.etree.ElementTree for parsing XML-like structures. Alternatively, if the dataset is in another format like images (e.g., .png or .jpg), we can load them using OpenCV.\n",
    "\n",
    "Here's how you can start with the parsing and loading:\n",
    "\n",
    "Since the dataset contains image files:"
   ],
   "metadata": {
    "id": "zdHEFxPjrDwT"
   }
  },
  {
   "cell_type": "code",
   "source": [
    "# from google.colab.patches import cv2_imshow\n",
    "\n",
    "# Define the path where the dataset is stored\n",
    "dataset_path = 'crohme_dataset/archive/'\n",
    "\n",
    "'''\n",
    "# Load all images from the directory\n",
    "image_files = [f for f in os.listdir(dataset_path) if f.endswith('.png') or f.endswith('.jpg')]\n",
    "\n",
    "# Check if any image files were found\n",
    "if image_files:\n",
    "    # Load and display the first image as an example\n",
    "    image = cv2.imread(os.path.join(dataset_path, image_files[0]), cv2.IMREAD_GRAYSCALE)\n",
    "    cv2.imshow('First Image', image)\n",
    "    cv2.waitKey(0)\n",
    "    cv2.destroyAllWindows()\n",
    "else:\n",
    "    print(f\"No image files found in {dataset_path}\")\n",
    "'''\n",
    "'''\n",
    "# Traverse subfolders and load images\n",
    "for subdir, dirs, files in os.walk(dataset_path):\n",
    "    for file in files:\n",
    "        if file.endswith('.png') or file.endswith('.jpg'):\n",
    "            # Construct the full image path\n",
    "            image_path = os.path.join(subdir, file)\n",
    "\n",
    "            # Load and display the image\n",
    "            image = cv2.imread(image_path, cv2.IMREAD_GRAYSCALE)\n",
    "            #cv2.imshow(f\"Image: {image_path}\", image)\n",
    "            # cv2_imshow(image) #debug\n",
    "            cv2.waitKey(0)\n",
    "            cv2.destroyAllWindows()\n",
    "'''"
   ],
   "metadata": {
    "colab": {
     "base_uri": "https://localhost:8080/",
     "height": 108
    },
    "id": "NCS9kS1sRE0G",
    "outputId": "46ccfdc8-288e-435d-c80a-159e73b52798",
    "ExecuteTime": {
     "end_time": "2024-12-15T23:13:28.961076Z",
     "start_time": "2024-12-15T23:13:28.949600Z"
    }
   },
   "outputs": [
    {
     "data": {
      "text/plain": [
       "'\\n# Traverse subfolders and load images\\nfor subdir, dirs, files in os.walk(dataset_path):\\n    for file in files:\\n        if file.endswith(\\'.png\\') or file.endswith(\\'.jpg\\'):\\n            # Construct the full image path\\n            image_path = os.path.join(subdir, file)\\n\\n            # Load and display the image\\n            image = cv2.imread(image_path, cv2.IMREAD_GRAYSCALE)\\n            #cv2.imshow(f\"Image: {image_path}\", image)\\n            # cv2_imshow(image) #debug\\n            cv2.waitKey(0)\\n            cv2.destroyAllWindows()\\n'"
      ]
     },
     "execution_count": 3,
     "metadata": {},
     "output_type": "execute_result"
    }
   ],
   "execution_count": 3
  },
  {
   "cell_type": "markdown",
   "source": [
    "After unzipping the dataset path, those numbers, letters, and symbols are organized into subfolders under the `crohme_dataset/archive` directory.\n",
    "\n",
    "## Code to Load and Organize the Dataset\n",
    "\n",
    "We will now write a script to traverse these sub-folders, load the images, and categorize them for training. This script will load all the images from their respective folders and associate them with their corresponding labels."
   ],
   "metadata": {
    "id": "fCynr4f3xAOP"
   }
  },
  {
   "cell_type": "code",
   "source": [
    "import os\n",
    "import cv2\n",
    "import numpy as np\n",
    "\n",
    "# Directory where the dataset is located\n",
    "dataset_dir = 'crohme_dataset/archive'\n",
    "\n",
    "# Function to load the images and their labels\n",
    "def load_crohme_dataset(dataset_dir):\n",
    "    images = []\n",
    "    labels = []\n",
    "    class_names = []\n",
    "\n",
    "    # Traverse the dataset directory\n",
    "    for folder_name in os.listdir(dataset_dir):\n",
    "        folder_path = os.path.join(dataset_dir, folder_name)\n",
    "        # print(folder_path) #debug\n",
    "\n",
    "        if os.path.isdir(folder_path):\n",
    "            # Assign a label to each folder (symbol)\n",
    "            class_names.append(folder_name)\n",
    "            label = len(class_names) - 1\n",
    "\n",
    "            # Load all images from the folder\n",
    "            for file_name in os.listdir(folder_path):\n",
    "                file_path = os.path.join(folder_path, file_name)\n",
    "                if file_path.endswith('.png') or file_path.endswith('.jpg'):\n",
    "                    # Check if the file exists and is readable\n",
    "                    if not os.path.isfile(file_path):\n",
    "                        #print(f\"Error: File not found - {file_path}\")\n",
    "                        continue\n",
    "\n",
    "                    img = cv2.imread(file_path, cv2.IMREAD_GRAYSCALE)\n",
    "\n",
    "                    # Check if the image was loaded correctly\n",
    "                    if img is None:\n",
    "                        #print(f\"Error: Could not read image - {file_path}\")\n",
    "                        continue\n",
    "\n",
    "                    # Resize all images to the same size (e.g., 64x64)\n",
    "                    img_resized = cv2.resize(img, (64, 64))\n",
    "\n",
    "                    # Normalize pixel values to [0, 1]\n",
    "                    img_normalized = img_resized.astype('float32') / 255.0\n",
    "\n",
    "                    # Append the image and its label\n",
    "                    images.append(img_normalized)\n",
    "                    labels.append(label)\n",
    "\n",
    "    # Convert lists to numpy arrays\n",
    "    images = np.array(images).reshape(-1, 64, 64, 1)  # Add channel dimension for grayscale images\n",
    "    labels = np.array(labels)\n",
    "\n",
    "    return images, labels, class_names\n",
    "\n",
    "# Load the dataset\n",
    "images, labels, class_names = load_crohme_dataset(dataset_dir)\n",
    "\n",
    "# Display the shape of the dataset\n",
    "print(f\"Loaded {len(images)} images, {labels.shape[0]} labels, with {len(class_names)} unique classes.\")\n"
   ],
   "metadata": {
    "colab": {
     "base_uri": "https://localhost:8080/"
    },
    "id": "4VEnbXDkxRVA",
    "outputId": "18fa68e7-89b3-4a4b-fd29-6b5cbf29d749",
    "ExecuteTime": {
     "end_time": "2024-12-15T23:15:10.873231Z",
     "start_time": "2024-12-15T23:13:28.964893Z"
    }
   },
   "outputs": [
    {
     "name": "stdout",
     "output_type": "stream",
     "text": [
      "Loaded 34310 images, 34310 labels, with 61 unique classes.\n"
     ]
    }
   ],
   "execution_count": 4
  },
  {
   "cell_type": "markdown",
   "source": [],
   "metadata": {
    "id": "5KpK-MRVySCM"
   }
  },
  {
   "cell_type": "markdown",
   "source": [
    "If the dataset contains .inkml files (common for CROHME):\n",
    "\n",
    "You’ll need an XML parser to load the .inkml files:"
   ],
   "metadata": {
    "id": "NmtYIjmWrQrx"
   }
  },
  {
   "cell_type": "code",
   "source": [
    "'''\n",
    "import xml.etree.ElementTree as ET\n",
    "\n",
    "# Path to a sample .inkml file\n",
    "inkml_file_path = 'crohme_dataset/sample.inkml'\n",
    "\n",
    "# Load and parse the .inkml file\n",
    "tree = ET.parse(inkml_file_path)\n",
    "root = tree.getroot()\n",
    "\n",
    "# Display the structure of the .inkml file\n",
    "for elem in root:\n",
    "    print(elem.tag, elem.attrib)\n",
    "\n",
    "'''"
   ],
   "metadata": {
    "id": "xe_75_f9RKfp",
    "colab": {
     "base_uri": "https://localhost:8080/",
     "height": 72
    },
    "outputId": "59bb0d7a-bfe3-43a2-c5af-32e16465edc2",
    "ExecuteTime": {
     "end_time": "2024-12-15T23:15:10.882410Z",
     "start_time": "2024-12-15T23:15:10.876423Z"
    }
   },
   "outputs": [
    {
     "data": {
      "text/plain": [
       "\"\\nimport xml.etree.ElementTree as ET\\n\\n# Path to a sample .inkml file\\ninkml_file_path = 'crohme_dataset/sample.inkml'\\n\\n# Load and parse the .inkml file\\ntree = ET.parse(inkml_file_path)\\nroot = tree.getroot()\\n\\n# Display the structure of the .inkml file\\nfor elem in root:\\n    print(elem.tag, elem.attrib)\\n\\n\""
      ]
     },
     "execution_count": 5,
     "metadata": {},
     "output_type": "execute_result"
    }
   ],
   "execution_count": 5
  },
  {
   "cell_type": "markdown",
   "source": [
    "# Step 4: Convert .inkml Data to Images (If Applicable)\n",
    "\n",
    "In CROHME, .inkml files contain stroke data that you may want to convert into images. This step might involve converting the stroke coordinates into an image grid using matplotlib or OpenCV for visualization.\n",
    "\n",
    "Here's an example of visualizing stroke data using matplotlib:"
   ],
   "metadata": {
    "id": "7qfTDO6cri0Y"
   }
  },
  {
   "cell_type": "code",
   "source": [
    "'''\n",
    "import matplotlib.pyplot as plt\n",
    "\n",
    "def visualize_inkml(inkml_file_path):\n",
    "    tree = ET.parse(inkml_file_path)\n",
    "    root = tree.getroot()\n",
    "\n",
    "    # Extract strokes (traces)\n",
    "    strokes = []\n",
    "    for trace in root.findall('{http://www.w3.org/2003/InkML}trace'):\n",
    "        stroke_data = trace.text.strip().split(',')\n",
    "        stroke_points = [tuple(map(float, point.split())) for point in stroke_data]\n",
    "        strokes.append(stroke_points)\n",
    "\n",
    "    # Plot strokes\n",
    "    for stroke in strokes:\n",
    "        x, y = zip(*stroke)\n",
    "        plt.plot(x, y, color='black')\n",
    "\n",
    "    plt.gca().invert_yaxis()  # Invert Y axis to match the image coordinate system\n",
    "    plt.show()\n",
    "\n",
    "# Visualize an inkml file\n",
    "visualize_inkml('crohme_dataset/sample.inkml')\n",
    "'''"
   ],
   "metadata": {
    "colab": {
     "base_uri": "https://localhost:8080/",
     "height": 109
    },
    "id": "oIEA_aH6RLEi",
    "outputId": "5e454e0a-ab71-4aa2-f9c4-84e088a52d7c",
    "ExecuteTime": {
     "end_time": "2024-12-15T23:15:10.889032Z",
     "start_time": "2024-12-15T23:15:10.883872Z"
    }
   },
   "outputs": [
    {
     "data": {
      "text/plain": [
       "\"\\nimport matplotlib.pyplot as plt\\n\\ndef visualize_inkml(inkml_file_path):\\n    tree = ET.parse(inkml_file_path)\\n    root = tree.getroot()\\n\\n    # Extract strokes (traces)\\n    strokes = []\\n    for trace in root.findall('{http://www.w3.org/2003/InkML}trace'):\\n        stroke_data = trace.text.strip().split(',')\\n        stroke_points = [tuple(map(float, point.split())) for point in stroke_data]\\n        strokes.append(stroke_points)\\n\\n    # Plot strokes\\n    for stroke in strokes:\\n        x, y = zip(*stroke)\\n        plt.plot(x, y, color='black')\\n\\n    plt.gca().invert_yaxis()  # Invert Y axis to match the image coordinate system\\n    plt.show()\\n\\n# Visualize an inkml file\\nvisualize_inkml('crohme_dataset/sample.inkml')\\n\""
      ]
     },
     "execution_count": 6,
     "metadata": {},
     "output_type": "execute_result"
    }
   ],
   "execution_count": 6
  },
  {
   "cell_type": "markdown",
   "source": [
    "Next Steps:\n",
    "\n",
    "* Training and Validation Sets: Organize your dataset into training, validation, and testing sets.\n",
    "* Preprocessing: Use techniques like resizing and normalization, especially if using machine learning models.\n",
    "* Training: You can now feed this data to your CNN for recognizing mathematical symbols."
   ],
   "metadata": {
    "id": "I6xkFMcrryWd"
   }
  },
  {
   "cell_type": "code",
   "source": [],
   "metadata": {
    "id": "fZeXGi4Jrl-0",
    "ExecuteTime": {
     "end_time": "2024-12-15T23:15:10.895548Z",
     "start_time": "2024-12-15T23:15:10.892286Z"
    }
   },
   "outputs": [],
   "execution_count": 6
  },
  {
   "cell_type": "code",
   "source": [],
   "metadata": {
    "id": "92NMUpUyRO9a",
    "ExecuteTime": {
     "end_time": "2024-12-15T23:15:10.900057Z",
     "start_time": "2024-12-15T23:15:10.897317Z"
    }
   },
   "outputs": [],
   "execution_count": 6
  },
  {
   "cell_type": "code",
   "source": [],
   "metadata": {
    "id": "WFJwKe1TRRIV",
    "ExecuteTime": {
     "end_time": "2024-12-15T23:15:10.903908Z",
     "start_time": "2024-12-15T23:15:10.901432Z"
    }
   },
   "outputs": [],
   "execution_count": 6
  },
  {
   "cell_type": "code",
   "source": [
    "import numpy as np\n",
    "import os\n",
    "import cv2\n",
    "from sklearn.model_selection import train_test_split\n",
    "from keras.utils import to_categorical\n",
    "from sklearn.preprocessing import LabelEncoder\n",
    "\n",
    "# Path to the dataset\n",
    "dataset_path = 'crohme_dataset/archive/'\n",
    "\n",
    "# Initialize lists to store the data and labels\n",
    "data = []\n",
    "labels = []\n",
    "\n",
    "# Load the dataset\n",
    "for subdir, dirs, files in os.walk(dataset_path):\n",
    "    for file in files:\n",
    "        if file.endswith('.png') or file.endswith('.jpg'):\n",
    "            # Load the image\n",
    "            image_path = os.path.join(subdir, file)\n",
    "            image = cv2.imread(image_path, cv2.IMREAD_GRAYSCALE)\n",
    "\n",
    "            # Check if the image was loaded correctly\n",
    "            if image is not None:\n",
    "                # Resize the image to 64x64 if needed\n",
    "                image = cv2.resize(image, (64, 64))\n",
    "\n",
    "                # Normalize the image data to [0,1]\n",
    "                image = image.astype('float32') / 255.0\n",
    "\n",
    "                # Append the image data to the list\n",
    "                data.append(image)\n",
    "\n",
    "                # Assuming folder name is the class label\n",
    "                label = os.path.basename(subdir)\n",
    "                labels.append(label)\n",
    "            else:\n",
    "                # If the image failed to load, skip the label\n",
    "                #print(f\"Failed to load image: {image_path}\")\n",
    "                pass\n",
    "\n",
    "\n",
    "\n",
    "\n",
    "# Convert data and labels to numpy arrays\n",
    "data = np.array(data).reshape(-1, 64, 64, 1)\n",
    "labels = np.array(labels)\n",
    "\n",
    "# Check if the number of data points matches the labels\n",
    "print(f\"Number of images: {data.shape[0]}, Number of labels: {labels.shape[0]}\")\n",
    "\n",
    "# Proceed with the split if the lengths are equal\n",
    "if data.shape[0] == labels.shape[0]:\n",
    "    X_train, X_test, y_train, y_test = train_test_split(data, labels, test_size=0.2, random_state=42)\n",
    "\n",
    "    print(f\"Shape of training data: {X_train.shape}, {y_train.shape}\")\n",
    "    print(f\"Shape of test data: {X_test.shape}, {y_test.shape}\")\n",
    "else:\n",
    "    print(\"Mismatch between data and labels. Please check the dataset.\")\n",
    "\n",
    "\n",
    "'''\n",
    "# Assuming your images and labels are loaded in variables 'images' and 'labels'\n",
    "# No one-hot encoding here, using integer labels\n",
    "\n",
    "# Split the data into training and testing sets (80% train, 20% test)\n",
    "X_train, X_test, y_train, y_test = train_test_split(images, labels, test_size=0.2, random_state=42)\n",
    "\n",
    "print(f\"Shape of training data: {X_train.shape}, {y_train.shape}\")\n",
    "print(f\"Shape of test data: {X_test.shape}, {y_test.shape}\")\n",
    "'''\n",
    "\n",
    "# Encode labels (Assuming you already have a dictionary or mapping for the class labels)\n",
    "from sklearn.preprocessing import LabelEncoder\n",
    "le = LabelEncoder()\n",
    "labels_encoded = le.fit_transform(labels)\n",
    "\n",
    "print (labels_encoded)\n",
    "# One-hot encode the labels\n",
    "labels_encoded = to_categorical(labels_encoded, num_classes=len(le.classes_))\n",
    "\n",
    "# After one-hot encoding\n",
    "print(f\"Encoded labels shape: {labels_encoded.shape}\")\n",
    "\n",
    "# Split the data into training and testing sets\n",
    "X_train, X_test, y_train, y_test = train_test_split(data, labels_encoded, test_size=0.2, random_state=42)\n"
   ],
   "metadata": {
    "colab": {
     "base_uri": "https://localhost:8080/"
    },
    "id": "4DB4XXaH5jsN",
    "outputId": "ba073085-6648-4b95-8d85-9d04b461a73e",
    "ExecuteTime": {
     "end_time": "2024-12-15T23:15:59.981674Z",
     "start_time": "2024-12-15T23:15:10.906737Z"
    }
   },
   "outputs": [
    {
     "name": "stdout",
     "output_type": "stream",
     "text": [
      "Number of images: 45443, Number of labels: 45443\n",
      "Shape of training data: (36354, 64, 64, 1), (36354,)\n",
      "Shape of test data: (9089, 64, 64, 1), (9089,)\n",
      "[ 0  0  0 ... 87 87 87]\n",
      "Encoded labels shape: (45443, 88)\n"
     ]
    }
   ],
   "execution_count": 7
  },
  {
   "cell_type": "code",
   "source": [
    "import numpy as np\n",
    "import os\n",
    "import cv2\n",
    "from sklearn.model_selection import train_test_split\n",
    "from keras.utils import to_categorical\n",
    "from sklearn.preprocessing import LabelEncoder\n",
    "\n",
    "# ... [rest of your code for loading and preprocessing images] ...\n",
    "\n",
    "# Convert data and labels to numpy arrays\n",
    "data = np.array(data).reshape(-1, 64, 64, 1)\n",
    "labels = np.array(labels)\n",
    "\n",
    "# Check if the number of data points matches the labels\n",
    "print(f\"Number of images: {data.shape[0]}, Number of labels: {labels.shape[0]}\")\n",
    "\n",
    "# Proceed with the split if the lengths are equal\n",
    "if data.shape[0] == labels.shape[0]:\n",
    "    X_train, X_test, y_train, y_test = train_test_split(data, labels, test_size=0.2, random_state=42)\n",
    "\n",
    "    print(f\"Shape of training data: {X_train.shape}, {y_train.shape}\")\n",
    "    print(f\"Shape of test data: {X_test.shape}, {y_test.shape}\")\n",
    "\n",
    "    # Encode labels using LabelEncoder\n",
    "    le = LabelEncoder()\n",
    "    y_train = le.fit_transform(y_train)\n",
    "    y_test = le.transform(y_test)\n",
    "\n",
    "    # Calculate the actual number of classes\n",
    "    num_classes = len(le.classes_)\n",
    "\n",
    "    # Ensure num_classes matches the model output\n",
    "    #model.layers[-1].units = num_classes\n",
    "\n",
    "    # One-hot encode the labels\n",
    "    y_train = to_categorical(y_train, num_classes=num_classes)\n",
    "    y_test = to_categorical(y_test, num_classes=num_classes)\n",
    "\n",
    "\n",
    "else:\n",
    "    print(\"Mismatch between data and labels. Please check the dataset.\")\n"
   ],
   "metadata": {
    "colab": {
     "base_uri": "https://localhost:8080/"
    },
    "id": "FmfF82PGFCFv",
    "outputId": "7cb28aff-4f45-41b3-be52-9ae80e0c3294",
    "ExecuteTime": {
     "end_time": "2024-12-15T23:16:01.881412Z",
     "start_time": "2024-12-15T23:15:59.983990Z"
    }
   },
   "outputs": [
    {
     "name": "stdout",
     "output_type": "stream",
     "text": [
      "Number of images: 45443, Number of labels: 45443\n",
      "Shape of training data: (36354, 64, 64, 1), (36354,)\n",
      "Shape of test data: (9089, 64, 64, 1), (9089,)\n"
     ]
    }
   ],
   "execution_count": 8
  },
  {
   "cell_type": "code",
   "source": [
    "print(le.classes_)"
   ],
   "metadata": {
    "id": "3OzNgVEtIe5n",
    "colab": {
     "base_uri": "https://localhost:8080/"
    },
    "outputId": "8f540787-5629-4d0a-c70a-27a736fa3fdf",
    "ExecuteTime": {
     "end_time": "2024-12-15T23:16:01.886975Z",
     "start_time": "2024-12-15T23:16:01.882693Z"
    }
   },
   "outputs": [
    {
     "name": "stdout",
     "output_type": "stream",
     "text": [
      "['+DIR' '.ipynb_checkpoints' '0DIR' '2DIR' '3DIR' '4DIR' '5DIR' '6DIR'\n",
      " '7DIR' '8DIR' '9DIR' 'BDIR' 'D2_DeltaDIR' 'D2_alphaDIR' 'D2_betaDIR'\n",
      " 'D2_forallDIR' 'D2_gammaDIR' 'D2_geqDIR' 'D2_gtDIR' 'D2_inDIR'\n",
      " 'D2_intDIR' 'D2_leqDIR' 'D2_limDIR' 'D2_logDIR' 'D2_ltDIR' 'D2_muDIR'\n",
      " 'D2_neqDIR' 'D2_phiDIR' 'D2_piDIR' 'D2_pmDIR' 'D2_sigmaDIR' 'D2_sqrtDIR'\n",
      " 'D2_sumDIR' 'D2_thetaDIR' 'EDIR' 'MATH_' 'RDIR' 'SHORT_MATH_'\n",
      " 'SLIM_MATH_' 'SQUARE_MATH_' 'SYN_DeltaDIR' 'SYN_alphaDIR' 'SYN_betaDIR'\n",
      " 'SYN_cosDIR' 'SYN_forallDIR' 'SYN_gammaDIR' 'SYN_gtDIR' 'SYN_inDIR'\n",
      " 'SYN_inftyDIR' 'SYN_intDIR' 'SYN_leqDIR' 'SYN_limDIR' 'SYN_logDIR'\n",
      " 'SYN_ltDIR' 'SYN_muDIR' 'SYN_neqDIR' 'SYN_phiDIR' 'SYN_piDIR' 'SYN_pmDIR'\n",
      " 'SYN_sigmaDIR' 'SYN_sinDIR' 'SYN_sqrtDIR' 'SYN_sumDIR' 'SYN_tanDIR'\n",
      " 'SYN_thetaDIR' 'SYN_timesDIR' 'TALL_MATH_' 'aDIR' 'bracketDIR' 'dDIR'\n",
      " 'fDIR' 'gDIR' 'hDIR' 'iDIR' 'kDIR' 'mDIR' 'nDIR' 'oDIR' 'pDIR' 'qDIR'\n",
      " 'sDIR' 'tDIR' 'uDIR' 'vDIR' 'wDIR' 'xDIR' 'yDIR' 'zDIR']\n"
     ]
    }
   ],
   "execution_count": 9
  },
  {
   "cell_type": "markdown",
   "source": [
    "# Step 5: Training the Model"
   ],
   "metadata": {
    "id": "WstHwYqc4YE9"
   }
  },
  {
   "cell_type": "code",
   "source": [
    "from keras.regularizers import l2\n",
    "from keras.optimizers import Adam\n",
    "from keras.callbacks import ReduceLROnPlateau\n",
    "from tensorflow.keras.preprocessing.image import ImageDataGenerator"
   ],
   "metadata": {
    "id": "p6TsMUcM0IpD",
    "ExecuteTime": {
     "end_time": "2024-12-15T23:16:01.905506Z",
     "start_time": "2024-12-15T23:16:01.893998Z"
    }
   },
   "outputs": [],
   "execution_count": 10
  },
  {
   "cell_type": "code",
   "source": [
    "# Data Augmentation\n",
    "datagen = ImageDataGenerator(\n",
    "    rotation_range=10,\n",
    "    width_shift_range=0.1,\n",
    "    height_shift_range=0.1,\n",
    "    zoom_range=0.1\n",
    ")"
   ],
   "metadata": {
    "id": "FtXxunBFTcn7",
    "ExecuteTime": {
     "end_time": "2024-12-15T23:16:01.914602Z",
     "start_time": "2024-12-15T23:16:01.906869Z"
    }
   },
   "outputs": [],
   "execution_count": 11
  },
  {
   "cell_type": "code",
   "source": [
    "# Building the modified CNN model\n",
    "model = Sequential()\n",
    "\n",
    "# First Conv Layer with BatchNorm and MaxPooling\n",
    "model.add(Conv2D(32, kernel_size=(3, 3), activation='relu', input_shape=(64, 64, 1)))\n",
    "model.add(BatchNormalization())\n",
    "model.add(MaxPooling2D(pool_size=(2, 2)))\n",
    "\n",
    "# Second Conv Layer with BatchNorm and MaxPooling\n",
    "model.add(Conv2D(64, kernel_size=(3, 3), activation='relu'))\n",
    "model.add(BatchNormalization())\n",
    "model.add(MaxPooling2D(pool_size=(2, 2)))\n",
    "\n",
    "# Third Conv Layer for deeper feature extraction\n",
    "model.add(Conv2D(128, kernel_size=(3, 3), activation='relu'))\n",
    "model.add(BatchNormalization())\n",
    "model.add(MaxPooling2D(pool_size=(2, 2)))\n",
    "\n",
    "# Flattening the output for the Dense Layers\n",
    "model.add(Flatten())\n",
    "\n",
    "# Fully Connected Layer with Dropout and L2 Regularization\n",
    "model.add(Dense(256, activation='relu', kernel_regularizer=l2(0.01)))\n",
    "model.add(Dropout(0.6))\n",
    "\n",
    "# Fully Connected Layer with higher neurons and L2 Regularization\n",
    "model.add(Dense(128, activation='relu', kernel_regularizer=l2(0.01)))\n",
    "model.add(Dropout(0.6))\n",
    "\n",
    "# Output Layer\n",
    "model.add(Dense(num_classes, activation='softmax'))\n",
    "\n"
   ],
   "metadata": {
    "id": "PXHtWiMr0DtY",
    "colab": {
     "base_uri": "https://localhost:8080/"
    },
    "outputId": "07a8dd2b-e08a-402d-d7d0-9566941d8f1b",
    "ExecuteTime": {
     "end_time": "2024-12-15T23:16:02.171480Z",
     "start_time": "2024-12-15T23:16:01.916133Z"
    }
   },
   "outputs": [
    {
     "name": "stderr",
     "output_type": "stream",
     "text": [
      "/home/tsp330/miniconda3/lib/python3.12/site-packages/keras/src/layers/convolutional/base_conv.py:107: UserWarning: Do not pass an `input_shape`/`input_dim` argument to a layer. When using Sequential models, prefer using an `Input(shape)` object as the first layer in the model instead.\n",
      "  super().__init__(activity_regularizer=activity_regularizer, **kwargs)\n"
     ]
    }
   ],
   "execution_count": 12
  },
  {
   "cell_type": "code",
   "source": [
    "# Compile the model with a learning rate scheduler and Adam optimizer\n",
    "model.compile(optimizer=Adam(learning_rate=0.001), loss='categorical_crossentropy', metrics=['accuracy'])\n",
    "\n",
    "# Learning rate scheduler to reduce the learning rate when a plateau in validation loss is detected\n",
    "lr_scheduler = ReduceLROnPlateau(monitor='val_loss', factor=0.2, patience=5, min_lr=1e-5)\n",
    "\n",
    "# Model Summary\n",
    "model.summary()\n"
   ],
   "metadata": {
    "colab": {
     "base_uri": "https://localhost:8080/",
     "height": 697
    },
    "id": "putnYN1V0L3c",
    "outputId": "057bf15b-bd06-454b-d774-b604d8adc6d2",
    "ExecuteTime": {
     "end_time": "2024-12-15T23:16:02.220916Z",
     "start_time": "2024-12-15T23:16:02.172815Z"
    }
   },
   "outputs": [
    {
     "data": {
      "text/plain": [
       "\u001B[1mModel: \"sequential\"\u001B[0m\n"
      ],
      "text/html": [
       "<pre style=\"white-space:pre;overflow-x:auto;line-height:normal;font-family:Menlo,'DejaVu Sans Mono',consolas,'Courier New',monospace\"><span style=\"font-weight: bold\">Model: \"sequential\"</span>\n",
       "</pre>\n"
      ]
     },
     "metadata": {},
     "output_type": "display_data"
    },
    {
     "data": {
      "text/plain": [
       "┏━━━━━━━━━━━━━━━━━━━━━━━━━━━━━━━━━┳━━━━━━━━━━━━━━━━━━━━━━━━┳━━━━━━━━━━━━━━━┓\n",
       "┃\u001B[1m \u001B[0m\u001B[1mLayer (type)                   \u001B[0m\u001B[1m \u001B[0m┃\u001B[1m \u001B[0m\u001B[1mOutput Shape          \u001B[0m\u001B[1m \u001B[0m┃\u001B[1m \u001B[0m\u001B[1m      Param #\u001B[0m\u001B[1m \u001B[0m┃\n",
       "┡━━━━━━━━━━━━━━━━━━━━━━━━━━━━━━━━━╇━━━━━━━━━━━━━━━━━━━━━━━━╇━━━━━━━━━━━━━━━┩\n",
       "│ conv2d (\u001B[38;5;33mConv2D\u001B[0m)                 │ (\u001B[38;5;45mNone\u001B[0m, \u001B[38;5;34m62\u001B[0m, \u001B[38;5;34m62\u001B[0m, \u001B[38;5;34m32\u001B[0m)     │           \u001B[38;5;34m320\u001B[0m │\n",
       "├─────────────────────────────────┼────────────────────────┼───────────────┤\n",
       "│ batch_normalization             │ (\u001B[38;5;45mNone\u001B[0m, \u001B[38;5;34m62\u001B[0m, \u001B[38;5;34m62\u001B[0m, \u001B[38;5;34m32\u001B[0m)     │           \u001B[38;5;34m128\u001B[0m │\n",
       "│ (\u001B[38;5;33mBatchNormalization\u001B[0m)            │                        │               │\n",
       "├─────────────────────────────────┼────────────────────────┼───────────────┤\n",
       "│ max_pooling2d (\u001B[38;5;33mMaxPooling2D\u001B[0m)    │ (\u001B[38;5;45mNone\u001B[0m, \u001B[38;5;34m31\u001B[0m, \u001B[38;5;34m31\u001B[0m, \u001B[38;5;34m32\u001B[0m)     │             \u001B[38;5;34m0\u001B[0m │\n",
       "├─────────────────────────────────┼────────────────────────┼───────────────┤\n",
       "│ conv2d_1 (\u001B[38;5;33mConv2D\u001B[0m)               │ (\u001B[38;5;45mNone\u001B[0m, \u001B[38;5;34m29\u001B[0m, \u001B[38;5;34m29\u001B[0m, \u001B[38;5;34m64\u001B[0m)     │        \u001B[38;5;34m18,496\u001B[0m │\n",
       "├─────────────────────────────────┼────────────────────────┼───────────────┤\n",
       "│ batch_normalization_1           │ (\u001B[38;5;45mNone\u001B[0m, \u001B[38;5;34m29\u001B[0m, \u001B[38;5;34m29\u001B[0m, \u001B[38;5;34m64\u001B[0m)     │           \u001B[38;5;34m256\u001B[0m │\n",
       "│ (\u001B[38;5;33mBatchNormalization\u001B[0m)            │                        │               │\n",
       "├─────────────────────────────────┼────────────────────────┼───────────────┤\n",
       "│ max_pooling2d_1 (\u001B[38;5;33mMaxPooling2D\u001B[0m)  │ (\u001B[38;5;45mNone\u001B[0m, \u001B[38;5;34m14\u001B[0m, \u001B[38;5;34m14\u001B[0m, \u001B[38;5;34m64\u001B[0m)     │             \u001B[38;5;34m0\u001B[0m │\n",
       "├─────────────────────────────────┼────────────────────────┼───────────────┤\n",
       "│ conv2d_2 (\u001B[38;5;33mConv2D\u001B[0m)               │ (\u001B[38;5;45mNone\u001B[0m, \u001B[38;5;34m12\u001B[0m, \u001B[38;5;34m12\u001B[0m, \u001B[38;5;34m128\u001B[0m)    │        \u001B[38;5;34m73,856\u001B[0m │\n",
       "├─────────────────────────────────┼────────────────────────┼───────────────┤\n",
       "│ batch_normalization_2           │ (\u001B[38;5;45mNone\u001B[0m, \u001B[38;5;34m12\u001B[0m, \u001B[38;5;34m12\u001B[0m, \u001B[38;5;34m128\u001B[0m)    │           \u001B[38;5;34m512\u001B[0m │\n",
       "│ (\u001B[38;5;33mBatchNormalization\u001B[0m)            │                        │               │\n",
       "├─────────────────────────────────┼────────────────────────┼───────────────┤\n",
       "│ max_pooling2d_2 (\u001B[38;5;33mMaxPooling2D\u001B[0m)  │ (\u001B[38;5;45mNone\u001B[0m, \u001B[38;5;34m6\u001B[0m, \u001B[38;5;34m6\u001B[0m, \u001B[38;5;34m128\u001B[0m)      │             \u001B[38;5;34m0\u001B[0m │\n",
       "├─────────────────────────────────┼────────────────────────┼───────────────┤\n",
       "│ flatten (\u001B[38;5;33mFlatten\u001B[0m)               │ (\u001B[38;5;45mNone\u001B[0m, \u001B[38;5;34m4608\u001B[0m)           │             \u001B[38;5;34m0\u001B[0m │\n",
       "├─────────────────────────────────┼────────────────────────┼───────────────┤\n",
       "│ dense (\u001B[38;5;33mDense\u001B[0m)                   │ (\u001B[38;5;45mNone\u001B[0m, \u001B[38;5;34m256\u001B[0m)            │     \u001B[38;5;34m1,179,904\u001B[0m │\n",
       "├─────────────────────────────────┼────────────────────────┼───────────────┤\n",
       "│ dropout (\u001B[38;5;33mDropout\u001B[0m)               │ (\u001B[38;5;45mNone\u001B[0m, \u001B[38;5;34m256\u001B[0m)            │             \u001B[38;5;34m0\u001B[0m │\n",
       "├─────────────────────────────────┼────────────────────────┼───────────────┤\n",
       "│ dense_1 (\u001B[38;5;33mDense\u001B[0m)                 │ (\u001B[38;5;45mNone\u001B[0m, \u001B[38;5;34m128\u001B[0m)            │        \u001B[38;5;34m32,896\u001B[0m │\n",
       "├─────────────────────────────────┼────────────────────────┼───────────────┤\n",
       "│ dropout_1 (\u001B[38;5;33mDropout\u001B[0m)             │ (\u001B[38;5;45mNone\u001B[0m, \u001B[38;5;34m128\u001B[0m)            │             \u001B[38;5;34m0\u001B[0m │\n",
       "├─────────────────────────────────┼────────────────────────┼───────────────┤\n",
       "│ dense_2 (\u001B[38;5;33mDense\u001B[0m)                 │ (\u001B[38;5;45mNone\u001B[0m, \u001B[38;5;34m88\u001B[0m)             │        \u001B[38;5;34m11,352\u001B[0m │\n",
       "└─────────────────────────────────┴────────────────────────┴───────────────┘\n"
      ],
      "text/html": [
       "<pre style=\"white-space:pre;overflow-x:auto;line-height:normal;font-family:Menlo,'DejaVu Sans Mono',consolas,'Courier New',monospace\">┏━━━━━━━━━━━━━━━━━━━━━━━━━━━━━━━━━┳━━━━━━━━━━━━━━━━━━━━━━━━┳━━━━━━━━━━━━━━━┓\n",
       "┃<span style=\"font-weight: bold\"> Layer (type)                    </span>┃<span style=\"font-weight: bold\"> Output Shape           </span>┃<span style=\"font-weight: bold\">       Param # </span>┃\n",
       "┡━━━━━━━━━━━━━━━━━━━━━━━━━━━━━━━━━╇━━━━━━━━━━━━━━━━━━━━━━━━╇━━━━━━━━━━━━━━━┩\n",
       "│ conv2d (<span style=\"color: #0087ff; text-decoration-color: #0087ff\">Conv2D</span>)                 │ (<span style=\"color: #00d7ff; text-decoration-color: #00d7ff\">None</span>, <span style=\"color: #00af00; text-decoration-color: #00af00\">62</span>, <span style=\"color: #00af00; text-decoration-color: #00af00\">62</span>, <span style=\"color: #00af00; text-decoration-color: #00af00\">32</span>)     │           <span style=\"color: #00af00; text-decoration-color: #00af00\">320</span> │\n",
       "├─────────────────────────────────┼────────────────────────┼───────────────┤\n",
       "│ batch_normalization             │ (<span style=\"color: #00d7ff; text-decoration-color: #00d7ff\">None</span>, <span style=\"color: #00af00; text-decoration-color: #00af00\">62</span>, <span style=\"color: #00af00; text-decoration-color: #00af00\">62</span>, <span style=\"color: #00af00; text-decoration-color: #00af00\">32</span>)     │           <span style=\"color: #00af00; text-decoration-color: #00af00\">128</span> │\n",
       "│ (<span style=\"color: #0087ff; text-decoration-color: #0087ff\">BatchNormalization</span>)            │                        │               │\n",
       "├─────────────────────────────────┼────────────────────────┼───────────────┤\n",
       "│ max_pooling2d (<span style=\"color: #0087ff; text-decoration-color: #0087ff\">MaxPooling2D</span>)    │ (<span style=\"color: #00d7ff; text-decoration-color: #00d7ff\">None</span>, <span style=\"color: #00af00; text-decoration-color: #00af00\">31</span>, <span style=\"color: #00af00; text-decoration-color: #00af00\">31</span>, <span style=\"color: #00af00; text-decoration-color: #00af00\">32</span>)     │             <span style=\"color: #00af00; text-decoration-color: #00af00\">0</span> │\n",
       "├─────────────────────────────────┼────────────────────────┼───────────────┤\n",
       "│ conv2d_1 (<span style=\"color: #0087ff; text-decoration-color: #0087ff\">Conv2D</span>)               │ (<span style=\"color: #00d7ff; text-decoration-color: #00d7ff\">None</span>, <span style=\"color: #00af00; text-decoration-color: #00af00\">29</span>, <span style=\"color: #00af00; text-decoration-color: #00af00\">29</span>, <span style=\"color: #00af00; text-decoration-color: #00af00\">64</span>)     │        <span style=\"color: #00af00; text-decoration-color: #00af00\">18,496</span> │\n",
       "├─────────────────────────────────┼────────────────────────┼───────────────┤\n",
       "│ batch_normalization_1           │ (<span style=\"color: #00d7ff; text-decoration-color: #00d7ff\">None</span>, <span style=\"color: #00af00; text-decoration-color: #00af00\">29</span>, <span style=\"color: #00af00; text-decoration-color: #00af00\">29</span>, <span style=\"color: #00af00; text-decoration-color: #00af00\">64</span>)     │           <span style=\"color: #00af00; text-decoration-color: #00af00\">256</span> │\n",
       "│ (<span style=\"color: #0087ff; text-decoration-color: #0087ff\">BatchNormalization</span>)            │                        │               │\n",
       "├─────────────────────────────────┼────────────────────────┼───────────────┤\n",
       "│ max_pooling2d_1 (<span style=\"color: #0087ff; text-decoration-color: #0087ff\">MaxPooling2D</span>)  │ (<span style=\"color: #00d7ff; text-decoration-color: #00d7ff\">None</span>, <span style=\"color: #00af00; text-decoration-color: #00af00\">14</span>, <span style=\"color: #00af00; text-decoration-color: #00af00\">14</span>, <span style=\"color: #00af00; text-decoration-color: #00af00\">64</span>)     │             <span style=\"color: #00af00; text-decoration-color: #00af00\">0</span> │\n",
       "├─────────────────────────────────┼────────────────────────┼───────────────┤\n",
       "│ conv2d_2 (<span style=\"color: #0087ff; text-decoration-color: #0087ff\">Conv2D</span>)               │ (<span style=\"color: #00d7ff; text-decoration-color: #00d7ff\">None</span>, <span style=\"color: #00af00; text-decoration-color: #00af00\">12</span>, <span style=\"color: #00af00; text-decoration-color: #00af00\">12</span>, <span style=\"color: #00af00; text-decoration-color: #00af00\">128</span>)    │        <span style=\"color: #00af00; text-decoration-color: #00af00\">73,856</span> │\n",
       "├─────────────────────────────────┼────────────────────────┼───────────────┤\n",
       "│ batch_normalization_2           │ (<span style=\"color: #00d7ff; text-decoration-color: #00d7ff\">None</span>, <span style=\"color: #00af00; text-decoration-color: #00af00\">12</span>, <span style=\"color: #00af00; text-decoration-color: #00af00\">12</span>, <span style=\"color: #00af00; text-decoration-color: #00af00\">128</span>)    │           <span style=\"color: #00af00; text-decoration-color: #00af00\">512</span> │\n",
       "│ (<span style=\"color: #0087ff; text-decoration-color: #0087ff\">BatchNormalization</span>)            │                        │               │\n",
       "├─────────────────────────────────┼────────────────────────┼───────────────┤\n",
       "│ max_pooling2d_2 (<span style=\"color: #0087ff; text-decoration-color: #0087ff\">MaxPooling2D</span>)  │ (<span style=\"color: #00d7ff; text-decoration-color: #00d7ff\">None</span>, <span style=\"color: #00af00; text-decoration-color: #00af00\">6</span>, <span style=\"color: #00af00; text-decoration-color: #00af00\">6</span>, <span style=\"color: #00af00; text-decoration-color: #00af00\">128</span>)      │             <span style=\"color: #00af00; text-decoration-color: #00af00\">0</span> │\n",
       "├─────────────────────────────────┼────────────────────────┼───────────────┤\n",
       "│ flatten (<span style=\"color: #0087ff; text-decoration-color: #0087ff\">Flatten</span>)               │ (<span style=\"color: #00d7ff; text-decoration-color: #00d7ff\">None</span>, <span style=\"color: #00af00; text-decoration-color: #00af00\">4608</span>)           │             <span style=\"color: #00af00; text-decoration-color: #00af00\">0</span> │\n",
       "├─────────────────────────────────┼────────────────────────┼───────────────┤\n",
       "│ dense (<span style=\"color: #0087ff; text-decoration-color: #0087ff\">Dense</span>)                   │ (<span style=\"color: #00d7ff; text-decoration-color: #00d7ff\">None</span>, <span style=\"color: #00af00; text-decoration-color: #00af00\">256</span>)            │     <span style=\"color: #00af00; text-decoration-color: #00af00\">1,179,904</span> │\n",
       "├─────────────────────────────────┼────────────────────────┼───────────────┤\n",
       "│ dropout (<span style=\"color: #0087ff; text-decoration-color: #0087ff\">Dropout</span>)               │ (<span style=\"color: #00d7ff; text-decoration-color: #00d7ff\">None</span>, <span style=\"color: #00af00; text-decoration-color: #00af00\">256</span>)            │             <span style=\"color: #00af00; text-decoration-color: #00af00\">0</span> │\n",
       "├─────────────────────────────────┼────────────────────────┼───────────────┤\n",
       "│ dense_1 (<span style=\"color: #0087ff; text-decoration-color: #0087ff\">Dense</span>)                 │ (<span style=\"color: #00d7ff; text-decoration-color: #00d7ff\">None</span>, <span style=\"color: #00af00; text-decoration-color: #00af00\">128</span>)            │        <span style=\"color: #00af00; text-decoration-color: #00af00\">32,896</span> │\n",
       "├─────────────────────────────────┼────────────────────────┼───────────────┤\n",
       "│ dropout_1 (<span style=\"color: #0087ff; text-decoration-color: #0087ff\">Dropout</span>)             │ (<span style=\"color: #00d7ff; text-decoration-color: #00d7ff\">None</span>, <span style=\"color: #00af00; text-decoration-color: #00af00\">128</span>)            │             <span style=\"color: #00af00; text-decoration-color: #00af00\">0</span> │\n",
       "├─────────────────────────────────┼────────────────────────┼───────────────┤\n",
       "│ dense_2 (<span style=\"color: #0087ff; text-decoration-color: #0087ff\">Dense</span>)                 │ (<span style=\"color: #00d7ff; text-decoration-color: #00d7ff\">None</span>, <span style=\"color: #00af00; text-decoration-color: #00af00\">88</span>)             │        <span style=\"color: #00af00; text-decoration-color: #00af00\">11,352</span> │\n",
       "└─────────────────────────────────┴────────────────────────┴───────────────┘\n",
       "</pre>\n"
      ]
     },
     "metadata": {},
     "output_type": "display_data"
    },
    {
     "data": {
      "text/plain": [
       "\u001B[1m Total params: \u001B[0m\u001B[38;5;34m1,317,720\u001B[0m (5.03 MB)\n"
      ],
      "text/html": [
       "<pre style=\"white-space:pre;overflow-x:auto;line-height:normal;font-family:Menlo,'DejaVu Sans Mono',consolas,'Courier New',monospace\"><span style=\"font-weight: bold\"> Total params: </span><span style=\"color: #00af00; text-decoration-color: #00af00\">1,317,720</span> (5.03 MB)\n",
       "</pre>\n"
      ]
     },
     "metadata": {},
     "output_type": "display_data"
    },
    {
     "data": {
      "text/plain": [
       "\u001B[1m Trainable params: \u001B[0m\u001B[38;5;34m1,317,272\u001B[0m (5.02 MB)\n"
      ],
      "text/html": [
       "<pre style=\"white-space:pre;overflow-x:auto;line-height:normal;font-family:Menlo,'DejaVu Sans Mono',consolas,'Courier New',monospace\"><span style=\"font-weight: bold\"> Trainable params: </span><span style=\"color: #00af00; text-decoration-color: #00af00\">1,317,272</span> (5.02 MB)\n",
       "</pre>\n"
      ]
     },
     "metadata": {},
     "output_type": "display_data"
    },
    {
     "data": {
      "text/plain": [
       "\u001B[1m Non-trainable params: \u001B[0m\u001B[38;5;34m448\u001B[0m (1.75 KB)\n"
      ],
      "text/html": [
       "<pre style=\"white-space:pre;overflow-x:auto;line-height:normal;font-family:Menlo,'DejaVu Sans Mono',consolas,'Courier New',monospace\"><span style=\"font-weight: bold\"> Non-trainable params: </span><span style=\"color: #00af00; text-decoration-color: #00af00\">448</span> (1.75 KB)\n",
       "</pre>\n"
      ]
     },
     "metadata": {},
     "output_type": "display_data"
    }
   ],
   "execution_count": 13
  },
  {
   "cell_type": "code",
   "source": [
    "# Set up callbacks\n",
    "early_stopping = tf.keras.callbacks.EarlyStopping(monitor='val_loss', patience=10, restore_best_weights=True)\n",
    "model_checkpoint = tf.keras.callbacks.ModelCheckpoint('best_model.keras', save_best_only=True, monitor='val_loss')\n",
    "\n",
    "# Train the model\n",
    "history = model.fit(X_train, y_train,\n",
    "                        epochs=150, validation_data=(X_test, y_test),\n",
    "                        callbacks=[early_stopping, model_checkpoint, lr_scheduler]\n",
    "                        )"
   ],
   "metadata": {
    "id": "23mty2H34ZLd",
    "colab": {
     "base_uri": "https://localhost:8080/"
    },
    "outputId": "02b8087e-dd90-4c6e-e641-c8b677469e1d",
    "ExecuteTime": {
     "end_time": "2024-12-16T05:31:49.008082Z",
     "start_time": "2024-12-15T23:16:02.225328Z"
    }
   },
   "outputs": [
    {
     "name": "stdout",
     "output_type": "stream",
     "text": [
      "Epoch 1/150\n"
     ]
    },
    {
     "name": "stderr",
     "output_type": "stream",
     "text": [
      "2024-12-16 10:16:03.116669: W external/local_tsl/tsl/framework/cpu_allocator_impl.cc:83] Allocation of 595623936 exceeds 10% of free system memory.\n"
     ]
    },
    {
     "name": "stdout",
     "output_type": "stream",
     "text": [
      "\u001B[1m1137/1137\u001B[0m \u001B[32m━━━━━━━━━━━━━━━━━━━━\u001B[0m\u001B[37m\u001B[0m \u001B[1m281s\u001B[0m 244ms/step - accuracy: 0.3360 - loss: 6.3779 - val_accuracy: 0.3811 - val_loss: 3.8812 - learning_rate: 0.0010\n",
      "Epoch 2/150\n",
      "\u001B[1m1137/1137\u001B[0m \u001B[32m━━━━━━━━━━━━━━━━━━━━\u001B[0m\u001B[37m\u001B[0m \u001B[1m229s\u001B[0m 201ms/step - accuracy: 0.5738 - loss: 2.7343 - val_accuracy: 0.1013 - val_loss: 5.3435 - learning_rate: 0.0010\n",
      "Epoch 3/150\n",
      "\u001B[1m1137/1137\u001B[0m \u001B[32m━━━━━━━━━━━━━━━━━━━━\u001B[0m\u001B[37m\u001B[0m \u001B[1m228s\u001B[0m 200ms/step - accuracy: 0.6500 - loss: 2.5009 - val_accuracy: 0.2350 - val_loss: 122.0929 - learning_rate: 0.0010\n",
      "Epoch 4/150\n",
      "\u001B[1m1137/1137\u001B[0m \u001B[32m━━━━━━━━━━━━━━━━━━━━\u001B[0m\u001B[37m\u001B[0m \u001B[1m232s\u001B[0m 204ms/step - accuracy: 0.6742 - loss: 2.4617 - val_accuracy: 0.5112 - val_loss: 3.9162 - learning_rate: 0.0010\n",
      "Epoch 5/150\n",
      "\u001B[1m1137/1137\u001B[0m \u001B[32m━━━━━━━━━━━━━━━━━━━━\u001B[0m\u001B[37m\u001B[0m \u001B[1m256s\u001B[0m 225ms/step - accuracy: 0.7056 - loss: 2.2422 - val_accuracy: 0.1934 - val_loss: 5.0635 - learning_rate: 0.0010\n",
      "Epoch 6/150\n",
      "\u001B[1m1137/1137\u001B[0m \u001B[32m━━━━━━━━━━━━━━━━━━━━\u001B[0m\u001B[37m\u001B[0m \u001B[1m237s\u001B[0m 209ms/step - accuracy: 0.7153 - loss: 2.1788 - val_accuracy: 0.2357 - val_loss: 92.3331 - learning_rate: 0.0010\n",
      "Epoch 7/150\n",
      "\u001B[1m1137/1137\u001B[0m \u001B[32m━━━━━━━━━━━━━━━━━━━━\u001B[0m\u001B[37m\u001B[0m \u001B[1m237s\u001B[0m 209ms/step - accuracy: 0.7687 - loss: 1.7207 - val_accuracy: 0.8045 - val_loss: 1.2111 - learning_rate: 2.0000e-04\n",
      "Epoch 8/150\n",
      "\u001B[1m1137/1137\u001B[0m \u001B[32m━━━━━━━━━━━━━━━━━━━━\u001B[0m\u001B[37m\u001B[0m \u001B[1m248s\u001B[0m 218ms/step - accuracy: 0.8062 - loss: 1.1992 - val_accuracy: 0.4000 - val_loss: 13.3050 - learning_rate: 2.0000e-04\n",
      "Epoch 9/150\n",
      "\u001B[1m1137/1137\u001B[0m \u001B[32m━━━━━━━━━━━━━━━━━━━━\u001B[0m\u001B[37m\u001B[0m \u001B[1m234s\u001B[0m 206ms/step - accuracy: 0.8182 - loss: 1.0862 - val_accuracy: 0.8462 - val_loss: 0.9687 - learning_rate: 2.0000e-04\n",
      "Epoch 10/150\n",
      "\u001B[1m1137/1137\u001B[0m \u001B[32m━━━━━━━━━━━━━━━━━━━━\u001B[0m\u001B[37m\u001B[0m \u001B[1m218s\u001B[0m 191ms/step - accuracy: 0.8253 - loss: 1.0441 - val_accuracy: 0.8430 - val_loss: 0.9896 - learning_rate: 2.0000e-04\n",
      "Epoch 11/150\n",
      "\u001B[1m1137/1137\u001B[0m \u001B[32m━━━━━━━━━━━━━━━━━━━━\u001B[0m\u001B[37m\u001B[0m \u001B[1m225s\u001B[0m 198ms/step - accuracy: 0.8337 - loss: 0.9956 - val_accuracy: 0.8674 - val_loss: 0.8989 - learning_rate: 2.0000e-04\n",
      "Epoch 12/150\n",
      "\u001B[1m1137/1137\u001B[0m \u001B[32m━━━━━━━━━━━━━━━━━━━━\u001B[0m\u001B[37m\u001B[0m \u001B[1m243s\u001B[0m 213ms/step - accuracy: 0.8365 - loss: 0.9914 - val_accuracy: 0.7762 - val_loss: 1.3279 - learning_rate: 2.0000e-04\n",
      "Epoch 13/150\n",
      "\u001B[1m1137/1137\u001B[0m \u001B[32m━━━━━━━━━━━━━━━━━━━━\u001B[0m\u001B[37m\u001B[0m \u001B[1m243s\u001B[0m 214ms/step - accuracy: 0.8412 - loss: 0.9739 - val_accuracy: 0.8740 - val_loss: 0.8561 - learning_rate: 2.0000e-04\n",
      "Epoch 14/150\n",
      "\u001B[1m1137/1137\u001B[0m \u001B[32m━━━━━━━━━━━━━━━━━━━━\u001B[0m\u001B[37m\u001B[0m \u001B[1m247s\u001B[0m 217ms/step - accuracy: 0.8463 - loss: 0.9511 - val_accuracy: 0.2857 - val_loss: 39.2492 - learning_rate: 2.0000e-04\n",
      "Epoch 15/150\n",
      "\u001B[1m1137/1137\u001B[0m \u001B[32m━━━━━━━━━━━━━━━━━━━━\u001B[0m\u001B[37m\u001B[0m \u001B[1m240s\u001B[0m 211ms/step - accuracy: 0.8462 - loss: 0.9453 - val_accuracy: 0.7604 - val_loss: 1.1803 - learning_rate: 2.0000e-04\n",
      "Epoch 16/150\n",
      "\u001B[1m1137/1137\u001B[0m \u001B[32m━━━━━━━━━━━━━━━━━━━━\u001B[0m\u001B[37m\u001B[0m \u001B[1m254s\u001B[0m 224ms/step - accuracy: 0.8531 - loss: 0.9274 - val_accuracy: 0.5262 - val_loss: 7.0534 - learning_rate: 2.0000e-04\n",
      "Epoch 17/150\n",
      "\u001B[1m1137/1137\u001B[0m \u001B[32m━━━━━━━━━━━━━━━━━━━━\u001B[0m\u001B[37m\u001B[0m \u001B[1m258s\u001B[0m 227ms/step - accuracy: 0.8531 - loss: 0.9138 - val_accuracy: 0.7913 - val_loss: 1.1793 - learning_rate: 2.0000e-04\n",
      "Epoch 18/150\n",
      "\u001B[1m1137/1137\u001B[0m \u001B[32m━━━━━━━━━━━━━━━━━━━━\u001B[0m\u001B[37m\u001B[0m \u001B[1m284s\u001B[0m 250ms/step - accuracy: 0.8594 - loss: 0.9093 - val_accuracy: 0.8588 - val_loss: 0.9289 - learning_rate: 2.0000e-04\n",
      "Epoch 19/150\n",
      "\u001B[1m1137/1137\u001B[0m \u001B[32m━━━━━━━━━━━━━━━━━━━━\u001B[0m\u001B[37m\u001B[0m \u001B[1m271s\u001B[0m 239ms/step - accuracy: 0.8766 - loss: 0.8382 - val_accuracy: 0.8689 - val_loss: 0.8655 - learning_rate: 4.0000e-05\n",
      "Epoch 20/150\n",
      "\u001B[1m1137/1137\u001B[0m \u001B[32m━━━━━━━━━━━━━━━━━━━━\u001B[0m\u001B[37m\u001B[0m \u001B[1m262s\u001B[0m 230ms/step - accuracy: 0.8857 - loss: 0.7565 - val_accuracy: 0.8921 - val_loss: 0.7148 - learning_rate: 4.0000e-05\n",
      "Epoch 21/150\n",
      "\u001B[1m1137/1137\u001B[0m \u001B[32m━━━━━━━━━━━━━━━━━━━━\u001B[0m\u001B[37m\u001B[0m \u001B[1m250s\u001B[0m 220ms/step - accuracy: 0.8901 - loss: 0.7026 - val_accuracy: 0.8945 - val_loss: 0.6847 - learning_rate: 4.0000e-05\n",
      "Epoch 22/150\n",
      "\u001B[1m1137/1137\u001B[0m \u001B[32m━━━━━━━━━━━━━━━━━━━━\u001B[0m\u001B[37m\u001B[0m \u001B[1m243s\u001B[0m 213ms/step - accuracy: 0.8958 - loss: 0.6620 - val_accuracy: 0.8924 - val_loss: 0.6765 - learning_rate: 4.0000e-05\n",
      "Epoch 23/150\n",
      "\u001B[1m1137/1137\u001B[0m \u001B[32m━━━━━━━━━━━━━━━━━━━━\u001B[0m\u001B[37m\u001B[0m \u001B[1m252s\u001B[0m 221ms/step - accuracy: 0.9007 - loss: 0.6378 - val_accuracy: 0.8966 - val_loss: 0.6440 - learning_rate: 4.0000e-05\n",
      "Epoch 24/150\n",
      "\u001B[1m1137/1137\u001B[0m \u001B[32m━━━━━━━━━━━━━━━━━━━━\u001B[0m\u001B[37m\u001B[0m \u001B[1m255s\u001B[0m 224ms/step - accuracy: 0.8995 - loss: 0.6218 - val_accuracy: 0.8785 - val_loss: 0.7385 - learning_rate: 4.0000e-05\n",
      "Epoch 25/150\n",
      "\u001B[1m1137/1137\u001B[0m \u001B[32m━━━━━━━━━━━━━━━━━━━━\u001B[0m\u001B[37m\u001B[0m \u001B[1m388s\u001B[0m 342ms/step - accuracy: 0.9009 - loss: 0.6083 - val_accuracy: 0.8951 - val_loss: 0.6418 - learning_rate: 4.0000e-05\n",
      "Epoch 26/150\n",
      "\u001B[1m1137/1137\u001B[0m \u001B[32m━━━━━━━━━━━━━━━━━━━━\u001B[0m\u001B[37m\u001B[0m \u001B[1m454s\u001B[0m 400ms/step - accuracy: 0.9032 - loss: 0.5961 - val_accuracy: 0.8954 - val_loss: 0.6314 - learning_rate: 4.0000e-05\n",
      "Epoch 27/150\n",
      "\u001B[1m1137/1137\u001B[0m \u001B[32m━━━━━━━━━━━━━━━━━━━━\u001B[0m\u001B[37m\u001B[0m \u001B[1m232s\u001B[0m 204ms/step - accuracy: 0.9045 - loss: 0.5872 - val_accuracy: 0.8937 - val_loss: 0.6597 - learning_rate: 4.0000e-05\n",
      "Epoch 28/150\n",
      "\u001B[1m1137/1137\u001B[0m \u001B[32m━━━━━━━━━━━━━━━━━━━━\u001B[0m\u001B[37m\u001B[0m \u001B[1m230s\u001B[0m 202ms/step - accuracy: 0.9057 - loss: 0.5845 - val_accuracy: 0.8947 - val_loss: 0.6370 - learning_rate: 4.0000e-05\n",
      "Epoch 29/150\n",
      "\u001B[1m1137/1137\u001B[0m \u001B[32m━━━━━━━━━━━━━━━━━━━━\u001B[0m\u001B[37m\u001B[0m \u001B[1m240s\u001B[0m 211ms/step - accuracy: 0.9068 - loss: 0.5736 - val_accuracy: 0.8916 - val_loss: 0.6593 - learning_rate: 4.0000e-05\n",
      "Epoch 30/150\n",
      "\u001B[1m1137/1137\u001B[0m \u001B[32m━━━━━━━━━━━━━━━━━━━━\u001B[0m\u001B[37m\u001B[0m \u001B[1m231s\u001B[0m 203ms/step - accuracy: 0.9117 - loss: 0.5544 - val_accuracy: 0.8946 - val_loss: 0.6300 - learning_rate: 4.0000e-05\n",
      "Epoch 31/150\n",
      "\u001B[1m1137/1137\u001B[0m \u001B[32m━━━━━━━━━━━━━━━━━━━━\u001B[0m\u001B[37m\u001B[0m \u001B[1m235s\u001B[0m 206ms/step - accuracy: 0.9099 - loss: 0.5588 - val_accuracy: 0.8981 - val_loss: 0.6217 - learning_rate: 4.0000e-05\n",
      "Epoch 32/150\n",
      "\u001B[1m1137/1137\u001B[0m \u001B[32m━━━━━━━━━━━━━━━━━━━━\u001B[0m\u001B[37m\u001B[0m \u001B[1m271s\u001B[0m 239ms/step - accuracy: 0.9119 - loss: 0.5540 - val_accuracy: 0.8856 - val_loss: 0.6665 - learning_rate: 4.0000e-05\n",
      "Epoch 33/150\n",
      "\u001B[1m1137/1137\u001B[0m \u001B[32m━━━━━━━━━━━━━━━━━━━━\u001B[0m\u001B[37m\u001B[0m \u001B[1m266s\u001B[0m 234ms/step - accuracy: 0.9120 - loss: 0.5480 - val_accuracy: 0.9002 - val_loss: 0.6050 - learning_rate: 4.0000e-05\n",
      "Epoch 34/150\n",
      "\u001B[1m1137/1137\u001B[0m \u001B[32m━━━━━━━━━━━━━━━━━━━━\u001B[0m\u001B[37m\u001B[0m \u001B[1m254s\u001B[0m 223ms/step - accuracy: 0.9144 - loss: 0.5384 - val_accuracy: 0.8986 - val_loss: 0.6175 - learning_rate: 4.0000e-05\n",
      "Epoch 35/150\n",
      "\u001B[1m1137/1137\u001B[0m \u001B[32m━━━━━━━━━━━━━━━━━━━━\u001B[0m\u001B[37m\u001B[0m \u001B[1m252s\u001B[0m 222ms/step - accuracy: 0.9169 - loss: 0.5324 - val_accuracy: 0.8874 - val_loss: 0.6647 - learning_rate: 4.0000e-05\n",
      "Epoch 36/150\n",
      "\u001B[1m1137/1137\u001B[0m \u001B[32m━━━━━━━━━━━━━━━━━━━━\u001B[0m\u001B[37m\u001B[0m \u001B[1m263s\u001B[0m 231ms/step - accuracy: 0.9167 - loss: 0.5306 - val_accuracy: 0.8973 - val_loss: 0.6151 - learning_rate: 4.0000e-05\n",
      "Epoch 37/150\n",
      "\u001B[1m1137/1137\u001B[0m \u001B[32m━━━━━━━━━━━━━━━━━━━━\u001B[0m\u001B[37m\u001B[0m \u001B[1m256s\u001B[0m 225ms/step - accuracy: 0.9218 - loss: 0.5195 - val_accuracy: 0.8990 - val_loss: 0.6035 - learning_rate: 4.0000e-05\n",
      "Epoch 38/150\n",
      "\u001B[1m1137/1137\u001B[0m \u001B[32m━━━━━━━━━━━━━━━━━━━━\u001B[0m\u001B[37m\u001B[0m \u001B[1m247s\u001B[0m 217ms/step - accuracy: 0.9187 - loss: 0.5240 - val_accuracy: 0.8979 - val_loss: 0.6058 - learning_rate: 4.0000e-05\n",
      "Epoch 39/150\n",
      "\u001B[1m1137/1137\u001B[0m \u001B[32m━━━━━━━━━━━━━━━━━━━━\u001B[0m\u001B[37m\u001B[0m \u001B[1m253s\u001B[0m 222ms/step - accuracy: 0.9234 - loss: 0.5153 - val_accuracy: 0.8841 - val_loss: 0.6962 - learning_rate: 4.0000e-05\n",
      "Epoch 40/150\n",
      "\u001B[1m1137/1137\u001B[0m \u001B[32m━━━━━━━━━━━━━━━━━━━━\u001B[0m\u001B[37m\u001B[0m \u001B[1m281s\u001B[0m 247ms/step - accuracy: 0.9205 - loss: 0.5186 - val_accuracy: 0.8948 - val_loss: 0.6206 - learning_rate: 4.0000e-05\n",
      "Epoch 41/150\n",
      "\u001B[1m1137/1137\u001B[0m \u001B[32m━━━━━━━━━━━━━━━━━━━━\u001B[0m\u001B[37m\u001B[0m \u001B[1m265s\u001B[0m 233ms/step - accuracy: 0.9242 - loss: 0.5047 - val_accuracy: 0.8977 - val_loss: 0.6046 - learning_rate: 4.0000e-05\n",
      "Epoch 42/150\n",
      "\u001B[1m1137/1137\u001B[0m \u001B[32m━━━━━━━━━━━━━━━━━━━━\u001B[0m\u001B[37m\u001B[0m \u001B[1m263s\u001B[0m 231ms/step - accuracy: 0.9258 - loss: 0.5029 - val_accuracy: 0.9003 - val_loss: 0.6084 - learning_rate: 4.0000e-05\n",
      "Epoch 43/150\n",
      "\u001B[1m1137/1137\u001B[0m \u001B[32m━━━━━━━━━━━━━━━━━━━━\u001B[0m\u001B[37m\u001B[0m \u001B[1m253s\u001B[0m 223ms/step - accuracy: 0.9291 - loss: 0.4901 - val_accuracy: 0.9004 - val_loss: 0.5981 - learning_rate: 1.0000e-05\n",
      "Epoch 44/150\n",
      "\u001B[1m1137/1137\u001B[0m \u001B[32m━━━━━━━━━━━━━━━━━━━━\u001B[0m\u001B[37m\u001B[0m \u001B[1m239s\u001B[0m 210ms/step - accuracy: 0.9273 - loss: 0.4859 - val_accuracy: 0.8927 - val_loss: 0.6618 - learning_rate: 1.0000e-05\n",
      "Epoch 45/150\n",
      "\u001B[1m1137/1137\u001B[0m \u001B[32m━━━━━━━━━━━━━━━━━━━━\u001B[0m\u001B[37m\u001B[0m \u001B[1m238s\u001B[0m 210ms/step - accuracy: 0.9327 - loss: 0.4733 - val_accuracy: 0.9002 - val_loss: 0.5901 - learning_rate: 1.0000e-05\n",
      "Epoch 46/150\n",
      "\u001B[1m1137/1137\u001B[0m \u001B[32m━━━━━━━━━━━━━━━━━━━━\u001B[0m\u001B[37m\u001B[0m \u001B[1m237s\u001B[0m 208ms/step - accuracy: 0.9349 - loss: 0.4668 - val_accuracy: 0.9015 - val_loss: 0.5859 - learning_rate: 1.0000e-05\n",
      "Epoch 47/150\n",
      "\u001B[1m1137/1137\u001B[0m \u001B[32m━━━━━━━━━━━━━━━━━━━━\u001B[0m\u001B[37m\u001B[0m \u001B[1m242s\u001B[0m 212ms/step - accuracy: 0.9380 - loss: 0.4577 - val_accuracy: 0.9006 - val_loss: 0.5875 - learning_rate: 1.0000e-05\n",
      "Epoch 48/150\n",
      "\u001B[1m1137/1137\u001B[0m \u001B[32m━━━━━━━━━━━━━━━━━━━━\u001B[0m\u001B[37m\u001B[0m \u001B[1m263s\u001B[0m 232ms/step - accuracy: 0.9335 - loss: 0.4599 - val_accuracy: 0.9003 - val_loss: 0.5946 - learning_rate: 1.0000e-05\n",
      "Epoch 49/150\n",
      "\u001B[1m1137/1137\u001B[0m \u001B[32m━━━━━━━━━━━━━━━━━━━━\u001B[0m\u001B[37m\u001B[0m \u001B[1m261s\u001B[0m 230ms/step - accuracy: 0.9358 - loss: 0.4524 - val_accuracy: 0.9019 - val_loss: 0.5858 - learning_rate: 1.0000e-05\n",
      "Epoch 50/150\n",
      "\u001B[1m1137/1137\u001B[0m \u001B[32m━━━━━━━━━━━━━━━━━━━━\u001B[0m\u001B[37m\u001B[0m \u001B[1m271s\u001B[0m 239ms/step - accuracy: 0.9342 - loss: 0.4528 - val_accuracy: 0.9014 - val_loss: 0.5941 - learning_rate: 1.0000e-05\n",
      "Epoch 51/150\n",
      "\u001B[1m1137/1137\u001B[0m \u001B[32m━━━━━━━━━━━━━━━━━━━━\u001B[0m\u001B[37m\u001B[0m \u001B[1m267s\u001B[0m 235ms/step - accuracy: 0.9351 - loss: 0.4497 - val_accuracy: 0.9012 - val_loss: 0.5838 - learning_rate: 1.0000e-05\n",
      "Epoch 52/150\n",
      "\u001B[1m1137/1137\u001B[0m \u001B[32m━━━━━━━━━━━━━━━━━━━━\u001B[0m\u001B[37m\u001B[0m \u001B[1m253s\u001B[0m 223ms/step - accuracy: 0.9323 - loss: 0.4470 - val_accuracy: 0.8999 - val_loss: 0.5810 - learning_rate: 1.0000e-05\n",
      "Epoch 53/150\n",
      "\u001B[1m1137/1137\u001B[0m \u001B[32m━━━━━━━━━━━━━━━━━━━━\u001B[0m\u001B[37m\u001B[0m \u001B[1m239s\u001B[0m 210ms/step - accuracy: 0.9381 - loss: 0.4409 - val_accuracy: 0.9012 - val_loss: 0.5741 - learning_rate: 1.0000e-05\n",
      "Epoch 54/150\n",
      "\u001B[1m1137/1137\u001B[0m \u001B[32m━━━━━━━━━━━━━━━━━━━━\u001B[0m\u001B[37m\u001B[0m \u001B[1m240s\u001B[0m 211ms/step - accuracy: 0.9394 - loss: 0.4394 - val_accuracy: 0.9005 - val_loss: 0.5928 - learning_rate: 1.0000e-05\n",
      "Epoch 55/150\n",
      "\u001B[1m1137/1137\u001B[0m \u001B[32m━━━━━━━━━━━━━━━━━━━━\u001B[0m\u001B[37m\u001B[0m \u001B[1m227s\u001B[0m 200ms/step - accuracy: 0.9366 - loss: 0.4361 - val_accuracy: 0.9002 - val_loss: 0.5696 - learning_rate: 1.0000e-05\n",
      "Epoch 56/150\n",
      "\u001B[1m1137/1137\u001B[0m \u001B[32m━━━━━━━━━━━━━━━━━━━━\u001B[0m\u001B[37m\u001B[0m \u001B[1m228s\u001B[0m 201ms/step - accuracy: 0.9382 - loss: 0.4367 - val_accuracy: 0.9019 - val_loss: 0.5768 - learning_rate: 1.0000e-05\n",
      "Epoch 57/150\n",
      "\u001B[1m1137/1137\u001B[0m \u001B[32m━━━━━━━━━━━━━━━━━━━━\u001B[0m\u001B[37m\u001B[0m \u001B[1m236s\u001B[0m 208ms/step - accuracy: 0.9383 - loss: 0.4350 - val_accuracy: 0.8987 - val_loss: 0.5686 - learning_rate: 1.0000e-05\n",
      "Epoch 58/150\n",
      "\u001B[1m1137/1137\u001B[0m \u001B[32m━━━━━━━━━━━━━━━━━━━━\u001B[0m\u001B[37m\u001B[0m \u001B[1m235s\u001B[0m 206ms/step - accuracy: 0.9413 - loss: 0.4230 - val_accuracy: 0.8997 - val_loss: 0.5692 - learning_rate: 1.0000e-05\n",
      "Epoch 59/150\n",
      "\u001B[1m1137/1137\u001B[0m \u001B[32m━━━━━━━━━━━━━━━━━━━━\u001B[0m\u001B[37m\u001B[0m \u001B[1m229s\u001B[0m 201ms/step - accuracy: 0.9398 - loss: 0.4243 - val_accuracy: 0.9008 - val_loss: 0.5684 - learning_rate: 1.0000e-05\n",
      "Epoch 60/150\n",
      "\u001B[1m1137/1137\u001B[0m \u001B[32m━━━━━━━━━━━━━━━━━━━━\u001B[0m\u001B[37m\u001B[0m \u001B[1m228s\u001B[0m 200ms/step - accuracy: 0.9385 - loss: 0.4319 - val_accuracy: 0.9008 - val_loss: 0.5686 - learning_rate: 1.0000e-05\n",
      "Epoch 61/150\n",
      "\u001B[1m1137/1137\u001B[0m \u001B[32m━━━━━━━━━━━━━━━━━━━━\u001B[0m\u001B[37m\u001B[0m \u001B[1m236s\u001B[0m 208ms/step - accuracy: 0.9415 - loss: 0.4235 - val_accuracy: 0.9014 - val_loss: 0.5699 - learning_rate: 1.0000e-05\n",
      "Epoch 62/150\n",
      "\u001B[1m1137/1137\u001B[0m \u001B[32m━━━━━━━━━━━━━━━━━━━━\u001B[0m\u001B[37m\u001B[0m \u001B[1m232s\u001B[0m 204ms/step - accuracy: 0.9407 - loss: 0.4241 - val_accuracy: 0.9004 - val_loss: 0.5769 - learning_rate: 1.0000e-05\n",
      "Epoch 63/150\n",
      "\u001B[1m1137/1137\u001B[0m \u001B[32m━━━━━━━━━━━━━━━━━━━━\u001B[0m\u001B[37m\u001B[0m \u001B[1m229s\u001B[0m 201ms/step - accuracy: 0.9407 - loss: 0.4241 - val_accuracy: 0.8994 - val_loss: 0.5715 - learning_rate: 1.0000e-05\n",
      "Epoch 64/150\n",
      "\u001B[1m1137/1137\u001B[0m \u001B[32m━━━━━━━━━━━━━━━━━━━━\u001B[0m\u001B[37m\u001B[0m \u001B[1m234s\u001B[0m 206ms/step - accuracy: 0.9398 - loss: 0.4201 - val_accuracy: 0.8997 - val_loss: 0.5658 - learning_rate: 1.0000e-05\n",
      "Epoch 65/150\n",
      "\u001B[1m1137/1137\u001B[0m \u001B[32m━━━━━━━━━━━━━━━━━━━━\u001B[0m\u001B[37m\u001B[0m \u001B[1m272s\u001B[0m 240ms/step - accuracy: 0.9424 - loss: 0.4130 - val_accuracy: 0.8995 - val_loss: 0.5640 - learning_rate: 1.0000e-05\n",
      "Epoch 66/150\n",
      "\u001B[1m1137/1137\u001B[0m \u001B[32m━━━━━━━━━━━━━━━━━━━━\u001B[0m\u001B[37m\u001B[0m \u001B[1m253s\u001B[0m 223ms/step - accuracy: 0.9435 - loss: 0.4160 - val_accuracy: 0.9008 - val_loss: 0.5672 - learning_rate: 1.0000e-05\n",
      "Epoch 67/150\n",
      "\u001B[1m1137/1137\u001B[0m \u001B[32m━━━━━━━━━━━━━━━━━━━━\u001B[0m\u001B[37m\u001B[0m \u001B[1m256s\u001B[0m 225ms/step - accuracy: 0.9418 - loss: 0.4136 - val_accuracy: 0.8980 - val_loss: 0.5925 - learning_rate: 1.0000e-05\n",
      "Epoch 68/150\n",
      "\u001B[1m1137/1137\u001B[0m \u001B[32m━━━━━━━━━━━━━━━━━━━━\u001B[0m\u001B[37m\u001B[0m \u001B[1m266s\u001B[0m 234ms/step - accuracy: 0.9435 - loss: 0.4106 - val_accuracy: 0.8998 - val_loss: 0.5841 - learning_rate: 1.0000e-05\n",
      "Epoch 69/150\n",
      "\u001B[1m1137/1137\u001B[0m \u001B[32m━━━━━━━━━━━━━━━━━━━━\u001B[0m\u001B[37m\u001B[0m \u001B[1m263s\u001B[0m 232ms/step - accuracy: 0.9441 - loss: 0.4064 - val_accuracy: 0.8977 - val_loss: 0.5677 - learning_rate: 1.0000e-05\n",
      "Epoch 70/150\n",
      "\u001B[1m1137/1137\u001B[0m \u001B[32m━━━━━━━━━━━━━━━━━━━━\u001B[0m\u001B[37m\u001B[0m \u001B[1m265s\u001B[0m 233ms/step - accuracy: 0.9411 - loss: 0.4163 - val_accuracy: 0.9010 - val_loss: 0.5727 - learning_rate: 1.0000e-05\n",
      "Epoch 71/150\n",
      "\u001B[1m1137/1137\u001B[0m \u001B[32m━━━━━━━━━━━━━━━━━━━━\u001B[0m\u001B[37m\u001B[0m \u001B[1m264s\u001B[0m 232ms/step - accuracy: 0.9461 - loss: 0.4024 - val_accuracy: 0.8993 - val_loss: 0.5654 - learning_rate: 1.0000e-05\n",
      "Epoch 72/150\n",
      "\u001B[1m1137/1137\u001B[0m \u001B[32m━━━━━━━━━━━━━━━━━━━━\u001B[0m\u001B[37m\u001B[0m \u001B[1m267s\u001B[0m 235ms/step - accuracy: 0.9458 - loss: 0.4071 - val_accuracy: 0.8979 - val_loss: 0.5672 - learning_rate: 1.0000e-05\n",
      "Epoch 73/150\n",
      "\u001B[1m1137/1137\u001B[0m \u001B[32m━━━━━━━━━━━━━━━━━━━━\u001B[0m\u001B[37m\u001B[0m \u001B[1m235s\u001B[0m 207ms/step - accuracy: 0.9457 - loss: 0.4032 - val_accuracy: 0.8999 - val_loss: 0.5618 - learning_rate: 1.0000e-05\n",
      "Epoch 74/150\n",
      "\u001B[1m1137/1137\u001B[0m \u001B[32m━━━━━━━━━━━━━━━━━━━━\u001B[0m\u001B[37m\u001B[0m \u001B[1m243s\u001B[0m 214ms/step - accuracy: 0.9429 - loss: 0.4051 - val_accuracy: 0.8994 - val_loss: 0.5874 - learning_rate: 1.0000e-05\n",
      "Epoch 75/150\n",
      "\u001B[1m1137/1137\u001B[0m \u001B[32m━━━━━━━━━━━━━━━━━━━━\u001B[0m\u001B[37m\u001B[0m \u001B[1m241s\u001B[0m 212ms/step - accuracy: 0.9462 - loss: 0.4010 - val_accuracy: 0.8999 - val_loss: 0.5648 - learning_rate: 1.0000e-05\n",
      "Epoch 76/150\n",
      "\u001B[1m1137/1137\u001B[0m \u001B[32m━━━━━━━━━━━━━━━━━━━━\u001B[0m\u001B[37m\u001B[0m \u001B[1m244s\u001B[0m 215ms/step - accuracy: 0.9461 - loss: 0.3989 - val_accuracy: 0.8984 - val_loss: 0.5654 - learning_rate: 1.0000e-05\n",
      "Epoch 77/150\n",
      "\u001B[1m1137/1137\u001B[0m \u001B[32m━━━━━━━━━━━━━━━━━━━━\u001B[0m\u001B[37m\u001B[0m \u001B[1m244s\u001B[0m 215ms/step - accuracy: 0.9441 - loss: 0.4016 - val_accuracy: 0.8981 - val_loss: 0.5625 - learning_rate: 1.0000e-05\n",
      "Epoch 78/150\n",
      "\u001B[1m1137/1137\u001B[0m \u001B[32m━━━━━━━━━━━━━━━━━━━━\u001B[0m\u001B[37m\u001B[0m \u001B[1m237s\u001B[0m 208ms/step - accuracy: 0.9429 - loss: 0.4024 - val_accuracy: 0.8984 - val_loss: 0.5939 - learning_rate: 1.0000e-05\n",
      "Epoch 79/150\n",
      "\u001B[1m1137/1137\u001B[0m \u001B[32m━━━━━━━━━━━━━━━━━━━━\u001B[0m\u001B[37m\u001B[0m \u001B[1m256s\u001B[0m 225ms/step - accuracy: 0.9444 - loss: 0.4006 - val_accuracy: 0.9009 - val_loss: 0.5574 - learning_rate: 1.0000e-05\n",
      "Epoch 80/150\n",
      "\u001B[1m1137/1137\u001B[0m \u001B[32m━━━━━━━━━━━━━━━━━━━━\u001B[0m\u001B[37m\u001B[0m \u001B[1m263s\u001B[0m 231ms/step - accuracy: 0.9462 - loss: 0.3984 - val_accuracy: 0.8999 - val_loss: 0.5594 - learning_rate: 1.0000e-05\n",
      "Epoch 81/150\n",
      "\u001B[1m1137/1137\u001B[0m \u001B[32m━━━━━━━━━━━━━━━━━━━━\u001B[0m\u001B[37m\u001B[0m \u001B[1m253s\u001B[0m 223ms/step - accuracy: 0.9464 - loss: 0.3907 - val_accuracy: 0.8954 - val_loss: 0.6123 - learning_rate: 1.0000e-05\n",
      "Epoch 82/150\n",
      "\u001B[1m1137/1137\u001B[0m \u001B[32m━━━━━━━━━━━━━━━━━━━━\u001B[0m\u001B[37m\u001B[0m \u001B[1m290s\u001B[0m 255ms/step - accuracy: 0.9461 - loss: 0.3989 - val_accuracy: 0.9011 - val_loss: 0.5581 - learning_rate: 1.0000e-05\n",
      "Epoch 83/150\n",
      "\u001B[1m1137/1137\u001B[0m \u001B[32m━━━━━━━━━━━━━━━━━━━━\u001B[0m\u001B[37m\u001B[0m \u001B[1m254s\u001B[0m 224ms/step - accuracy: 0.9464 - loss: 0.3904 - val_accuracy: 0.9010 - val_loss: 0.5667 - learning_rate: 1.0000e-05\n",
      "Epoch 84/150\n",
      "\u001B[1m1137/1137\u001B[0m \u001B[32m━━━━━━━━━━━━━━━━━━━━\u001B[0m\u001B[37m\u001B[0m \u001B[1m263s\u001B[0m 231ms/step - accuracy: 0.9452 - loss: 0.3959 - val_accuracy: 0.8994 - val_loss: 0.5607 - learning_rate: 1.0000e-05\n",
      "Epoch 85/150\n",
      "\u001B[1m1137/1137\u001B[0m \u001B[32m━━━━━━━━━━━━━━━━━━━━\u001B[0m\u001B[37m\u001B[0m \u001B[1m277s\u001B[0m 244ms/step - accuracy: 0.9453 - loss: 0.3969 - val_accuracy: 0.9009 - val_loss: 0.5731 - learning_rate: 1.0000e-05\n",
      "Epoch 86/150\n",
      "\u001B[1m1137/1137\u001B[0m \u001B[32m━━━━━━━━━━━━━━━━━━━━\u001B[0m\u001B[37m\u001B[0m \u001B[1m268s\u001B[0m 235ms/step - accuracy: 0.9456 - loss: 0.3911 - val_accuracy: 0.8978 - val_loss: 0.5592 - learning_rate: 1.0000e-05\n",
      "Epoch 87/150\n",
      "\u001B[1m1137/1137\u001B[0m \u001B[32m━━━━━━━━━━━━━━━━━━━━\u001B[0m\u001B[37m\u001B[0m \u001B[1m245s\u001B[0m 216ms/step - accuracy: 0.9487 - loss: 0.3865 - val_accuracy: 0.8989 - val_loss: 0.5614 - learning_rate: 1.0000e-05\n",
      "Epoch 88/150\n",
      "\u001B[1m1137/1137\u001B[0m \u001B[32m━━━━━━━━━━━━━━━━━━━━\u001B[0m\u001B[37m\u001B[0m \u001B[1m247s\u001B[0m 217ms/step - accuracy: 0.9515 - loss: 0.3835 - val_accuracy: 0.8986 - val_loss: 0.5601 - learning_rate: 1.0000e-05\n",
      "Epoch 89/150\n",
      "\u001B[1m1137/1137\u001B[0m \u001B[32m━━━━━━━━━━━━━━━━━━━━\u001B[0m\u001B[37m\u001B[0m \u001B[1m253s\u001B[0m 222ms/step - accuracy: 0.9489 - loss: 0.3824 - val_accuracy: 0.8912 - val_loss: 0.6317 - learning_rate: 1.0000e-05\n"
     ]
    }
   ],
   "execution_count": 14
  },
  {
   "cell_type": "code",
   "source": [
    "loss, accuracy = model.evaluate(X_test, y_test)\n",
    "print(f'Accuracy: {accuracy}')"
   ],
   "metadata": {
    "colab": {
     "base_uri": "https://localhost:8080/"
    },
    "id": "pvoFrXY30QR7",
    "outputId": "9d0e5649-56cd-4041-8641-4f5bb243a931",
    "ExecuteTime": {
     "end_time": "2024-12-16T05:32:02.121951Z",
     "start_time": "2024-12-16T05:31:49.058629Z"
    }
   },
   "outputs": [
    {
     "name": "stdout",
     "output_type": "stream",
     "text": [
      "\u001B[1m285/285\u001B[0m \u001B[32m━━━━━━━━━━━━━━━━━━━━\u001B[0m\u001B[37m\u001B[0m \u001B[1m12s\u001B[0m 43ms/step - accuracy: 0.9016 - loss: 0.5556\n",
      "Accuracy: 0.9008691906929016\n"
     ]
    }
   ],
   "execution_count": 15
  },
  {
   "cell_type": "code",
   "source": [
    "import matplotlib.pyplot as plt\n",
    "\n",
    "# Plot training & validation accuracy values\n",
    "plt.figure(figsize=(12, 4))\n",
    "plt.subplot(1, 2, 1)\n",
    "plt.plot(history.history['accuracy'], label='Train Accuracy')\n",
    "plt.plot(history.history['val_accuracy'], label='Validation Accuracy')\n",
    "plt.title('Model Accuracy')\n",
    "plt.ylabel('Accuracy')\n",
    "plt.xlabel('Epoch')\n",
    "plt.legend(loc='upper left')\n",
    "\n",
    "# Plot training & validation loss values\n",
    "plt.subplot(1, 2, 2)\n",
    "plt.plot(history.history['loss'], label='Train Loss')\n",
    "plt.plot(history.history['val_loss'], label='Validation Loss')\n",
    "plt.title('Model Loss')\n",
    "plt.ylabel('Loss')\n",
    "plt.xlabel('Epoch')\n",
    "plt.legend(loc='upper left')\n",
    "\n",
    "plt.show()"
   ],
   "metadata": {
    "colab": {
     "base_uri": "https://localhost:8080/",
     "height": 410
    },
    "id": "p74c9hHG0TXd",
    "outputId": "024b28fb-e4de-4a66-89b8-a5e61ba71bbb",
    "ExecuteTime": {
     "end_time": "2024-12-16T05:32:02.705372Z",
     "start_time": "2024-12-16T05:32:02.129958Z"
    }
   },
   "outputs": [
    {
     "data": {
      "text/plain": [
       "<Figure size 1200x400 with 2 Axes>"
      ],
      "image/png": "[encoded data removed]"
     },
     "metadata": {},
     "output_type": "display_data"
    }
   ],
   "execution_count": 16
  },
  {
   "cell_type": "code",
   "source": [
    "# Google Colab only\n",
    "# from google.colab import files\n",
    "\n",
    "# files.download('crohme_model_20240920.keras')"
   ],
   "metadata": {
    "id": "SY5BJ9Z--7G3",
    "ExecuteTime": {
     "end_time": "2024-12-16T05:32:02.712016Z",
     "start_time": "2024-12-16T05:32:02.707092Z"
    }
   },
   "outputs": [],
   "execution_count": 17
  },
  {
   "cell_type": "code",
   "source": [],
   "metadata": {
    "id": "dL8F_-1U-7sN",
    "ExecuteTime": {
     "end_time": "2024-12-16T05:32:02.718742Z",
     "start_time": "2024-12-16T05:32:02.714154Z"
    }
   },
   "outputs": [],
   "execution_count": 17
  },
  {
   "metadata": {
    "id": "KpZAD3dthbgi"
   },
   "cell_type": "markdown",
   "source": [
    "# Image processing part\n",
    "Move this to GUI part later."
   ]
  },
  {
   "cell_type": "code",
   "source": [
    "import cv2\n",
    "\n",
    "# Assuming 'image' is the variable holding your image data\n",
    "# Check if the image is already in grayscale\n",
    "if len(image.shape) == 3 and image.shape[2] == 3:\n",
    "    gray = cv2.cvtColor(image, cv2.COLOR_BGR2GRAY)\n",
    "else:\n",
    "    gray = image\n",
    "\n",
    "# Convert the grayscale image to 8-bit single-channel\n",
    "gray = gray.astype('uint8')\n",
    "\n",
    "# Apply a binary threshold to the grayscale image\n",
    "_, thresh = cv2.threshold(gray, 127, 255, cv2.THRESH_BINARY_INV)\n",
    "\n",
    "# Find contours in the thresholded image\n",
    "contours, _ = cv2.findContours(thresh, cv2.RETR_EXTERNAL, cv2.CHAIN_APPROX_SIMPLE)"
   ],
   "metadata": {
    "id": "zTtoUn7sBA3h",
    "ExecuteTime": {
     "end_time": "2024-12-16T05:32:02.753030Z",
     "start_time": "2024-12-16T05:32:02.721829Z"
    }
   },
   "outputs": [],
   "execution_count": 18
  },
  {
   "cell_type": "code",
   "source": [
    "def sort_contours(contours):\n",
    "    # Sort contours based on the x-coordinate to arrange symbols in the correct order\n",
    "    contours = sorted(contours, key=lambda x: cv2.boundingRect(x)[0])\n",
    "    return contours\n",
    "\n",
    "sorted_contours = sort_contours(contours)"
   ],
   "metadata": {
    "id": "RtJwZAiKRTZd",
    "ExecuteTime": {
     "end_time": "2024-12-16T05:32:02.775558Z",
     "start_time": "2024-12-16T05:32:02.756959Z"
    }
   },
   "outputs": [],
   "execution_count": 19
  },
  {
   "metadata": {
    "id": "27tmfwAphbgm"
   },
   "cell_type": "code",
   "source": [
    "import cv2\n",
    "\n",
    "def preprocess_image(image_path):\n",
    "    # Load the image in grayscale mode\n",
    "    image = cv2.imread(image_path, cv2.IMREAD_GRAYSCALE)\n",
    "\n",
    "    # Check if the image was loaded correctly\n",
    "    if image is None:\n",
    "        raise ValueError(f\"Error loading image: {image_path}\")\n",
    "\n",
    "    # Resize the image to a fixed size (e.g., 64x64)\n",
    "    image_resized = cv2.resize(image, (64, 64))\n",
    "\n",
    "    # Normalize the image to [0, 1]\n",
    "    image_normalized = image_resized.astype('float32') / 255.0\n",
    "\n",
    "    return image_normalized"
   ],
   "outputs": [],
   "execution_count": 20
  },
  {
   "metadata": {
    "id": "xVl0GFemhbgn",
    "ExecuteTime": {
     "end_time": "2024-12-16T05:32:02.921541Z",
     "start_time": "2024-12-16T05:32:02.810680Z"
    }
   },
   "cell_type": "code",
   "source": [
    "def segment_characters(image):\n",
    "    # Convert the image to 8-bit single-channel\n",
    "    image_uint8 = (image * 255).astype('uint8')\n",
    "    #if len(image.shape) == 3 and image.shape[2] == 3:\n",
    "    #    gray = cv2.cvtColor(image, cv2.COLOR_BGR2GRAY)\n",
    "    #else:\n",
    "    #    gray = image\n",
    "\n",
    "    # Apply a binary threshold to the image\n",
    "    _, thresh = cv2.threshold(image_uint8, 127, 255, cv2.THRESH_BINARY_INV)\n",
    "\n",
    "    # Find contours in the thresholded image\n",
    "    contours, _ = cv2.findContours(thresh, cv2.RETR_EXTERNAL, cv2.CHAIN_APPROX_SIMPLE)\n",
    "\n",
    "    # Sort the contours from left to right\n",
    "    contours = sorted(contours, key=lambda x: cv2.boundingRect(x)[0])\n",
    "\n",
    "    characters = []\n",
    "\n",
    "    # Iterate over the contours\n",
    "    for contour in contours:\n",
    "        # Get the bounding box of the contour\n",
    "        x, y, w, h = cv2.boundingRect(contour)\n",
    "\n",
    "        # Extract the character from the original image\n",
    "        character = image[y:y+h, x:x+w]\n",
    "\n",
    "        # Resize the character to 28x28\n",
    "        character_resized = cv2.resize(character, (28, 28)) # do we really need this?\n",
    "\n",
    "        # Append the character to the list\n",
    "        characters.append(character_resized)\n",
    "\n",
    "    return characters"
   ],
   "outputs": [],
   "execution_count": 21
  },
  {
   "metadata": {
    "colab": {
     "base_uri": "https://localhost:8080/"
    },
    "id": "w4QBC6p3hbgn",
    "outputId": "b6b2799a-139e-404c-acf5-53f5a434c374",
    "ExecuteTime": {
     "end_time": "2024-12-16T05:32:02.945170Z",
     "start_time": "2024-12-16T05:32:02.929824Z"
    }
   },
   "cell_type": "code",
   "source": [
    "def label_to_symbol(label):\n",
    "    # Define a mapping from label to symbol\n",
    "    symbols = le.classes_\n",
    "\n",
    "    return symbols[label]\n",
    "\n",
    "print(le.classes_)"
   ],
   "outputs": [
    {
     "name": "stdout",
     "output_type": "stream",
     "text": [
      "['+DIR' '.ipynb_checkpoints' '0DIR' '2DIR' '3DIR' '4DIR' '5DIR' '6DIR'\n",
      " '7DIR' '8DIR' '9DIR' 'BDIR' 'D2_DeltaDIR' 'D2_alphaDIR' 'D2_betaDIR'\n",
      " 'D2_forallDIR' 'D2_gammaDIR' 'D2_geqDIR' 'D2_gtDIR' 'D2_inDIR'\n",
      " 'D2_intDIR' 'D2_leqDIR' 'D2_limDIR' 'D2_logDIR' 'D2_ltDIR' 'D2_muDIR'\n",
      " 'D2_neqDIR' 'D2_phiDIR' 'D2_piDIR' 'D2_pmDIR' 'D2_sigmaDIR' 'D2_sqrtDIR'\n",
      " 'D2_sumDIR' 'D2_thetaDIR' 'EDIR' 'MATH_' 'RDIR' 'SHORT_MATH_'\n",
      " 'SLIM_MATH_' 'SQUARE_MATH_' 'SYN_DeltaDIR' 'SYN_alphaDIR' 'SYN_betaDIR'\n",
      " 'SYN_cosDIR' 'SYN_forallDIR' 'SYN_gammaDIR' 'SYN_gtDIR' 'SYN_inDIR'\n",
      " 'SYN_inftyDIR' 'SYN_intDIR' 'SYN_leqDIR' 'SYN_limDIR' 'SYN_logDIR'\n",
      " 'SYN_ltDIR' 'SYN_muDIR' 'SYN_neqDIR' 'SYN_phiDIR' 'SYN_piDIR' 'SYN_pmDIR'\n",
      " 'SYN_sigmaDIR' 'SYN_sinDIR' 'SYN_sqrtDIR' 'SYN_sumDIR' 'SYN_tanDIR'\n",
      " 'SYN_thetaDIR' 'SYN_timesDIR' 'TALL_MATH_' 'aDIR' 'bracketDIR' 'dDIR'\n",
      " 'fDIR' 'gDIR' 'hDIR' 'iDIR' 'kDIR' 'mDIR' 'nDIR' 'oDIR' 'pDIR' 'qDIR'\n",
      " 'sDIR' 'tDIR' 'uDIR' 'vDIR' 'wDIR' 'xDIR' 'yDIR' 'zDIR']\n"
     ]
    }
   ],
   "execution_count": 22
  },
  {
   "cell_type": "code",
   "source": [
    "def recognize_equation(image_path):\n",
    "    preprocessed_image = preprocess_image(image_path)\n",
    "    characters = segment_characters(preprocessed_image)\n",
    "\n",
    "    equation = ''\n",
    "\n",
    "    # For each character, resize it to 64x64 and pass it through the model\n",
    "    for character in characters:\n",
    "        character_resized = cv2.resize(character, (64, 64))\n",
    "        character_resized = character_resized.astype('float32') / 255\n",
    "        character_resized = character_resized.reshape(1, 64, 64, 1)\n",
    "\n",
    "        # Predict the character\n",
    "        prediction = model.predict(character_resized)\n",
    "        predicted_label = np.argmax(prediction)\n",
    "\n",
    "        # Debug: Print the predicted label and its corresponding symbol\n",
    "        print(f'Predicted Label: {predicted_label}, Symbol: {label_to_symbol(predicted_label)}')\n",
    "\n",
    "        # Map the label to the actual character (digit or operator)\n",
    "        equation += label_to_symbol(predicted_label)\n",
    "\n",
    "    print(f'Recognized Equation: {equation}')\n"
   ],
   "metadata": {
    "id": "HL_BpV3FRT4K",
    "ExecuteTime": {
     "end_time": "2024-12-16T05:32:02.960009Z",
     "start_time": "2024-12-16T05:32:02.947669Z"
    }
   },
   "outputs": [],
   "execution_count": 23
  },
  {
   "cell_type": "code",
   "source": [
    "# Example usage\n",
    "# recognize_equation(dataset_path + 'scanned_math_equation.png')\n",
    "recognize_equation(dataset_path + '2DIR/SHORT_MATH_2_0_1162.png')\n"
   ],
   "metadata": {
    "id": "7l-UKfnaRWqO",
    "colab": {
     "base_uri": "https://localhost:8080/"
    },
    "outputId": "4e6f3dda-813d-4743-c798-3806697013f4",
    "ExecuteTime": {
     "end_time": "2024-12-16T05:32:03.364279Z",
     "start_time": "2024-12-16T05:32:02.962329Z"
    }
   },
   "outputs": [
    {
     "name": "stdout",
     "output_type": "stream",
     "text": [
      "\u001B[1m1/1\u001B[0m \u001B[32m━━━━━━━━━━━━━━━━━━━━\u001B[0m\u001B[37m\u001B[0m \u001B[1m0s\u001B[0m 286ms/step\n",
      "Predicted Label: 37, Symbol: SHORT_MATH_\n",
      "Recognized Equation: SHORT_MATH_\n"
     ]
    }
   ],
   "execution_count": 24
  },
  {
   "metadata": {
    "id": "iL-8opP7hbgp"
   },
   "cell_type": "markdown",
   "source": [
    "High accuracy but high loss can indicate overfitting, where the model performs well on the training data but poorly on unseen data. Here are a few steps to address this:  \n",
    "1. Check for Overfitting: Compare training and validation accuracy/loss.\n",
    "2. Regularization: Add dropout layers or L2 regularization.\n",
    "3. Data Augmentation: Increase the diversity of your training data.\n",
    "4. Simplify the Model: Reduce the complexity of the model.\n",
    "\n",
    "\n",
    "Here's an example of how to add dropout and L2 regularization in a Keras model:"
   ]
  },
  {
   "metadata": {
    "id": "FrsTkMLEhbgp",
    "ExecuteTime": {
     "end_time": "2024-12-16T05:32:03.554317Z",
     "start_time": "2024-12-16T05:32:03.369761Z"
    }
   },
   "cell_type": "code",
   "source": [
    "def create_model():\n",
    "    model = Sequential([\n",
    "        # First Conv Layer with BatchNorm and MaxPooling\n",
    "        Conv2D(32, kernel_size=(3, 3), activation='relu', input_shape=(64, 64, 1)),\n",
    "        BatchNormalization(),\n",
    "        MaxPooling2D(pool_size=(2, 2)),\n",
    "\n",
    "        # Second Conv Layer with BatchNorm and MaxPooling\n",
    "        Conv2D(64, kernel_size=(3, 3), activation='relu'),\n",
    "        BatchNormalization(),\n",
    "        MaxPooling2D(pool_size=(2, 2)),\n",
    "\n",
    "        # Third Conv Layer for deeper feature extraction\n",
    "        Conv2D(128, kernel_size=(3, 3), activation='relu'),\n",
    "        BatchNormalization(),\n",
    "        MaxPooling2D(pool_size=(2, 2)),\n",
    "\n",
    "        # Fourth? Conv Layer for deeper feature extraction\n",
    "        Conv2D(256, kernel_size=(3, 3), activation='relu'),\n",
    "        BatchNormalization(),\n",
    "        MaxPooling2D(pool_size=(2, 2)),\n",
    "\n",
    "        # Flattening the output for the Dense Layers\n",
    "        Flatten(),\n",
    "\n",
    "        # Fully Connected Layer with Dropout and L2 Regularization\n",
    "        Dense(256, activation='relu', kernel_regularizer=l2(0.01)),\n",
    "        Dropout(0.6),\n",
    "\n",
    "        # Fully Connected Layer with higher neurons and L2 Regularization\n",
    "        Dense(128, activation='relu', kernel_regularizer=l2(0.01)),\n",
    "        Dropout(0.6),\n",
    "\n",
    "        # Output Layer\n",
    "        Dense(num_classes, activation='softmax'),\n",
    "    ])\n",
    "\n",
    "    model.compile(optimizer='adam', loss='categorical_crossentropy', metrics=['accuracy'])\n",
    "    return model\n",
    "\n",
    "model2 = create_model()"
   ],
   "outputs": [],
   "execution_count": 25
  },
  {
   "metadata": {
    "colab": {
     "base_uri": "https://localhost:8080/"
    },
    "id": "E_BqjpDvhbgq",
    "outputId": "7910c42c-0d31-4974-c863-ea1a2b170ed4",
    "ExecuteTime": {
     "end_time": "2024-12-16T12:04:42.007603Z",
     "start_time": "2024-12-16T05:32:03.556916Z"
    }
   },
   "cell_type": "code",
   "source": [
    "# Define the callbacks\n",
    "early_stopping = tf.keras.callbacks.EarlyStopping(monitor='val_loss', patience=20, restore_best_weights=True)\n",
    "model_checkpoint = tf.keras.callbacks.ModelCheckpoint('best_model.keras', save_best_only=True, monitor='val_loss')\n",
    "lr_scheduler = ReduceLROnPlateau(monitor='val_loss', factor=0.1, patience=10)\n",
    "\n",
    "# Train the model\n",
    "history2 = model2.fit(X_train, y_train,\n",
    "                        epochs=150, validation_data=(X_test, y_test),\n",
    "                        callbacks=[early_stopping, model_checkpoint, lr_scheduler]\n",
    "                        )"
   ],
   "outputs": [
    {
     "name": "stdout",
     "output_type": "stream",
     "text": [
      "Epoch 1/150\n"
     ]
    },
    {
     "name": "stderr",
     "output_type": "stream",
     "text": [
      "2024-12-16 16:32:05.677996: W external/local_tsl/tsl/framework/cpu_allocator_impl.cc:83] Allocation of 595623936 exceeds 10% of free system memory.\n"
     ]
    },
    {
     "name": "stdout",
     "output_type": "stream",
     "text": [
      "\u001B[1m1137/1137\u001B[0m \u001B[32m━━━━━━━━━━━━━━━━━━━━\u001B[0m\u001B[37m\u001B[0m \u001B[1m218s\u001B[0m 185ms/step - accuracy: 0.3621 - loss: 6.0110 - val_accuracy: 0.5945 - val_loss: 2.0928 - learning_rate: 0.0010\n",
      "Epoch 2/150\n",
      "\u001B[1m1137/1137\u001B[0m \u001B[32m━━━━━━━━━━━━━━━━━━━━\u001B[0m\u001B[37m\u001B[0m \u001B[1m202s\u001B[0m 178ms/step - accuracy: 0.6106 - loss: 2.0539 - val_accuracy: 0.2307 - val_loss: 4.2450 - learning_rate: 0.0010\n",
      "Epoch 3/150\n",
      "\u001B[1m1137/1137\u001B[0m \u001B[32m━━━━━━━━━━━━━━━━━━━━\u001B[0m\u001B[37m\u001B[0m \u001B[1m201s\u001B[0m 177ms/step - accuracy: 0.6850 - loss: 1.7893 - val_accuracy: 0.2800 - val_loss: 3.9998 - learning_rate: 0.0010\n",
      "Epoch 4/150\n",
      "\u001B[1m1137/1137\u001B[0m \u001B[32m━━━━━━━━━━━━━━━━━━━━\u001B[0m\u001B[37m\u001B[0m \u001B[1m206s\u001B[0m 181ms/step - accuracy: 0.7246 - loss: 1.6231 - val_accuracy: 0.2174 - val_loss: 6.0666 - learning_rate: 0.0010\n",
      "Epoch 5/150\n",
      "\u001B[1m1137/1137\u001B[0m \u001B[32m━━━━━━━━━━━━━━━━━━━━\u001B[0m\u001B[37m\u001B[0m \u001B[1m235s\u001B[0m 206ms/step - accuracy: 0.7360 - loss: 1.6119 - val_accuracy: 0.2700 - val_loss: 3.6046 - learning_rate: 0.0010\n",
      "Epoch 6/150\n",
      "\u001B[1m1137/1137\u001B[0m \u001B[32m━━━━━━━━━━━━━━━━━━━━\u001B[0m\u001B[37m\u001B[0m \u001B[1m220s\u001B[0m 193ms/step - accuracy: 0.7546 - loss: 1.4782 - val_accuracy: 0.5620 - val_loss: 2.2180 - learning_rate: 0.0010\n",
      "Epoch 7/150\n",
      "\u001B[1m1137/1137\u001B[0m \u001B[32m━━━━━━━━━━━━━━━━━━━━\u001B[0m\u001B[37m\u001B[0m \u001B[1m226s\u001B[0m 199ms/step - accuracy: 0.7652 - loss: 1.4553 - val_accuracy: 0.4138 - val_loss: 3.1889 - learning_rate: 0.0010\n",
      "Epoch 8/150\n",
      "\u001B[1m1137/1137\u001B[0m \u001B[32m━━━━━━━━━━━━━━━━━━━━\u001B[0m\u001B[37m\u001B[0m \u001B[1m264s\u001B[0m 232ms/step - accuracy: 0.7779 - loss: 1.4022 - val_accuracy: 0.6568 - val_loss: 1.9095 - learning_rate: 0.0010\n",
      "Epoch 9/150\n",
      "\u001B[1m1137/1137\u001B[0m \u001B[32m━━━━━━━━━━━━━━━━━━━━\u001B[0m\u001B[37m\u001B[0m \u001B[1m217s\u001B[0m 191ms/step - accuracy: 0.7859 - loss: 1.3455 - val_accuracy: 0.0522 - val_loss: 7.2360 - learning_rate: 0.0010\n",
      "Epoch 10/150\n",
      "\u001B[1m1137/1137\u001B[0m \u001B[32m━━━━━━━━━━━━━━━━━━━━\u001B[0m\u001B[37m\u001B[0m \u001B[1m227s\u001B[0m 200ms/step - accuracy: 0.7906 - loss: 1.3526 - val_accuracy: 0.2548 - val_loss: 7.2889 - learning_rate: 0.0010\n",
      "Epoch 11/150\n",
      "\u001B[1m1137/1137\u001B[0m \u001B[32m━━━━━━━━━━━━━━━━━━━━\u001B[0m\u001B[37m\u001B[0m \u001B[1m232s\u001B[0m 204ms/step - accuracy: 0.7937 - loss: 1.3362 - val_accuracy: 0.3531 - val_loss: 4.7784 - learning_rate: 0.0010\n",
      "Epoch 12/150\n",
      "\u001B[1m1137/1137\u001B[0m \u001B[32m━━━━━━━━━━━━━━━━━━━━\u001B[0m\u001B[37m\u001B[0m \u001B[1m243s\u001B[0m 214ms/step - accuracy: 0.7991 - loss: 1.3227 - val_accuracy: 0.8398 - val_loss: 1.1916 - learning_rate: 0.0010\n",
      "Epoch 13/150\n",
      "\u001B[1m1137/1137\u001B[0m \u001B[32m━━━━━━━━━━━━━━━━━━━━\u001B[0m\u001B[37m\u001B[0m \u001B[1m233s\u001B[0m 205ms/step - accuracy: 0.8080 - loss: 1.2833 - val_accuracy: 0.4216 - val_loss: 3.1698 - learning_rate: 0.0010\n",
      "Epoch 14/150\n",
      "\u001B[1m1137/1137\u001B[0m \u001B[32m━━━━━━━━━━━━━━━━━━━━\u001B[0m\u001B[37m\u001B[0m \u001B[1m201s\u001B[0m 176ms/step - accuracy: 0.8091 - loss: 1.2826 - val_accuracy: 0.6333 - val_loss: 2.0063 - learning_rate: 0.0010\n",
      "Epoch 15/150\n",
      "\u001B[1m1137/1137\u001B[0m \u001B[32m━━━━━━━━━━━━━━━━━━━━\u001B[0m\u001B[37m\u001B[0m \u001B[1m197s\u001B[0m 173ms/step - accuracy: 0.7998 - loss: 1.3615 - val_accuracy: 0.8118 - val_loss: 1.2939 - learning_rate: 0.0010\n",
      "Epoch 16/150\n",
      "\u001B[1m1137/1137\u001B[0m \u001B[32m━━━━━━━━━━━━━━━━━━━━\u001B[0m\u001B[37m\u001B[0m \u001B[1m197s\u001B[0m 173ms/step - accuracy: 0.8136 - loss: 1.2641 - val_accuracy: 0.2572 - val_loss: 4.4941 - learning_rate: 0.0010\n",
      "Epoch 17/150\n",
      "\u001B[1m1137/1137\u001B[0m \u001B[32m━━━━━━━━━━━━━━━━━━━━\u001B[0m\u001B[37m\u001B[0m \u001B[1m196s\u001B[0m 172ms/step - accuracy: 0.8085 - loss: 1.3116 - val_accuracy: 0.4468 - val_loss: 7.8607 - learning_rate: 0.0010\n",
      "Epoch 18/150\n",
      "\u001B[1m1137/1137\u001B[0m \u001B[32m━━━━━━━━━━━━━━━━━━━━\u001B[0m\u001B[37m\u001B[0m \u001B[1m192s\u001B[0m 169ms/step - accuracy: 0.8173 - loss: 1.2796 - val_accuracy: 0.6466 - val_loss: 2.3762 - learning_rate: 0.0010\n",
      "Epoch 19/150\n",
      "\u001B[1m1137/1137\u001B[0m \u001B[32m━━━━━━━━━━━━━━━━━━━━\u001B[0m\u001B[37m\u001B[0m \u001B[1m196s\u001B[0m 172ms/step - accuracy: 0.8261 - loss: 1.2264 - val_accuracy: 0.7786 - val_loss: 1.4075 - learning_rate: 0.0010\n",
      "Epoch 20/150\n",
      "\u001B[1m1137/1137\u001B[0m \u001B[32m━━━━━━━━━━━━━━━━━━━━\u001B[0m\u001B[37m\u001B[0m \u001B[1m197s\u001B[0m 173ms/step - accuracy: 0.8276 - loss: 1.2292 - val_accuracy: 0.5678 - val_loss: 2.9491 - learning_rate: 0.0010\n",
      "Epoch 21/150\n",
      "\u001B[1m1137/1137\u001B[0m \u001B[32m━━━━━━━━━━━━━━━━━━━━\u001B[0m\u001B[37m\u001B[0m \u001B[1m199s\u001B[0m 175ms/step - accuracy: 0.8313 - loss: 1.1921 - val_accuracy: 0.5535 - val_loss: 2.9517 - learning_rate: 0.0010\n",
      "Epoch 22/150\n",
      "\u001B[1m1137/1137\u001B[0m \u001B[32m━━━━━━━━━━━━━━━━━━━━\u001B[0m\u001B[37m\u001B[0m \u001B[1m194s\u001B[0m 171ms/step - accuracy: 0.8272 - loss: 1.2000 - val_accuracy: 0.1646 - val_loss: 6.8579 - learning_rate: 0.0010\n",
      "Epoch 23/150\n",
      "\u001B[1m1137/1137\u001B[0m \u001B[32m━━━━━━━━━━━━━━━━━━━━\u001B[0m\u001B[37m\u001B[0m \u001B[1m194s\u001B[0m 171ms/step - accuracy: 0.8527 - loss: 1.0812 - val_accuracy: 0.8755 - val_loss: 0.9348 - learning_rate: 1.0000e-04\n",
      "Epoch 24/150\n",
      "\u001B[1m1137/1137\u001B[0m \u001B[32m━━━━━━━━━━━━━━━━━━━━\u001B[0m\u001B[37m\u001B[0m \u001B[1m240s\u001B[0m 211ms/step - accuracy: 0.8861 - loss: 0.8276 - val_accuracy: 0.8968 - val_loss: 0.7539 - learning_rate: 1.0000e-04\n",
      "Epoch 25/150\n",
      "\u001B[1m1137/1137\u001B[0m \u001B[32m━━━━━━━━━━━━━━━━━━━━\u001B[0m\u001B[37m\u001B[0m \u001B[1m329s\u001B[0m 289ms/step - accuracy: 0.8927 - loss: 0.7107 - val_accuracy: 0.8992 - val_loss: 0.6828 - learning_rate: 1.0000e-04\n",
      "Epoch 26/150\n",
      "\u001B[1m1137/1137\u001B[0m \u001B[32m━━━━━━━━━━━━━━━━━━━━\u001B[0m\u001B[37m\u001B[0m \u001B[1m226s\u001B[0m 199ms/step - accuracy: 0.8996 - loss: 0.6342 - val_accuracy: 0.8986 - val_loss: 0.6378 - learning_rate: 1.0000e-04\n",
      "Epoch 27/150\n",
      "\u001B[1m1137/1137\u001B[0m \u001B[32m━━━━━━━━━━━━━━━━━━━━\u001B[0m\u001B[37m\u001B[0m \u001B[1m225s\u001B[0m 198ms/step - accuracy: 0.9049 - loss: 0.5841 - val_accuracy: 0.8987 - val_loss: 0.6113 - learning_rate: 1.0000e-04\n",
      "Epoch 28/150\n",
      "\u001B[1m1137/1137\u001B[0m \u001B[32m━━━━━━━━━━━━━━━━━━━━\u001B[0m\u001B[37m\u001B[0m \u001B[1m242s\u001B[0m 213ms/step - accuracy: 0.9128 - loss: 0.5361 - val_accuracy: 0.8854 - val_loss: 0.6627 - learning_rate: 1.0000e-04\n",
      "Epoch 29/150\n",
      "\u001B[1m1137/1137\u001B[0m \u001B[32m━━━━━━━━━━━━━━━━━━━━\u001B[0m\u001B[37m\u001B[0m \u001B[1m227s\u001B[0m 199ms/step - accuracy: 0.9106 - loss: 0.5284 - val_accuracy: 0.8969 - val_loss: 0.5944 - learning_rate: 1.0000e-04\n",
      "Epoch 30/150\n",
      "\u001B[1m1137/1137\u001B[0m \u001B[32m━━━━━━━━━━━━━━━━━━━━\u001B[0m\u001B[37m\u001B[0m \u001B[1m215s\u001B[0m 189ms/step - accuracy: 0.9145 - loss: 0.5046 - val_accuracy: 0.8933 - val_loss: 0.5944 - learning_rate: 1.0000e-04\n",
      "Epoch 31/150\n",
      "\u001B[1m1137/1137\u001B[0m \u001B[32m━━━━━━━━━━━━━━━━━━━━\u001B[0m\u001B[37m\u001B[0m \u001B[1m211s\u001B[0m 186ms/step - accuracy: 0.9180 - loss: 0.4873 - val_accuracy: 0.9017 - val_loss: 0.5632 - learning_rate: 1.0000e-04\n",
      "Epoch 32/150\n",
      "\u001B[1m1137/1137\u001B[0m \u001B[32m━━━━━━━━━━━━━━━━━━━━\u001B[0m\u001B[37m\u001B[0m \u001B[1m221s\u001B[0m 194ms/step - accuracy: 0.9203 - loss: 0.4750 - val_accuracy: 0.8965 - val_loss: 0.5849 - learning_rate: 1.0000e-04\n",
      "Epoch 33/150\n",
      "\u001B[1m1137/1137\u001B[0m \u001B[32m━━━━━━━━━━━━━━━━━━━━\u001B[0m\u001B[37m\u001B[0m \u001B[1m209s\u001B[0m 184ms/step - accuracy: 0.9192 - loss: 0.4702 - val_accuracy: 0.8855 - val_loss: 0.6244 - learning_rate: 1.0000e-04\n",
      "Epoch 34/150\n",
      "\u001B[1m1137/1137\u001B[0m \u001B[32m━━━━━━━━━━━━━━━━━━━━\u001B[0m\u001B[37m\u001B[0m \u001B[1m182s\u001B[0m 160ms/step - accuracy: 0.9221 - loss: 0.4500 - val_accuracy: 0.8894 - val_loss: 0.6005 - learning_rate: 1.0000e-04\n",
      "Epoch 35/150\n",
      "\u001B[1m1137/1137\u001B[0m \u001B[32m━━━━━━━━━━━━━━━━━━━━\u001B[0m\u001B[37m\u001B[0m \u001B[1m189s\u001B[0m 166ms/step - accuracy: 0.9181 - loss: 0.4475 - val_accuracy: 0.9006 - val_loss: 0.5515 - learning_rate: 1.0000e-04\n",
      "Epoch 36/150\n",
      "\u001B[1m1137/1137\u001B[0m \u001B[32m━━━━━━━━━━━━━━━━━━━━\u001B[0m\u001B[37m\u001B[0m \u001B[1m184s\u001B[0m 162ms/step - accuracy: 0.9247 - loss: 0.4399 - val_accuracy: 0.8981 - val_loss: 0.5713 - learning_rate: 1.0000e-04\n",
      "Epoch 37/150\n",
      "\u001B[1m1137/1137\u001B[0m \u001B[32m━━━━━━━━━━━━━━━━━━━━\u001B[0m\u001B[37m\u001B[0m \u001B[1m188s\u001B[0m 165ms/step - accuracy: 0.9242 - loss: 0.4333 - val_accuracy: 0.8939 - val_loss: 0.6095 - learning_rate: 1.0000e-04\n",
      "Epoch 38/150\n",
      "\u001B[1m1137/1137\u001B[0m \u001B[32m━━━━━━━━━━━━━━━━━━━━\u001B[0m\u001B[37m\u001B[0m \u001B[1m184s\u001B[0m 162ms/step - accuracy: 0.9286 - loss: 0.4228 - val_accuracy: 0.8907 - val_loss: 0.5897 - learning_rate: 1.0000e-04\n",
      "Epoch 39/150\n",
      "\u001B[1m1137/1137\u001B[0m \u001B[32m━━━━━━━━━━━━━━━━━━━━\u001B[0m\u001B[37m\u001B[0m \u001B[1m182s\u001B[0m 160ms/step - accuracy: 0.9303 - loss: 0.4144 - val_accuracy: 0.8933 - val_loss: 0.5856 - learning_rate: 1.0000e-04\n",
      "Epoch 40/150\n",
      "\u001B[1m1137/1137\u001B[0m \u001B[32m━━━━━━━━━━━━━━━━━━━━\u001B[0m\u001B[37m\u001B[0m \u001B[1m181s\u001B[0m 160ms/step - accuracy: 0.9297 - loss: 0.4086 - val_accuracy: 0.8953 - val_loss: 0.5724 - learning_rate: 1.0000e-04\n",
      "Epoch 41/150\n",
      "\u001B[1m1137/1137\u001B[0m \u001B[32m━━━━━━━━━━━━━━━━━━━━\u001B[0m\u001B[37m\u001B[0m \u001B[1m186s\u001B[0m 163ms/step - accuracy: 0.9329 - loss: 0.4049 - val_accuracy: 0.9014 - val_loss: 0.5462 - learning_rate: 1.0000e-04\n",
      "Epoch 42/150\n",
      "\u001B[1m1137/1137\u001B[0m \u001B[32m━━━━━━━━━━━━━━━━━━━━\u001B[0m\u001B[37m\u001B[0m \u001B[1m189s\u001B[0m 166ms/step - accuracy: 0.9322 - loss: 0.3986 - val_accuracy: 0.8928 - val_loss: 0.5801 - learning_rate: 1.0000e-04\n",
      "Epoch 43/150\n",
      "\u001B[1m1137/1137\u001B[0m \u001B[32m━━━━━━━━━━━━━━━━━━━━\u001B[0m\u001B[37m\u001B[0m \u001B[1m184s\u001B[0m 162ms/step - accuracy: 0.9332 - loss: 0.3989 - val_accuracy: 0.8906 - val_loss: 0.5989 - learning_rate: 1.0000e-04\n",
      "Epoch 44/150\n",
      "\u001B[1m1137/1137\u001B[0m \u001B[32m━━━━━━━━━━━━━━━━━━━━\u001B[0m\u001B[37m\u001B[0m \u001B[1m185s\u001B[0m 163ms/step - accuracy: 0.9327 - loss: 0.3969 - val_accuracy: 0.8990 - val_loss: 0.5683 - learning_rate: 1.0000e-04\n",
      "Epoch 45/150\n",
      "\u001B[1m1137/1137\u001B[0m \u001B[32m━━━━━━━━━━━━━━━━━━━━\u001B[0m\u001B[37m\u001B[0m \u001B[1m185s\u001B[0m 163ms/step - accuracy: 0.9394 - loss: 0.3817 - val_accuracy: 0.8999 - val_loss: 0.5485 - learning_rate: 1.0000e-04\n",
      "Epoch 46/150\n",
      "\u001B[1m1137/1137\u001B[0m \u001B[32m━━━━━━━━━━━━━━━━━━━━\u001B[0m\u001B[37m\u001B[0m \u001B[1m188s\u001B[0m 165ms/step - accuracy: 0.9364 - loss: 0.3819 - val_accuracy: 0.8539 - val_loss: 0.7145 - learning_rate: 1.0000e-04\n",
      "Epoch 47/150\n",
      "\u001B[1m1137/1137\u001B[0m \u001B[32m━━━━━━━━━━━━━━━━━━━━\u001B[0m\u001B[37m\u001B[0m \u001B[1m189s\u001B[0m 166ms/step - accuracy: 0.9372 - loss: 0.3785 - val_accuracy: 0.9009 - val_loss: 0.5471 - learning_rate: 1.0000e-04\n",
      "Epoch 48/150\n",
      "\u001B[1m1137/1137\u001B[0m \u001B[32m━━━━━━━━━━━━━━━━━━━━\u001B[0m\u001B[37m\u001B[0m \u001B[1m184s\u001B[0m 162ms/step - accuracy: 0.9417 - loss: 0.3654 - val_accuracy: 0.9005 - val_loss: 0.5550 - learning_rate: 1.0000e-04\n",
      "Epoch 49/150\n",
      "\u001B[1m1137/1137\u001B[0m \u001B[32m━━━━━━━━━━━━━━━━━━━━\u001B[0m\u001B[37m\u001B[0m \u001B[1m183s\u001B[0m 161ms/step - accuracy: 0.9415 - loss: 0.3606 - val_accuracy: 0.9025 - val_loss: 0.5519 - learning_rate: 1.0000e-04\n",
      "Epoch 50/150\n",
      "\u001B[1m1137/1137\u001B[0m \u001B[32m━━━━━━━━━━━━━━━━━━━━\u001B[0m\u001B[37m\u001B[0m \u001B[1m186s\u001B[0m 164ms/step - accuracy: 0.9405 - loss: 0.3604 - val_accuracy: 0.8785 - val_loss: 0.7329 - learning_rate: 1.0000e-04\n",
      "Epoch 51/150\n",
      "\u001B[1m1137/1137\u001B[0m \u001B[32m━━━━━━━━━━━━━━━━━━━━\u001B[0m\u001B[37m\u001B[0m \u001B[1m190s\u001B[0m 167ms/step - accuracy: 0.9409 - loss: 0.3664 - val_accuracy: 0.8849 - val_loss: 0.6934 - learning_rate: 1.0000e-04\n",
      "Epoch 52/150\n",
      "\u001B[1m1137/1137\u001B[0m \u001B[32m━━━━━━━━━━━━━━━━━━━━\u001B[0m\u001B[37m\u001B[0m \u001B[1m185s\u001B[0m 163ms/step - accuracy: 0.9452 - loss: 0.3497 - val_accuracy: 0.9053 - val_loss: 0.5455 - learning_rate: 1.0000e-05\n",
      "Epoch 53/150\n",
      "\u001B[1m1137/1137\u001B[0m \u001B[32m━━━━━━━━━━━━━━━━━━━━\u001B[0m\u001B[37m\u001B[0m \u001B[1m184s\u001B[0m 161ms/step - accuracy: 0.9476 - loss: 0.3388 - val_accuracy: 0.9039 - val_loss: 0.5423 - learning_rate: 1.0000e-05\n",
      "Epoch 54/150\n",
      "\u001B[1m1137/1137\u001B[0m \u001B[32m━━━━━━━━━━━━━━━━━━━━\u001B[0m\u001B[37m\u001B[0m \u001B[1m184s\u001B[0m 162ms/step - accuracy: 0.9488 - loss: 0.3366 - val_accuracy: 0.9059 - val_loss: 0.5401 - learning_rate: 1.0000e-05\n",
      "Epoch 55/150\n",
      "\u001B[1m1137/1137\u001B[0m \u001B[32m━━━━━━━━━━━━━━━━━━━━\u001B[0m\u001B[37m\u001B[0m \u001B[1m188s\u001B[0m 165ms/step - accuracy: 0.9519 - loss: 0.3244 - val_accuracy: 0.9043 - val_loss: 0.5399 - learning_rate: 1.0000e-05\n",
      "Epoch 56/150\n",
      "\u001B[1m1137/1137\u001B[0m \u001B[32m━━━━━━━━━━━━━━━━━━━━\u001B[0m\u001B[37m\u001B[0m \u001B[1m187s\u001B[0m 165ms/step - accuracy: 0.9476 - loss: 0.3338 - val_accuracy: 0.9066 - val_loss: 0.5391 - learning_rate: 1.0000e-05\n",
      "Epoch 57/150\n",
      "\u001B[1m1137/1137\u001B[0m \u001B[32m━━━━━━━━━━━━━━━━━━━━\u001B[0m\u001B[37m\u001B[0m \u001B[1m185s\u001B[0m 162ms/step - accuracy: 0.9518 - loss: 0.3213 - val_accuracy: 0.9056 - val_loss: 0.5383 - learning_rate: 1.0000e-05\n",
      "Epoch 58/150\n",
      "\u001B[1m1137/1137\u001B[0m \u001B[32m━━━━━━━━━━━━━━━━━━━━\u001B[0m\u001B[37m\u001B[0m \u001B[1m184s\u001B[0m 162ms/step - accuracy: 0.9537 - loss: 0.3158 - val_accuracy: 0.9054 - val_loss: 0.5365 - learning_rate: 1.0000e-05\n",
      "Epoch 59/150\n",
      "\u001B[1m1137/1137\u001B[0m \u001B[32m━━━━━━━━━━━━━━━━━━━━\u001B[0m\u001B[37m\u001B[0m \u001B[1m187s\u001B[0m 164ms/step - accuracy: 0.9524 - loss: 0.3204 - val_accuracy: 0.9052 - val_loss: 0.5344 - learning_rate: 1.0000e-05\n",
      "Epoch 60/150\n",
      "\u001B[1m1137/1137\u001B[0m \u001B[32m━━━━━━━━━━━━━━━━━━━━\u001B[0m\u001B[37m\u001B[0m \u001B[1m190s\u001B[0m 167ms/step - accuracy: 0.9530 - loss: 0.3186 - val_accuracy: 0.9049 - val_loss: 0.5333 - learning_rate: 1.0000e-05\n",
      "Epoch 61/150\n",
      "\u001B[1m1137/1137\u001B[0m \u001B[32m━━━━━━━━━━━━━━━━━━━━\u001B[0m\u001B[37m\u001B[0m \u001B[1m196s\u001B[0m 172ms/step - accuracy: 0.9518 - loss: 0.3119 - val_accuracy: 0.9046 - val_loss: 0.5303 - learning_rate: 1.0000e-05\n",
      "Epoch 62/150\n",
      "\u001B[1m1137/1137\u001B[0m \u001B[32m━━━━━━━━━━━━━━━━━━━━\u001B[0m\u001B[37m\u001B[0m \u001B[1m194s\u001B[0m 171ms/step - accuracy: 0.9534 - loss: 0.3093 - val_accuracy: 0.9044 - val_loss: 0.5298 - learning_rate: 1.0000e-05\n",
      "Epoch 63/150\n",
      "\u001B[1m1137/1137\u001B[0m \u001B[32m━━━━━━━━━━━━━━━━━━━━\u001B[0m\u001B[37m\u001B[0m \u001B[1m182s\u001B[0m 160ms/step - accuracy: 0.9509 - loss: 0.3180 - val_accuracy: 0.9048 - val_loss: 0.5287 - learning_rate: 1.0000e-05\n",
      "Epoch 64/150\n",
      "\u001B[1m1137/1137\u001B[0m \u001B[32m━━━━━━━━━━━━━━━━━━━━\u001B[0m\u001B[37m\u001B[0m \u001B[1m183s\u001B[0m 161ms/step - accuracy: 0.9537 - loss: 0.3047 - val_accuracy: 0.9039 - val_loss: 0.5316 - learning_rate: 1.0000e-05\n",
      "Epoch 65/150\n",
      "\u001B[1m1137/1137\u001B[0m \u001B[32m━━━━━━━━━━━━━━━━━━━━\u001B[0m\u001B[37m\u001B[0m \u001B[1m193s\u001B[0m 169ms/step - accuracy: 0.9522 - loss: 0.3070 - val_accuracy: 0.9039 - val_loss: 0.5309 - learning_rate: 1.0000e-05\n",
      "Epoch 66/150\n",
      "\u001B[1m1137/1137\u001B[0m \u001B[32m━━━━━━━━━━━━━━━━━━━━\u001B[0m\u001B[37m\u001B[0m \u001B[1m186s\u001B[0m 163ms/step - accuracy: 0.9548 - loss: 0.2987 - val_accuracy: 0.9055 - val_loss: 0.5285 - learning_rate: 1.0000e-05\n",
      "Epoch 67/150\n",
      "\u001B[1m1137/1137\u001B[0m \u001B[32m━━━━━━━━━━━━━━━━━━━━\u001B[0m\u001B[37m\u001B[0m \u001B[1m185s\u001B[0m 163ms/step - accuracy: 0.9514 - loss: 0.3098 - val_accuracy: 0.9057 - val_loss: 0.5293 - learning_rate: 1.0000e-05\n",
      "Epoch 68/150\n",
      "\u001B[1m1137/1137\u001B[0m \u001B[32m━━━━━━━━━━━━━━━━━━━━\u001B[0m\u001B[37m\u001B[0m \u001B[1m184s\u001B[0m 162ms/step - accuracy: 0.9545 - loss: 0.3025 - val_accuracy: 0.9051 - val_loss: 0.5254 - learning_rate: 1.0000e-05\n",
      "Epoch 69/150\n",
      "\u001B[1m1137/1137\u001B[0m \u001B[32m━━━━━━━━━━━━━━━━━━━━\u001B[0m\u001B[37m\u001B[0m \u001B[1m187s\u001B[0m 164ms/step - accuracy: 0.9541 - loss: 0.3011 - val_accuracy: 0.9033 - val_loss: 0.5235 - learning_rate: 1.0000e-05\n",
      "Epoch 70/150\n",
      "\u001B[1m1137/1137\u001B[0m \u001B[32m━━━━━━━━━━━━━━━━━━━━\u001B[0m\u001B[37m\u001B[0m \u001B[1m188s\u001B[0m 166ms/step - accuracy: 0.9516 - loss: 0.3070 - val_accuracy: 0.9065 - val_loss: 0.5261 - learning_rate: 1.0000e-05\n",
      "Epoch 71/150\n",
      "\u001B[1m1137/1137\u001B[0m \u001B[32m━━━━━━━━━━━━━━━━━━━━\u001B[0m\u001B[37m\u001B[0m \u001B[1m186s\u001B[0m 164ms/step - accuracy: 0.9542 - loss: 0.2998 - val_accuracy: 0.9043 - val_loss: 0.5223 - learning_rate: 1.0000e-05\n",
      "Epoch 72/150\n",
      "\u001B[1m1137/1137\u001B[0m \u001B[32m━━━━━━━━━━━━━━━━━━━━\u001B[0m\u001B[37m\u001B[0m \u001B[1m186s\u001B[0m 163ms/step - accuracy: 0.9550 - loss: 0.2974 - val_accuracy: 0.9053 - val_loss: 0.5207 - learning_rate: 1.0000e-05\n",
      "Epoch 73/150\n",
      "\u001B[1m1137/1137\u001B[0m \u001B[32m━━━━━━━━━━━━━━━━━━━━\u001B[0m\u001B[37m\u001B[0m \u001B[1m184s\u001B[0m 162ms/step - accuracy: 0.9578 - loss: 0.2909 - val_accuracy: 0.9047 - val_loss: 0.5225 - learning_rate: 1.0000e-05\n",
      "Epoch 74/150\n",
      "\u001B[1m1137/1137\u001B[0m \u001B[32m━━━━━━━━━━━━━━━━━━━━\u001B[0m\u001B[37m\u001B[0m \u001B[1m188s\u001B[0m 166ms/step - accuracy: 0.9550 - loss: 0.2942 - val_accuracy: 0.9059 - val_loss: 0.5192 - learning_rate: 1.0000e-05\n",
      "Epoch 75/150\n",
      "\u001B[1m1137/1137\u001B[0m \u001B[32m━━━━━━━━━━━━━━━━━━━━\u001B[0m\u001B[37m\u001B[0m \u001B[1m190s\u001B[0m 167ms/step - accuracy: 0.9559 - loss: 0.2933 - val_accuracy: 0.9042 - val_loss: 0.5204 - learning_rate: 1.0000e-05\n",
      "Epoch 76/150\n",
      "\u001B[1m1137/1137\u001B[0m \u001B[32m━━━━━━━━━━━━━━━━━━━━\u001B[0m\u001B[37m\u001B[0m \u001B[1m186s\u001B[0m 163ms/step - accuracy: 0.9554 - loss: 0.2931 - val_accuracy: 0.9025 - val_loss: 0.5199 - learning_rate: 1.0000e-05\n",
      "Epoch 77/150\n",
      "\u001B[1m1137/1137\u001B[0m \u001B[32m━━━━━━━━━━━━━━━━━━━━\u001B[0m\u001B[37m\u001B[0m \u001B[1m185s\u001B[0m 163ms/step - accuracy: 0.9581 - loss: 0.2902 - val_accuracy: 0.9052 - val_loss: 0.5201 - learning_rate: 1.0000e-05\n",
      "Epoch 78/150\n",
      "\u001B[1m1137/1137\u001B[0m \u001B[32m━━━━━━━━━━━━━━━━━━━━\u001B[0m\u001B[37m\u001B[0m \u001B[1m184s\u001B[0m 162ms/step - accuracy: 0.9556 - loss: 0.2915 - val_accuracy: 0.9047 - val_loss: 0.5190 - learning_rate: 1.0000e-05\n",
      "Epoch 79/150\n",
      "\u001B[1m1137/1137\u001B[0m \u001B[32m━━━━━━━━━━━━━━━━━━━━\u001B[0m\u001B[37m\u001B[0m \u001B[1m191s\u001B[0m 168ms/step - accuracy: 0.9542 - loss: 0.2960 - val_accuracy: 0.9044 - val_loss: 0.5189 - learning_rate: 1.0000e-05\n",
      "Epoch 80/150\n",
      "\u001B[1m1137/1137\u001B[0m \u001B[32m━━━━━━━━━━━━━━━━━━━━\u001B[0m\u001B[37m\u001B[0m \u001B[1m187s\u001B[0m 164ms/step - accuracy: 0.9549 - loss: 0.2918 - val_accuracy: 0.9055 - val_loss: 0.5193 - learning_rate: 1.0000e-05\n",
      "Epoch 81/150\n",
      "\u001B[1m1137/1137\u001B[0m \u001B[32m━━━━━━━━━━━━━━━━━━━━\u001B[0m\u001B[37m\u001B[0m \u001B[1m184s\u001B[0m 162ms/step - accuracy: 0.9558 - loss: 0.2912 - val_accuracy: 0.9048 - val_loss: 0.5200 - learning_rate: 1.0000e-05\n",
      "Epoch 82/150\n",
      "\u001B[1m1137/1137\u001B[0m \u001B[32m━━━━━━━━━━━━━━━━━━━━\u001B[0m\u001B[37m\u001B[0m \u001B[1m187s\u001B[0m 164ms/step - accuracy: 0.9539 - loss: 0.2903 - val_accuracy: 0.9046 - val_loss: 0.5186 - learning_rate: 1.0000e-05\n",
      "Epoch 83/150\n",
      "\u001B[1m1137/1137\u001B[0m \u001B[32m━━━━━━━━━━━━━━━━━━━━\u001B[0m\u001B[37m\u001B[0m \u001B[1m188s\u001B[0m 165ms/step - accuracy: 0.9575 - loss: 0.2849 - val_accuracy: 0.9057 - val_loss: 0.5189 - learning_rate: 1.0000e-05\n",
      "Epoch 84/150\n",
      "\u001B[1m1137/1137\u001B[0m \u001B[32m━━━━━━━━━━━━━━━━━━━━\u001B[0m\u001B[37m\u001B[0m \u001B[1m191s\u001B[0m 168ms/step - accuracy: 0.9538 - loss: 0.2924 - val_accuracy: 0.9054 - val_loss: 0.5186 - learning_rate: 1.0000e-05\n",
      "Epoch 85/150\n",
      "\u001B[1m1137/1137\u001B[0m \u001B[32m━━━━━━━━━━━━━━━━━━━━\u001B[0m\u001B[37m\u001B[0m \u001B[1m185s\u001B[0m 163ms/step - accuracy: 0.9552 - loss: 0.2897 - val_accuracy: 0.9060 - val_loss: 0.5186 - learning_rate: 1.0000e-05\n",
      "Epoch 86/150\n",
      "\u001B[1m1137/1137\u001B[0m \u001B[32m━━━━━━━━━━━━━━━━━━━━\u001B[0m\u001B[37m\u001B[0m \u001B[1m182s\u001B[0m 160ms/step - accuracy: 0.9573 - loss: 0.2799 - val_accuracy: 0.9052 - val_loss: 0.5171 - learning_rate: 1.0000e-05\n",
      "Epoch 87/150\n",
      "\u001B[1m1137/1137\u001B[0m \u001B[32m━━━━━━━━━━━━━━━━━━━━\u001B[0m\u001B[37m\u001B[0m \u001B[1m183s\u001B[0m 161ms/step - accuracy: 0.9567 - loss: 0.2859 - val_accuracy: 0.9067 - val_loss: 0.5179 - learning_rate: 1.0000e-05\n",
      "Epoch 88/150\n",
      "\u001B[1m1137/1137\u001B[0m \u001B[32m━━━━━━━━━━━━━━━━━━━━\u001B[0m\u001B[37m\u001B[0m \u001B[1m187s\u001B[0m 165ms/step - accuracy: 0.9571 - loss: 0.2827 - val_accuracy: 0.9042 - val_loss: 0.5165 - learning_rate: 1.0000e-05\n",
      "Epoch 89/150\n",
      "\u001B[1m1137/1137\u001B[0m \u001B[32m━━━━━━━━━━━━━━━━━━━━\u001B[0m\u001B[37m\u001B[0m \u001B[1m188s\u001B[0m 166ms/step - accuracy: 0.9567 - loss: 0.2851 - val_accuracy: 0.9047 - val_loss: 0.5151 - learning_rate: 1.0000e-05\n",
      "Epoch 90/150\n",
      "\u001B[1m1137/1137\u001B[0m \u001B[32m━━━━━━━━━━━━━━━━━━━━\u001B[0m\u001B[37m\u001B[0m \u001B[1m184s\u001B[0m 162ms/step - accuracy: 0.9566 - loss: 0.2810 - val_accuracy: 0.9052 - val_loss: 0.5159 - learning_rate: 1.0000e-05\n",
      "Epoch 91/150\n",
      "\u001B[1m1137/1137\u001B[0m \u001B[32m━━━━━━━━━━━━━━━━━━━━\u001B[0m\u001B[37m\u001B[0m \u001B[1m181s\u001B[0m 159ms/step - accuracy: 0.9544 - loss: 0.2884 - val_accuracy: 0.9051 - val_loss: 0.5151 - learning_rate: 1.0000e-05\n",
      "Epoch 92/150\n",
      "\u001B[1m1137/1137\u001B[0m \u001B[32m━━━━━━━━━━━━━━━━━━━━\u001B[0m\u001B[37m\u001B[0m \u001B[1m182s\u001B[0m 160ms/step - accuracy: 0.9603 - loss: 0.2800 - val_accuracy: 0.9054 - val_loss: 0.5164 - learning_rate: 1.0000e-05\n",
      "Epoch 93/150\n",
      "\u001B[1m1137/1137\u001B[0m \u001B[32m━━━━━━━━━━━━━━━━━━━━\u001B[0m\u001B[37m\u001B[0m \u001B[1m186s\u001B[0m 163ms/step - accuracy: 0.9575 - loss: 0.2809 - val_accuracy: 0.9084 - val_loss: 0.5159 - learning_rate: 1.0000e-05\n",
      "Epoch 94/150\n",
      "\u001B[1m1137/1137\u001B[0m \u001B[32m━━━━━━━━━━━━━━━━━━━━\u001B[0m\u001B[37m\u001B[0m \u001B[1m189s\u001B[0m 166ms/step - accuracy: 0.9556 - loss: 0.2830 - val_accuracy: 0.9036 - val_loss: 0.5149 - learning_rate: 1.0000e-05\n",
      "Epoch 95/150\n",
      "\u001B[1m1137/1137\u001B[0m \u001B[32m━━━━━━━━━━━━━━━━━━━━\u001B[0m\u001B[37m\u001B[0m \u001B[1m181s\u001B[0m 160ms/step - accuracy: 0.9580 - loss: 0.2775 - val_accuracy: 0.9046 - val_loss: 0.5172 - learning_rate: 1.0000e-05\n",
      "Epoch 96/150\n",
      "\u001B[1m1137/1137\u001B[0m \u001B[32m━━━━━━━━━━━━━━━━━━━━\u001B[0m\u001B[37m\u001B[0m \u001B[1m181s\u001B[0m 159ms/step - accuracy: 0.9584 - loss: 0.2788 - val_accuracy: 0.9059 - val_loss: 0.5158 - learning_rate: 1.0000e-05\n",
      "Epoch 97/150\n",
      "\u001B[1m1137/1137\u001B[0m \u001B[32m━━━━━━━━━━━━━━━━━━━━\u001B[0m\u001B[37m\u001B[0m \u001B[1m184s\u001B[0m 162ms/step - accuracy: 0.9601 - loss: 0.2757 - val_accuracy: 0.9041 - val_loss: 0.5160 - learning_rate: 1.0000e-05\n",
      "Epoch 98/150\n",
      "\u001B[1m1137/1137\u001B[0m \u001B[32m━━━━━━━━━━━━━━━━━━━━\u001B[0m\u001B[37m\u001B[0m \u001B[1m190s\u001B[0m 167ms/step - accuracy: 0.9586 - loss: 0.2749 - val_accuracy: 0.9038 - val_loss: 0.5196 - learning_rate: 1.0000e-05\n",
      "Epoch 99/150\n",
      "\u001B[1m1137/1137\u001B[0m \u001B[32m━━━━━━━━━━━━━━━━━━━━\u001B[0m\u001B[37m\u001B[0m \u001B[1m188s\u001B[0m 165ms/step - accuracy: 0.9589 - loss: 0.2763 - val_accuracy: 0.9051 - val_loss: 0.5162 - learning_rate: 1.0000e-05\n",
      "Epoch 100/150\n",
      "\u001B[1m1137/1137\u001B[0m \u001B[32m━━━━━━━━━━━━━━━━━━━━\u001B[0m\u001B[37m\u001B[0m \u001B[1m185s\u001B[0m 162ms/step - accuracy: 0.9557 - loss: 0.2804 - val_accuracy: 0.9049 - val_loss: 0.5168 - learning_rate: 1.0000e-05\n",
      "Epoch 101/150\n",
      "\u001B[1m1137/1137\u001B[0m \u001B[32m━━━━━━━━━━━━━━━━━━━━\u001B[0m\u001B[37m\u001B[0m \u001B[1m184s\u001B[0m 162ms/step - accuracy: 0.9564 - loss: 0.2799 - val_accuracy: 0.9039 - val_loss: 0.5142 - learning_rate: 1.0000e-05\n",
      "Epoch 102/150\n",
      "\u001B[1m1137/1137\u001B[0m \u001B[32m━━━━━━━━━━━━━━━━━━━━\u001B[0m\u001B[37m\u001B[0m \u001B[1m186s\u001B[0m 164ms/step - accuracy: 0.9561 - loss: 0.2803 - val_accuracy: 0.9053 - val_loss: 0.5219 - learning_rate: 1.0000e-05\n",
      "Epoch 103/150\n",
      "\u001B[1m1137/1137\u001B[0m \u001B[32m━━━━━━━━━━━━━━━━━━━━\u001B[0m\u001B[37m\u001B[0m \u001B[1m189s\u001B[0m 166ms/step - accuracy: 0.9600 - loss: 0.2738 - val_accuracy: 0.9070 - val_loss: 0.5144 - learning_rate: 1.0000e-05\n",
      "Epoch 104/150\n",
      "\u001B[1m1137/1137\u001B[0m \u001B[32m━━━━━━━━━━━━━━━━━━━━\u001B[0m\u001B[37m\u001B[0m \u001B[1m182s\u001B[0m 160ms/step - accuracy: 0.9592 - loss: 0.2723 - val_accuracy: 0.9043 - val_loss: 0.5172 - learning_rate: 1.0000e-05\n",
      "Epoch 105/150\n",
      "\u001B[1m1137/1137\u001B[0m \u001B[32m━━━━━━━━━━━━━━━━━━━━\u001B[0m\u001B[37m\u001B[0m \u001B[1m180s\u001B[0m 159ms/step - accuracy: 0.9566 - loss: 0.2805 - val_accuracy: 0.9054 - val_loss: 0.5156 - learning_rate: 1.0000e-05\n",
      "Epoch 106/150\n",
      "\u001B[1m1137/1137\u001B[0m \u001B[32m━━━━━━━━━━━━━━━━━━━━\u001B[0m\u001B[37m\u001B[0m \u001B[1m187s\u001B[0m 165ms/step - accuracy: 0.9593 - loss: 0.2748 - val_accuracy: 0.9053 - val_loss: 0.5148 - learning_rate: 1.0000e-05\n",
      "Epoch 107/150\n",
      "\u001B[1m1137/1137\u001B[0m \u001B[32m━━━━━━━━━━━━━━━━━━━━\u001B[0m\u001B[37m\u001B[0m \u001B[1m182s\u001B[0m 160ms/step - accuracy: 0.9576 - loss: 0.2784 - val_accuracy: 0.9052 - val_loss: 0.5160 - learning_rate: 1.0000e-05\n",
      "Epoch 108/150\n",
      "\u001B[1m1137/1137\u001B[0m \u001B[32m━━━━━━━━━━━━━━━━━━━━\u001B[0m\u001B[37m\u001B[0m \u001B[1m185s\u001B[0m 163ms/step - accuracy: 0.9592 - loss: 0.2734 - val_accuracy: 0.9056 - val_loss: 0.5179 - learning_rate: 1.0000e-05\n",
      "Epoch 109/150\n",
      "\u001B[1m1137/1137\u001B[0m \u001B[32m━━━━━━━━━━━━━━━━━━━━\u001B[0m\u001B[37m\u001B[0m \u001B[1m181s\u001B[0m 159ms/step - accuracy: 0.9569 - loss: 0.2724 - val_accuracy: 0.9055 - val_loss: 0.5164 - learning_rate: 1.0000e-05\n",
      "Epoch 110/150\n",
      "\u001B[1m1137/1137\u001B[0m \u001B[32m━━━━━━━━━━━━━━━━━━━━\u001B[0m\u001B[37m\u001B[0m \u001B[1m180s\u001B[0m 159ms/step - accuracy: 0.9598 - loss: 0.2711 - val_accuracy: 0.9042 - val_loss: 0.5173 - learning_rate: 1.0000e-05\n",
      "Epoch 111/150\n",
      "\u001B[1m1137/1137\u001B[0m \u001B[32m━━━━━━━━━━━━━━━━━━━━\u001B[0m\u001B[37m\u001B[0m \u001B[1m183s\u001B[0m 161ms/step - accuracy: 0.9590 - loss: 0.2717 - val_accuracy: 0.9034 - val_loss: 0.5148 - learning_rate: 1.0000e-05\n",
      "Epoch 112/150\n",
      "\u001B[1m1137/1137\u001B[0m \u001B[32m━━━━━━━━━━━━━━━━━━━━\u001B[0m\u001B[37m\u001B[0m \u001B[1m185s\u001B[0m 163ms/step - accuracy: 0.9578 - loss: 0.2676 - val_accuracy: 0.9039 - val_loss: 0.5158 - learning_rate: 1.0000e-06\n",
      "Epoch 113/150\n",
      "\u001B[1m1137/1137\u001B[0m \u001B[32m━━━━━━━━━━━━━━━━━━━━\u001B[0m\u001B[37m\u001B[0m \u001B[1m186s\u001B[0m 164ms/step - accuracy: 0.9602 - loss: 0.2712 - val_accuracy: 0.9055 - val_loss: 0.5149 - learning_rate: 1.0000e-06\n",
      "Epoch 114/150\n",
      "\u001B[1m1137/1137\u001B[0m \u001B[32m━━━━━━━━━━━━━━━━━━━━\u001B[0m\u001B[37m\u001B[0m \u001B[1m181s\u001B[0m 159ms/step - accuracy: 0.9589 - loss: 0.2731 - val_accuracy: 0.9049 - val_loss: 0.5146 - learning_rate: 1.0000e-06\n",
      "Epoch 115/150\n",
      "\u001B[1m1137/1137\u001B[0m \u001B[32m━━━━━━━━━━━━━━━━━━━━\u001B[0m\u001B[37m\u001B[0m \u001B[1m185s\u001B[0m 163ms/step - accuracy: 0.9604 - loss: 0.2684 - val_accuracy: 0.9047 - val_loss: 0.5161 - learning_rate: 1.0000e-06\n",
      "Epoch 116/150\n",
      "\u001B[1m1137/1137\u001B[0m \u001B[32m━━━━━━━━━━━━━━━━━━━━\u001B[0m\u001B[37m\u001B[0m \u001B[1m182s\u001B[0m 160ms/step - accuracy: 0.9580 - loss: 0.2738 - val_accuracy: 0.9046 - val_loss: 0.5171 - learning_rate: 1.0000e-06\n",
      "Epoch 117/150\n",
      "\u001B[1m1137/1137\u001B[0m \u001B[32m━━━━━━━━━━━━━━━━━━━━\u001B[0m\u001B[37m\u001B[0m \u001B[1m187s\u001B[0m 164ms/step - accuracy: 0.9616 - loss: 0.2680 - val_accuracy: 0.9046 - val_loss: 0.5163 - learning_rate: 1.0000e-06\n",
      "Epoch 118/150\n",
      "\u001B[1m1137/1137\u001B[0m \u001B[32m━━━━━━━━━━━━━━━━━━━━\u001B[0m\u001B[37m\u001B[0m \u001B[1m184s\u001B[0m 162ms/step - accuracy: 0.9594 - loss: 0.2718 - val_accuracy: 0.9052 - val_loss: 0.5164 - learning_rate: 1.0000e-06\n",
      "Epoch 119/150\n",
      "\u001B[1m1137/1137\u001B[0m \u001B[32m━━━━━━━━━━━━━━━━━━━━\u001B[0m\u001B[37m\u001B[0m \u001B[1m182s\u001B[0m 160ms/step - accuracy: 0.9602 - loss: 0.2676 - val_accuracy: 0.9048 - val_loss: 0.5147 - learning_rate: 1.0000e-06\n",
      "Epoch 120/150\n",
      "\u001B[1m1137/1137\u001B[0m \u001B[32m━━━━━━━━━━━━━━━━━━━━\u001B[0m\u001B[37m\u001B[0m \u001B[1m182s\u001B[0m 160ms/step - accuracy: 0.9617 - loss: 0.2614 - val_accuracy: 0.9053 - val_loss: 0.5158 - learning_rate: 1.0000e-06\n",
      "Epoch 121/150\n",
      "\u001B[1m1137/1137\u001B[0m \u001B[32m━━━━━━━━━━━━━━━━━━━━\u001B[0m\u001B[37m\u001B[0m \u001B[1m185s\u001B[0m 163ms/step - accuracy: 0.9590 - loss: 0.2690 - val_accuracy: 0.9047 - val_loss: 0.5162 - learning_rate: 1.0000e-06\n"
     ]
    }
   ],
   "execution_count": 26
  },
  {
   "metadata": {
    "id": "PTWY2Ud9hbgs",
    "ExecuteTime": {
     "end_time": "2024-12-16T12:04:42.393917Z",
     "start_time": "2024-12-16T12:04:42.017130Z"
    }
   },
   "cell_type": "code",
   "source": [
    "import matplotlib.pyplot as plt\n",
    "\n",
    "# Plot training & validation accuracy values\n",
    "plt.figure(figsize=(12, 4))\n",
    "plt.subplot(1, 2, 1)\n",
    "plt.plot(history2.history['accuracy'], label='Train Accuracy')\n",
    "plt.plot(history2.history['val_accuracy'], label='Validation Accuracy')\n",
    "plt.title('Model Accuracy')\n",
    "plt.ylabel('Accuracy')\n",
    "plt.xlabel('Epoch')\n",
    "plt.legend(loc='upper left')\n",
    "\n",
    "# Plot training & validation loss values\n",
    "plt.subplot(1, 2, 2)\n",
    "plt.plot(history2.history['loss'], label='Train Loss')\n",
    "plt.plot(history2.history['val_loss'], label='Validation Loss')\n",
    "plt.title('Model Loss')\n",
    "plt.ylabel('Loss')\n",
    "plt.xlabel('Epoch')\n",
    "plt.legend(loc='upper left')\n",
    "\n",
    "plt.show()"
   ],
   "outputs": [
    {
     "data": {
      "text/plain": [
       "<Figure size 1200x400 with 2 Axes>"
      ],
      "image/png": "[encoded data removed]"
     },
     "metadata": {},
     "output_type": "display_data"
    }
   ],
   "execution_count": 27
  },
  {
   "metadata": {
    "id": "JYcqiF2Dhbgt",
    "ExecuteTime": {
     "end_time": "2024-12-16T12:04:43.852987Z",
     "start_time": "2024-12-16T12:04:42.395445Z"
    }
   },
   "cell_type": "code",
   "source": [
    "# Try imagedatagenerator\n",
    "from tensorflow.keras.preprocessing.image import ImageDataGenerator\n",
    "\n",
    "datagen = ImageDataGenerator(\n",
    "    rotation_range=40,\n",
    "    width_shift_range=0.2,\n",
    "    height_shift_range=0.2,\n",
    "    shear_range=0.2,\n",
    "    zoom_range=0.2,\n",
    "    horizontal_flip=True,\n",
    "    brightness_range=(0.8, 1.2),\n",
    "    fill_mode='nearest',\n",
    "    cval=0\n",
    ")\n",
    "# Fit the generator on the training data\n",
    "datagen.fit(X_train)"
   ],
   "outputs": [],
   "execution_count": 28
  },
  {
   "cell_type": "code",
   "source": [
    "# ResNet50V2 Architecture:\n",
    "\n",
    "from tensorflow.keras.applications import ResNet50V2\n",
    "from tensorflow.keras.layers import GlobalAveragePooling2D, Dense, Dropout\n",
    "from tensorflow.keras.models import Model\n",
    "\n",
    "def create_resnet_model():\n",
    "    base_model = ResNet50V2(weights=None, include_top=False, input_shape=(64, 64, 1))\n",
    "    x = base_model.output\n",
    "    x = GlobalAveragePooling2D()(x)\n",
    "    x = Dense(256, activation='relu')(x)\n",
    "    x = Dropout(0.5)(x)\n",
    "    outputs = Dense(num_classes, activation='softmax')(x)\n",
    "    model = Model(inputs=base_model.input, outputs=outputs)\n",
    "    model.compile(optimizer='adam', loss='categorical_crossentropy', metrics=['accuracy'])\n",
    "    return model\n",
    "\n",
    "model_resnet = create_resnet_model()"
   ],
   "metadata": {
    "id": "zCe6eM-vTo81",
    "ExecuteTime": {
     "end_time": "2024-12-16T12:04:46.603664Z",
     "start_time": "2024-12-16T12:04:43.857318Z"
    }
   },
   "outputs": [],
   "execution_count": 29
  },
  {
   "metadata": {
    "id": "dGw31FtWhbgu",
    "ExecuteTime": {
     "end_time": "2024-12-16T12:04:46.617083Z",
     "start_time": "2024-12-16T12:04:46.605896Z"
    }
   },
   "cell_type": "code",
   "source": [
    "# Use the generator to transform the training data\n",
    "train_generator = datagen.flow(X_train, y_train, batch_size=32)\n",
    "\n",
    "# For the test data, use the same generator but do not fit it\n",
    "test_generator = datagen.flow(X_test, y_test, batch_size=32)"
   ],
   "outputs": [],
   "execution_count": 30
  },
  {
   "cell_type": "code",
   "source": [
    "#custom learning rate schedule\n",
    "\n",
    "from tensorflow.keras.callbacks import LearningRateScheduler\n",
    "\n",
    "def lr_schedule(epoch):\n",
    "    lr = 1e-3\n",
    "    if epoch > 75:\n",
    "        lr *= 0.1\n",
    "    if epoch > 100:\n",
    "        lr *= 0.1\n",
    "    return lr\n",
    "\n",
    "lr_scheduler = LearningRateScheduler(lr_schedule)"
   ],
   "metadata": {
    "id": "KL2zPYvfT0Zt",
    "ExecuteTime": {
     "end_time": "2024-12-16T12:04:46.644607Z",
     "start_time": "2024-12-16T12:04:46.626775Z"
    }
   },
   "outputs": [],
   "execution_count": 31
  },
  {
   "cell_type": "code",
   "source": [
    "# Ensemble Method:\n",
    "\n",
    "import numpy as np\n",
    "\n",
    "def ensemble_predictions(models, X):\n",
    "    predictions = [model.predict(X) for model in models]\n",
    "    return np.mean(predictions, axis=0)\n",
    "\n",
    "# After training multiple models\n",
    "# ensemble_preds = ensemble_predictions([model1, model2, model3], X_test)\n",
    "ensemble_preds = ensemble_predictions([model2], X_test)\n"
   ],
   "metadata": {
    "colab": {
     "base_uri": "https://localhost:8080/"
    },
    "id": "WZvcdnrpT8VX",
    "outputId": "fc24b8e1-c90d-478e-c9f6-6361c53240aa",
    "ExecuteTime": {
     "end_time": "2024-12-16T12:04:56.663060Z",
     "start_time": "2024-12-16T12:04:46.652213Z"
    }
   },
   "outputs": [
    {
     "name": "stdout",
     "output_type": "stream",
     "text": [
      "\u001B[1m285/285\u001B[0m \u001B[32m━━━━━━━━━━━━━━━━━━━━\u001B[0m\u001B[37m\u001B[0m \u001B[1m9s\u001B[0m 30ms/step\n"
     ]
    }
   ],
   "execution_count": 32
  },
  {
   "cell_type": "code",
   "source": [
    "# K-Fold Cross-Validation:\n",
    "from sklearn.model_selection import KFold\n",
    "\n",
    "kf = KFold(n_splits=5, shuffle=True, random_state=42)\n",
    "\n",
    "#for fold, (train_idx, val_idx) in enumerate(kf.split(X)):\n",
    "\n",
    "for fold, (train_idx, val_idx) in enumerate(kf.split(data, labels)):\n",
    "    X_train_fold, X_val_fold = X_train[train_idx], X_test[val_idx]\n",
    "    y_train_fold, y_val_fold = y_train[train_idx], y_test[val_idx]\n",
    "\n",
    "    model = create_model()  # Your model creation function\n",
    "\n",
    "    history = model.fit(\n",
    "        datagen.flow(X_train_fold, y_train_fold, batch_size=32),\n",
    "        validation_data=(X_val_fold, y_val_fold),\n",
    "        epochs=150,\n",
    "        callbacks=[early_stopping, model_checkpoint, lr_scheduler]\n",
    "    )"
   ],
   "metadata": {
    "colab": {
     "base_uri": "https://localhost:8080/",
     "height": 219
    },
    "id": "jzi5U9Q7UG2Q",
    "outputId": "6cf27c13-6bbc-4836-8f95-3d499c0b376e",
    "ExecuteTime": {
     "end_time": "2024-12-16T12:05:01.639513Z",
     "start_time": "2024-12-16T12:04:56.664633Z"
    }
   },
   "outputs": [
    {
     "ename": "IndexError",
     "evalue": "index 36354 is out of bounds for axis 0 with size 36354",
     "output_type": "error",
     "traceback": [
      "\u001B[0;31m---------------------------------------------------------------------------\u001B[0m",
      "\u001B[0;31mIndexError\u001B[0m                                Traceback (most recent call last)",
      "Cell \u001B[0;32mIn[33], line 9\u001B[0m\n\u001B[1;32m      6\u001B[0m \u001B[38;5;66;03m#for fold, (train_idx, val_idx) in enumerate(kf.split(X)):\u001B[39;00m\n\u001B[1;32m      8\u001B[0m \u001B[38;5;28;01mfor\u001B[39;00m fold, (train_idx, val_idx) \u001B[38;5;129;01min\u001B[39;00m \u001B[38;5;28menumerate\u001B[39m(kf\u001B[38;5;241m.\u001B[39msplit(data, labels)):\n\u001B[0;32m----> 9\u001B[0m     X_train_fold, X_val_fold \u001B[38;5;241m=\u001B[39m \u001B[43mX_train\u001B[49m\u001B[43m[\u001B[49m\u001B[43mtrain_idx\u001B[49m\u001B[43m]\u001B[49m, X_test[val_idx]\n\u001B[1;32m     10\u001B[0m     y_train_fold, y_val_fold \u001B[38;5;241m=\u001B[39m y_train[train_idx], y_test[val_idx]\n\u001B[1;32m     12\u001B[0m     model \u001B[38;5;241m=\u001B[39m create_model()  \u001B[38;5;66;03m# Your model creation function\u001B[39;00m\n",
      "\u001B[0;31mIndexError\u001B[0m: index 36354 is out of bounds for axis 0 with size 36354"
     ]
    }
   ],
   "execution_count": 33
  },
  {
   "cell_type": "code",
   "source": [
    "# Focal Loss:\n",
    "\n",
    "import tensorflow.keras.backend as K\n",
    "import tensorflow as tf\n",
    "\n",
    "def focal_loss(gamma=2., alpha=.25):\n",
    "    def focal_loss_fixed(y_true, y_pred):\n",
    "        pt_1 = tf.where(tf.equal(y_true, 1), y_pred, tf.ones_like(y_pred))\n",
    "        return -K.sum(alpha * K.pow(1. - pt_1, gamma) * K.log(pt_1))\n",
    "    return focal_loss_fixed\n",
    "\n",
    "# When compiling your model:\n",
    "model2.compile(optimizer='adam', loss=focal_loss(), metrics=['accuracy'])"
   ],
   "metadata": {
    "id": "8b1mULEmUK1J",
    "ExecuteTime": {
     "end_time": "2024-12-16T12:05:01.642026Z",
     "start_time": "2024-12-16T12:05:01.641693Z"
    }
   },
   "outputs": [],
   "execution_count": null
  },
  {
   "cell_type": "code",
   "source": [
    "# Grad-CAM Visualization:\n",
    "\n",
    "import numpy as np\n",
    "import tensorflow as tf\n",
    "from tensorflow.keras.models import Model\n",
    "\n",
    "def make_gradcam_heatmap(img_array, model, last_conv_layer_name, pred_index=None):\n",
    "    grad_model = Model(\n",
    "        [model.inputs], [model.get_layer(last_conv_layer_name).output, model.output]\n",
    "    )\n",
    "\n",
    "    with tf.GradientTape() as tape:\n",
    "        last_conv_layer_output, preds = grad_model(img_array)\n",
    "        if pred_index is None:\n",
    "            pred_index = tf.argmax(preds[0])\n",
    "        class_channel = preds[:, pred_index]\n",
    "\n",
    "    grads = tape.gradient(class_channel, last_conv_layer_output)\n",
    "    pooled_grads = tf.reduce_mean(grads, axis=(0, 1, 2))\n",
    "\n",
    "    last_conv_layer_output = last_conv_layer_output[0]\n",
    "    heatmap = last_conv_layer_output @ pooled_grads[..., tf.newaxis]\n",
    "    heatmap = tf.squeeze(heatmap)\n",
    "\n",
    "    heatmap = tf.maximum(heatmap, 0) / tf.math.reduce_max(heatmap)\n",
    "    return heatmap.numpy()\n",
    "\n",
    "# Usage:\n",
    "img_array = np.expand_dims(X_test[0], axis=0)  # Add batch dimension\n",
    "heatmap = make_gradcam_heatmap(img_array, model2, 'conv2d_3')  # Assuming 'conv2d_3' is your last conv layer"
   ],
   "metadata": {
    "id": "7qqDXIZiUQK6"
   },
   "outputs": [],
   "execution_count": null
  },
  {
   "metadata": {
    "id": "GzpI77puhbgv",
    "colab": {
     "base_uri": "https://localhost:8080/"
    },
    "outputId": "7918d794-58f8-418e-ae5a-93c9c2b27cae"
   },
   "cell_type": "code",
   "source": [
    "# Define the callbacks\n",
    "early_stopping = tf.keras.callbacks.EarlyStopping(monitor='val_loss', patience=20, restore_best_weights=True)\n",
    "model_checkpoint = tf.keras.callbacks.ModelCheckpoint('best_model.keras', save_best_only=True, monitor='val_loss')\n",
    "#lr_scheduler = ReduceLROnPlateau(monitor='val_loss', factor=0.1, patience=10)\n",
    "\n",
    "model2 = create_model()\n",
    "\n",
    "# Train the model\n",
    "history2 = model2.fit(X_train, y_train,\n",
    "                        epochs=150, validation_data=(X_test, y_test),\n",
    "                        callbacks=[early_stopping, model_checkpoint, lr_scheduler]\n",
    "                        )"
   ],
   "outputs": [],
   "execution_count": null
  },
  {
   "cell_type": "code",
   "source": [
    "import matplotlib.pyplot as plt\n",
    "\n",
    "# Plot training & validation accuracy values\n",
    "plt.figure(figsize=(12, 4))\n",
    "plt.subplot(1, 2, 1)\n",
    "plt.plot(history2.history['accuracy'], label='Train Accuracy')\n",
    "plt.plot(history2.history['val_accuracy'], label='Validation Accuracy')\n",
    "plt.title('Model Accuracy')\n",
    "plt.ylabel('Accuracy')\n",
    "plt.xlabel('Epoch')\n",
    "plt.legend(loc='upper left')\n",
    "\n",
    "# Plot training & validation loss values\n",
    "plt.subplot(1, 2, 2)\n",
    "plt.plot(history2.history['loss'], label='Train Loss')\n",
    "plt.plot(history2.history['val_loss'], label='Validation Loss')\n",
    "plt.title('Model Loss')\n",
    "plt.ylabel('Loss')\n",
    "plt.xlabel('Epoch')\n",
    "plt.legend(loc='upper left')\n",
    "\n",
    "plt.show()"
   ],
   "metadata": {
    "id": "Nhe6n5ndjReI"
   },
   "outputs": [],
   "execution_count": null
  },
  {
   "metadata": {
    "id": "CG-RgZFkhbgw"
   },
   "cell_type": "code",
   "source": [
    "model2.save('crohme_model_20241001.keras')\n",
    "\n",
    "# Google Colab only\n",
    "#from google.colab import files\n",
    "\n",
    "#files.download('crohme_model_20241001.keras')"
   ],
   "outputs": [],
   "execution_count": null
  },
  {
   "cell_type": "code",
   "source": [],
   "metadata": {
    "id": "w3bZdmFMV9en"
   },
   "outputs": [],
   "execution_count": null
  }
 ]
}
