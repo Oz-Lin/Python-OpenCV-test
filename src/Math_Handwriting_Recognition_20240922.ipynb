{
 "nbformat": 4,
 "nbformat_minor": 0,
 "metadata": {
  "colab": {
   "provenance": [],
   "gpuType": "V28"
  },
  "kernelspec": {
   "name": "python3",
   "display_name": "Python 3 (ipykernel)",
   "language": "python"
  },
  "language_info": {
   "name": "python"
  },
  "accelerator": "TPU"
 },
 "cells": [
  {
   "cell_type": "markdown",
   "source": [
    "# Step 1: Download the CROHME Dataset\n",
    "\n",
    "You can download the CROHME dataset from a publicly available source like the following:\n",
    "\n",
    "CROHME Official Competition Dataset\n",
    "\n",
    "Alternatively, you can search for “CROHME Dataset” to find additional sources or archives."
   ],
   "metadata": {
    "id": "mMggfwuyq3NI"
   }
  },
  {
   "cell_type": "code",
   "metadata": {
    "id": "ts3Wu4UwQ284",
    "ExecuteTime": {
     "end_time": "2024-09-22T12:50:51.911240Z",
     "start_time": "2024-09-22T12:50:43.445944Z"
    }
   },
   "source": [
    "import requests\n",
    "import zipfile\n",
    "import os\n",
    "# from google.colab.patches import cv2_imshow\n",
    "import cv2\n",
    "import numpy as np\n",
    "import matplotlib.pyplot as plt\n",
    "import tensorflow as tf\n",
    "from tensorflow.keras import Sequential\n",
    "from tensorflow.keras.layers import Dense, Flatten, Conv2D, MaxPooling2D, Dropout, BatchNormalization"
   ],
   "outputs": [
    {
     "name": "stderr",
     "output_type": "stream",
     "text": [
      "2024-09-22 22:50:43.448844: I tensorflow/core/platform/cpu_feature_guard.cc:210] This TensorFlow binary is optimized to use available CPU instructions in performance-critical operations.\n",
      "To enable the following instructions: AVX2 FMA, in other operations, rebuild TensorFlow with the appropriate compiler flags.\n",
      "2024-09-22 22:50:47.781332: W tensorflow/compiler/tf2tensorrt/utils/py_utils.cc:38] TF-TRT Warning: Could not find TensorRT\n",
      "/home/tsp330/miniconda3/lib/python3.12/site-packages/numpy/core/getlimits.py:542: UserWarning: Signature b'\\x00\\xd0\\xcc\\xcc\\xcc\\xcc\\xcc\\xcc\\xfb\\xbf\\x00\\x00\\x00\\x00\\x00\\x00' for <class 'numpy.longdouble'> does not match any known type: falling back to type probe function.\n",
      "This warnings indicates broken support for the dtype!\n",
      "  machar = _get_machar(dtype)\n"
     ]
    }
   ],
   "execution_count": 2
  },
  {
   "cell_type": "markdown",
   "source": [
    "# Step 2: Unzip the Dataset\n",
    "\n",
    "Once you download the dataset, unzip it using Python."
   ],
   "metadata": {
    "id": "vby-VfWbq-Rz"
   }
  },
  {
   "cell_type": "code",
   "source": [
    "# URL of the dataset\n",
    "url = 'https://ddfe.curtin.edu.au/563B05F210B82/CROHME.zip'\n",
    "\n",
    "# Path to save the zip file\n",
    "zip_file_path = 'CROHME.zip'\n",
    "\n",
    "# Download the file from the URL\n",
    "print(\"Downloading the dataset...\")\n",
    "response = requests.get(url)\n",
    "with open(zip_file_path, 'wb') as f:\n",
    "    f.write(response.content)\n",
    "print(f\"Downloaded dataset to {zip_file_path}\")\n",
    "\n",
    "# Extract the downloaded ZIP file\n",
    "print(\"Extracting the dataset...\")\n",
    "with zipfile.ZipFile(zip_file_path, 'r') as zip_ref:\n",
    "    zip_ref.extractall('crohme_dataset')  # Extract to 'crohme_dataset' folder\n",
    "\n",
    "print(\"Extraction completed!\")\n",
    "\n",
    "# Clean up the zip file if no longer needed\n",
    "os.remove(zip_file_path)\n",
    "print(\"ZIP file removed.\")"
   ],
   "metadata": {
    "id": "vaFxd0DRRECc",
    "colab": {
     "base_uri": "https://localhost:8080/"
    },
    "outputId": "d38d7ebf-96ec-4e79-fcf3-5624ea8591e3",
    "ExecuteTime": {
     "end_time": "2024-09-22T12:52:00.168199Z",
     "start_time": "2024-09-22T12:50:51.912650Z"
    }
   },
   "outputs": [
    {
     "name": "stdout",
     "output_type": "stream",
     "text": [
      "Downloading the dataset...\n",
      "Downloaded dataset to CROHME.zip\n",
      "Extracting the dataset...\n",
      "Extraction completed!\n",
      "ZIP file removed.\n"
     ]
    }
   ],
   "execution_count": 3
  },
  {
   "cell_type": "markdown",
   "source": [
    "# Step 3: Load the Dataset in Python\n",
    "\n",
    "Assuming the dataset contains .inkml files (the standard format for handwritten mathematical symbols), we need to parse them. We can use libraries like xml.etree.ElementTree for parsing XML-like structures. Alternatively, if the dataset is in another format like images (e.g., .png or .jpg), we can load them using OpenCV.\n",
    "\n",
    "Here's how you can start with the parsing and loading:\n",
    "\n",
    "Since the dataset contains image files:"
   ],
   "metadata": {
    "id": "zdHEFxPjrDwT"
   }
  },
  {
   "cell_type": "code",
   "source": [
    "# from google.colab.patches import cv2_imshow\n",
    "\n",
    "# Define the path where the dataset is stored\n",
    "dataset_path = 'crohme_dataset/archive/'\n",
    "\n",
    "'''\n",
    "# Load all images from the directory\n",
    "image_files = [f for f in os.listdir(dataset_path) if f.endswith('.png') or f.endswith('.jpg')]\n",
    "\n",
    "# Check if any image files were found\n",
    "if image_files:\n",
    "    # Load and display the first image as an example\n",
    "    image = cv2.imread(os.path.join(dataset_path, image_files[0]), cv2.IMREAD_GRAYSCALE)\n",
    "    cv2.imshow('First Image', image)\n",
    "    cv2.waitKey(0)\n",
    "    cv2.destroyAllWindows()\n",
    "else:\n",
    "    print(f\"No image files found in {dataset_path}\")\n",
    "'''\n",
    "'''\n",
    "# Traverse subfolders and load images\n",
    "for subdir, dirs, files in os.walk(dataset_path):\n",
    "    for file in files:\n",
    "        if file.endswith('.png') or file.endswith('.jpg'):\n",
    "            # Construct the full image path\n",
    "            image_path = os.path.join(subdir, file)\n",
    "\n",
    "            # Load and display the image\n",
    "            image = cv2.imread(image_path, cv2.IMREAD_GRAYSCALE)\n",
    "            #cv2.imshow(f\"Image: {image_path}\", image)\n",
    "            # cv2_imshow(image) #debug\n",
    "            cv2.waitKey(0)\n",
    "            cv2.destroyAllWindows()\n",
    "'''"
   ],
   "metadata": {
    "colab": {
     "base_uri": "https://localhost:8080/",
     "height": 146
    },
    "id": "NCS9kS1sRE0G",
    "outputId": "9803b050-55bf-4b4b-cce6-8e0670f40781",
    "ExecuteTime": {
     "end_time": "2024-09-22T12:52:00.175068Z",
     "start_time": "2024-09-22T12:52:00.169318Z"
    }
   },
   "outputs": [
    {
     "data": {
      "text/plain": [
       "'\\n# Traverse subfolders and load images\\nfor subdir, dirs, files in os.walk(dataset_path):\\n    for file in files:\\n        if file.endswith(\\'.png\\') or file.endswith(\\'.jpg\\'):\\n            # Construct the full image path\\n            image_path = os.path.join(subdir, file)\\n\\n            # Load and display the image\\n            image = cv2.imread(image_path, cv2.IMREAD_GRAYSCALE)\\n            #cv2.imshow(f\"Image: {image_path}\", image)\\n            # cv2_imshow(image) #debug\\n            cv2.waitKey(0)\\n            cv2.destroyAllWindows()\\n'"
      ]
     },
     "execution_count": 4,
     "metadata": {},
     "output_type": "execute_result"
    }
   ],
   "execution_count": 4
  },
  {
   "cell_type": "markdown",
   "source": [
    "After unzipping the dataset path, those numbers, letters, and symbols are organized into subfolders under the `crohme_dataset/archive` directory.\n",
    "\n",
    "## Code to Load and Organize the Dataset\n",
    "\n",
    "We will now write a script to traverse these sub-folders, load the images, and categorize them for training. This script will load all the images from their respective folders and associate them with their corresponding labels."
   ],
   "metadata": {
    "id": "fCynr4f3xAOP"
   }
  },
  {
   "cell_type": "code",
   "source": [
    "import os\n",
    "import cv2\n",
    "import numpy as np\n",
    "\n",
    "# Directory where the dataset is located\n",
    "dataset_dir = 'crohme_dataset/archive'\n",
    "\n",
    "# Function to load the images and their labels\n",
    "def load_crohme_dataset(dataset_dir):\n",
    "    images = []\n",
    "    labels = []\n",
    "    class_names = []\n",
    "\n",
    "    # Traverse the dataset directory\n",
    "    for folder_name in os.listdir(dataset_dir):\n",
    "        folder_path = os.path.join(dataset_dir, folder_name)\n",
    "        # print(folder_path) #debug\n",
    "\n",
    "        if os.path.isdir(folder_path):\n",
    "            # Assign a label to each folder (symbol)\n",
    "            class_names.append(folder_name)\n",
    "            label = len(class_names) - 1\n",
    "\n",
    "            # Load all images from the folder\n",
    "            for file_name in os.listdir(folder_path):\n",
    "                file_path = os.path.join(folder_path, file_name)\n",
    "                if file_path.endswith('.png') or file_path.endswith('.jpg'):\n",
    "                    # Check if the file exists and is readable\n",
    "                    if not os.path.isfile(file_path):\n",
    "                        #print(f\"Error: File not found - {file_path}\")\n",
    "                        continue\n",
    "\n",
    "                    img = cv2.imread(file_path, cv2.IMREAD_GRAYSCALE)\n",
    "\n",
    "                    # Check if the image was loaded correctly\n",
    "                    if img is None:\n",
    "                        #print(f\"Error: Could not read image - {file_path}\")\n",
    "                        continue\n",
    "\n",
    "                    # Resize all images to the same size (e.g., 64x64)\n",
    "                    img_resized = cv2.resize(img, (64, 64))\n",
    "\n",
    "                    # Normalize pixel values to [0, 1]\n",
    "                    img_normalized = img_resized.astype('float32') / 255.0\n",
    "\n",
    "                    # Append the image and its label\n",
    "                    images.append(img_normalized)\n",
    "                    labels.append(label)\n",
    "\n",
    "    # Convert lists to numpy arrays\n",
    "    images = np.array(images).reshape(-1, 64, 64, 1)  # Add channel dimension for grayscale images\n",
    "    labels = np.array(labels)\n",
    "\n",
    "    return images, labels, class_names\n",
    "\n",
    "# Load the dataset\n",
    "images, labels, class_names = load_crohme_dataset(dataset_dir)\n",
    "\n",
    "# Display the shape of the dataset\n",
    "print(f\"Loaded {len(images)} images, {labels.shape[0]} labels, with {len(class_names)} unique classes.\")\n"
   ],
   "metadata": {
    "colab": {
     "base_uri": "https://localhost:8080/"
    },
    "id": "4VEnbXDkxRVA",
    "outputId": "c59fee26-afeb-4656-d9be-19fd2af34c00",
    "ExecuteTime": {
     "end_time": "2024-09-22T12:52:36.188194Z",
     "start_time": "2024-09-22T12:52:00.178510Z"
    }
   },
   "outputs": [
    {
     "name": "stdout",
     "output_type": "stream",
     "text": [
      "Loaded 34310 images, 34310 labels, with 61 unique classes.\n"
     ]
    }
   ],
   "execution_count": 5
  },
  {
   "cell_type": "markdown",
   "source": [],
   "metadata": {
    "id": "5KpK-MRVySCM"
   }
  },
  {
   "cell_type": "markdown",
   "source": [
    "If the dataset contains .inkml files (common for CROHME):\n",
    "\n",
    "You’ll need an XML parser to load the .inkml files:"
   ],
   "metadata": {
    "id": "NmtYIjmWrQrx"
   }
  },
  {
   "cell_type": "code",
   "source": [
    "'''\n",
    "import xml.etree.ElementTree as ET\n",
    "\n",
    "# Path to a sample .inkml file\n",
    "inkml_file_path = 'crohme_dataset/sample.inkml'\n",
    "\n",
    "# Load and parse the .inkml file\n",
    "tree = ET.parse(inkml_file_path)\n",
    "root = tree.getroot()\n",
    "\n",
    "# Display the structure of the .inkml file\n",
    "for elem in root:\n",
    "    print(elem.tag, elem.attrib)\n",
    "\n",
    "'''"
   ],
   "metadata": {
    "id": "xe_75_f9RKfp",
    "colab": {
     "base_uri": "https://localhost:8080/",
     "height": 90
    },
    "outputId": "2b2d2b87-892e-475b-a8bf-c9319ef30a80",
    "ExecuteTime": {
     "end_time": "2024-09-22T12:52:36.192478Z",
     "start_time": "2024-09-22T12:52:36.189243Z"
    }
   },
   "outputs": [
    {
     "data": {
      "text/plain": [
       "\"\\nimport xml.etree.ElementTree as ET\\n\\n# Path to a sample .inkml file\\ninkml_file_path = 'crohme_dataset/sample.inkml'\\n\\n# Load and parse the .inkml file\\ntree = ET.parse(inkml_file_path)\\nroot = tree.getroot()\\n\\n# Display the structure of the .inkml file\\nfor elem in root:\\n    print(elem.tag, elem.attrib)\\n\\n\""
      ]
     },
     "execution_count": 6,
     "metadata": {},
     "output_type": "execute_result"
    }
   ],
   "execution_count": 6
  },
  {
   "cell_type": "markdown",
   "source": [
    "# Step 4: Convert .inkml Data to Images (If Applicable)\n",
    "\n",
    "In CROHME, .inkml files contain stroke data that you may want to convert into images. This step might involve converting the stroke coordinates into an image grid using matplotlib or OpenCV for visualization.\n",
    "\n",
    "Here's an example of visualizing stroke data using matplotlib:"
   ],
   "metadata": {
    "id": "7qfTDO6cri0Y"
   }
  },
  {
   "cell_type": "code",
   "source": [
    "'''\n",
    "import matplotlib.pyplot as plt\n",
    "\n",
    "def visualize_inkml(inkml_file_path):\n",
    "    tree = ET.parse(inkml_file_path)\n",
    "    root = tree.getroot()\n",
    "\n",
    "    # Extract strokes (traces)\n",
    "    strokes = []\n",
    "    for trace in root.findall('{http://www.w3.org/2003/InkML}trace'):\n",
    "        stroke_data = trace.text.strip().split(',')\n",
    "        stroke_points = [tuple(map(float, point.split())) for point in stroke_data]\n",
    "        strokes.append(stroke_points)\n",
    "\n",
    "    # Plot strokes\n",
    "    for stroke in strokes:\n",
    "        x, y = zip(*stroke)\n",
    "        plt.plot(x, y, color='black')\n",
    "\n",
    "    plt.gca().invert_yaxis()  # Invert Y axis to match the image coordinate system\n",
    "    plt.show()\n",
    "\n",
    "# Visualize an inkml file\n",
    "visualize_inkml('crohme_dataset/sample.inkml')\n",
    "'''"
   ],
   "metadata": {
    "colab": {
     "base_uri": "https://localhost:8080/",
     "height": 182
    },
    "id": "oIEA_aH6RLEi",
    "outputId": "b06317ed-27a3-4794-c6f8-a71548193c69",
    "ExecuteTime": {
     "end_time": "2024-09-22T12:52:36.198628Z",
     "start_time": "2024-09-22T12:52:36.194249Z"
    }
   },
   "outputs": [
    {
     "data": {
      "text/plain": [
       "\"\\nimport matplotlib.pyplot as plt\\n\\ndef visualize_inkml(inkml_file_path):\\n    tree = ET.parse(inkml_file_path)\\n    root = tree.getroot()\\n\\n    # Extract strokes (traces)\\n    strokes = []\\n    for trace in root.findall('{http://www.w3.org/2003/InkML}trace'):\\n        stroke_data = trace.text.strip().split(',')\\n        stroke_points = [tuple(map(float, point.split())) for point in stroke_data]\\n        strokes.append(stroke_points)\\n\\n    # Plot strokes\\n    for stroke in strokes:\\n        x, y = zip(*stroke)\\n        plt.plot(x, y, color='black')\\n\\n    plt.gca().invert_yaxis()  # Invert Y axis to match the image coordinate system\\n    plt.show()\\n\\n# Visualize an inkml file\\nvisualize_inkml('crohme_dataset/sample.inkml')\\n\""
      ]
     },
     "execution_count": 7,
     "metadata": {},
     "output_type": "execute_result"
    }
   ],
   "execution_count": 7
  },
  {
   "cell_type": "markdown",
   "source": [
    "Next Steps:\n",
    "\n",
    "* Training and Validation Sets: Organize your dataset into training, validation, and testing sets.\n",
    "* Preprocessing: Use techniques like resizing and normalization, especially if using machine learning models.\n",
    "* Training: You can now feed this data to your CNN for recognizing mathematical symbols."
   ],
   "metadata": {
    "id": "I6xkFMcrryWd"
   }
  },
  {
   "cell_type": "code",
   "source": [],
   "metadata": {
    "id": "fZeXGi4Jrl-0",
    "ExecuteTime": {
     "end_time": "2024-09-22T12:52:36.201619Z",
     "start_time": "2024-09-22T12:52:36.199719Z"
    }
   },
   "outputs": [],
   "execution_count": 7
  },
  {
   "cell_type": "code",
   "source": [],
   "metadata": {
    "id": "92NMUpUyRO9a",
    "ExecuteTime": {
     "end_time": "2024-09-22T12:52:36.204571Z",
     "start_time": "2024-09-22T12:52:36.202780Z"
    }
   },
   "outputs": [],
   "execution_count": 7
  },
  {
   "cell_type": "code",
   "source": [],
   "metadata": {
    "id": "WFJwKe1TRRIV",
    "ExecuteTime": {
     "end_time": "2024-09-22T12:52:36.207603Z",
     "start_time": "2024-09-22T12:52:36.205627Z"
    }
   },
   "outputs": [],
   "execution_count": 7
  },
  {
   "cell_type": "code",
   "source": [
    "import numpy as np\n",
    "import os\n",
    "import cv2\n",
    "from sklearn.model_selection import train_test_split\n",
    "from keras.utils import to_categorical\n",
    "from sklearn.preprocessing import LabelEncoder\n",
    "\n",
    "# Path to the dataset\n",
    "dataset_path = 'crohme_dataset/archive/'\n",
    "\n",
    "# Initialize lists to store the data and labels\n",
    "data = []\n",
    "labels = []\n",
    "\n",
    "# Load the dataset\n",
    "for subdir, dirs, files in os.walk(dataset_path):\n",
    "    for file in files:\n",
    "        if file.endswith('.png') or file.endswith('.jpg'):\n",
    "            # Load the image\n",
    "            image_path = os.path.join(subdir, file)\n",
    "            image = cv2.imread(image_path, cv2.IMREAD_GRAYSCALE)\n",
    "\n",
    "            # Check if the image was loaded correctly\n",
    "            if image is not None:\n",
    "                # Resize the image to 64x64 if needed\n",
    "                image = cv2.resize(image, (64, 64))\n",
    "\n",
    "                # Normalize the image data to [0,1]\n",
    "                image = image.astype('float32') / 255.0\n",
    "\n",
    "                # Append the image data to the list\n",
    "                data.append(image)\n",
    "\n",
    "                # Assuming folder name is the class label\n",
    "                label = os.path.basename(subdir)\n",
    "                labels.append(label)\n",
    "            else:\n",
    "                # If the image failed to load, skip the label\n",
    "                #print(f\"Failed to load image: {image_path}\")\n",
    "                pass\n",
    "\n",
    "\n",
    "\n",
    "\n",
    "# Convert data and labels to numpy arrays\n",
    "data = np.array(data).reshape(-1, 64, 64, 1)\n",
    "labels = np.array(labels)\n",
    "\n",
    "# Check if the number of data points matches the labels\n",
    "print(f\"Number of images: {data.shape[0]}, Number of labels: {labels.shape[0]}\")\n",
    "\n",
    "# Proceed with the split if the lengths are equal\n",
    "if data.shape[0] == labels.shape[0]:\n",
    "    X_train, X_test, y_train, y_test = train_test_split(data, labels, test_size=0.2, random_state=42)\n",
    "\n",
    "    print(f\"Shape of training data: {X_train.shape}, {y_train.shape}\")\n",
    "    print(f\"Shape of test data: {X_test.shape}, {y_test.shape}\")\n",
    "else:\n",
    "    print(\"Mismatch between data and labels. Please check the dataset.\")\n",
    "\n",
    "\n",
    "'''\n",
    "# Assuming your images and labels are loaded in variables 'images' and 'labels'\n",
    "# No one-hot encoding here, using integer labels\n",
    "\n",
    "# Split the data into training and testing sets (80% train, 20% test)\n",
    "X_train, X_test, y_train, y_test = train_test_split(images, labels, test_size=0.2, random_state=42)\n",
    "\n",
    "print(f\"Shape of training data: {X_train.shape}, {y_train.shape}\")\n",
    "print(f\"Shape of test data: {X_test.shape}, {y_test.shape}\")\n",
    "'''\n",
    "\n",
    "# Encode labels (Assuming you already have a dictionary or mapping for the class labels)\n",
    "from sklearn.preprocessing import LabelEncoder\n",
    "le = LabelEncoder()\n",
    "labels_encoded = le.fit_transform(labels)\n",
    "\n",
    "print (labels_encoded)\n",
    "# One-hot encode the labels\n",
    "labels_encoded = to_categorical(labels_encoded, num_classes=len(le.classes_))\n",
    "\n",
    "# After one-hot encoding\n",
    "print(f\"Encoded labels shape: {labels_encoded.shape}\")\n",
    "\n",
    "# Split the data into training and testing sets\n",
    "X_train, X_test, y_train, y_test = train_test_split(data, labels_encoded, test_size=0.2, random_state=42)\n"
   ],
   "metadata": {
    "colab": {
     "base_uri": "https://localhost:8080/"
    },
    "id": "4DB4XXaH5jsN",
    "outputId": "9722a064-0c7c-4992-d2be-e6c4da8bcdb7",
    "ExecuteTime": {
     "end_time": "2024-09-22T12:53:02.650377Z",
     "start_time": "2024-09-22T12:52:36.210565Z"
    }
   },
   "outputs": [
    {
     "name": "stdout",
     "output_type": "stream",
     "text": [
      "Number of images: 45438, Number of labels: 45438\n",
      "Shape of training data: (36350, 64, 64, 1), (36350,)\n",
      "Shape of test data: (9088, 64, 64, 1), (9088,)\n",
      "[ 0  0  0 ... 86 86 86]\n",
      "Encoded labels shape: (45438, 87)\n"
     ]
    }
   ],
   "execution_count": 8
  },
  {
   "cell_type": "code",
   "source": [
    "import numpy as np\n",
    "import os\n",
    "import cv2\n",
    "from sklearn.model_selection import train_test_split\n",
    "from keras.utils import to_categorical\n",
    "from sklearn.preprocessing import LabelEncoder\n",
    "\n",
    "# ... [rest of your code for loading and preprocessing images] ...\n",
    "\n",
    "# Convert data and labels to numpy arrays\n",
    "data = np.array(data).reshape(-1, 64, 64, 1)\n",
    "labels = np.array(labels)\n",
    "\n",
    "# Check if the number of data points matches the labels\n",
    "print(f\"Number of images: {data.shape[0]}, Number of labels: {labels.shape[0]}\")\n",
    "\n",
    "# Proceed with the split if the lengths are equal\n",
    "if data.shape[0] == labels.shape[0]:\n",
    "    X_train, X_test, y_train, y_test = train_test_split(data, labels, test_size=0.2, random_state=42)\n",
    "\n",
    "    print(f\"Shape of training data: {X_train.shape}, {y_train.shape}\")\n",
    "    print(f\"Shape of test data: {X_test.shape}, {y_test.shape}\")\n",
    "\n",
    "    # Encode labels using LabelEncoder\n",
    "    le = LabelEncoder()\n",
    "    y_train = le.fit_transform(y_train)\n",
    "    y_test = le.transform(y_test)\n",
    "\n",
    "    # Calculate the actual number of classes\n",
    "    num_classes = len(le.classes_)\n",
    "\n",
    "    # Ensure num_classes matches the model output\n",
    "    #model.layers[-1].units = num_classes\n",
    "\n",
    "    # One-hot encode the labels\n",
    "    y_train = to_categorical(y_train, num_classes=num_classes)\n",
    "    y_test = to_categorical(y_test, num_classes=num_classes)\n",
    "\n",
    "\n",
    "else:\n",
    "    print(\"Mismatch between data and labels. Please check the dataset.\")\n"
   ],
   "metadata": {
    "colab": {
     "base_uri": "https://localhost:8080/"
    },
    "id": "FmfF82PGFCFv",
    "outputId": "1f67eb4b-2e73-4f0d-c99d-c9086673524e",
    "ExecuteTime": {
     "end_time": "2024-09-22T12:53:04.611033Z",
     "start_time": "2024-09-22T12:53:02.656557Z"
    }
   },
   "outputs": [
    {
     "name": "stdout",
     "output_type": "stream",
     "text": [
      "Number of images: 45438, Number of labels: 45438\n",
      "Shape of training data: (36350, 64, 64, 1), (36350,)\n",
      "Shape of test data: (9088, 64, 64, 1), (9088,)\n"
     ]
    }
   ],
   "execution_count": 9
  },
  {
   "cell_type": "code",
   "source": "print(le.classes_)",
   "metadata": {
    "id": "3OzNgVEtIe5n",
    "ExecuteTime": {
     "end_time": "2024-09-23T00:30:49.483253Z",
     "start_time": "2024-09-23T00:30:49.480554Z"
    }
   },
   "outputs": [
    {
     "name": "stdout",
     "output_type": "stream",
     "text": [
      "['+DIR' '0DIR' '2DIR' '3DIR' '4DIR' '5DIR' '6DIR' '7DIR' '8DIR' '9DIR'\n",
      " 'BDIR' 'D2_DeltaDIR' 'D2_alphaDIR' 'D2_betaDIR' 'D2_forallDIR'\n",
      " 'D2_gammaDIR' 'D2_geqDIR' 'D2_gtDIR' 'D2_inDIR' 'D2_intDIR' 'D2_leqDIR'\n",
      " 'D2_limDIR' 'D2_logDIR' 'D2_ltDIR' 'D2_muDIR' 'D2_neqDIR' 'D2_phiDIR'\n",
      " 'D2_piDIR' 'D2_pmDIR' 'D2_sigmaDIR' 'D2_sqrtDIR' 'D2_sumDIR'\n",
      " 'D2_thetaDIR' 'EDIR' 'MATH_' 'RDIR' 'SHORT_MATH_' 'SLIM_MATH_'\n",
      " 'SQUARE_MATH_' 'SYN_DeltaDIR' 'SYN_alphaDIR' 'SYN_betaDIR' 'SYN_cosDIR'\n",
      " 'SYN_forallDIR' 'SYN_gammaDIR' 'SYN_gtDIR' 'SYN_inDIR' 'SYN_inftyDIR'\n",
      " 'SYN_intDIR' 'SYN_leqDIR' 'SYN_limDIR' 'SYN_logDIR' 'SYN_ltDIR'\n",
      " 'SYN_muDIR' 'SYN_neqDIR' 'SYN_phiDIR' 'SYN_piDIR' 'SYN_pmDIR'\n",
      " 'SYN_sigmaDIR' 'SYN_sinDIR' 'SYN_sqrtDIR' 'SYN_sumDIR' 'SYN_tanDIR'\n",
      " 'SYN_thetaDIR' 'SYN_timesDIR' 'TALL_MATH_' 'aDIR' 'bracketDIR' 'dDIR'\n",
      " 'fDIR' 'gDIR' 'hDIR' 'iDIR' 'kDIR' 'mDIR' 'nDIR' 'oDIR' 'pDIR' 'qDIR'\n",
      " 'sDIR' 'tDIR' 'uDIR' 'vDIR' 'wDIR' 'xDIR' 'yDIR' 'zDIR']\n"
     ]
    }
   ],
   "execution_count": 27
  },
  {
   "cell_type": "markdown",
   "source": [
    "# Step 5: Training the Model"
   ],
   "metadata": {
    "id": "WstHwYqc4YE9"
   }
  },
  {
   "cell_type": "code",
   "source": [
    "from keras.regularizers import l2\n",
    "from keras.optimizers import Adam\n",
    "from keras.callbacks import ReduceLROnPlateau\n",
    "from tensorflow.keras.preprocessing.image import ImageDataGenerator"
   ],
   "metadata": {
    "id": "p6TsMUcM0IpD",
    "ExecuteTime": {
     "end_time": "2024-09-22T12:53:04.624475Z",
     "start_time": "2024-09-22T12:53:04.616014Z"
    }
   },
   "outputs": [],
   "execution_count": 10
  },
  {
   "cell_type": "code",
   "source": [
    "# Data Augmentation\n",
    "datagen = ImageDataGenerator(\n",
    "    rotation_range=10,\n",
    "    width_shift_range=0.1,\n",
    "    height_shift_range=0.1,\n",
    "    zoom_range=0.1\n",
    ")"
   ],
   "metadata": {
    "id": "FtXxunBFTcn7",
    "ExecuteTime": {
     "end_time": "2024-09-22T12:53:04.630393Z",
     "start_time": "2024-09-22T12:53:04.626173Z"
    }
   },
   "outputs": [],
   "execution_count": 11
  },
  {
   "cell_type": "code",
   "source": [
    "# Building the modified CNN model\n",
    "model = Sequential()\n",
    "\n",
    "# First Conv Layer with BatchNorm and MaxPooling\n",
    "model.add(Conv2D(32, kernel_size=(3, 3), activation='relu', input_shape=(64, 64, 1)))\n",
    "model.add(BatchNormalization())\n",
    "model.add(MaxPooling2D(pool_size=(2, 2)))\n",
    "\n",
    "# Second Conv Layer with BatchNorm and MaxPooling\n",
    "model.add(Conv2D(64, kernel_size=(3, 3), activation='relu'))\n",
    "model.add(BatchNormalization())\n",
    "model.add(MaxPooling2D(pool_size=(2, 2)))\n",
    "\n",
    "# Third Conv Layer for deeper feature extraction\n",
    "model.add(Conv2D(128, kernel_size=(3, 3), activation='relu'))\n",
    "model.add(BatchNormalization())\n",
    "model.add(MaxPooling2D(pool_size=(2, 2)))\n",
    "\n",
    "# Flattening the output for the Dense Layers\n",
    "model.add(Flatten())\n",
    "\n",
    "# Fully Connected Layer with Dropout and L2 Regularization\n",
    "model.add(Dense(256, activation='relu', kernel_regularizer=l2(0.01)))\n",
    "model.add(Dropout(0.6))\n",
    "\n",
    "# Fully Connected Layer with higher neurons and L2 Regularization\n",
    "model.add(Dense(128, activation='relu', kernel_regularizer=l2(0.01)))\n",
    "model.add(Dropout(0.6))\n",
    "\n",
    "# Output Layer\n",
    "model.add(Dense(num_classes, activation='softmax'))\n",
    "\n"
   ],
   "metadata": {
    "id": "PXHtWiMr0DtY",
    "ExecuteTime": {
     "end_time": "2024-09-22T12:53:04.873856Z",
     "start_time": "2024-09-22T12:53:04.632612Z"
    }
   },
   "outputs": [
    {
     "name": "stderr",
     "output_type": "stream",
     "text": [
      "/home/tsp330/miniconda3/lib/python3.12/site-packages/keras/src/layers/convolutional/base_conv.py:107: UserWarning: Do not pass an `input_shape`/`input_dim` argument to a layer. When using Sequential models, prefer using an `Input(shape)` object as the first layer in the model instead.\n",
      "  super().__init__(activity_regularizer=activity_regularizer, **kwargs)\n"
     ]
    }
   ],
   "execution_count": 12
  },
  {
   "cell_type": "code",
   "source": [
    "# Compile the model with a learning rate scheduler and Adam optimizer\n",
    "model.compile(optimizer=Adam(learning_rate=0.001), loss='categorical_crossentropy', metrics=['accuracy'])\n",
    "\n",
    "# Learning rate scheduler to reduce the learning rate when a plateau in validation loss is detected\n",
    "lr_scheduler = ReduceLROnPlateau(monitor='val_loss', factor=0.2, patience=5, min_lr=1e-5)\n",
    "\n",
    "# Model Summary\n",
    "model.summary()\n"
   ],
   "metadata": {
    "colab": {
     "base_uri": "https://localhost:8080/"
    },
    "id": "putnYN1V0L3c",
    "outputId": "2295c350-4fe1-4bf5-e8b5-9199454c8780",
    "ExecuteTime": {
     "end_time": "2024-09-22T12:53:04.906430Z",
     "start_time": "2024-09-22T12:53:04.875487Z"
    }
   },
   "outputs": [
    {
     "data": {
      "text/plain": [
       "\u001B[1mModel: \"sequential\"\u001B[0m\n"
      ],
      "text/html": [
       "<pre style=\"white-space:pre;overflow-x:auto;line-height:normal;font-family:Menlo,'DejaVu Sans Mono',consolas,'Courier New',monospace\"><span style=\"font-weight: bold\">Model: \"sequential\"</span>\n",
       "</pre>\n"
      ]
     },
     "metadata": {},
     "output_type": "display_data"
    },
    {
     "data": {
      "text/plain": [
       "┏━━━━━━━━━━━━━━━━━━━━━━━━━━━━━━━━━┳━━━━━━━━━━━━━━━━━━━━━━━━┳━━━━━━━━━━━━━━━┓\n",
       "┃\u001B[1m \u001B[0m\u001B[1mLayer (type)                   \u001B[0m\u001B[1m \u001B[0m┃\u001B[1m \u001B[0m\u001B[1mOutput Shape          \u001B[0m\u001B[1m \u001B[0m┃\u001B[1m \u001B[0m\u001B[1m      Param #\u001B[0m\u001B[1m \u001B[0m┃\n",
       "┡━━━━━━━━━━━━━━━━━━━━━━━━━━━━━━━━━╇━━━━━━━━━━━━━━━━━━━━━━━━╇━━━━━━━━━━━━━━━┩\n",
       "│ conv2d (\u001B[38;5;33mConv2D\u001B[0m)                 │ (\u001B[38;5;45mNone\u001B[0m, \u001B[38;5;34m62\u001B[0m, \u001B[38;5;34m62\u001B[0m, \u001B[38;5;34m32\u001B[0m)     │           \u001B[38;5;34m320\u001B[0m │\n",
       "├─────────────────────────────────┼────────────────────────┼───────────────┤\n",
       "│ batch_normalization             │ (\u001B[38;5;45mNone\u001B[0m, \u001B[38;5;34m62\u001B[0m, \u001B[38;5;34m62\u001B[0m, \u001B[38;5;34m32\u001B[0m)     │           \u001B[38;5;34m128\u001B[0m │\n",
       "│ (\u001B[38;5;33mBatchNormalization\u001B[0m)            │                        │               │\n",
       "├─────────────────────────────────┼────────────────────────┼───────────────┤\n",
       "│ max_pooling2d (\u001B[38;5;33mMaxPooling2D\u001B[0m)    │ (\u001B[38;5;45mNone\u001B[0m, \u001B[38;5;34m31\u001B[0m, \u001B[38;5;34m31\u001B[0m, \u001B[38;5;34m32\u001B[0m)     │             \u001B[38;5;34m0\u001B[0m │\n",
       "├─────────────────────────────────┼────────────────────────┼───────────────┤\n",
       "│ conv2d_1 (\u001B[38;5;33mConv2D\u001B[0m)               │ (\u001B[38;5;45mNone\u001B[0m, \u001B[38;5;34m29\u001B[0m, \u001B[38;5;34m29\u001B[0m, \u001B[38;5;34m64\u001B[0m)     │        \u001B[38;5;34m18,496\u001B[0m │\n",
       "├─────────────────────────────────┼────────────────────────┼───────────────┤\n",
       "│ batch_normalization_1           │ (\u001B[38;5;45mNone\u001B[0m, \u001B[38;5;34m29\u001B[0m, \u001B[38;5;34m29\u001B[0m, \u001B[38;5;34m64\u001B[0m)     │           \u001B[38;5;34m256\u001B[0m │\n",
       "│ (\u001B[38;5;33mBatchNormalization\u001B[0m)            │                        │               │\n",
       "├─────────────────────────────────┼────────────────────────┼───────────────┤\n",
       "│ max_pooling2d_1 (\u001B[38;5;33mMaxPooling2D\u001B[0m)  │ (\u001B[38;5;45mNone\u001B[0m, \u001B[38;5;34m14\u001B[0m, \u001B[38;5;34m14\u001B[0m, \u001B[38;5;34m64\u001B[0m)     │             \u001B[38;5;34m0\u001B[0m │\n",
       "├─────────────────────────────────┼────────────────────────┼───────────────┤\n",
       "│ conv2d_2 (\u001B[38;5;33mConv2D\u001B[0m)               │ (\u001B[38;5;45mNone\u001B[0m, \u001B[38;5;34m12\u001B[0m, \u001B[38;5;34m12\u001B[0m, \u001B[38;5;34m128\u001B[0m)    │        \u001B[38;5;34m73,856\u001B[0m │\n",
       "├─────────────────────────────────┼────────────────────────┼───────────────┤\n",
       "│ batch_normalization_2           │ (\u001B[38;5;45mNone\u001B[0m, \u001B[38;5;34m12\u001B[0m, \u001B[38;5;34m12\u001B[0m, \u001B[38;5;34m128\u001B[0m)    │           \u001B[38;5;34m512\u001B[0m │\n",
       "│ (\u001B[38;5;33mBatchNormalization\u001B[0m)            │                        │               │\n",
       "├─────────────────────────────────┼────────────────────────┼───────────────┤\n",
       "│ max_pooling2d_2 (\u001B[38;5;33mMaxPooling2D\u001B[0m)  │ (\u001B[38;5;45mNone\u001B[0m, \u001B[38;5;34m6\u001B[0m, \u001B[38;5;34m6\u001B[0m, \u001B[38;5;34m128\u001B[0m)      │             \u001B[38;5;34m0\u001B[0m │\n",
       "├─────────────────────────────────┼────────────────────────┼───────────────┤\n",
       "│ flatten (\u001B[38;5;33mFlatten\u001B[0m)               │ (\u001B[38;5;45mNone\u001B[0m, \u001B[38;5;34m4608\u001B[0m)           │             \u001B[38;5;34m0\u001B[0m │\n",
       "├─────────────────────────────────┼────────────────────────┼───────────────┤\n",
       "│ dense (\u001B[38;5;33mDense\u001B[0m)                   │ (\u001B[38;5;45mNone\u001B[0m, \u001B[38;5;34m256\u001B[0m)            │     \u001B[38;5;34m1,179,904\u001B[0m │\n",
       "├─────────────────────────────────┼────────────────────────┼───────────────┤\n",
       "│ dropout (\u001B[38;5;33mDropout\u001B[0m)               │ (\u001B[38;5;45mNone\u001B[0m, \u001B[38;5;34m256\u001B[0m)            │             \u001B[38;5;34m0\u001B[0m │\n",
       "├─────────────────────────────────┼────────────────────────┼───────────────┤\n",
       "│ dense_1 (\u001B[38;5;33mDense\u001B[0m)                 │ (\u001B[38;5;45mNone\u001B[0m, \u001B[38;5;34m128\u001B[0m)            │        \u001B[38;5;34m32,896\u001B[0m │\n",
       "├─────────────────────────────────┼────────────────────────┼───────────────┤\n",
       "│ dropout_1 (\u001B[38;5;33mDropout\u001B[0m)             │ (\u001B[38;5;45mNone\u001B[0m, \u001B[38;5;34m128\u001B[0m)            │             \u001B[38;5;34m0\u001B[0m │\n",
       "├─────────────────────────────────┼────────────────────────┼───────────────┤\n",
       "│ dense_2 (\u001B[38;5;33mDense\u001B[0m)                 │ (\u001B[38;5;45mNone\u001B[0m, \u001B[38;5;34m87\u001B[0m)             │        \u001B[38;5;34m11,223\u001B[0m │\n",
       "└─────────────────────────────────┴────────────────────────┴───────────────┘\n"
      ],
      "text/html": [
       "<pre style=\"white-space:pre;overflow-x:auto;line-height:normal;font-family:Menlo,'DejaVu Sans Mono',consolas,'Courier New',monospace\">┏━━━━━━━━━━━━━━━━━━━━━━━━━━━━━━━━━┳━━━━━━━━━━━━━━━━━━━━━━━━┳━━━━━━━━━━━━━━━┓\n",
       "┃<span style=\"font-weight: bold\"> Layer (type)                    </span>┃<span style=\"font-weight: bold\"> Output Shape           </span>┃<span style=\"font-weight: bold\">       Param # </span>┃\n",
       "┡━━━━━━━━━━━━━━━━━━━━━━━━━━━━━━━━━╇━━━━━━━━━━━━━━━━━━━━━━━━╇━━━━━━━━━━━━━━━┩\n",
       "│ conv2d (<span style=\"color: #0087ff; text-decoration-color: #0087ff\">Conv2D</span>)                 │ (<span style=\"color: #00d7ff; text-decoration-color: #00d7ff\">None</span>, <span style=\"color: #00af00; text-decoration-color: #00af00\">62</span>, <span style=\"color: #00af00; text-decoration-color: #00af00\">62</span>, <span style=\"color: #00af00; text-decoration-color: #00af00\">32</span>)     │           <span style=\"color: #00af00; text-decoration-color: #00af00\">320</span> │\n",
       "├─────────────────────────────────┼────────────────────────┼───────────────┤\n",
       "│ batch_normalization             │ (<span style=\"color: #00d7ff; text-decoration-color: #00d7ff\">None</span>, <span style=\"color: #00af00; text-decoration-color: #00af00\">62</span>, <span style=\"color: #00af00; text-decoration-color: #00af00\">62</span>, <span style=\"color: #00af00; text-decoration-color: #00af00\">32</span>)     │           <span style=\"color: #00af00; text-decoration-color: #00af00\">128</span> │\n",
       "│ (<span style=\"color: #0087ff; text-decoration-color: #0087ff\">BatchNormalization</span>)            │                        │               │\n",
       "├─────────────────────────────────┼────────────────────────┼───────────────┤\n",
       "│ max_pooling2d (<span style=\"color: #0087ff; text-decoration-color: #0087ff\">MaxPooling2D</span>)    │ (<span style=\"color: #00d7ff; text-decoration-color: #00d7ff\">None</span>, <span style=\"color: #00af00; text-decoration-color: #00af00\">31</span>, <span style=\"color: #00af00; text-decoration-color: #00af00\">31</span>, <span style=\"color: #00af00; text-decoration-color: #00af00\">32</span>)     │             <span style=\"color: #00af00; text-decoration-color: #00af00\">0</span> │\n",
       "├─────────────────────────────────┼────────────────────────┼───────────────┤\n",
       "│ conv2d_1 (<span style=\"color: #0087ff; text-decoration-color: #0087ff\">Conv2D</span>)               │ (<span style=\"color: #00d7ff; text-decoration-color: #00d7ff\">None</span>, <span style=\"color: #00af00; text-decoration-color: #00af00\">29</span>, <span style=\"color: #00af00; text-decoration-color: #00af00\">29</span>, <span style=\"color: #00af00; text-decoration-color: #00af00\">64</span>)     │        <span style=\"color: #00af00; text-decoration-color: #00af00\">18,496</span> │\n",
       "├─────────────────────────────────┼────────────────────────┼───────────────┤\n",
       "│ batch_normalization_1           │ (<span style=\"color: #00d7ff; text-decoration-color: #00d7ff\">None</span>, <span style=\"color: #00af00; text-decoration-color: #00af00\">29</span>, <span style=\"color: #00af00; text-decoration-color: #00af00\">29</span>, <span style=\"color: #00af00; text-decoration-color: #00af00\">64</span>)     │           <span style=\"color: #00af00; text-decoration-color: #00af00\">256</span> │\n",
       "│ (<span style=\"color: #0087ff; text-decoration-color: #0087ff\">BatchNormalization</span>)            │                        │               │\n",
       "├─────────────────────────────────┼────────────────────────┼───────────────┤\n",
       "│ max_pooling2d_1 (<span style=\"color: #0087ff; text-decoration-color: #0087ff\">MaxPooling2D</span>)  │ (<span style=\"color: #00d7ff; text-decoration-color: #00d7ff\">None</span>, <span style=\"color: #00af00; text-decoration-color: #00af00\">14</span>, <span style=\"color: #00af00; text-decoration-color: #00af00\">14</span>, <span style=\"color: #00af00; text-decoration-color: #00af00\">64</span>)     │             <span style=\"color: #00af00; text-decoration-color: #00af00\">0</span> │\n",
       "├─────────────────────────────────┼────────────────────────┼───────────────┤\n",
       "│ conv2d_2 (<span style=\"color: #0087ff; text-decoration-color: #0087ff\">Conv2D</span>)               │ (<span style=\"color: #00d7ff; text-decoration-color: #00d7ff\">None</span>, <span style=\"color: #00af00; text-decoration-color: #00af00\">12</span>, <span style=\"color: #00af00; text-decoration-color: #00af00\">12</span>, <span style=\"color: #00af00; text-decoration-color: #00af00\">128</span>)    │        <span style=\"color: #00af00; text-decoration-color: #00af00\">73,856</span> │\n",
       "├─────────────────────────────────┼────────────────────────┼───────────────┤\n",
       "│ batch_normalization_2           │ (<span style=\"color: #00d7ff; text-decoration-color: #00d7ff\">None</span>, <span style=\"color: #00af00; text-decoration-color: #00af00\">12</span>, <span style=\"color: #00af00; text-decoration-color: #00af00\">12</span>, <span style=\"color: #00af00; text-decoration-color: #00af00\">128</span>)    │           <span style=\"color: #00af00; text-decoration-color: #00af00\">512</span> │\n",
       "│ (<span style=\"color: #0087ff; text-decoration-color: #0087ff\">BatchNormalization</span>)            │                        │               │\n",
       "├─────────────────────────────────┼────────────────────────┼───────────────┤\n",
       "│ max_pooling2d_2 (<span style=\"color: #0087ff; text-decoration-color: #0087ff\">MaxPooling2D</span>)  │ (<span style=\"color: #00d7ff; text-decoration-color: #00d7ff\">None</span>, <span style=\"color: #00af00; text-decoration-color: #00af00\">6</span>, <span style=\"color: #00af00; text-decoration-color: #00af00\">6</span>, <span style=\"color: #00af00; text-decoration-color: #00af00\">128</span>)      │             <span style=\"color: #00af00; text-decoration-color: #00af00\">0</span> │\n",
       "├─────────────────────────────────┼────────────────────────┼───────────────┤\n",
       "│ flatten (<span style=\"color: #0087ff; text-decoration-color: #0087ff\">Flatten</span>)               │ (<span style=\"color: #00d7ff; text-decoration-color: #00d7ff\">None</span>, <span style=\"color: #00af00; text-decoration-color: #00af00\">4608</span>)           │             <span style=\"color: #00af00; text-decoration-color: #00af00\">0</span> │\n",
       "├─────────────────────────────────┼────────────────────────┼───────────────┤\n",
       "│ dense (<span style=\"color: #0087ff; text-decoration-color: #0087ff\">Dense</span>)                   │ (<span style=\"color: #00d7ff; text-decoration-color: #00d7ff\">None</span>, <span style=\"color: #00af00; text-decoration-color: #00af00\">256</span>)            │     <span style=\"color: #00af00; text-decoration-color: #00af00\">1,179,904</span> │\n",
       "├─────────────────────────────────┼────────────────────────┼───────────────┤\n",
       "│ dropout (<span style=\"color: #0087ff; text-decoration-color: #0087ff\">Dropout</span>)               │ (<span style=\"color: #00d7ff; text-decoration-color: #00d7ff\">None</span>, <span style=\"color: #00af00; text-decoration-color: #00af00\">256</span>)            │             <span style=\"color: #00af00; text-decoration-color: #00af00\">0</span> │\n",
       "├─────────────────────────────────┼────────────────────────┼───────────────┤\n",
       "│ dense_1 (<span style=\"color: #0087ff; text-decoration-color: #0087ff\">Dense</span>)                 │ (<span style=\"color: #00d7ff; text-decoration-color: #00d7ff\">None</span>, <span style=\"color: #00af00; text-decoration-color: #00af00\">128</span>)            │        <span style=\"color: #00af00; text-decoration-color: #00af00\">32,896</span> │\n",
       "├─────────────────────────────────┼────────────────────────┼───────────────┤\n",
       "│ dropout_1 (<span style=\"color: #0087ff; text-decoration-color: #0087ff\">Dropout</span>)             │ (<span style=\"color: #00d7ff; text-decoration-color: #00d7ff\">None</span>, <span style=\"color: #00af00; text-decoration-color: #00af00\">128</span>)            │             <span style=\"color: #00af00; text-decoration-color: #00af00\">0</span> │\n",
       "├─────────────────────────────────┼────────────────────────┼───────────────┤\n",
       "│ dense_2 (<span style=\"color: #0087ff; text-decoration-color: #0087ff\">Dense</span>)                 │ (<span style=\"color: #00d7ff; text-decoration-color: #00d7ff\">None</span>, <span style=\"color: #00af00; text-decoration-color: #00af00\">87</span>)             │        <span style=\"color: #00af00; text-decoration-color: #00af00\">11,223</span> │\n",
       "└─────────────────────────────────┴────────────────────────┴───────────────┘\n",
       "</pre>\n"
      ]
     },
     "metadata": {},
     "output_type": "display_data"
    },
    {
     "data": {
      "text/plain": [
       "\u001B[1m Total params: \u001B[0m\u001B[38;5;34m1,317,591\u001B[0m (5.03 MB)\n"
      ],
      "text/html": [
       "<pre style=\"white-space:pre;overflow-x:auto;line-height:normal;font-family:Menlo,'DejaVu Sans Mono',consolas,'Courier New',monospace\"><span style=\"font-weight: bold\"> Total params: </span><span style=\"color: #00af00; text-decoration-color: #00af00\">1,317,591</span> (5.03 MB)\n",
       "</pre>\n"
      ]
     },
     "metadata": {},
     "output_type": "display_data"
    },
    {
     "data": {
      "text/plain": [
       "\u001B[1m Trainable params: \u001B[0m\u001B[38;5;34m1,317,143\u001B[0m (5.02 MB)\n"
      ],
      "text/html": [
       "<pre style=\"white-space:pre;overflow-x:auto;line-height:normal;font-family:Menlo,'DejaVu Sans Mono',consolas,'Courier New',monospace\"><span style=\"font-weight: bold\"> Trainable params: </span><span style=\"color: #00af00; text-decoration-color: #00af00\">1,317,143</span> (5.02 MB)\n",
       "</pre>\n"
      ]
     },
     "metadata": {},
     "output_type": "display_data"
    },
    {
     "data": {
      "text/plain": [
       "\u001B[1m Non-trainable params: \u001B[0m\u001B[38;5;34m448\u001B[0m (1.75 KB)\n"
      ],
      "text/html": [
       "<pre style=\"white-space:pre;overflow-x:auto;line-height:normal;font-family:Menlo,'DejaVu Sans Mono',consolas,'Courier New',monospace\"><span style=\"font-weight: bold\"> Non-trainable params: </span><span style=\"color: #00af00; text-decoration-color: #00af00\">448</span> (1.75 KB)\n",
       "</pre>\n"
      ]
     },
     "metadata": {},
     "output_type": "display_data"
    }
   ],
   "execution_count": 13
  },
  {
   "cell_type": "code",
   "source": [
    "# Set up callbacks\n",
    "early_stopping = tf.keras.callbacks.EarlyStopping(monitor='val_loss', patience=10, restore_best_weights=True)\n",
    "model_checkpoint = tf.keras.callbacks.ModelCheckpoint('best_model.keras', save_best_only=True, monitor='val_loss')\n",
    "\n",
    "# Train the model\n",
    "history = model.fit(X_train, y_train,\n",
    "                        epochs=150, validation_data=(X_test, y_test),\n",
    "                        callbacks=[early_stopping, model_checkpoint, lr_scheduler]\n",
    "                        )"
   ],
   "metadata": {
    "id": "23mty2H34ZLd",
    "colab": {
     "base_uri": "https://localhost:8080/"
    },
    "outputId": "1023ea60-dd47-4536-a161-b63930a09358",
    "ExecuteTime": {
     "end_time": "2024-09-22T16:15:21.913001Z",
     "start_time": "2024-09-22T12:53:04.907725Z"
    }
   },
   "outputs": [
    {
     "name": "stdout",
     "output_type": "stream",
     "text": [
      "Epoch 1/150\n",
      "\u001B[1m1136/1136\u001B[0m \u001B[32m━━━━━━━━━━━━━━━━━━━━\u001B[0m\u001B[37m\u001B[0m \u001B[1m148s\u001B[0m 128ms/step - accuracy: 0.3318 - loss: 6.5353 - val_accuracy: 0.2742 - val_loss: 3.9785 - learning_rate: 0.0010\n",
      "Epoch 2/150\n",
      "\u001B[1m1136/1136\u001B[0m \u001B[32m━━━━━━━━━━━━━━━━━━━━\u001B[0m\u001B[37m\u001B[0m \u001B[1m150s\u001B[0m 132ms/step - accuracy: 0.5689 - loss: 2.6813 - val_accuracy: 0.6458 - val_loss: 2.8054 - learning_rate: 0.0010\n",
      "Epoch 3/150\n",
      "\u001B[1m1136/1136\u001B[0m \u001B[32m━━━━━━━━━━━━━━━━━━━━\u001B[0m\u001B[37m\u001B[0m \u001B[1m158s\u001B[0m 139ms/step - accuracy: 0.6409 - loss: 2.4512 - val_accuracy: 0.2590 - val_loss: 20.3402 - learning_rate: 0.0010\n",
      "Epoch 4/150\n",
      "\u001B[1m1136/1136\u001B[0m \u001B[32m━━━━━━━━━━━━━━━━━━━━\u001B[0m\u001B[37m\u001B[0m \u001B[1m164s\u001B[0m 145ms/step - accuracy: 0.6833 - loss: 2.2860 - val_accuracy: 0.2737 - val_loss: 3.9727 - learning_rate: 0.0010\n",
      "Epoch 5/150\n",
      "\u001B[1m1136/1136\u001B[0m \u001B[32m━━━━━━━━━━━━━━━━━━━━\u001B[0m\u001B[37m\u001B[0m \u001B[1m153s\u001B[0m 135ms/step - accuracy: 0.7060 - loss: 2.1968 - val_accuracy: 0.0902 - val_loss: 7.5628 - learning_rate: 0.0010\n",
      "Epoch 6/150\n",
      "\u001B[1m1136/1136\u001B[0m \u001B[32m━━━━━━━━━━━━━━━━━━━━\u001B[0m\u001B[37m\u001B[0m \u001B[1m136s\u001B[0m 120ms/step - accuracy: 0.7185 - loss: 2.1423 - val_accuracy: 0.0989 - val_loss: 10.5303 - learning_rate: 0.0010\n",
      "Epoch 7/150\n",
      "\u001B[1m1136/1136\u001B[0m \u001B[32m━━━━━━━━━━━━━━━━━━━━\u001B[0m\u001B[37m\u001B[0m \u001B[1m133s\u001B[0m 117ms/step - accuracy: 0.7288 - loss: 2.1051 - val_accuracy: 0.2912 - val_loss: 4.4659 - learning_rate: 0.0010\n",
      "Epoch 8/150\n",
      "\u001B[1m1136/1136\u001B[0m \u001B[32m━━━━━━━━━━━━━━━━━━━━\u001B[0m\u001B[37m\u001B[0m \u001B[1m130s\u001B[0m 115ms/step - accuracy: 0.7736 - loss: 1.6982 - val_accuracy: 0.8017 - val_loss: 1.2190 - learning_rate: 2.0000e-04\n",
      "Epoch 9/150\n",
      "\u001B[1m1136/1136\u001B[0m \u001B[32m━━━━━━━━━━━━━━━━━━━━\u001B[0m\u001B[37m\u001B[0m \u001B[1m139s\u001B[0m 123ms/step - accuracy: 0.8104 - loss: 1.1701 - val_accuracy: 0.8656 - val_loss: 0.9578 - learning_rate: 2.0000e-04\n",
      "Epoch 10/150\n",
      "\u001B[1m1136/1136\u001B[0m \u001B[32m━━━━━━━━━━━━━━━━━━━━\u001B[0m\u001B[37m\u001B[0m \u001B[1m157s\u001B[0m 138ms/step - accuracy: 0.8250 - loss: 1.0438 - val_accuracy: 0.7540 - val_loss: 1.2399 - learning_rate: 2.0000e-04\n",
      "Epoch 11/150\n",
      "\u001B[1m1136/1136\u001B[0m \u001B[32m━━━━━━━━━━━━━━━━━━━━\u001B[0m\u001B[37m\u001B[0m \u001B[1m158s\u001B[0m 139ms/step - accuracy: 0.8304 - loss: 1.0015 - val_accuracy: 0.7801 - val_loss: 1.1794 - learning_rate: 2.0000e-04\n",
      "Epoch 12/150\n",
      "\u001B[1m1136/1136\u001B[0m \u001B[32m━━━━━━━━━━━━━━━━━━━━\u001B[0m\u001B[37m\u001B[0m \u001B[1m148s\u001B[0m 130ms/step - accuracy: 0.8387 - loss: 0.9697 - val_accuracy: 0.8608 - val_loss: 0.8892 - learning_rate: 2.0000e-04\n",
      "Epoch 13/150\n",
      "\u001B[1m1136/1136\u001B[0m \u001B[32m━━━━━━━━━━━━━━━━━━━━\u001B[0m\u001B[37m\u001B[0m \u001B[1m155s\u001B[0m 137ms/step - accuracy: 0.8404 - loss: 0.9564 - val_accuracy: 0.5569 - val_loss: 2.3591 - learning_rate: 2.0000e-04\n",
      "Epoch 14/150\n",
      "\u001B[1m1136/1136\u001B[0m \u001B[32m━━━━━━━━━━━━━━━━━━━━\u001B[0m\u001B[37m\u001B[0m \u001B[1m153s\u001B[0m 135ms/step - accuracy: 0.8467 - loss: 0.9269 - val_accuracy: 0.8112 - val_loss: 1.0792 - learning_rate: 2.0000e-04\n",
      "Epoch 15/150\n",
      "\u001B[1m1136/1136\u001B[0m \u001B[32m━━━━━━━━━━━━━━━━━━━━\u001B[0m\u001B[37m\u001B[0m \u001B[1m154s\u001B[0m 136ms/step - accuracy: 0.8489 - loss: 0.9207 - val_accuracy: 0.4477 - val_loss: 12.4820 - learning_rate: 2.0000e-04\n",
      "Epoch 16/150\n",
      "\u001B[1m1136/1136\u001B[0m \u001B[32m━━━━━━━━━━━━━━━━━━━━\u001B[0m\u001B[37m\u001B[0m \u001B[1m183s\u001B[0m 161ms/step - accuracy: 0.8518 - loss: 0.9032 - val_accuracy: 0.3936 - val_loss: 14.6635 - learning_rate: 2.0000e-04\n",
      "Epoch 17/150\n",
      "\u001B[1m1136/1136\u001B[0m \u001B[32m━━━━━━━━━━━━━━━━━━━━\u001B[0m\u001B[37m\u001B[0m \u001B[1m163s\u001B[0m 144ms/step - accuracy: 0.8550 - loss: 0.8940 - val_accuracy: 0.4922 - val_loss: 7.3882 - learning_rate: 2.0000e-04\n",
      "Epoch 18/150\n",
      "\u001B[1m1136/1136\u001B[0m \u001B[32m━━━━━━━━━━━━━━━━━━━━\u001B[0m\u001B[37m\u001B[0m \u001B[1m187s\u001B[0m 164ms/step - accuracy: 0.8723 - loss: 0.8435 - val_accuracy: 0.8844 - val_loss: 0.7673 - learning_rate: 4.0000e-05\n",
      "Epoch 19/150\n",
      "\u001B[1m1136/1136\u001B[0m \u001B[32m━━━━━━━━━━━━━━━━━━━━\u001B[0m\u001B[37m\u001B[0m \u001B[1m185s\u001B[0m 163ms/step - accuracy: 0.8782 - loss: 0.7616 - val_accuracy: 0.8938 - val_loss: 0.6834 - learning_rate: 4.0000e-05\n",
      "Epoch 20/150\n",
      "\u001B[1m1136/1136\u001B[0m \u001B[32m━━━━━━━━━━━━━━━━━━━━\u001B[0m\u001B[37m\u001B[0m \u001B[1m219s\u001B[0m 192ms/step - accuracy: 0.8869 - loss: 0.7060 - val_accuracy: 0.8990 - val_loss: 0.6453 - learning_rate: 4.0000e-05\n",
      "Epoch 21/150\n",
      "\u001B[1m1136/1136\u001B[0m \u001B[32m━━━━━━━━━━━━━━━━━━━━\u001B[0m\u001B[37m\u001B[0m \u001B[1m189s\u001B[0m 166ms/step - accuracy: 0.8878 - loss: 0.6865 - val_accuracy: 0.8815 - val_loss: 0.7006 - learning_rate: 4.0000e-05\n",
      "Epoch 22/150\n",
      "\u001B[1m1136/1136\u001B[0m \u001B[32m━━━━━━━━━━━━━━━━━━━━\u001B[0m\u001B[37m\u001B[0m \u001B[1m193s\u001B[0m 170ms/step - accuracy: 0.8920 - loss: 0.6564 - val_accuracy: 0.8984 - val_loss: 0.6182 - learning_rate: 4.0000e-05\n",
      "Epoch 23/150\n",
      "\u001B[1m1136/1136\u001B[0m \u001B[32m━━━━━━━━━━━━━━━━━━━━\u001B[0m\u001B[37m\u001B[0m \u001B[1m188s\u001B[0m 165ms/step - accuracy: 0.8925 - loss: 0.6424 - val_accuracy: 0.8923 - val_loss: 0.6544 - learning_rate: 4.0000e-05\n",
      "Epoch 24/150\n",
      "\u001B[1m1136/1136\u001B[0m \u001B[32m━━━━━━━━━━━━━━━━━━━━\u001B[0m\u001B[37m\u001B[0m \u001B[1m191s\u001B[0m 168ms/step - accuracy: 0.8915 - loss: 0.6362 - val_accuracy: 0.8450 - val_loss: 1.0547 - learning_rate: 4.0000e-05\n",
      "Epoch 25/150\n",
      "\u001B[1m1136/1136\u001B[0m \u001B[32m━━━━━━━━━━━━━━━━━━━━\u001B[0m\u001B[37m\u001B[0m \u001B[1m185s\u001B[0m 163ms/step - accuracy: 0.8974 - loss: 0.6136 - val_accuracy: 0.9021 - val_loss: 0.5907 - learning_rate: 4.0000e-05\n",
      "Epoch 26/150\n",
      "\u001B[1m1136/1136\u001B[0m \u001B[32m━━━━━━━━━━━━━━━━━━━━\u001B[0m\u001B[37m\u001B[0m \u001B[1m179s\u001B[0m 157ms/step - accuracy: 0.8984 - loss: 0.5965 - val_accuracy: 0.8994 - val_loss: 0.5925 - learning_rate: 4.0000e-05\n",
      "Epoch 27/150\n",
      "\u001B[1m1136/1136\u001B[0m \u001B[32m━━━━━━━━━━━━━━━━━━━━\u001B[0m\u001B[37m\u001B[0m \u001B[1m161s\u001B[0m 141ms/step - accuracy: 0.9026 - loss: 0.5951 - val_accuracy: 0.8834 - val_loss: 0.6813 - learning_rate: 4.0000e-05\n",
      "Epoch 28/150\n",
      "\u001B[1m1136/1136\u001B[0m \u001B[32m━━━━━━━━━━━━━━━━━━━━\u001B[0m\u001B[37m\u001B[0m \u001B[1m151s\u001B[0m 133ms/step - accuracy: 0.9008 - loss: 0.5878 - val_accuracy: 0.9028 - val_loss: 0.5866 - learning_rate: 4.0000e-05\n",
      "Epoch 29/150\n",
      "\u001B[1m1136/1136\u001B[0m \u001B[32m━━━━━━━━━━━━━━━━━━━━\u001B[0m\u001B[37m\u001B[0m \u001B[1m155s\u001B[0m 137ms/step - accuracy: 0.9035 - loss: 0.5857 - val_accuracy: 0.9028 - val_loss: 0.5825 - learning_rate: 4.0000e-05\n",
      "Epoch 30/150\n",
      "\u001B[1m1136/1136\u001B[0m \u001B[32m━━━━━━━━━━━━━━━━━━━━\u001B[0m\u001B[37m\u001B[0m \u001B[1m161s\u001B[0m 142ms/step - accuracy: 0.9046 - loss: 0.5764 - val_accuracy: 0.9006 - val_loss: 0.5945 - learning_rate: 4.0000e-05\n",
      "Epoch 31/150\n",
      "\u001B[1m1136/1136\u001B[0m \u001B[32m━━━━━━━━━━━━━━━━━━━━\u001B[0m\u001B[37m\u001B[0m \u001B[1m149s\u001B[0m 131ms/step - accuracy: 0.9068 - loss: 0.5623 - val_accuracy: 0.9029 - val_loss: 0.5854 - learning_rate: 4.0000e-05\n",
      "Epoch 32/150\n",
      "\u001B[1m1136/1136\u001B[0m \u001B[32m━━━━━━━━━━━━━━━━━━━━\u001B[0m\u001B[37m\u001B[0m \u001B[1m147s\u001B[0m 129ms/step - accuracy: 0.9108 - loss: 0.5530 - val_accuracy: 0.8983 - val_loss: 0.6113 - learning_rate: 4.0000e-05\n",
      "Epoch 33/150\n",
      "\u001B[1m1136/1136\u001B[0m \u001B[32m━━━━━━━━━━━━━━━━━━━━\u001B[0m\u001B[37m\u001B[0m \u001B[1m147s\u001B[0m 129ms/step - accuracy: 0.9086 - loss: 0.5555 - val_accuracy: 0.9011 - val_loss: 0.5858 - learning_rate: 4.0000e-05\n",
      "Epoch 34/150\n",
      "\u001B[1m1136/1136\u001B[0m \u001B[32m━━━━━━━━━━━━━━━━━━━━\u001B[0m\u001B[37m\u001B[0m \u001B[1m147s\u001B[0m 129ms/step - accuracy: 0.9112 - loss: 0.5488 - val_accuracy: 0.9020 - val_loss: 0.5833 - learning_rate: 4.0000e-05\n",
      "Epoch 35/150\n",
      "\u001B[1m1136/1136\u001B[0m \u001B[32m━━━━━━━━━━━━━━━━━━━━\u001B[0m\u001B[37m\u001B[0m \u001B[1m152s\u001B[0m 134ms/step - accuracy: 0.9128 - loss: 0.5397 - val_accuracy: 0.9045 - val_loss: 0.5704 - learning_rate: 1.0000e-05\n",
      "Epoch 36/150\n",
      "\u001B[1m1136/1136\u001B[0m \u001B[32m━━━━━━━━━━━━━━━━━━━━\u001B[0m\u001B[37m\u001B[0m \u001B[1m153s\u001B[0m 135ms/step - accuracy: 0.9167 - loss: 0.5281 - val_accuracy: 0.9075 - val_loss: 0.5625 - learning_rate: 1.0000e-05\n",
      "Epoch 37/150\n",
      "\u001B[1m1136/1136\u001B[0m \u001B[32m━━━━━━━━━━━━━━━━━━━━\u001B[0m\u001B[37m\u001B[0m \u001B[1m148s\u001B[0m 130ms/step - accuracy: 0.9172 - loss: 0.5235 - val_accuracy: 0.9065 - val_loss: 0.5625 - learning_rate: 1.0000e-05\n",
      "Epoch 38/150\n",
      "\u001B[1m1136/1136\u001B[0m \u001B[32m━━━━━━━━━━━━━━━━━━━━\u001B[0m\u001B[37m\u001B[0m \u001B[1m147s\u001B[0m 129ms/step - accuracy: 0.9169 - loss: 0.5213 - val_accuracy: 0.9059 - val_loss: 0.5568 - learning_rate: 1.0000e-05\n",
      "Epoch 39/150\n",
      "\u001B[1m1136/1136\u001B[0m \u001B[32m━━━━━━━━━━━━━━━━━━━━\u001B[0m\u001B[37m\u001B[0m \u001B[1m146s\u001B[0m 129ms/step - accuracy: 0.9205 - loss: 0.5147 - val_accuracy: 0.9045 - val_loss: 0.5606 - learning_rate: 1.0000e-05\n",
      "Epoch 40/150\n",
      "\u001B[1m1136/1136\u001B[0m \u001B[32m━━━━━━━━━━━━━━━━━━━━\u001B[0m\u001B[37m\u001B[0m \u001B[1m152s\u001B[0m 134ms/step - accuracy: 0.9209 - loss: 0.5077 - val_accuracy: 0.9056 - val_loss: 0.5572 - learning_rate: 1.0000e-05\n",
      "Epoch 41/150\n",
      "\u001B[1m1136/1136\u001B[0m \u001B[32m━━━━━━━━━━━━━━━━━━━━\u001B[0m\u001B[37m\u001B[0m \u001B[1m155s\u001B[0m 137ms/step - accuracy: 0.9222 - loss: 0.5037 - val_accuracy: 0.9068 - val_loss: 0.5568 - learning_rate: 1.0000e-05\n",
      "Epoch 42/150\n",
      "\u001B[1m1136/1136\u001B[0m \u001B[32m━━━━━━━━━━━━━━━━━━━━\u001B[0m\u001B[37m\u001B[0m \u001B[1m152s\u001B[0m 134ms/step - accuracy: 0.9216 - loss: 0.4939 - val_accuracy: 0.9068 - val_loss: 0.5544 - learning_rate: 1.0000e-05\n",
      "Epoch 43/150\n",
      "\u001B[1m1136/1136\u001B[0m \u001B[32m━━━━━━━━━━━━━━━━━━━━\u001B[0m\u001B[37m\u001B[0m \u001B[1m148s\u001B[0m 130ms/step - accuracy: 0.9189 - loss: 0.5016 - val_accuracy: 0.9072 - val_loss: 0.5493 - learning_rate: 1.0000e-05\n",
      "Epoch 44/150\n",
      "\u001B[1m1136/1136\u001B[0m \u001B[32m━━━━━━━━━━━━━━━━━━━━\u001B[0m\u001B[37m\u001B[0m \u001B[1m153s\u001B[0m 134ms/step - accuracy: 0.9253 - loss: 0.4911 - val_accuracy: 0.9068 - val_loss: 0.5489 - learning_rate: 1.0000e-05\n",
      "Epoch 45/150\n",
      "\u001B[1m1136/1136\u001B[0m \u001B[32m━━━━━━━━━━━━━━━━━━━━\u001B[0m\u001B[37m\u001B[0m \u001B[1m154s\u001B[0m 136ms/step - accuracy: 0.9218 - loss: 0.4948 - val_accuracy: 0.9076 - val_loss: 0.5493 - learning_rate: 1.0000e-05\n",
      "Epoch 46/150\n",
      "\u001B[1m1136/1136\u001B[0m \u001B[32m━━━━━━━━━━━━━━━━━━━━\u001B[0m\u001B[37m\u001B[0m \u001B[1m150s\u001B[0m 132ms/step - accuracy: 0.9250 - loss: 0.4889 - val_accuracy: 0.8985 - val_loss: 0.5991 - learning_rate: 1.0000e-05\n",
      "Epoch 47/150\n",
      "\u001B[1m1136/1136\u001B[0m \u001B[32m━━━━━━━━━━━━━━━━━━━━\u001B[0m\u001B[37m\u001B[0m \u001B[1m151s\u001B[0m 133ms/step - accuracy: 0.9234 - loss: 0.4829 - val_accuracy: 0.9057 - val_loss: 0.5542 - learning_rate: 1.0000e-05\n",
      "Epoch 48/150\n",
      "\u001B[1m1136/1136\u001B[0m \u001B[32m━━━━━━━━━━━━━━━━━━━━\u001B[0m\u001B[37m\u001B[0m \u001B[1m156s\u001B[0m 137ms/step - accuracy: 0.9228 - loss: 0.4868 - val_accuracy: 0.9069 - val_loss: 0.5459 - learning_rate: 1.0000e-05\n",
      "Epoch 49/150\n",
      "\u001B[1m1136/1136\u001B[0m \u001B[32m━━━━━━━━━━━━━━━━━━━━\u001B[0m\u001B[37m\u001B[0m \u001B[1m158s\u001B[0m 139ms/step - accuracy: 0.9273 - loss: 0.4755 - val_accuracy: 0.9075 - val_loss: 0.5428 - learning_rate: 1.0000e-05\n",
      "Epoch 50/150\n",
      "\u001B[1m1136/1136\u001B[0m \u001B[32m━━━━━━━━━━━━━━━━━━━━\u001B[0m\u001B[37m\u001B[0m \u001B[1m148s\u001B[0m 130ms/step - accuracy: 0.9246 - loss: 0.4847 - val_accuracy: 0.9071 - val_loss: 0.5482 - learning_rate: 1.0000e-05\n",
      "Epoch 51/150\n",
      "\u001B[1m1136/1136\u001B[0m \u001B[32m━━━━━━━━━━━━━━━━━━━━\u001B[0m\u001B[37m\u001B[0m \u001B[1m153s\u001B[0m 134ms/step - accuracy: 0.9278 - loss: 0.4757 - val_accuracy: 0.9071 - val_loss: 0.5421 - learning_rate: 1.0000e-05\n",
      "Epoch 52/150\n",
      "\u001B[1m1136/1136\u001B[0m \u001B[32m━━━━━━━━━━━━━━━━━━━━\u001B[0m\u001B[37m\u001B[0m \u001B[1m150s\u001B[0m 132ms/step - accuracy: 0.9240 - loss: 0.4794 - val_accuracy: 0.9080 - val_loss: 0.5441 - learning_rate: 1.0000e-05\n",
      "Epoch 53/150\n",
      "\u001B[1m1136/1136\u001B[0m \u001B[32m━━━━━━━━━━━━━━━━━━━━\u001B[0m\u001B[37m\u001B[0m \u001B[1m149s\u001B[0m 131ms/step - accuracy: 0.9253 - loss: 0.4727 - val_accuracy: 0.9060 - val_loss: 0.5519 - learning_rate: 1.0000e-05\n",
      "Epoch 54/150\n",
      "\u001B[1m1136/1136\u001B[0m \u001B[32m━━━━━━━━━━━━━━━━━━━━\u001B[0m\u001B[37m\u001B[0m \u001B[1m154s\u001B[0m 136ms/step - accuracy: 0.9284 - loss: 0.4673 - val_accuracy: 0.9069 - val_loss: 0.5489 - learning_rate: 1.0000e-05\n",
      "Epoch 55/150\n",
      "\u001B[1m1136/1136\u001B[0m \u001B[32m━━━━━━━━━━━━━━━━━━━━\u001B[0m\u001B[37m\u001B[0m \u001B[1m151s\u001B[0m 133ms/step - accuracy: 0.9273 - loss: 0.4713 - val_accuracy: 0.9068 - val_loss: 0.5423 - learning_rate: 1.0000e-05\n",
      "Epoch 56/150\n",
      "\u001B[1m1136/1136\u001B[0m \u001B[32m━━━━━━━━━━━━━━━━━━━━\u001B[0m\u001B[37m\u001B[0m \u001B[1m148s\u001B[0m 130ms/step - accuracy: 0.9287 - loss: 0.4642 - val_accuracy: 0.9068 - val_loss: 0.5465 - learning_rate: 1.0000e-05\n",
      "Epoch 57/150\n",
      "\u001B[1m1136/1136\u001B[0m \u001B[32m━━━━━━━━━━━━━━━━━━━━\u001B[0m\u001B[37m\u001B[0m \u001B[1m147s\u001B[0m 130ms/step - accuracy: 0.9297 - loss: 0.4647 - val_accuracy: 0.9082 - val_loss: 0.5411 - learning_rate: 1.0000e-05\n",
      "Epoch 58/150\n",
      "\u001B[1m1136/1136\u001B[0m \u001B[32m━━━━━━━━━━━━━━━━━━━━\u001B[0m\u001B[37m\u001B[0m \u001B[1m153s\u001B[0m 134ms/step - accuracy: 0.9260 - loss: 0.4710 - val_accuracy: 0.9003 - val_loss: 0.5815 - learning_rate: 1.0000e-05\n",
      "Epoch 59/150\n",
      "\u001B[1m1136/1136\u001B[0m \u001B[32m━━━━━━━━━━━━━━━━━━━━\u001B[0m\u001B[37m\u001B[0m \u001B[1m151s\u001B[0m 133ms/step - accuracy: 0.9297 - loss: 0.4605 - val_accuracy: 0.9071 - val_loss: 0.5402 - learning_rate: 1.0000e-05\n",
      "Epoch 60/150\n",
      "\u001B[1m1136/1136\u001B[0m \u001B[32m━━━━━━━━━━━━━━━━━━━━\u001B[0m\u001B[37m\u001B[0m \u001B[1m152s\u001B[0m 133ms/step - accuracy: 0.9275 - loss: 0.4665 - val_accuracy: 0.9049 - val_loss: 0.5507 - learning_rate: 1.0000e-05\n",
      "Epoch 61/150\n",
      "\u001B[1m1136/1136\u001B[0m \u001B[32m━━━━━━━━━━━━━━━━━━━━\u001B[0m\u001B[37m\u001B[0m \u001B[1m155s\u001B[0m 136ms/step - accuracy: 0.9290 - loss: 0.4559 - val_accuracy: 0.9054 - val_loss: 0.5420 - learning_rate: 1.0000e-05\n",
      "Epoch 62/150\n",
      "\u001B[1m1136/1136\u001B[0m \u001B[32m━━━━━━━━━━━━━━━━━━━━\u001B[0m\u001B[37m\u001B[0m \u001B[1m152s\u001B[0m 133ms/step - accuracy: 0.9269 - loss: 0.4591 - val_accuracy: 0.9062 - val_loss: 0.5441 - learning_rate: 1.0000e-05\n",
      "Epoch 63/150\n",
      "\u001B[1m1136/1136\u001B[0m \u001B[32m━━━━━━━━━━━━━━━━━━━━\u001B[0m\u001B[37m\u001B[0m \u001B[1m153s\u001B[0m 134ms/step - accuracy: 0.9304 - loss: 0.4592 - val_accuracy: 0.9059 - val_loss: 0.5419 - learning_rate: 1.0000e-05\n",
      "Epoch 64/150\n",
      "\u001B[1m1136/1136\u001B[0m \u001B[32m━━━━━━━━━━━━━━━━━━━━\u001B[0m\u001B[37m\u001B[0m \u001B[1m159s\u001B[0m 140ms/step - accuracy: 0.9326 - loss: 0.4509 - val_accuracy: 0.9039 - val_loss: 0.5573 - learning_rate: 1.0000e-05\n",
      "Epoch 65/150\n",
      "\u001B[1m1136/1136\u001B[0m \u001B[32m━━━━━━━━━━━━━━━━━━━━\u001B[0m\u001B[37m\u001B[0m \u001B[1m153s\u001B[0m 135ms/step - accuracy: 0.9339 - loss: 0.4484 - val_accuracy: 0.9075 - val_loss: 0.5403 - learning_rate: 1.0000e-05\n",
      "Epoch 66/150\n",
      "\u001B[1m1136/1136\u001B[0m \u001B[32m━━━━━━━━━━━━━━━━━━━━\u001B[0m\u001B[37m\u001B[0m \u001B[1m152s\u001B[0m 134ms/step - accuracy: 0.9305 - loss: 0.4539 - val_accuracy: 0.9067 - val_loss: 0.5391 - learning_rate: 1.0000e-05\n",
      "Epoch 67/150\n",
      "\u001B[1m1136/1136\u001B[0m \u001B[32m━━━━━━━━━━━━━━━━━━━━\u001B[0m\u001B[37m\u001B[0m \u001B[1m151s\u001B[0m 133ms/step - accuracy: 0.9353 - loss: 0.4434 - val_accuracy: 0.9064 - val_loss: 0.5385 - learning_rate: 1.0000e-05\n",
      "Epoch 68/150\n",
      "\u001B[1m1136/1136\u001B[0m \u001B[32m━━━━━━━━━━━━━━━━━━━━\u001B[0m\u001B[37m\u001B[0m \u001B[1m152s\u001B[0m 134ms/step - accuracy: 0.9334 - loss: 0.4459 - val_accuracy: 0.9071 - val_loss: 0.5354 - learning_rate: 1.0000e-05\n",
      "Epoch 69/150\n",
      "\u001B[1m1136/1136\u001B[0m \u001B[32m━━━━━━━━━━━━━━━━━━━━\u001B[0m\u001B[37m\u001B[0m \u001B[1m175s\u001B[0m 154ms/step - accuracy: 0.9342 - loss: 0.4423 - val_accuracy: 0.9059 - val_loss: 0.5418 - learning_rate: 1.0000e-05\n",
      "Epoch 70/150\n",
      "\u001B[1m1136/1136\u001B[0m \u001B[32m━━━━━━━━━━━━━━━━━━━━\u001B[0m\u001B[37m\u001B[0m \u001B[1m157s\u001B[0m 138ms/step - accuracy: 0.9342 - loss: 0.4463 - val_accuracy: 0.9064 - val_loss: 0.5388 - learning_rate: 1.0000e-05\n",
      "Epoch 71/150\n",
      "\u001B[1m1136/1136\u001B[0m \u001B[32m━━━━━━━━━━━━━━━━━━━━\u001B[0m\u001B[37m\u001B[0m \u001B[1m146s\u001B[0m 128ms/step - accuracy: 0.9370 - loss: 0.4385 - val_accuracy: 0.9062 - val_loss: 0.5455 - learning_rate: 1.0000e-05\n",
      "Epoch 72/150\n",
      "\u001B[1m1136/1136\u001B[0m \u001B[32m━━━━━━━━━━━━━━━━━━━━\u001B[0m\u001B[37m\u001B[0m \u001B[1m144s\u001B[0m 127ms/step - accuracy: 0.9348 - loss: 0.4441 - val_accuracy: 0.9067 - val_loss: 0.5423 - learning_rate: 1.0000e-05\n",
      "Epoch 73/150\n",
      "\u001B[1m1136/1136\u001B[0m \u001B[32m━━━━━━━━━━━━━━━━━━━━\u001B[0m\u001B[37m\u001B[0m \u001B[1m135s\u001B[0m 119ms/step - accuracy: 0.9343 - loss: 0.4364 - val_accuracy: 0.9058 - val_loss: 0.5357 - learning_rate: 1.0000e-05\n",
      "Epoch 74/150\n",
      "\u001B[1m1136/1136\u001B[0m \u001B[32m━━━━━━━━━━━━━━━━━━━━\u001B[0m\u001B[37m\u001B[0m \u001B[1m138s\u001B[0m 122ms/step - accuracy: 0.9351 - loss: 0.4381 - val_accuracy: 0.9043 - val_loss: 0.5505 - learning_rate: 1.0000e-05\n",
      "Epoch 75/150\n",
      "\u001B[1m1136/1136\u001B[0m \u001B[32m━━━━━━━━━━━━━━━━━━━━\u001B[0m\u001B[37m\u001B[0m \u001B[1m145s\u001B[0m 128ms/step - accuracy: 0.9350 - loss: 0.4360 - val_accuracy: 0.9051 - val_loss: 0.5529 - learning_rate: 1.0000e-05\n",
      "Epoch 76/150\n",
      "\u001B[1m1136/1136\u001B[0m \u001B[32m━━━━━━━━━━━━━━━━━━━━\u001B[0m\u001B[37m\u001B[0m \u001B[1m143s\u001B[0m 126ms/step - accuracy: 0.9371 - loss: 0.4346 - val_accuracy: 0.9058 - val_loss: 0.5400 - learning_rate: 1.0000e-05\n",
      "Epoch 77/150\n",
      "\u001B[1m1136/1136\u001B[0m \u001B[32m━━━━━━━━━━━━━━━━━━━━\u001B[0m\u001B[37m\u001B[0m \u001B[1m140s\u001B[0m 123ms/step - accuracy: 0.9353 - loss: 0.4364 - val_accuracy: 0.9061 - val_loss: 0.5389 - learning_rate: 1.0000e-05\n",
      "Epoch 78/150\n",
      "\u001B[1m1136/1136\u001B[0m \u001B[32m━━━━━━━━━━━━━━━━━━━━\u001B[0m\u001B[37m\u001B[0m \u001B[1m139s\u001B[0m 122ms/step - accuracy: 0.9340 - loss: 0.4361 - val_accuracy: 0.9064 - val_loss: 0.5414 - learning_rate: 1.0000e-05\n"
     ]
    }
   ],
   "execution_count": 14
  },
  {
   "cell_type": "code",
   "source": [
    "loss, accuracy = model.evaluate(X_test, y_test)\n",
    "print(f'Accuracy: {accuracy}')\n",
    "model.save('crohme_model_20240922.keras')"
   ],
   "metadata": {
    "colab": {
     "base_uri": "https://localhost:8080/"
    },
    "id": "pvoFrXY30QR7",
    "outputId": "b3c2faa0-6181-4d20-cbe2-13497fc315d0",
    "ExecuteTime": {
     "end_time": "2024-09-22T16:15:28.091560Z",
     "start_time": "2024-09-22T16:15:21.914393Z"
    }
   },
   "outputs": [
    {
     "name": "stdout",
     "output_type": "stream",
     "text": [
      "\u001B[1m284/284\u001B[0m \u001B[32m━━━━━━━━━━━━━━━━━━━━\u001B[0m\u001B[37m\u001B[0m \u001B[1m6s\u001B[0m 20ms/step - accuracy: 0.9057 - loss: 0.5391\n",
      "Accuracy: 0.9071303009986877\n"
     ]
    }
   ],
   "execution_count": 15
  },
  {
   "cell_type": "code",
   "source": [
    "import matplotlib.pyplot as plt\n",
    "\n",
    "# Plot training & validation accuracy values\n",
    "plt.figure(figsize=(12, 4))\n",
    "plt.subplot(1, 2, 1)\n",
    "plt.plot(history.history['accuracy'], label='Train Accuracy')\n",
    "plt.plot(history.history['val_accuracy'], label='Validation Accuracy')\n",
    "plt.title('Model Accuracy')\n",
    "plt.ylabel('Accuracy')\n",
    "plt.xlabel('Epoch')\n",
    "plt.legend(loc='upper left')\n",
    "\n",
    "# Plot training & validation loss values\n",
    "plt.subplot(1, 2, 2)\n",
    "plt.plot(history.history['loss'], label='Train Loss')\n",
    "plt.plot(history.history['val_loss'], label='Validation Loss')\n",
    "plt.title('Model Loss')\n",
    "plt.ylabel('Loss')\n",
    "plt.xlabel('Epoch')\n",
    "plt.legend(loc='upper left')\n",
    "\n",
    "plt.show()"
   ],
   "metadata": {
    "colab": {
     "base_uri": "https://localhost:8080/",
     "height": 264
    },
    "id": "p74c9hHG0TXd",
    "outputId": "38d57526-8eb3-44c3-f6ae-e63b1c3a0c85",
    "ExecuteTime": {
     "end_time": "2024-09-22T16:15:28.371213Z",
     "start_time": "2024-09-22T16:15:28.092644Z"
    }
   },
   "outputs": [
    {
     "data": {
      "text/plain": [
       "<Figure size 1200x400 with 2 Axes>"
      ],
      "image/png": "[encoded data removed]"
     },
     "metadata": {},
     "output_type": "display_data"
    }
   ],
   "execution_count": 16
  },
  {
   "cell_type": "code",
   "source": [
    "# Google Colab only\n",
    "# from google.colab import files\n",
    "\n",
    "# files.download('crohme_model_20240920.keras')"
   ],
   "metadata": {
    "colab": {
     "base_uri": "https://localhost:8080/",
     "height": 17
    },
    "id": "SY5BJ9Z--7G3",
    "outputId": "5b82be31-cc9e-4656-eddb-45a8d6bfeab4",
    "ExecuteTime": {
     "end_time": "2024-09-22T16:15:28.374913Z",
     "start_time": "2024-09-22T16:15:28.372234Z"
    }
   },
   "outputs": [],
   "execution_count": 17
  },
  {
   "cell_type": "code",
   "source": [],
   "metadata": {
    "id": "dL8F_-1U-7sN",
    "ExecuteTime": {
     "end_time": "2024-09-22T16:15:28.378596Z",
     "start_time": "2024-09-22T16:15:28.376771Z"
    }
   },
   "outputs": [],
   "execution_count": 17
  },
  {
   "metadata": {},
   "cell_type": "markdown",
   "source": [
    "# Image processing part\n",
    "Move this to GUI part later."
   ]
  },
  {
   "cell_type": "code",
   "source": [
    "import cv2\n",
    "\n",
    "# Assuming 'image' is the variable holding your image data\n",
    "# Check if the image is already in grayscale\n",
    "if len(image.shape) == 3 and image.shape[2] == 3:\n",
    "    gray = cv2.cvtColor(image, cv2.COLOR_BGR2GRAY)\n",
    "else:\n",
    "    gray = image\n",
    "    \n",
    "# Convert the grayscale image to 8-bit single-channel\n",
    "gray = gray.astype('uint8')\n",
    "\n",
    "# Apply a binary threshold to the grayscale image\n",
    "_, thresh = cv2.threshold(gray, 127, 255, cv2.THRESH_BINARY_INV)\n",
    "\n",
    "# Find contours in the thresholded image\n",
    "contours, _ = cv2.findContours(thresh, cv2.RETR_EXTERNAL, cv2.CHAIN_APPROX_SIMPLE)"
   ],
   "metadata": {
    "colab": {
     "base_uri": "https://localhost:8080/",
     "height": 404
    },
    "id": "zTtoUn7sBA3h",
    "outputId": "606afdfd-e8e8-4e4f-c3ce-8fd53a682e0d",
    "ExecuteTime": {
     "end_time": "2024-09-22T23:08:26.085671Z",
     "start_time": "2024-09-22T23:08:26.080843Z"
    }
   },
   "outputs": [],
   "execution_count": 20
  },
  {
   "cell_type": "code",
   "source": [
    "def sort_contours(contours):\n",
    "    # Sort contours based on the x-coordinate to arrange symbols in the correct order\n",
    "    contours = sorted(contours, key=lambda x: cv2.boundingRect(x)[0])\n",
    "    return contours\n",
    "\n",
    "sorted_contours = sort_contours(contours)"
   ],
   "metadata": {
    "id": "RtJwZAiKRTZd",
    "ExecuteTime": {
     "end_time": "2024-09-22T23:08:30.107586Z",
     "start_time": "2024-09-22T23:08:30.103685Z"
    }
   },
   "outputs": [],
   "execution_count": 21
  },
  {
   "metadata": {
    "ExecuteTime": {
     "end_time": "2024-09-23T01:30:47.396088Z",
     "start_time": "2024-09-23T01:30:47.391612Z"
    }
   },
   "cell_type": "code",
   "source": [
    "import cv2\n",
    "\n",
    "def preprocess_image(image_path):\n",
    "    # Load the image in grayscale mode\n",
    "    image = cv2.imread(image_path, cv2.IMREAD_GRAYSCALE)\n",
    "    \n",
    "    # Check if the image was loaded correctly\n",
    "    if image is None:\n",
    "        raise ValueError(f\"Error loading image: {image_path}\")\n",
    "    \n",
    "    # Resize the image to a fixed size (e.g., 64x64)\n",
    "    image_resized = cv2.resize(image, (64, 64))\n",
    "    \n",
    "    # Normalize the image to [0, 1]\n",
    "    image_normalized = image_resized.astype('float32') / 255.0\n",
    "    \n",
    "    return image_normalized"
   ],
   "outputs": [],
   "execution_count": 32
  },
  {
   "metadata": {
    "ExecuteTime": {
     "end_time": "2024-09-23T05:50:12.947577Z",
     "start_time": "2024-09-23T05:50:12.943372Z"
    }
   },
   "cell_type": "code",
   "source": [
    "def segment_characters(image):\n",
    "    # Convert the image to 8-bit single-channel\n",
    "    image_uint8 = (image * 255).astype('uint8')\n",
    "    #if len(image.shape) == 3 and image.shape[2] == 3:\n",
    "    #    gray = cv2.cvtColor(image, cv2.COLOR_BGR2GRAY)\n",
    "    #else:\n",
    "    #    gray = image\n",
    "        \n",
    "    # Apply a binary threshold to the image\n",
    "    _, thresh = cv2.threshold(image_uint8, 127, 255, cv2.THRESH_BINARY_INV)\n",
    "    \n",
    "    # Find contours in the thresholded image\n",
    "    contours, _ = cv2.findContours(thresh, cv2.RETR_EXTERNAL, cv2.CHAIN_APPROX_SIMPLE)\n",
    "    \n",
    "    # Sort the contours from left to right\n",
    "    contours = sorted(contours, key=lambda x: cv2.boundingRect(x)[0])\n",
    "    \n",
    "    characters = []\n",
    "    \n",
    "    # Iterate over the contours\n",
    "    for contour in contours:\n",
    "        # Get the bounding box of the contour\n",
    "        x, y, w, h = cv2.boundingRect(contour)\n",
    "        \n",
    "        # Extract the character from the original image\n",
    "        character = image[y:y+h, x:x+w]\n",
    "        \n",
    "        # Resize the character to 28x28\n",
    "        character_resized = cv2.resize(character, (28, 28)) # do we really need this?\n",
    "        \n",
    "        # Append the character to the list\n",
    "        characters.append(character_resized)\n",
    "    \n",
    "    return characters"
   ],
   "outputs": [],
   "execution_count": 49
  },
  {
   "metadata": {
    "ExecuteTime": {
     "end_time": "2024-09-23T05:59:36.017726Z",
     "start_time": "2024-09-23T05:59:36.014166Z"
    }
   },
   "cell_type": "code",
   "source": [
    "def label_to_symbol(label):\n",
    "    # Define a mapping from label to symbol\n",
    "    symbols = le.classes_\n",
    "    \n",
    "    return symbols[label]\n",
    "\n",
    "print(le.classes_)"
   ],
   "outputs": [
    {
     "name": "stdout",
     "output_type": "stream",
     "text": [
      "['+DIR' '0DIR' '2DIR' '3DIR' '4DIR' '5DIR' '6DIR' '7DIR' '8DIR' '9DIR'\n",
      " 'BDIR' 'D2_DeltaDIR' 'D2_alphaDIR' 'D2_betaDIR' 'D2_forallDIR'\n",
      " 'D2_gammaDIR' 'D2_geqDIR' 'D2_gtDIR' 'D2_inDIR' 'D2_intDIR' 'D2_leqDIR'\n",
      " 'D2_limDIR' 'D2_logDIR' 'D2_ltDIR' 'D2_muDIR' 'D2_neqDIR' 'D2_phiDIR'\n",
      " 'D2_piDIR' 'D2_pmDIR' 'D2_sigmaDIR' 'D2_sqrtDIR' 'D2_sumDIR'\n",
      " 'D2_thetaDIR' 'EDIR' 'MATH_' 'RDIR' 'SHORT_MATH_' 'SLIM_MATH_'\n",
      " 'SQUARE_MATH_' 'SYN_DeltaDIR' 'SYN_alphaDIR' 'SYN_betaDIR' 'SYN_cosDIR'\n",
      " 'SYN_forallDIR' 'SYN_gammaDIR' 'SYN_gtDIR' 'SYN_inDIR' 'SYN_inftyDIR'\n",
      " 'SYN_intDIR' 'SYN_leqDIR' 'SYN_limDIR' 'SYN_logDIR' 'SYN_ltDIR'\n",
      " 'SYN_muDIR' 'SYN_neqDIR' 'SYN_phiDIR' 'SYN_piDIR' 'SYN_pmDIR'\n",
      " 'SYN_sigmaDIR' 'SYN_sinDIR' 'SYN_sqrtDIR' 'SYN_sumDIR' 'SYN_tanDIR'\n",
      " 'SYN_thetaDIR' 'SYN_timesDIR' 'TALL_MATH_' 'aDIR' 'bracketDIR' 'dDIR'\n",
      " 'fDIR' 'gDIR' 'hDIR' 'iDIR' 'kDIR' 'mDIR' 'nDIR' 'oDIR' 'pDIR' 'qDIR'\n",
      " 'sDIR' 'tDIR' 'uDIR' 'vDIR' 'wDIR' 'xDIR' 'yDIR' 'zDIR']\n"
     ]
    }
   ],
   "execution_count": 53
  },
  {
   "cell_type": "code",
   "source": [
    "def recognize_equation(image_path):\n",
    "    preprocessed_image = preprocess_image(image_path)\n",
    "    characters = segment_characters(preprocessed_image)\n",
    "\n",
    "    equation = ''\n",
    "\n",
    "    # For each character, resize it to 64x64 and pass it through the model\n",
    "    for character in characters:\n",
    "        character_resized = cv2.resize(character, (64, 64))\n",
    "        character_resized = character_resized.astype('float32') / 255\n",
    "        character_resized = character_resized.reshape(1, 64, 64, 1)\n",
    "\n",
    "        # Predict the character\n",
    "        prediction = model.predict(character_resized)\n",
    "        predicted_label = np.argmax(prediction)\n",
    "        \n",
    "        # Debug: Print the predicted label and its corresponding symbol\n",
    "        print(f'Predicted Label: {predicted_label}, Symbol: {label_to_symbol(predicted_label)}')\n",
    "\n",
    "        # Map the label to the actual character (digit or operator)\n",
    "        equation += label_to_symbol(predicted_label)\n",
    "\n",
    "    print(f'Recognized Equation: {equation}')\n"
   ],
   "metadata": {
    "id": "HL_BpV3FRT4K",
    "ExecuteTime": {
     "end_time": "2024-09-23T06:11:42.860483Z",
     "start_time": "2024-09-23T06:11:42.855198Z"
    }
   },
   "outputs": [],
   "execution_count": 56
  },
  {
   "cell_type": "code",
   "source": [
    "# Example usage\n",
    "# recognize_equation(dataset_path + 'scanned_math_equation.png')\n",
    "recognize_equation(dataset_path + '2DIR/SHORT_MATH_2_0_1162.png')\n"
   ],
   "metadata": {
    "id": "7l-UKfnaRWqO",
    "ExecuteTime": {
     "end_time": "2024-09-23T06:11:44.572168Z",
     "start_time": "2024-09-23T06:11:44.509397Z"
    }
   },
   "outputs": [
    {
     "name": "stdout",
     "output_type": "stream",
     "text": [
      "\u001B[1m1/1\u001B[0m \u001B[32m━━━━━━━━━━━━━━━━━━━━\u001B[0m\u001B[37m\u001B[0m \u001B[1m0s\u001B[0m 22ms/step\n",
      "Predicted Label: 40, Symbol: SYN_alphaDIR\n",
      "Recognized Equation: SYN_alphaDIR\n"
     ]
    }
   ],
   "execution_count": 57
  },
  {
   "metadata": {},
   "cell_type": "markdown",
   "source": [
    "High accuracy but high loss can indicate overfitting, where the model performs well on the training data but poorly on unseen data. Here are a few steps to address this:  \n",
    "1. Check for Overfitting: Compare training and validation accuracy/loss.\n",
    "2. Regularization: Add dropout layers or L2 regularization.\n",
    "3. Data Augmentation: Increase the diversity of your training data.\n",
    "4. Simplify the Model: Reduce the complexity of the model.\n",
    "\n",
    "\n",
    "Here's an example of how to add dropout and L2 regularization in a Keras model:"
   ]
  },
  {
   "metadata": {
    "ExecuteTime": {
     "end_time": "2024-09-24T00:16:39.765936Z",
     "start_time": "2024-09-24T00:16:39.678275Z"
    }
   },
   "cell_type": "code",
   "source": [
    "def create_model():\n",
    "    model = Sequential([\n",
    "        # First Conv Layer with BatchNorm and MaxPooling\n",
    "        Conv2D(32, kernel_size=(3, 3), activation='relu', input_shape=(64, 64, 1)),\n",
    "        BatchNormalization(),\n",
    "        MaxPooling2D(pool_size=(2, 2)),\n",
    "\n",
    "        # Second Conv Layer with BatchNorm and MaxPooling\n",
    "        Conv2D(64, kernel_size=(3, 3), activation='relu'),\n",
    "        BatchNormalization(),\n",
    "        MaxPooling2D(pool_size=(2, 2)),\n",
    "\n",
    "        # Third Conv Layer for deeper feature extraction\n",
    "        Conv2D(128, kernel_size=(3, 3), activation='relu'),\n",
    "        BatchNormalization(),\n",
    "        MaxPooling2D(pool_size=(2, 2)),\n",
    "        \n",
    "        # Fourth? Conv Layer for deeper feature extraction\n",
    "        Conv2D(256, kernel_size=(3, 3), activation='relu'),\n",
    "        BatchNormalization(),\n",
    "        MaxPooling2D(pool_size=(2, 2)),\n",
    "\n",
    "        # Flattening the output for the Dense Layers\n",
    "        Flatten(),\n",
    "\n",
    "        # Fully Connected Layer with Dropout and L2 Regularization\n",
    "        Dense(256, activation='relu', kernel_regularizer=l2(0.01)),\n",
    "        Dropout(0.6),\n",
    "\n",
    "        # Fully Connected Layer with higher neurons and L2 Regularization\n",
    "        Dense(128, activation='relu', kernel_regularizer=l2(0.01)),\n",
    "        Dropout(0.6),\n",
    "\n",
    "        # Output Layer\n",
    "        Dense(num_classes, activation='softmax'),\n",
    "    ])\n",
    "    \n",
    "    model.compile(optimizer='adam', loss='categorical_crossentropy', metrics=['accuracy'])\n",
    "    return model\n",
    "\n",
    "model2 = create_model()"
   ],
   "outputs": [],
   "execution_count": 64
  },
  {
   "metadata": {
    "ExecuteTime": {
     "end_time": "2024-09-24T04:19:53.549018Z",
     "start_time": "2024-09-24T00:16:42.884920Z"
    }
   },
   "cell_type": "code",
   "source": [
    "# Define the callbacks\n",
    "early_stopping = tf.keras.callbacks.EarlyStopping(monitor='val_loss', patience=20, restore_best_weights=True)\n",
    "model_checkpoint = tf.keras.callbacks.ModelCheckpoint('best_model.keras', save_best_only=True, monitor='val_loss')\n",
    "lr_scheduler = ReduceLROnPlateau(monitor='val_loss', factor=0.1, patience=10)\n",
    "\n",
    "# Train the model\n",
    "history2 = model2.fit(X_train, y_train,\n",
    "                        epochs=150, validation_data=(X_test, y_test),\n",
    "                        callbacks=[early_stopping, model_checkpoint, lr_scheduler]\n",
    "                        )"
   ],
   "outputs": [
    {
     "name": "stdout",
     "output_type": "stream",
     "text": [
      "Epoch 1/150\n",
      "\u001B[1m1136/1136\u001B[0m \u001B[32m━━━━━━━━━━━━━━━━━━━━\u001B[0m\u001B[37m\u001B[0m \u001B[1m149s\u001B[0m 128ms/step - accuracy: 0.3636 - loss: 5.8694 - val_accuracy: 0.2990 - val_loss: 3.1894 - learning_rate: 0.0010\n",
      "Epoch 2/150\n",
      "\u001B[1m1136/1136\u001B[0m \u001B[32m━━━━━━━━━━━━━━━━━━━━\u001B[0m\u001B[37m\u001B[0m \u001B[1m140s\u001B[0m 123ms/step - accuracy: 0.6065 - loss: 2.0357 - val_accuracy: 0.6068 - val_loss: 2.0792 - learning_rate: 0.0010\n",
      "Epoch 3/150\n",
      "\u001B[1m1136/1136\u001B[0m \u001B[32m━━━━━━━━━━━━━━━━━━━━\u001B[0m\u001B[37m\u001B[0m \u001B[1m145s\u001B[0m 128ms/step - accuracy: 0.6791 - loss: 1.7649 - val_accuracy: 0.7338 - val_loss: 1.5978 - learning_rate: 0.0010\n",
      "Epoch 4/150\n",
      "\u001B[1m1136/1136\u001B[0m \u001B[32m━━━━━━━━━━━━━━━━━━━━\u001B[0m\u001B[37m\u001B[0m \u001B[1m150s\u001B[0m 132ms/step - accuracy: 0.7170 - loss: 1.6324 - val_accuracy: 0.1062 - val_loss: 7.7066 - learning_rate: 0.0010\n",
      "Epoch 5/150\n",
      "\u001B[1m1136/1136\u001B[0m \u001B[32m━━━━━━━━━━━━━━━━━━━━\u001B[0m\u001B[37m\u001B[0m \u001B[1m153s\u001B[0m 135ms/step - accuracy: 0.7415 - loss: 1.5275 - val_accuracy: 0.3800 - val_loss: 2.9437 - learning_rate: 0.0010\n",
      "Epoch 6/150\n",
      "\u001B[1m1136/1136\u001B[0m \u001B[32m━━━━━━━━━━━━━━━━━━━━\u001B[0m\u001B[37m\u001B[0m \u001B[1m144s\u001B[0m 127ms/step - accuracy: 0.7598 - loss: 1.4732 - val_accuracy: 0.3572 - val_loss: 3.4200 - learning_rate: 0.0010\n",
      "Epoch 7/150\n",
      "\u001B[1m1136/1136\u001B[0m \u001B[32m━━━━━━━━━━━━━━━━━━━━\u001B[0m\u001B[37m\u001B[0m \u001B[1m127s\u001B[0m 112ms/step - accuracy: 0.7656 - loss: 1.4211 - val_accuracy: 0.3030 - val_loss: 4.3637 - learning_rate: 0.0010\n",
      "Epoch 8/150\n",
      "\u001B[1m1136/1136\u001B[0m \u001B[32m━━━━━━━━━━━━━━━━━━━━\u001B[0m\u001B[37m\u001B[0m \u001B[1m136s\u001B[0m 120ms/step - accuracy: 0.7756 - loss: 1.3967 - val_accuracy: 0.6604 - val_loss: 2.3472 - learning_rate: 0.0010\n",
      "Epoch 9/150\n",
      "\u001B[1m1136/1136\u001B[0m \u001B[32m━━━━━━━━━━━━━━━━━━━━\u001B[0m\u001B[37m\u001B[0m \u001B[1m142s\u001B[0m 125ms/step - accuracy: 0.7850 - loss: 1.3726 - val_accuracy: 0.3603 - val_loss: 3.8221 - learning_rate: 0.0010\n",
      "Epoch 10/150\n",
      "\u001B[1m1136/1136\u001B[0m \u001B[32m━━━━━━━━━━━━━━━━━━━━\u001B[0m\u001B[37m\u001B[0m \u001B[1m142s\u001B[0m 125ms/step - accuracy: 0.7916 - loss: 1.3332 - val_accuracy: 0.1167 - val_loss: 6.3424 - learning_rate: 0.0010\n",
      "Epoch 11/150\n",
      "\u001B[1m1136/1136\u001B[0m \u001B[32m━━━━━━━━━━━━━━━━━━━━\u001B[0m\u001B[37m\u001B[0m \u001B[1m149s\u001B[0m 131ms/step - accuracy: 0.7997 - loss: 1.2984 - val_accuracy: 0.6086 - val_loss: 2.3175 - learning_rate: 0.0010\n",
      "Epoch 12/150\n",
      "\u001B[1m1136/1136\u001B[0m \u001B[32m━━━━━━━━━━━━━━━━━━━━\u001B[0m\u001B[37m\u001B[0m \u001B[1m146s\u001B[0m 129ms/step - accuracy: 0.7982 - loss: 1.2881 - val_accuracy: 0.4365 - val_loss: 4.0464 - learning_rate: 0.0010\n",
      "Epoch 13/150\n",
      "\u001B[1m1136/1136\u001B[0m \u001B[32m━━━━━━━━━━━━━━━━━━━━\u001B[0m\u001B[37m\u001B[0m \u001B[1m144s\u001B[0m 126ms/step - accuracy: 0.8101 - loss: 1.2480 - val_accuracy: 0.5406 - val_loss: 2.3956 - learning_rate: 0.0010\n",
      "Epoch 14/150\n",
      "\u001B[1m1136/1136\u001B[0m \u001B[32m━━━━━━━━━━━━━━━━━━━━\u001B[0m\u001B[37m\u001B[0m \u001B[1m144s\u001B[0m 127ms/step - accuracy: 0.8385 - loss: 1.1133 - val_accuracy: 0.8878 - val_loss: 0.8336 - learning_rate: 1.0000e-04\n",
      "Epoch 15/150\n",
      "\u001B[1m1136/1136\u001B[0m \u001B[32m━━━━━━━━━━━━━━━━━━━━\u001B[0m\u001B[37m\u001B[0m \u001B[1m145s\u001B[0m 128ms/step - accuracy: 0.8649 - loss: 0.8823 - val_accuracy: 0.8480 - val_loss: 1.1289 - learning_rate: 1.0000e-04\n",
      "Epoch 16/150\n",
      "\u001B[1m1136/1136\u001B[0m \u001B[32m━━━━━━━━━━━━━━━━━━━━\u001B[0m\u001B[37m\u001B[0m \u001B[1m146s\u001B[0m 129ms/step - accuracy: 0.8726 - loss: 0.7683 - val_accuracy: 0.8825 - val_loss: 0.7171 - learning_rate: 1.0000e-04\n",
      "Epoch 17/150\n",
      "\u001B[1m1136/1136\u001B[0m \u001B[32m━━━━━━━━━━━━━━━━━━━━\u001B[0m\u001B[37m\u001B[0m \u001B[1m149s\u001B[0m 131ms/step - accuracy: 0.8816 - loss: 0.6906 - val_accuracy: 0.8379 - val_loss: 0.8661 - learning_rate: 1.0000e-04\n",
      "Epoch 18/150\n",
      "\u001B[1m1136/1136\u001B[0m \u001B[32m━━━━━━━━━━━━━━━━━━━━\u001B[0m\u001B[37m\u001B[0m \u001B[1m148s\u001B[0m 131ms/step - accuracy: 0.8860 - loss: 0.6455 - val_accuracy: 0.8875 - val_loss: 0.6398 - learning_rate: 1.0000e-04\n",
      "Epoch 19/150\n",
      "\u001B[1m1136/1136\u001B[0m \u001B[32m━━━━━━━━━━━━━━━━━━━━\u001B[0m\u001B[37m\u001B[0m \u001B[1m144s\u001B[0m 127ms/step - accuracy: 0.8892 - loss: 0.6131 - val_accuracy: 0.8927 - val_loss: 0.5973 - learning_rate: 1.0000e-04\n",
      "Epoch 20/150\n",
      "\u001B[1m1136/1136\u001B[0m \u001B[32m━━━━━━━━━━━━━━━━━━━━\u001B[0m\u001B[37m\u001B[0m \u001B[1m140s\u001B[0m 123ms/step - accuracy: 0.8942 - loss: 0.5898 - val_accuracy: 0.8956 - val_loss: 0.5838 - learning_rate: 1.0000e-04\n",
      "Epoch 21/150\n",
      "\u001B[1m1136/1136\u001B[0m \u001B[32m━━━━━━━━━━━━━━━━━━━━\u001B[0m\u001B[37m\u001B[0m \u001B[1m153s\u001B[0m 135ms/step - accuracy: 0.8956 - loss: 0.5803 - val_accuracy: 0.8794 - val_loss: 0.6896 - learning_rate: 1.0000e-04\n",
      "Epoch 22/150\n",
      "\u001B[1m1136/1136\u001B[0m \u001B[32m━━━━━━━━━━━━━━━━━━━━\u001B[0m\u001B[37m\u001B[0m \u001B[1m151s\u001B[0m 133ms/step - accuracy: 0.8985 - loss: 0.5590 - val_accuracy: 0.8936 - val_loss: 0.5861 - learning_rate: 1.0000e-04\n",
      "Epoch 23/150\n",
      "\u001B[1m1136/1136\u001B[0m \u001B[32m━━━━━━━━━━━━━━━━━━━━\u001B[0m\u001B[37m\u001B[0m \u001B[1m140s\u001B[0m 124ms/step - accuracy: 0.9027 - loss: 0.5426 - val_accuracy: 0.8998 - val_loss: 0.5644 - learning_rate: 1.0000e-04\n",
      "Epoch 24/150\n",
      "\u001B[1m1136/1136\u001B[0m \u001B[32m━━━━━━━━━━━━━━━━━━━━\u001B[0m\u001B[37m\u001B[0m \u001B[1m145s\u001B[0m 128ms/step - accuracy: 0.9043 - loss: 0.5305 - val_accuracy: 0.6396 - val_loss: 2.1017 - learning_rate: 1.0000e-04\n",
      "Epoch 25/150\n",
      "\u001B[1m1136/1136\u001B[0m \u001B[32m━━━━━━━━━━━━━━━━━━━━\u001B[0m\u001B[37m\u001B[0m \u001B[1m143s\u001B[0m 126ms/step - accuracy: 0.9039 - loss: 0.5257 - val_accuracy: 0.8870 - val_loss: 0.6006 - learning_rate: 1.0000e-04\n",
      "Epoch 26/150\n",
      "\u001B[1m1136/1136\u001B[0m \u001B[32m━━━━━━━━━━━━━━━━━━━━\u001B[0m\u001B[37m\u001B[0m \u001B[1m147s\u001B[0m 129ms/step - accuracy: 0.9079 - loss: 0.5048 - val_accuracy: 0.8944 - val_loss: 0.5734 - learning_rate: 1.0000e-04\n",
      "Epoch 27/150\n",
      "\u001B[1m1136/1136\u001B[0m \u001B[32m━━━━━━━━━━━━━━━━━━━━\u001B[0m\u001B[37m\u001B[0m \u001B[1m148s\u001B[0m 130ms/step - accuracy: 0.9075 - loss: 0.5048 - val_accuracy: 0.8824 - val_loss: 0.6644 - learning_rate: 1.0000e-04\n",
      "Epoch 28/150\n",
      "\u001B[1m1136/1136\u001B[0m \u001B[32m━━━━━━━━━━━━━━━━━━━━\u001B[0m\u001B[37m\u001B[0m \u001B[1m146s\u001B[0m 128ms/step - accuracy: 0.9118 - loss: 0.4980 - val_accuracy: 0.8991 - val_loss: 0.5509 - learning_rate: 1.0000e-04\n",
      "Epoch 29/150\n",
      "\u001B[1m1136/1136\u001B[0m \u001B[32m━━━━━━━━━━━━━━━━━━━━\u001B[0m\u001B[37m\u001B[0m \u001B[1m143s\u001B[0m 126ms/step - accuracy: 0.9142 - loss: 0.4748 - val_accuracy: 0.8705 - val_loss: 0.8696 - learning_rate: 1.0000e-04\n",
      "Epoch 30/150\n",
      "\u001B[1m1136/1136\u001B[0m \u001B[32m━━━━━━━━━━━━━━━━━━━━\u001B[0m\u001B[37m\u001B[0m \u001B[1m143s\u001B[0m 126ms/step - accuracy: 0.9160 - loss: 0.4791 - val_accuracy: 0.8874 - val_loss: 0.6154 - learning_rate: 1.0000e-04\n",
      "Epoch 31/150\n",
      "\u001B[1m1136/1136\u001B[0m \u001B[32m━━━━━━━━━━━━━━━━━━━━\u001B[0m\u001B[37m\u001B[0m \u001B[1m144s\u001B[0m 127ms/step - accuracy: 0.9148 - loss: 0.4762 - val_accuracy: 0.8872 - val_loss: 0.6493 - learning_rate: 1.0000e-04\n",
      "Epoch 32/150\n",
      "\u001B[1m1136/1136\u001B[0m \u001B[32m━━━━━━━━━━━━━━━━━━━━\u001B[0m\u001B[37m\u001B[0m \u001B[1m146s\u001B[0m 129ms/step - accuracy: 0.9220 - loss: 0.4529 - val_accuracy: 0.8627 - val_loss: 0.9401 - learning_rate: 1.0000e-04\n",
      "Epoch 33/150\n",
      "\u001B[1m1136/1136\u001B[0m \u001B[32m━━━━━━━━━━━━━━━━━━━━\u001B[0m\u001B[37m\u001B[0m \u001B[1m150s\u001B[0m 132ms/step - accuracy: 0.9202 - loss: 0.4536 - val_accuracy: 0.8803 - val_loss: 0.6554 - learning_rate: 1.0000e-04\n",
      "Epoch 34/150\n",
      "\u001B[1m1136/1136\u001B[0m \u001B[32m━━━━━━━━━━━━━━━━━━━━\u001B[0m\u001B[37m\u001B[0m \u001B[1m159s\u001B[0m 140ms/step - accuracy: 0.9261 - loss: 0.4410 - val_accuracy: 0.8656 - val_loss: 0.8124 - learning_rate: 1.0000e-04\n",
      "Epoch 35/150\n",
      "\u001B[1m1136/1136\u001B[0m \u001B[32m━━━━━━━━━━━━━━━━━━━━\u001B[0m\u001B[37m\u001B[0m \u001B[1m149s\u001B[0m 131ms/step - accuracy: 0.9219 - loss: 0.4446 - val_accuracy: 0.8830 - val_loss: 0.6418 - learning_rate: 1.0000e-04\n",
      "Epoch 36/150\n",
      "\u001B[1m1136/1136\u001B[0m \u001B[32m━━━━━━━━━━━━━━━━━━━━\u001B[0m\u001B[37m\u001B[0m \u001B[1m145s\u001B[0m 128ms/step - accuracy: 0.9265 - loss: 0.4302 - val_accuracy: 0.8895 - val_loss: 0.5849 - learning_rate: 1.0000e-04\n",
      "Epoch 37/150\n",
      "\u001B[1m1136/1136\u001B[0m \u001B[32m━━━━━━━━━━━━━━━━━━━━\u001B[0m\u001B[37m\u001B[0m \u001B[1m148s\u001B[0m 130ms/step - accuracy: 0.9317 - loss: 0.4172 - val_accuracy: 0.8943 - val_loss: 0.5928 - learning_rate: 1.0000e-04\n",
      "Epoch 38/150\n",
      "\u001B[1m1136/1136\u001B[0m \u001B[32m━━━━━━━━━━━━━━━━━━━━\u001B[0m\u001B[37m\u001B[0m \u001B[1m148s\u001B[0m 130ms/step - accuracy: 0.9343 - loss: 0.4094 - val_accuracy: 0.8985 - val_loss: 0.5590 - learning_rate: 1.0000e-04\n",
      "Epoch 39/150\n",
      "\u001B[1m1136/1136\u001B[0m \u001B[32m━━━━━━━━━━━━━━━━━━━━\u001B[0m\u001B[37m\u001B[0m \u001B[1m160s\u001B[0m 141ms/step - accuracy: 0.9329 - loss: 0.4062 - val_accuracy: 0.9017 - val_loss: 0.5412 - learning_rate: 1.0000e-05\n",
      "Epoch 40/150\n",
      "\u001B[1m1136/1136\u001B[0m \u001B[32m━━━━━━━━━━━━━━━━━━━━\u001B[0m\u001B[37m\u001B[0m \u001B[1m149s\u001B[0m 131ms/step - accuracy: 0.9315 - loss: 0.4058 - val_accuracy: 0.9047 - val_loss: 0.5386 - learning_rate: 1.0000e-05\n",
      "Epoch 41/150\n",
      "\u001B[1m1136/1136\u001B[0m \u001B[32m━━━━━━━━━━━━━━━━━━━━\u001B[0m\u001B[37m\u001B[0m \u001B[1m160s\u001B[0m 141ms/step - accuracy: 0.9371 - loss: 0.3871 - val_accuracy: 0.9035 - val_loss: 0.5368 - learning_rate: 1.0000e-05\n",
      "Epoch 42/150\n",
      "\u001B[1m1136/1136\u001B[0m \u001B[32m━━━━━━━━━━━━━━━━━━━━\u001B[0m\u001B[37m\u001B[0m \u001B[1m145s\u001B[0m 128ms/step - accuracy: 0.9381 - loss: 0.3879 - val_accuracy: 0.9045 - val_loss: 0.5385 - learning_rate: 1.0000e-05\n",
      "Epoch 43/150\n",
      "\u001B[1m1136/1136\u001B[0m \u001B[32m━━━━━━━━━━━━━━━━━━━━\u001B[0m\u001B[37m\u001B[0m \u001B[1m157s\u001B[0m 138ms/step - accuracy: 0.9393 - loss: 0.3769 - val_accuracy: 0.9049 - val_loss: 0.5345 - learning_rate: 1.0000e-05\n",
      "Epoch 44/150\n",
      "\u001B[1m1136/1136\u001B[0m \u001B[32m━━━━━━━━━━━━━━━━━━━━\u001B[0m\u001B[37m\u001B[0m \u001B[1m141s\u001B[0m 124ms/step - accuracy: 0.9354 - loss: 0.3836 - val_accuracy: 0.9039 - val_loss: 0.5345 - learning_rate: 1.0000e-05\n",
      "Epoch 45/150\n",
      "\u001B[1m1136/1136\u001B[0m \u001B[32m━━━━━━━━━━━━━━━━━━━━\u001B[0m\u001B[37m\u001B[0m \u001B[1m142s\u001B[0m 125ms/step - accuracy: 0.9409 - loss: 0.3782 - val_accuracy: 0.9043 - val_loss: 0.5326 - learning_rate: 1.0000e-05\n",
      "Epoch 46/150\n",
      "\u001B[1m1136/1136\u001B[0m \u001B[32m━━━━━━━━━━━━━━━━━━━━\u001B[0m\u001B[37m\u001B[0m \u001B[1m138s\u001B[0m 121ms/step - accuracy: 0.9398 - loss: 0.3753 - val_accuracy: 0.9039 - val_loss: 0.5324 - learning_rate: 1.0000e-05\n",
      "Epoch 47/150\n",
      "\u001B[1m1136/1136\u001B[0m \u001B[32m━━━━━━━━━━━━━━━━━━━━\u001B[0m\u001B[37m\u001B[0m \u001B[1m137s\u001B[0m 121ms/step - accuracy: 0.9397 - loss: 0.3741 - val_accuracy: 0.9036 - val_loss: 0.5299 - learning_rate: 1.0000e-05\n",
      "Epoch 48/150\n",
      "\u001B[1m1136/1136\u001B[0m \u001B[32m━━━━━━━━━━━━━━━━━━━━\u001B[0m\u001B[37m\u001B[0m \u001B[1m135s\u001B[0m 119ms/step - accuracy: 0.9458 - loss: 0.3564 - val_accuracy: 0.9044 - val_loss: 0.5289 - learning_rate: 1.0000e-05\n",
      "Epoch 49/150\n",
      "\u001B[1m1136/1136\u001B[0m \u001B[32m━━━━━━━━━━━━━━━━━━━━\u001B[0m\u001B[37m\u001B[0m \u001B[1m128s\u001B[0m 113ms/step - accuracy: 0.9419 - loss: 0.3649 - val_accuracy: 0.9036 - val_loss: 0.5324 - learning_rate: 1.0000e-05\n",
      "Epoch 50/150\n",
      "\u001B[1m1136/1136\u001B[0m \u001B[32m━━━━━━━━━━━━━━━━━━━━\u001B[0m\u001B[37m\u001B[0m \u001B[1m140s\u001B[0m 123ms/step - accuracy: 0.9427 - loss: 0.3622 - val_accuracy: 0.9040 - val_loss: 0.5289 - learning_rate: 1.0000e-05\n",
      "Epoch 51/150\n",
      "\u001B[1m1136/1136\u001B[0m \u001B[32m━━━━━━━━━━━━━━━━━━━━\u001B[0m\u001B[37m\u001B[0m \u001B[1m147s\u001B[0m 129ms/step - accuracy: 0.9407 - loss: 0.3636 - val_accuracy: 0.9036 - val_loss: 0.5274 - learning_rate: 1.0000e-05\n",
      "Epoch 52/150\n",
      "\u001B[1m1136/1136\u001B[0m \u001B[32m━━━━━━━━━━━━━━━━━━━━\u001B[0m\u001B[37m\u001B[0m \u001B[1m151s\u001B[0m 133ms/step - accuracy: 0.9430 - loss: 0.3587 - val_accuracy: 0.9043 - val_loss: 0.5270 - learning_rate: 1.0000e-05\n",
      "Epoch 53/150\n",
      "\u001B[1m1136/1136\u001B[0m \u001B[32m━━━━━━━━━━━━━━━━━━━━\u001B[0m\u001B[37m\u001B[0m \u001B[1m134s\u001B[0m 118ms/step - accuracy: 0.9419 - loss: 0.3569 - val_accuracy: 0.9037 - val_loss: 0.5244 - learning_rate: 1.0000e-05\n",
      "Epoch 54/150\n",
      "\u001B[1m1136/1136\u001B[0m \u001B[32m━━━━━━━━━━━━━━━━━━━━\u001B[0m\u001B[37m\u001B[0m \u001B[1m139s\u001B[0m 122ms/step - accuracy: 0.9425 - loss: 0.3589 - val_accuracy: 0.9034 - val_loss: 0.5240 - learning_rate: 1.0000e-05\n",
      "Epoch 55/150\n",
      "\u001B[1m1136/1136\u001B[0m \u001B[32m━━━━━━━━━━━━━━━━━━━━\u001B[0m\u001B[37m\u001B[0m \u001B[1m137s\u001B[0m 121ms/step - accuracy: 0.9438 - loss: 0.3574 - val_accuracy: 0.9035 - val_loss: 0.5262 - learning_rate: 1.0000e-05\n",
      "Epoch 56/150\n",
      "\u001B[1m1136/1136\u001B[0m \u001B[32m━━━━━━━━━━━━━━━━━━━━\u001B[0m\u001B[37m\u001B[0m \u001B[1m142s\u001B[0m 125ms/step - accuracy: 0.9433 - loss: 0.3530 - val_accuracy: 0.9045 - val_loss: 0.5230 - learning_rate: 1.0000e-05\n",
      "Epoch 57/150\n",
      "\u001B[1m1136/1136\u001B[0m \u001B[32m━━━━━━━━━━━━━━━━━━━━\u001B[0m\u001B[37m\u001B[0m \u001B[1m143s\u001B[0m 126ms/step - accuracy: 0.9424 - loss: 0.3586 - val_accuracy: 0.9042 - val_loss: 0.5222 - learning_rate: 1.0000e-05\n",
      "Epoch 58/150\n",
      "\u001B[1m1136/1136\u001B[0m \u001B[32m━━━━━━━━━━━━━━━━━━━━\u001B[0m\u001B[37m\u001B[0m \u001B[1m134s\u001B[0m 118ms/step - accuracy: 0.9430 - loss: 0.3507 - val_accuracy: 0.9028 - val_loss: 0.5208 - learning_rate: 1.0000e-05\n",
      "Epoch 59/150\n",
      "\u001B[1m1136/1136\u001B[0m \u001B[32m━━━━━━━━━━━━━━━━━━━━\u001B[0m\u001B[37m\u001B[0m \u001B[1m125s\u001B[0m 110ms/step - accuracy: 0.9423 - loss: 0.3563 - val_accuracy: 0.9050 - val_loss: 0.5236 - learning_rate: 1.0000e-05\n",
      "Epoch 60/150\n",
      "\u001B[1m1136/1136\u001B[0m \u001B[32m━━━━━━━━━━━━━━━━━━━━\u001B[0m\u001B[37m\u001B[0m \u001B[1m130s\u001B[0m 114ms/step - accuracy: 0.9420 - loss: 0.3522 - val_accuracy: 0.9023 - val_loss: 0.5221 - learning_rate: 1.0000e-05\n",
      "Epoch 61/150\n",
      "\u001B[1m1136/1136\u001B[0m \u001B[32m━━━━━━━━━━━━━━━━━━━━\u001B[0m\u001B[37m\u001B[0m \u001B[1m144s\u001B[0m 127ms/step - accuracy: 0.9445 - loss: 0.3492 - val_accuracy: 0.9027 - val_loss: 0.5204 - learning_rate: 1.0000e-05\n",
      "Epoch 62/150\n",
      "\u001B[1m1136/1136\u001B[0m \u001B[32m━━━━━━━━━━━━━━━━━━━━\u001B[0m\u001B[37m\u001B[0m \u001B[1m142s\u001B[0m 125ms/step - accuracy: 0.9419 - loss: 0.3549 - val_accuracy: 0.9040 - val_loss: 0.5190 - learning_rate: 1.0000e-05\n",
      "Epoch 63/150\n",
      "\u001B[1m1136/1136\u001B[0m \u001B[32m━━━━━━━━━━━━━━━━━━━━\u001B[0m\u001B[37m\u001B[0m \u001B[1m149s\u001B[0m 131ms/step - accuracy: 0.9436 - loss: 0.3499 - val_accuracy: 0.9044 - val_loss: 0.5213 - learning_rate: 1.0000e-05\n",
      "Epoch 64/150\n",
      "\u001B[1m1136/1136\u001B[0m \u001B[32m━━━━━━━━━━━━━━━━━━━━\u001B[0m\u001B[37m\u001B[0m \u001B[1m145s\u001B[0m 128ms/step - accuracy: 0.9463 - loss: 0.3399 - val_accuracy: 0.9043 - val_loss: 0.5191 - learning_rate: 1.0000e-05\n",
      "Epoch 65/150\n",
      "\u001B[1m1136/1136\u001B[0m \u001B[32m━━━━━━━━━━━━━━━━━━━━\u001B[0m\u001B[37m\u001B[0m \u001B[1m145s\u001B[0m 128ms/step - accuracy: 0.9468 - loss: 0.3441 - val_accuracy: 0.9036 - val_loss: 0.5217 - learning_rate: 1.0000e-05\n",
      "Epoch 66/150\n",
      "\u001B[1m1136/1136\u001B[0m \u001B[32m━━━━━━━━━━━━━━━━━━━━\u001B[0m\u001B[37m\u001B[0m \u001B[1m146s\u001B[0m 129ms/step - accuracy: 0.9466 - loss: 0.3384 - val_accuracy: 0.9051 - val_loss: 0.5233 - learning_rate: 1.0000e-05\n",
      "Epoch 67/150\n",
      "\u001B[1m1136/1136\u001B[0m \u001B[32m━━━━━━━━━━━━━━━━━━━━\u001B[0m\u001B[37m\u001B[0m \u001B[1m148s\u001B[0m 130ms/step - accuracy: 0.9449 - loss: 0.3409 - val_accuracy: 0.9047 - val_loss: 0.5187 - learning_rate: 1.0000e-05\n",
      "Epoch 68/150\n",
      "\u001B[1m1136/1136\u001B[0m \u001B[32m━━━━━━━━━━━━━━━━━━━━\u001B[0m\u001B[37m\u001B[0m \u001B[1m149s\u001B[0m 131ms/step - accuracy: 0.9461 - loss: 0.3374 - val_accuracy: 0.9044 - val_loss: 0.5225 - learning_rate: 1.0000e-05\n",
      "Epoch 69/150\n",
      "\u001B[1m1136/1136\u001B[0m \u001B[32m━━━━━━━━━━━━━━━━━━━━\u001B[0m\u001B[37m\u001B[0m \u001B[1m156s\u001B[0m 137ms/step - accuracy: 0.9459 - loss: 0.3407 - val_accuracy: 0.9042 - val_loss: 0.5174 - learning_rate: 1.0000e-05\n",
      "Epoch 70/150\n",
      "\u001B[1m1136/1136\u001B[0m \u001B[32m━━━━━━━━━━━━━━━━━━━━\u001B[0m\u001B[37m\u001B[0m \u001B[1m141s\u001B[0m 124ms/step - accuracy: 0.9475 - loss: 0.3389 - val_accuracy: 0.9039 - val_loss: 0.5178 - learning_rate: 1.0000e-05\n",
      "Epoch 71/150\n",
      "\u001B[1m1136/1136\u001B[0m \u001B[32m━━━━━━━━━━━━━━━━━━━━\u001B[0m\u001B[37m\u001B[0m \u001B[1m139s\u001B[0m 123ms/step - accuracy: 0.9461 - loss: 0.3364 - val_accuracy: 0.9046 - val_loss: 0.5183 - learning_rate: 1.0000e-05\n",
      "Epoch 72/150\n",
      "\u001B[1m1136/1136\u001B[0m \u001B[32m━━━━━━━━━━━━━━━━━━━━\u001B[0m\u001B[37m\u001B[0m \u001B[1m137s\u001B[0m 120ms/step - accuracy: 0.9472 - loss: 0.3342 - val_accuracy: 0.9032 - val_loss: 0.5173 - learning_rate: 1.0000e-05\n",
      "Epoch 73/150\n",
      "\u001B[1m1136/1136\u001B[0m \u001B[32m━━━━━━━━━━━━━━━━━━━━\u001B[0m\u001B[37m\u001B[0m \u001B[1m137s\u001B[0m 121ms/step - accuracy: 0.9451 - loss: 0.3380 - val_accuracy: 0.9044 - val_loss: 0.5207 - learning_rate: 1.0000e-05\n",
      "Epoch 74/150\n",
      "\u001B[1m1136/1136\u001B[0m \u001B[32m━━━━━━━━━━━━━━━━━━━━\u001B[0m\u001B[37m\u001B[0m \u001B[1m137s\u001B[0m 121ms/step - accuracy: 0.9438 - loss: 0.3366 - val_accuracy: 0.9043 - val_loss: 0.5208 - learning_rate: 1.0000e-05\n",
      "Epoch 75/150\n",
      "\u001B[1m1136/1136\u001B[0m \u001B[32m━━━━━━━━━━━━━━━━━━━━\u001B[0m\u001B[37m\u001B[0m \u001B[1m151s\u001B[0m 133ms/step - accuracy: 0.9463 - loss: 0.3364 - val_accuracy: 0.9048 - val_loss: 0.5185 - learning_rate: 1.0000e-05\n",
      "Epoch 76/150\n",
      "\u001B[1m1136/1136\u001B[0m \u001B[32m━━━━━━━━━━━━━━━━━━━━\u001B[0m\u001B[37m\u001B[0m \u001B[1m154s\u001B[0m 135ms/step - accuracy: 0.9457 - loss: 0.3341 - val_accuracy: 0.9048 - val_loss: 0.5187 - learning_rate: 1.0000e-05\n",
      "Epoch 77/150\n",
      "\u001B[1m1136/1136\u001B[0m \u001B[32m━━━━━━━━━━━━━━━━━━━━\u001B[0m\u001B[37m\u001B[0m \u001B[1m139s\u001B[0m 122ms/step - accuracy: 0.9475 - loss: 0.3337 - val_accuracy: 0.9029 - val_loss: 0.5244 - learning_rate: 1.0000e-05\n",
      "Epoch 78/150\n",
      "\u001B[1m1136/1136\u001B[0m \u001B[32m━━━━━━━━━━━━━━━━━━━━\u001B[0m\u001B[37m\u001B[0m \u001B[1m142s\u001B[0m 125ms/step - accuracy: 0.9490 - loss: 0.3269 - val_accuracy: 0.9043 - val_loss: 0.5180 - learning_rate: 1.0000e-05\n",
      "Epoch 79/150\n",
      "\u001B[1m1136/1136\u001B[0m \u001B[32m━━━━━━━━━━━━━━━━━━━━\u001B[0m\u001B[37m\u001B[0m \u001B[1m142s\u001B[0m 125ms/step - accuracy: 0.9482 - loss: 0.3265 - val_accuracy: 0.9044 - val_loss: 0.5158 - learning_rate: 1.0000e-05\n",
      "Epoch 80/150\n",
      "\u001B[1m1136/1136\u001B[0m \u001B[32m━━━━━━━━━━━━━━━━━━━━\u001B[0m\u001B[37m\u001B[0m \u001B[1m147s\u001B[0m 129ms/step - accuracy: 0.9482 - loss: 0.3262 - val_accuracy: 0.9038 - val_loss: 0.5148 - learning_rate: 1.0000e-05\n",
      "Epoch 81/150\n",
      "\u001B[1m1136/1136\u001B[0m \u001B[32m━━━━━━━━━━━━━━━━━━━━\u001B[0m\u001B[37m\u001B[0m \u001B[1m151s\u001B[0m 133ms/step - accuracy: 0.9492 - loss: 0.3283 - val_accuracy: 0.9036 - val_loss: 0.5184 - learning_rate: 1.0000e-05\n",
      "Epoch 82/150\n",
      "\u001B[1m1136/1136\u001B[0m \u001B[32m━━━━━━━━━━━━━━━━━━━━\u001B[0m\u001B[37m\u001B[0m \u001B[1m148s\u001B[0m 130ms/step - accuracy: 0.9486 - loss: 0.3226 - val_accuracy: 0.9033 - val_loss: 0.5161 - learning_rate: 1.0000e-05\n",
      "Epoch 83/150\n",
      "\u001B[1m1136/1136\u001B[0m \u001B[32m━━━━━━━━━━━━━━━━━━━━\u001B[0m\u001B[37m\u001B[0m \u001B[1m149s\u001B[0m 131ms/step - accuracy: 0.9486 - loss: 0.3236 - val_accuracy: 0.9035 - val_loss: 0.5158 - learning_rate: 1.0000e-05\n",
      "Epoch 84/150\n",
      "\u001B[1m1136/1136\u001B[0m \u001B[32m━━━━━━━━━━━━━━━━━━━━\u001B[0m\u001B[37m\u001B[0m \u001B[1m145s\u001B[0m 128ms/step - accuracy: 0.9491 - loss: 0.3246 - val_accuracy: 0.9036 - val_loss: 0.5217 - learning_rate: 1.0000e-05\n",
      "Epoch 85/150\n",
      "\u001B[1m1136/1136\u001B[0m \u001B[32m━━━━━━━━━━━━━━━━━━━━\u001B[0m\u001B[37m\u001B[0m \u001B[1m147s\u001B[0m 130ms/step - accuracy: 0.9487 - loss: 0.3247 - val_accuracy: 0.9028 - val_loss: 0.5191 - learning_rate: 1.0000e-05\n",
      "Epoch 86/150\n",
      "\u001B[1m1136/1136\u001B[0m \u001B[32m━━━━━━━━━━━━━━━━━━━━\u001B[0m\u001B[37m\u001B[0m \u001B[1m152s\u001B[0m 134ms/step - accuracy: 0.9501 - loss: 0.3212 - val_accuracy: 0.9029 - val_loss: 0.5187 - learning_rate: 1.0000e-05\n",
      "Epoch 87/150\n",
      "\u001B[1m1136/1136\u001B[0m \u001B[32m━━━━━━━━━━━━━━━━━━━━\u001B[0m\u001B[37m\u001B[0m \u001B[1m157s\u001B[0m 138ms/step - accuracy: 0.9515 - loss: 0.3214 - val_accuracy: 0.9044 - val_loss: 0.5191 - learning_rate: 1.0000e-05\n",
      "Epoch 88/150\n",
      "\u001B[1m1136/1136\u001B[0m \u001B[32m━━━━━━━━━━━━━━━━━━━━\u001B[0m\u001B[37m\u001B[0m \u001B[1m147s\u001B[0m 129ms/step - accuracy: 0.9488 - loss: 0.3200 - val_accuracy: 0.9034 - val_loss: 0.5198 - learning_rate: 1.0000e-05\n",
      "Epoch 89/150\n",
      "\u001B[1m1136/1136\u001B[0m \u001B[32m━━━━━━━━━━━━━━━━━━━━\u001B[0m\u001B[37m\u001B[0m \u001B[1m147s\u001B[0m 129ms/step - accuracy: 0.9505 - loss: 0.3224 - val_accuracy: 0.9028 - val_loss: 0.5196 - learning_rate: 1.0000e-05\n",
      "Epoch 90/150\n",
      "\u001B[1m1136/1136\u001B[0m \u001B[32m━━━━━━━━━━━━━━━━━━━━\u001B[0m\u001B[37m\u001B[0m \u001B[1m146s\u001B[0m 129ms/step - accuracy: 0.9471 - loss: 0.3255 - val_accuracy: 0.9043 - val_loss: 0.5180 - learning_rate: 1.0000e-05\n",
      "Epoch 91/150\n",
      "\u001B[1m1136/1136\u001B[0m \u001B[32m━━━━━━━━━━━━━━━━━━━━\u001B[0m\u001B[37m\u001B[0m \u001B[1m148s\u001B[0m 130ms/step - accuracy: 0.9514 - loss: 0.3169 - val_accuracy: 0.9029 - val_loss: 0.5165 - learning_rate: 1.0000e-06\n",
      "Epoch 92/150\n",
      "\u001B[1m1136/1136\u001B[0m \u001B[32m━━━━━━━━━━━━━━━━━━━━\u001B[0m\u001B[37m\u001B[0m \u001B[1m154s\u001B[0m 136ms/step - accuracy: 0.9482 - loss: 0.3223 - val_accuracy: 0.9026 - val_loss: 0.5165 - learning_rate: 1.0000e-06\n",
      "Epoch 93/150\n",
      "\u001B[1m1136/1136\u001B[0m \u001B[32m━━━━━━━━━━━━━━━━━━━━\u001B[0m\u001B[37m\u001B[0m \u001B[1m159s\u001B[0m 140ms/step - accuracy: 0.9510 - loss: 0.3194 - val_accuracy: 0.9032 - val_loss: 0.5173 - learning_rate: 1.0000e-06\n",
      "Epoch 94/150\n",
      "\u001B[1m1136/1136\u001B[0m \u001B[32m━━━━━━━━━━━━━━━━━━━━\u001B[0m\u001B[37m\u001B[0m \u001B[1m156s\u001B[0m 137ms/step - accuracy: 0.9487 - loss: 0.3192 - val_accuracy: 0.9029 - val_loss: 0.5178 - learning_rate: 1.0000e-06\n",
      "Epoch 95/150\n",
      "\u001B[1m1136/1136\u001B[0m \u001B[32m━━━━━━━━━━━━━━━━━━━━\u001B[0m\u001B[37m\u001B[0m \u001B[1m159s\u001B[0m 140ms/step - accuracy: 0.9493 - loss: 0.3235 - val_accuracy: 0.9039 - val_loss: 0.5170 - learning_rate: 1.0000e-06\n",
      "Epoch 96/150\n",
      "\u001B[1m1136/1136\u001B[0m \u001B[32m━━━━━━━━━━━━━━━━━━━━\u001B[0m\u001B[37m\u001B[0m \u001B[1m147s\u001B[0m 130ms/step - accuracy: 0.9487 - loss: 0.3228 - val_accuracy: 0.9031 - val_loss: 0.5179 - learning_rate: 1.0000e-06\n",
      "Epoch 97/150\n",
      "\u001B[1m1136/1136\u001B[0m \u001B[32m━━━━━━━━━━━━━━━━━━━━\u001B[0m\u001B[37m\u001B[0m \u001B[1m170s\u001B[0m 149ms/step - accuracy: 0.9515 - loss: 0.3206 - val_accuracy: 0.9024 - val_loss: 0.5157 - learning_rate: 1.0000e-06\n",
      "Epoch 98/150\n",
      "\u001B[1m1136/1136\u001B[0m \u001B[32m━━━━━━━━━━━━━━━━━━━━\u001B[0m\u001B[37m\u001B[0m \u001B[1m168s\u001B[0m 148ms/step - accuracy: 0.9473 - loss: 0.3266 - val_accuracy: 0.9027 - val_loss: 0.5175 - learning_rate: 1.0000e-06\n",
      "Epoch 99/150\n",
      "\u001B[1m1136/1136\u001B[0m \u001B[32m━━━━━━━━━━━━━━━━━━━━\u001B[0m\u001B[37m\u001B[0m \u001B[1m155s\u001B[0m 136ms/step - accuracy: 0.9524 - loss: 0.3155 - val_accuracy: 0.9025 - val_loss: 0.5167 - learning_rate: 1.0000e-06\n",
      "Epoch 100/150\n",
      "\u001B[1m1136/1136\u001B[0m \u001B[32m━━━━━━━━━━━━━━━━━━━━\u001B[0m\u001B[37m\u001B[0m \u001B[1m147s\u001B[0m 130ms/step - accuracy: 0.9461 - loss: 0.3196 - val_accuracy: 0.9029 - val_loss: 0.5172 - learning_rate: 1.0000e-06\n"
     ]
    }
   ],
   "execution_count": 65
  },
  {
   "metadata": {
    "ExecuteTime": {
     "end_time": "2024-09-24T04:19:53.831228Z",
     "start_time": "2024-09-24T04:19:53.551683Z"
    }
   },
   "cell_type": "code",
   "source": [
    "import matplotlib.pyplot as plt\n",
    "\n",
    "# Plot training & validation accuracy values\n",
    "plt.figure(figsize=(12, 4))\n",
    "plt.subplot(1, 2, 1)\n",
    "plt.plot(history2.history['accuracy'], label='Train Accuracy')\n",
    "plt.plot(history2.history['val_accuracy'], label='Validation Accuracy')\n",
    "plt.title('Model Accuracy')\n",
    "plt.ylabel('Accuracy')\n",
    "plt.xlabel('Epoch')\n",
    "plt.legend(loc='upper left')\n",
    "\n",
    "# Plot training & validation loss values\n",
    "plt.subplot(1, 2, 2)\n",
    "plt.plot(history2.history['loss'], label='Train Loss')\n",
    "plt.plot(history2.history['val_loss'], label='Validation Loss')\n",
    "plt.title('Model Loss')\n",
    "plt.ylabel('Loss')\n",
    "plt.xlabel('Epoch')\n",
    "plt.legend(loc='upper left')\n",
    "\n",
    "plt.show()"
   ],
   "outputs": [
    {
     "data": {
      "text/plain": [
       "<Figure size 1200x400 with 2 Axes>"
      ],
      "image/png": "[encoded data removed]"
     },
     "metadata": {},
     "output_type": "display_data"
    }
   ],
   "execution_count": 66
  },
  {
   "metadata": {},
   "cell_type": "code",
   "outputs": [],
   "execution_count": null,
   "source": ""
  }
 ]
}
