{
 "cells": [
  {
   "metadata": {},
   "cell_type": "markdown",
   "source": [
    "Step 1: Setting Up the Environment\n",
    "\n",
    "First, ensure you have the required libraries installed:"
   ],
   "id": "68542a41bb9f0b6d"
  },
  {
   "metadata": {
    "ExecuteTime": {
     "end_time": "2024-07-31T05:35:55.856328Z",
     "start_time": "2024-07-31T05:35:55.848326Z"
    }
   },
   "cell_type": "code",
   "source": "# !pip install tensorflow opencv-python-headless numpy matplotlib",
   "id": "initial_id",
   "outputs": [],
   "execution_count": 3
  },
  {
   "metadata": {},
   "cell_type": "markdown",
   "source": "Step 2: Importing Libraries",
   "id": "2ac05acef4f75189"
  },
  {
   "metadata": {
    "ExecuteTime": {
     "end_time": "2024-07-31T05:36:51.456325Z",
     "start_time": "2024-07-31T05:35:55.934826Z"
    }
   },
   "cell_type": "code",
   "source": [
    "import cv2\n",
    "import numpy as np\n",
    "import tensorflow as tf\n",
    "from tensorflow.keras import Sequential\n",
    "from tensorflow.keras.layers import Dense, Flatten, Conv2D, MaxPooling2D\n",
    "#from tensorflow.keras.callbacks import EarlyStopping, ModelCheckpoint\n",
    "import matplotlib.pyplot as plt"
   ],
   "id": "4c316ec042448818",
   "outputs": [],
   "execution_count": 4
  },
  {
   "metadata": {},
   "cell_type": "markdown",
   "source": [
    "Step 3: Preparing the Dataset\n",
    "\n",
    "For OCR, you can use the MNIST dataset for digit recognition. For more complex text, you might need a custom dataset."
   ],
   "id": "9df5bf9657b459a4"
  },
  {
   "metadata": {
    "ExecuteTime": {
     "end_time": "2024-07-31T05:36:52.157326Z",
     "start_time": "2024-07-31T05:36:51.457824Z"
    }
   },
   "cell_type": "code",
   "source": [
    "mnist = tf.keras.datasets.mnist\n",
    "\n",
    "# Load the dataset\n",
    "(X_train, y_train), (X_test, y_test) = mnist.load_data()\n",
    "\n",
    "# Normalize the data\n",
    "X_train = X_train / 255.0\n",
    "X_test = X_test / 255.0\n",
    "\n",
    "# Reshape the data to add a channel dimension\n",
    "X_train = X_train.reshape(-1, 28, 28, 1)\n",
    "X_test = X_test.reshape(-1, 28, 28, 1)"
   ],
   "id": "1b0991863aa7e12e",
   "outputs": [],
   "execution_count": 5
  },
  {
   "metadata": {},
   "cell_type": "markdown",
   "source": [
    "Step 4: Building the Model\n",
    "\n",
    "Create a Convolutional Neural Network (CNN) model for digit recognition."
   ],
   "id": "436c901235f18736"
  },
  {
   "metadata": {
    "ExecuteTime": {
     "end_time": "2024-07-31T05:36:52.672327Z",
     "start_time": "2024-07-31T05:36:52.158825Z"
    }
   },
   "cell_type": "code",
   "source": [
    "model = Sequential([\n",
    "    Conv2D(32, (3, 3), activation='relu', input_shape=(28, 28, 1)),\n",
    "    MaxPooling2D((2, 2)),\n",
    "    Conv2D(64, (3, 3), activation='relu'),\n",
    "    MaxPooling2D((2, 2)),\n",
    "    Flatten(),\n",
    "    Dense(128, activation='relu'),\n",
    "    Dense(10, activation='softmax')\n",
    "])\n",
    "\n",
    "model.compile(optimizer='adam', loss='sparse_categorical_crossentropy', metrics=['accuracy'])\n",
    "model.summary()"
   ],
   "id": "60b4cbed26235448",
   "outputs": [
    {
     "name": "stdout",
     "output_type": "stream",
     "text": [
      "Model: \"sequential\"\n",
      "_________________________________________________________________\n",
      " Layer (type)                Output Shape              Param #   \n",
      "=================================================================\n",
      " conv2d (Conv2D)             (None, 26, 26, 32)        320       \n",
      "                                                                 \n",
      " max_pooling2d (MaxPooling2D  (None, 13, 13, 32)       0         \n",
      " )                                                               \n",
      "                                                                 \n",
      " conv2d_1 (Conv2D)           (None, 11, 11, 64)        18496     \n",
      "                                                                 \n",
      " max_pooling2d_1 (MaxPooling  (None, 5, 5, 64)         0         \n",
      " 2D)                                                             \n",
      "                                                                 \n",
      " flatten (Flatten)           (None, 1600)              0         \n",
      "                                                                 \n",
      " dense (Dense)               (None, 128)               204928    \n",
      "                                                                 \n",
      " dense_1 (Dense)             (None, 10)                1290      \n",
      "                                                                 \n",
      "=================================================================\n",
      "Total params: 225,034\n",
      "Trainable params: 225,034\n",
      "Non-trainable params: 0\n",
      "_________________________________________________________________\n"
     ]
    }
   ],
   "execution_count": 6
  },
  {
   "metadata": {},
   "cell_type": "markdown",
   "source": [
    "Step 5: Training the Model\n",
    "\n",
    "Train the CNN model on the MNIST dataset."
   ],
   "id": "4c35a02d8826bfe4"
  },
  {
   "metadata": {
    "ExecuteTime": {
     "end_time": "2024-07-31T05:40:26.976826Z",
     "start_time": "2024-07-31T05:36:52.679827Z"
    }
   },
   "cell_type": "code",
   "source": [
    "# Set up callbacks\n",
    "early_stopping = tf.keras.callbacks.EarlyStopping(monitor='val_loss', patience=5, restore_best_weights=True)\n",
    "model_checkpoint = tf.keras.callbacks.ModelCheckpoint('best_model.keras', save_best_only=True, monitor='val_loss')\n",
    "#early_stopping\n",
    "#model_checkpoint\n",
    "\n",
    "# Train the model\n",
    "history = model.fit(\n",
    "    X_train, y_train, \n",
    "    epochs=50, \n",
    "    validation_split=0.2, \n",
    "    callbacks=[early_stopping, model_checkpoint]\n",
    ")\n",
    "\n",
    "# Save the final model\n",
    "model.save('final_model.keras')"
   ],
   "id": "69fb6f8a75d0d19e",
   "outputs": [
    {
     "name": "stdout",
     "output_type": "stream",
     "text": [
      "Epoch 1/50\n",
      "1500/1500 [==============================] - 28s 18ms/step - loss: 0.1473 - accuracy: 0.9545 - val_loss: 0.0644 - val_accuracy: 0.9800\n",
      "Epoch 2/50\n",
      "1500/1500 [==============================] - 25s 16ms/step - loss: 0.0484 - accuracy: 0.9846 - val_loss: 0.0439 - val_accuracy: 0.9867\n",
      "Epoch 3/50\n",
      "1500/1500 [==============================] - 24s 16ms/step - loss: 0.0329 - accuracy: 0.9894 - val_loss: 0.0348 - val_accuracy: 0.9897\n",
      "Epoch 4/50\n",
      "1500/1500 [==============================] - 24s 16ms/step - loss: 0.0218 - accuracy: 0.9932 - val_loss: 0.0364 - val_accuracy: 0.9897\n",
      "Epoch 5/50\n",
      "1500/1500 [==============================] - 25s 17ms/step - loss: 0.0188 - accuracy: 0.9936 - val_loss: 0.0356 - val_accuracy: 0.9897\n",
      "Epoch 6/50\n",
      "1500/1500 [==============================] - 32s 22ms/step - loss: 0.0122 - accuracy: 0.9957 - val_loss: 0.0438 - val_accuracy: 0.9883\n",
      "Epoch 7/50\n",
      "1500/1500 [==============================] - 26s 17ms/step - loss: 0.0113 - accuracy: 0.9962 - val_loss: 0.0411 - val_accuracy: 0.9881\n",
      "Epoch 8/50\n",
      "1500/1500 [==============================] - 29s 19ms/step - loss: 0.0085 - accuracy: 0.9970 - val_loss: 0.0450 - val_accuracy: 0.9902\n"
     ]
    }
   ],
   "execution_count": 7
  },
  {
   "metadata": {},
   "cell_type": "markdown",
   "source": [
    "Step 6: Evaluating the Model\n",
    "\n",
    "Evaluate the model to see its performance."
   ],
   "id": "a8c807d45bee2d14"
  },
  {
   "metadata": {
    "ExecuteTime": {
     "end_time": "2024-07-31T05:40:29.427327Z",
     "start_time": "2024-07-31T05:40:26.978326Z"
    }
   },
   "cell_type": "code",
   "source": [
    "loss, accuracy = model.evaluate(X_test, y_test)\n",
    "print(f'Accuracy: {accuracy}')"
   ],
   "id": "b46587e1b1db725",
   "outputs": [
    {
     "name": "stdout",
     "output_type": "stream",
     "text": [
      "313/313 [==============================] - 2s 6ms/step - loss: 0.0265 - accuracy: 0.9909\n",
      "Accuracy: 0.9908999800682068\n"
     ]
    }
   ],
   "execution_count": 8
  },
  {
   "metadata": {},
   "cell_type": "markdown",
   "source": "Also make a plot",
   "id": "c0a4bad488bb3bbd"
  },
  {
   "metadata": {
    "ExecuteTime": {
     "end_time": "2024-07-31T05:40:31.304826Z",
     "start_time": "2024-07-31T05:40:29.430326Z"
    }
   },
   "cell_type": "code",
   "source": [
    "import matplotlib.pyplot as plt\n",
    "\n",
    "# Plot training & validation accuracy values\n",
    "plt.figure(figsize=(12, 4))\n",
    "plt.subplot(1, 2, 1)\n",
    "plt.plot(history.history['accuracy'], label='Train Accuracy')\n",
    "plt.plot(history.history['val_accuracy'], label='Validation Accuracy')\n",
    "plt.title('Model Accuracy')\n",
    "plt.ylabel('Accuracy')\n",
    "plt.xlabel('Epoch')\n",
    "plt.legend(loc='upper left')\n",
    "\n",
    "# Plot training & validation loss values\n",
    "plt.subplot(1, 2, 2)\n",
    "plt.plot(history.history['loss'], label='Train Loss')\n",
    "plt.plot(history.history['val_loss'], label='Validation Loss')\n",
    "plt.title('Model Loss')\n",
    "plt.ylabel('Loss')\n",
    "plt.xlabel('Epoch')\n",
    "plt.legend(loc='upper left')\n",
    "\n",
    "plt.show()"
   ],
   "id": "b32876cbce3880c7",
   "outputs": [
    {
     "data": {
      "text/plain": [
       "<Figure size 864x288 with 2 Axes>"
      ],
      "image/png": "[encoded data removed]"
     },
     "metadata": {
      "needs_background": "light"
     },
     "output_type": "display_data"
    }
   ],
   "execution_count": 9
  },
  {
   "metadata": {},
   "cell_type": "markdown",
   "source": [
    "The best epoch is Epoch 7, which has the lowest validation loss of 0.0398 and a high validation accuracy of 0.9912.\n",
    "\n",
    "To evaluate the model at this specific epoch, you should load the best model saved by the ModelCheckpoint callback, which already saves the model with the lowest validation loss."
   ],
   "id": "3a6dca4f01f3d2ea"
  },
  {
   "metadata": {
    "ExecuteTime": {
     "end_time": "2024-07-31T05:40:34.126329Z",
     "start_time": "2024-07-31T05:40:31.306826Z"
    }
   },
   "cell_type": "code",
   "source": [
    "load_model = tf.keras.models.load_model\n",
    "\n",
    "# Load the best model\n",
    "best_model = load_model('best_model.keras')\n",
    "\n",
    "# Evaluate the best model\n",
    "loss, accuracy = best_model.evaluate(X_test, y_test)\n",
    "print(f'Best Model Accuracy: {accuracy}')"
   ],
   "id": "42ff637994caed8",
   "outputs": [
    {
     "name": "stdout",
     "output_type": "stream",
     "text": [
      "313/313 [==============================] - 2s 6ms/step - loss: 0.0265 - accuracy: 0.9909\n",
      "Best Model Accuracy: 0.9908999800682068\n"
     ]
    }
   ],
   "execution_count": 10
  },
  {
   "metadata": {},
   "cell_type": "markdown",
   "source": [
    "Step 7: Using the Model for Prediction\n",
    "\n",
    "You can use the trained model to make predictions on new images."
   ],
   "id": "9672076c1082eba"
  },
  {
   "metadata": {
    "ExecuteTime": {
     "end_time": "2024-07-31T06:12:46.557327Z",
     "start_time": "2024-07-31T06:12:45.938830Z"
    }
   },
   "cell_type": "code",
   "source": [
    "# Load an image (example image path: 'digit.png')\n",
    "image = cv2.imread('C:/Users/OP9020/Documents/Python-OpenCV-test/src/digit.png', cv2.IMREAD_GRAYSCALE)\n",
    "image = cv2.resize(image, (28, 28))\n",
    "image = image / 255.0\n",
    "image = image.reshape(-1, 28, 28, 1)\n",
    "\n",
    "# Make a prediction\n",
    "prediction = model.predict(image)\n",
    "predicted_class = np.argmax(prediction, axis=1)\n",
    "print(f'Predicted Class: {predicted_class[0]}')"
   ],
   "id": "5e4c5760fa3f88a5",
   "outputs": [
    {
     "name": "stdout",
     "output_type": "stream",
     "text": [
      "1/1 [==============================] - 0s 489ms/step\n",
      "Predicted Class: 8\n"
     ]
    }
   ],
   "execution_count": 14
  },
  {
   "metadata": {},
   "cell_type": "markdown",
   "source": [
    "Step 8: Visualizing the Prediction\n",
    "\n",
    "Display the input image and its predicted class."
   ],
   "id": "8edb57dad16c7e7e"
  },
  {
   "metadata": {
    "ExecuteTime": {
     "end_time": "2024-07-31T06:12:53.945827Z",
     "start_time": "2024-07-31T06:12:53.718327Z"
    }
   },
   "cell_type": "code",
   "source": [
    "plt.imshow(image.reshape(28, 28), cmap='gray')\n",
    "plt.title(f'Predicted Class: {predicted_class[0]}')\n",
    "plt.show()"
   ],
   "id": "f9de873e1930f09c",
   "outputs": [
    {
     "data": {
      "text/plain": [
       "<Figure size 432x288 with 1 Axes>"
      ],
      "image/png": "[encoded data removed]"
     },
     "metadata": {
      "needs_background": "light"
     },
     "output_type": "display_data"
    }
   ],
   "execution_count": 15
  },
  {
   "metadata": {},
   "cell_type": "markdown",
   "source": [
    "Step 9: Integrating with PyQt6 (Optional)\n",
    "\n",
    "If you want to integrate this OCR with a PyQt6 GUI, you can refer to the previous steps provided for setting up a PyQt6 application and adapting the prediction and visualization code accordingly.\n",
    "\n",
    "This guide provides a basic framework for OCR using Keras, TensorFlow, and OpenCV. For more advanced topics such as handwriting recognition or using more complex datasets, you can look for specific tutorials and datasets that fit your needs."
   ],
   "id": "e50ff7cc8d4076c9"
  },
  {
   "metadata": {},
   "cell_type": "code",
   "source": "",
   "id": "4dd856c4019bd343",
   "outputs": [],
   "execution_count": null
  }
 ],
 "metadata": {
  "kernelspec": {
   "display_name": "Python 3",
   "language": "python",
   "name": "python3"
  },
  "language_info": {
   "codemirror_mode": {
    "name": "ipython",
    "version": 2
   },
   "file_extension": ".py",
   "mimetype": "text/x-python",
   "name": "python",
   "nbconvert_exporter": "python",
   "pygments_lexer": "ipython2",
   "version": "2.7.6"
  }
 },
 "nbformat": 4,
 "nbformat_minor": 5
}
