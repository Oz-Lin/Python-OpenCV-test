{
 "cells": [
  {
   "metadata": {},
   "cell_type": "markdown",
   "source": [
    "Step 1: Setting Up the Environment\n",
    "\n",
    "First, ensure you have the required libraries installed:"
   ],
   "id": "68542a41bb9f0b6d"
  },
  {
   "metadata": {
    "ExecuteTime": {
     "end_time": "2024-08-09T03:49:58.530162Z",
     "start_time": "2024-08-09T03:49:58.508162Z"
    }
   },
   "cell_type": "code",
   "source": "# !pip install tensorflow opencv-python-headless numpy matplotlib",
   "id": "initial_id",
   "outputs": [],
   "execution_count": 15
  },
  {
   "metadata": {},
   "cell_type": "markdown",
   "source": "Step 2: Importing Libraries",
   "id": "2ac05acef4f75189"
  },
  {
   "metadata": {
    "ExecuteTime": {
     "end_time": "2024-08-09T03:49:58.545162Z",
     "start_time": "2024-08-09T03:49:58.534161Z"
    }
   },
   "cell_type": "code",
   "source": [
    "import cv2\n",
    "import numpy as np\n",
    "import tensorflow as tf\n",
    "from tensorflow.keras import Sequential\n",
    "from tensorflow.keras.layers import Dense, Flatten, Conv2D, MaxPooling2D, Dropout, BatchNormalization\n",
    "# ImageDataGenerator = tf.keras.preprocessing.image.ImageDataGenerator # marked as deprecated in newer TF version\n",
    "#from tensorflow.keras.callbacks import EarlyStopping, ModelCheckpoint\n",
    "import matplotlib.pyplot as plt"
   ],
   "id": "4c316ec042448818",
   "outputs": [],
   "execution_count": 16
  },
  {
   "metadata": {},
   "cell_type": "markdown",
   "source": [
    "Step 3: Preparing the Dataset\n",
    "\n",
    "For OCR, you can use the MNIST dataset for digit recognition. For more complex text, you might need a custom dataset."
   ],
   "id": "9df5bf9657b459a4"
  },
  {
   "metadata": {
    "ExecuteTime": {
     "end_time": "2024-08-09T03:49:58.917160Z",
     "start_time": "2024-08-09T03:49:58.546663Z"
    }
   },
   "cell_type": "code",
   "source": [
    "mnist = tf.keras.datasets.mnist\n",
    "\n",
    "# Load the dataset\n",
    "(X_train, y_train), (X_test, y_test) = mnist.load_data()\n",
    "\n",
    "# Normalize the data\n",
    "X_train = X_train / 255.0\n",
    "X_test = X_test / 255.0\n",
    "\n",
    "# Reshape the data to add a channel dimension\n",
    "X_train = X_train.reshape(-1, 28, 28, 1)\n",
    "X_test = X_test.reshape(-1, 28, 28, 1)"
   ],
   "id": "1b0991863aa7e12e",
   "outputs": [],
   "execution_count": 17
  },
  {
   "metadata": {},
   "cell_type": "markdown",
   "source": [
    "Step 3.1. Data Augmentation\n",
    "\n",
    "Increase the variety of training data by applying transformations such as rotation, scaling, translation, and noise addition to the MNIST dataset."
   ],
   "id": "1278bac9ce86fe6a"
  },
  {
   "metadata": {
    "ExecuteTime": {
     "end_time": "2024-08-09T03:49:58.932686Z",
     "start_time": "2024-08-09T03:49:58.919662Z"
    }
   },
   "cell_type": "code",
   "source": [
    "# not in use\n",
    "'''\n",
    "datagen = ImageDataGenerator(\n",
    "    rotation_range=10,\n",
    "    width_shift_range=0.1,\n",
    "    height_shift_range=0.1,\n",
    "    zoom_range=0.1\n",
    ")\n",
    "\n",
    "# Fit the data generator to the training data\n",
    "datagen.fit(X_train)\n",
    "'''"
   ],
   "id": "2899bedb7d679cfa",
   "outputs": [
    {
     "data": {
      "text/plain": [
       "'\\ndatagen = ImageDataGenerator(\\n    rotation_range=10,\\n    width_shift_range=0.1,\\n    height_shift_range=0.1,\\n    zoom_range=0.1\\n)\\n\\n# Fit the data generator to the training data\\ndatagen.fit(X_train)\\n'"
      ]
     },
     "execution_count": 18,
     "metadata": {},
     "output_type": "execute_result"
    }
   ],
   "execution_count": 18
  },
  {
   "metadata": {},
   "cell_type": "markdown",
   "source": [
    "Step 4: Building the Model\n",
    "\n",
    "Create a Convolutional Neural Network (CNN) model for digit recognition."
   ],
   "id": "436c901235f18736"
  },
  {
   "metadata": {
    "ExecuteTime": {
     "end_time": "2024-08-09T03:49:59.165162Z",
     "start_time": "2024-08-09T03:49:58.934161Z"
    }
   },
   "cell_type": "code",
   "source": [
    "# Model architecture\n",
    "model = Sequential([\n",
    "    Conv2D(32, (3, 3), activation='relu', input_shape=(28, 28, 1)),\n",
    "    BatchNormalization(),\n",
    "    MaxPooling2D((2, 2)),\n",
    "    Dropout(0.25),\n",
    "    Conv2D(64, (3, 3), activation='relu'),\n",
    "    BatchNormalization(),\n",
    "    MaxPooling2D((2, 2)),\n",
    "    Dropout(0.25),\n",
    "    Conv2D(128, (3, 3), activation='relu'),\n",
    "    BatchNormalization(),\n",
    "    MaxPooling2D((2, 2)),\n",
    "    Flatten(),\n",
    "    Dense(256, activation='relu'),\n",
    "    Dropout(0.5),\n",
    "    Dense(10, activation='softmax')\n",
    "])\n",
    "\n",
    "model.compile(optimizer='adam', loss='sparse_categorical_crossentropy', metrics=['accuracy'])\n",
    "\n",
    "model.summary()"
   ],
   "id": "60b4cbed26235448",
   "outputs": [
    {
     "name": "stdout",
     "output_type": "stream",
     "text": [
      "Model: \"sequential_1\"\n",
      "_________________________________________________________________\n",
      " Layer (type)                Output Shape              Param #   \n",
      "=================================================================\n",
      " conv2d_3 (Conv2D)           (None, 26, 26, 32)        320       \n",
      "                                                                 \n",
      " batch_normalization (BatchN  (None, 26, 26, 32)       128       \n",
      " ormalization)                                                   \n",
      "                                                                 \n",
      " max_pooling2d_3 (MaxPooling  (None, 13, 13, 32)       0         \n",
      " 2D)                                                             \n",
      "                                                                 \n",
      " dropout_1 (Dropout)         (None, 13, 13, 32)        0         \n",
      "                                                                 \n",
      " conv2d_4 (Conv2D)           (None, 11, 11, 64)        18496     \n",
      "                                                                 \n",
      " batch_normalization_1 (Batc  (None, 11, 11, 64)       256       \n",
      " hNormalization)                                                 \n",
      "                                                                 \n",
      " max_pooling2d_4 (MaxPooling  (None, 5, 5, 64)         0         \n",
      " 2D)                                                             \n",
      "                                                                 \n",
      " dropout_2 (Dropout)         (None, 5, 5, 64)          0         \n",
      "                                                                 \n",
      " conv2d_5 (Conv2D)           (None, 3, 3, 128)         73856     \n",
      "                                                                 \n",
      " batch_normalization_2 (Batc  (None, 3, 3, 128)        512       \n",
      " hNormalization)                                                 \n",
      "                                                                 \n",
      " max_pooling2d_5 (MaxPooling  (None, 1, 1, 128)        0         \n",
      " 2D)                                                             \n",
      "                                                                 \n",
      " flatten_1 (Flatten)         (None, 128)               0         \n",
      "                                                                 \n",
      " dense_2 (Dense)             (None, 256)               33024     \n",
      "                                                                 \n",
      " dropout_3 (Dropout)         (None, 256)               0         \n",
      "                                                                 \n",
      " dense_3 (Dense)             (None, 10)                2570      \n",
      "                                                                 \n",
      "=================================================================\n",
      "Total params: 129,162\n",
      "Trainable params: 128,714\n",
      "Non-trainable params: 448\n",
      "_________________________________________________________________\n"
     ]
    }
   ],
   "execution_count": 19
  },
  {
   "metadata": {},
   "cell_type": "markdown",
   "source": [
    "Step 5: Training the Model\n",
    "\n",
    "Train the CNN model on the MNIST dataset."
   ],
   "id": "4c35a02d8826bfe4"
  },
  {
   "metadata": {
    "ExecuteTime": {
     "end_time": "2024-08-09T03:56:28.839661Z",
     "start_time": "2024-08-09T03:49:59.167161Z"
    }
   },
   "cell_type": "code",
   "source": [
    "# Set up callbacks\n",
    "early_stopping = tf.keras.callbacks.EarlyStopping(monitor='val_loss', patience=5, restore_best_weights=True)\n",
    "model_checkpoint = tf.keras.callbacks.ModelCheckpoint('best_model.keras', save_best_only=True, monitor='val_loss')\n",
    "#early_stopping\n",
    "#model_checkpoint\n",
    "\n",
    "# Train the model\n",
    "history = model.fit(X_train, y_train, \n",
    "                    epochs=50, validation_data=(X_test, y_test), \n",
    "                    callbacks=[early_stopping, model_checkpoint]\n",
    "                    )\n"
   ],
   "id": "69fb6f8a75d0d19e",
   "outputs": [
    {
     "name": "stdout",
     "output_type": "stream",
     "text": [
      "Epoch 1/50\n",
      "1875/1875 [==============================] - 30s 16ms/step - loss: 0.2473 - accuracy: 0.9235 - val_loss: 0.0978 - val_accuracy: 0.9689\n",
      "Epoch 2/50\n",
      "1875/1875 [==============================] - 30s 16ms/step - loss: 0.1032 - accuracy: 0.9693 - val_loss: 0.0577 - val_accuracy: 0.9832\n",
      "Epoch 3/50\n",
      "1875/1875 [==============================] - 30s 16ms/step - loss: 0.0831 - accuracy: 0.9745 - val_loss: 0.0562 - val_accuracy: 0.9850\n",
      "Epoch 4/50\n",
      "1875/1875 [==============================] - 29s 16ms/step - loss: 0.0707 - accuracy: 0.9788 - val_loss: 0.0494 - val_accuracy: 0.9869\n",
      "Epoch 5/50\n",
      "1875/1875 [==============================] - 30s 16ms/step - loss: 0.0645 - accuracy: 0.9802 - val_loss: 0.0455 - val_accuracy: 0.9867\n",
      "Epoch 6/50\n",
      "1875/1875 [==============================] - 29s 16ms/step - loss: 0.0562 - accuracy: 0.9829 - val_loss: 0.0412 - val_accuracy: 0.9888\n",
      "Epoch 7/50\n",
      "1875/1875 [==============================] - 29s 16ms/step - loss: 0.0508 - accuracy: 0.9844 - val_loss: 0.0385 - val_accuracy: 0.9900\n",
      "Epoch 8/50\n",
      "1875/1875 [==============================] - 30s 16ms/step - loss: 0.0485 - accuracy: 0.9855 - val_loss: 0.0362 - val_accuracy: 0.9901\n",
      "Epoch 9/50\n",
      "1875/1875 [==============================] - 30s 16ms/step - loss: 0.0445 - accuracy: 0.9864 - val_loss: 0.0444 - val_accuracy: 0.9877\n",
      "Epoch 10/50\n",
      "1875/1875 [==============================] - 30s 16ms/step - loss: 0.0438 - accuracy: 0.9869 - val_loss: 0.0443 - val_accuracy: 0.9883\n",
      "Epoch 11/50\n",
      "1875/1875 [==============================] - 31s 16ms/step - loss: 0.0422 - accuracy: 0.9876 - val_loss: 0.0492 - val_accuracy: 0.9890\n",
      "Epoch 12/50\n",
      "1875/1875 [==============================] - 30s 16ms/step - loss: 0.0378 - accuracy: 0.9880 - val_loss: 0.0420 - val_accuracy: 0.9905\n",
      "Epoch 13/50\n",
      "1875/1875 [==============================] - 31s 16ms/step - loss: 0.0369 - accuracy: 0.9890 - val_loss: 0.0472 - val_accuracy: 0.9903\n"
     ]
    }
   ],
   "execution_count": 20
  },
  {
   "metadata": {},
   "cell_type": "markdown",
   "source": [
    "Step 6: Evaluating the Model\n",
    "\n",
    "Evaluate the model to see its performance."
   ],
   "id": "a8c807d45bee2d14"
  },
  {
   "metadata": {
    "ExecuteTime": {
     "end_time": "2024-08-09T03:56:30.296660Z",
     "start_time": "2024-08-09T03:56:28.841162Z"
    }
   },
   "cell_type": "code",
   "source": [
    "loss, accuracy = model.evaluate(X_test, y_test)\n",
    "print(f'Accuracy: {accuracy}')\n",
    "model.save('improved_model_20240809.keras')"
   ],
   "id": "b46587e1b1db725",
   "outputs": [
    {
     "name": "stdout",
     "output_type": "stream",
     "text": [
      "313/313 [==============================] - 1s 4ms/step - loss: 0.0362 - accuracy: 0.9901\n",
      "Accuracy: 0.9901000261306763\n"
     ]
    }
   ],
   "execution_count": 21
  },
  {
   "metadata": {},
   "cell_type": "markdown",
   "source": "Also make a plot",
   "id": "c0a4bad488bb3bbd"
  },
  {
   "metadata": {
    "ExecuteTime": {
     "end_time": "2024-08-09T03:56:30.901191Z",
     "start_time": "2024-08-09T03:56:30.298161Z"
    }
   },
   "cell_type": "code",
   "source": [
    "import matplotlib.pyplot as plt\n",
    "\n",
    "# Plot training & validation accuracy values\n",
    "plt.figure(figsize=(12, 4))\n",
    "plt.subplot(1, 2, 1)\n",
    "plt.plot(history.history['accuracy'], label='Train Accuracy')\n",
    "plt.plot(history.history['val_accuracy'], label='Validation Accuracy')\n",
    "plt.title('Model Accuracy')\n",
    "plt.ylabel('Accuracy')\n",
    "plt.xlabel('Epoch')\n",
    "plt.legend(loc='upper left')\n",
    "\n",
    "# Plot training & validation loss values\n",
    "plt.subplot(1, 2, 2)\n",
    "plt.plot(history.history['loss'], label='Train Loss')\n",
    "plt.plot(history.history['val_loss'], label='Validation Loss')\n",
    "plt.title('Model Loss')\n",
    "plt.ylabel('Loss')\n",
    "plt.xlabel('Epoch')\n",
    "plt.legend(loc='upper left')\n",
    "\n",
    "plt.show()"
   ],
   "id": "b32876cbce3880c7",
   "outputs": [
    {
     "data": {
      "text/plain": [
       "<Figure size 864x288 with 2 Axes>"
      ],
      "image/png": "[encoded data removed]"
     },
     "metadata": {
      "needs_background": "light"
     },
     "output_type": "display_data"
    }
   ],
   "execution_count": 22
  },
  {
   "metadata": {},
   "cell_type": "markdown",
   "source": [
    "The best epoch is Epoch 7, which has the lowest validation loss of 0.0398 and a high validation accuracy of 0.9912.\n",
    "\n",
    "To evaluate the model at this specific epoch, you should load the best model saved by the ModelCheckpoint callback, which already saves the model with the lowest validation loss."
   ],
   "id": "3a6dca4f01f3d2ea"
  },
  {
   "metadata": {
    "ExecuteTime": {
     "end_time": "2024-08-09T03:56:32.528668Z",
     "start_time": "2024-08-09T03:56:30.902662Z"
    }
   },
   "cell_type": "code",
   "source": [
    "load_model = tf.keras.models.load_model\n",
    "\n",
    "# Load the best model\n",
    "best_model = load_model('improved_model_20240809.keras')\n",
    "\n",
    "# Evaluate the best model\n",
    "loss, accuracy = best_model.evaluate(X_test, y_test)\n",
    "print(f'Best Model Accuracy: {accuracy}')"
   ],
   "id": "42ff637994caed8",
   "outputs": [
    {
     "name": "stdout",
     "output_type": "stream",
     "text": [
      "313/313 [==============================] - 1s 4ms/step - loss: 0.0362 - accuracy: 0.9901\n",
      "Best Model Accuracy: 0.9901000261306763\n"
     ]
    }
   ],
   "execution_count": 23
  },
  {
   "metadata": {},
   "cell_type": "markdown",
   "source": [
    "Step 7: Using the Model for Prediction\n",
    "\n",
    "You can use the trained model to make predictions on new images."
   ],
   "id": "9672076c1082eba"
  },
  {
   "metadata": {
    "ExecuteTime": {
     "end_time": "2024-08-09T03:56:32.668161Z",
     "start_time": "2024-08-09T03:56:32.530661Z"
    }
   },
   "cell_type": "code",
   "source": [
    "# Load an image (example image path: 'digit.png')\n",
    "image = cv2.imread('C:/Users/OP9020/Documents/Python-OpenCV-test/src/handwriting_image/digit-5.png', cv2.IMREAD_GRAYSCALE)\n",
    "image = cv2.resize(image, (28, 28))\n",
    "image = image / 255.0\n",
    "image = image.reshape(-1, 28, 28, 1)\n",
    "\n",
    "# Make a prediction\n",
    "prediction = model.predict(image)\n",
    "predicted_class = np.argmax(prediction, axis=1)\n",
    "print(f'Predicted Class: {predicted_class[0]}')"
   ],
   "id": "5e4c5760fa3f88a5",
   "outputs": [
    {
     "name": "stdout",
     "output_type": "stream",
     "text": [
      "1/1 [==============================] - 0s 85ms/step\n",
      "Predicted Class: 8\n"
     ]
    }
   ],
   "execution_count": 24
  },
  {
   "metadata": {},
   "cell_type": "markdown",
   "source": [
    "Step 8: Visualizing the Prediction\n",
    "\n",
    "Display the input image and its predicted class."
   ],
   "id": "8edb57dad16c7e7e"
  },
  {
   "metadata": {
    "ExecuteTime": {
     "end_time": "2024-08-09T03:56:32.776661Z",
     "start_time": "2024-08-09T03:56:32.669662Z"
    }
   },
   "cell_type": "code",
   "source": [
    "plt.imshow(image.reshape(28, 28), cmap='gray')\n",
    "plt.title(f'Predicted Class: {predicted_class[0]}')\n",
    "plt.show()"
   ],
   "id": "f9de873e1930f09c",
   "outputs": [
    {
     "data": {
      "text/plain": [
       "<Figure size 432x288 with 1 Axes>"
      ],
      "image/png": "[encoded data removed]"
     },
     "metadata": {
      "needs_background": "light"
     },
     "output_type": "display_data"
    }
   ],
   "execution_count": 25
  },
  {
   "metadata": {},
   "cell_type": "markdown",
   "source": [
    "Step 9: Integrating with PyQt6 (Optional)\n",
    "\n",
    "If you want to integrate this OCR with a PyQt6 GUI, you can refer to the previous steps provided for setting up a PyQt6 application and adapting the prediction and visualization code accordingly.\n",
    "\n",
    "This guide provides a basic framework for OCR using Keras, TensorFlow, and OpenCV. For more advanced topics such as handwriting recognition or using more complex datasets, you can look for specific tutorials and datasets that fit your needs."
   ],
   "id": "e50ff7cc8d4076c9"
  },
  {
   "metadata": {
    "ExecuteTime": {
     "end_time": "2024-08-09T03:56:32.792161Z",
     "start_time": "2024-08-09T03:56:32.777661Z"
    }
   },
   "cell_type": "code",
   "source": "",
   "id": "4dd856c4019bd343",
   "outputs": [],
   "execution_count": 25
  }
 ],
 "metadata": {
  "kernelspec": {
   "display_name": "Python 3",
   "language": "python",
   "name": "python3"
  },
  "language_info": {
   "codemirror_mode": {
    "name": "ipython",
    "version": 2
   },
   "file_extension": ".py",
   "mimetype": "text/x-python",
   "name": "python",
   "nbconvert_exporter": "python",
   "pygments_lexer": "ipython2",
   "version": "2.7.6"
  }
 },
 "nbformat": 4,
 "nbformat_minor": 5
}
