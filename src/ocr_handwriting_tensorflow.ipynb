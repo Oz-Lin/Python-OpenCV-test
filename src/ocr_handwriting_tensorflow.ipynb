{
 "cells": [
  {
   "metadata": {},
   "cell_type": "markdown",
   "source": [
    "Step 1: Setting Up the Environment\n",
    "\n",
    "First, ensure you have the required libraries installed:"
   ],
   "id": "68542a41bb9f0b6d"
  },
  {
   "metadata": {
    "ExecuteTime": {
     "end_time": "2024-07-29T06:13:39.530480Z",
     "start_time": "2024-07-29T06:13:39.518745Z"
    }
   },
   "cell_type": "code",
   "source": "# !pip install tensorflow opencv-python-headless numpy matplotlib",
   "id": "initial_id",
   "outputs": [],
   "execution_count": 1
  },
  {
   "metadata": {},
   "cell_type": "markdown",
   "source": "Step 2: Importing Libraries",
   "id": "2ac05acef4f75189"
  },
  {
   "metadata": {
    "ExecuteTime": {
     "end_time": "2024-07-29T06:14:17.379480Z",
     "start_time": "2024-07-29T06:13:39.562982Z"
    }
   },
   "cell_type": "code",
   "source": [
    "import cv2\n",
    "import numpy as np\n",
    "import tensorflow as tf\n",
    "from tensorflow.keras import Sequential\n",
    "from tensorflow.keras.layers import Dense, Flatten, Conv2D, MaxPooling2D\n",
    "#from tensorflow.keras.callbacks import EarlyStopping, ModelCheckpoint\n",
    "import matplotlib.pyplot as plt"
   ],
   "id": "4c316ec042448818",
   "outputs": [],
   "execution_count": 2
  },
  {
   "metadata": {},
   "cell_type": "markdown",
   "source": [
    "Step 3: Preparing the Dataset\n",
    "\n",
    "For OCR, you can use the MNIST dataset for digit recognition. For more complex text, you might need a custom dataset."
   ],
   "id": "9df5bf9657b459a4"
  },
  {
   "metadata": {
    "ExecuteTime": {
     "end_time": "2024-07-29T06:14:19.687979Z",
     "start_time": "2024-07-29T06:14:17.383480Z"
    }
   },
   "cell_type": "code",
   "source": [
    "mnist = tf.keras.datasets.mnist\n",
    "\n",
    "# Load the dataset\n",
    "(X_train, y_train), (X_test, y_test) = mnist.load_data()\n",
    "\n",
    "# Normalize the data\n",
    "X_train = X_train / 255.0\n",
    "X_test = X_test / 255.0\n",
    "\n",
    "# Reshape the data to add a channel dimension\n",
    "X_train = X_train.reshape(-1, 28, 28, 1)\n",
    "X_test = X_test.reshape(-1, 28, 28, 1)"
   ],
   "id": "1b0991863aa7e12e",
   "outputs": [
    {
     "name": "stdout",
     "output_type": "stream",
     "text": [
      "Downloading data from https://storage.googleapis.com/tensorflow/tf-keras-datasets/mnist.npz\n",
      "11490434/11490434 [==============================] - 1s 0us/step\n"
     ]
    }
   ],
   "execution_count": 3
  },
  {
   "metadata": {},
   "cell_type": "markdown",
   "source": [
    "Step 4: Building the Model\n",
    "\n",
    "Create a Convolutional Neural Network (CNN) model for digit recognition."
   ],
   "id": "436c901235f18736"
  },
  {
   "metadata": {
    "ExecuteTime": {
     "end_time": "2024-07-29T06:14:19.951481Z",
     "start_time": "2024-07-29T06:14:19.689980Z"
    }
   },
   "cell_type": "code",
   "source": [
    "model = Sequential([\n",
    "    Conv2D(32, (3, 3), activation='relu', input_shape=(28, 28, 1)),\n",
    "    MaxPooling2D((2, 2)),\n",
    "    Conv2D(64, (3, 3), activation='relu'),\n",
    "    MaxPooling2D((2, 2)),\n",
    "    Flatten(),\n",
    "    Dense(128, activation='relu'),\n",
    "    Dense(10, activation='softmax')\n",
    "])\n",
    "\n",
    "model.compile(optimizer='adam', loss='sparse_categorical_crossentropy', metrics=['accuracy'])\n",
    "model.summary()"
   ],
   "id": "60b4cbed26235448",
   "outputs": [
    {
     "name": "stdout",
     "output_type": "stream",
     "text": [
      "Model: \"sequential\"\n",
      "_________________________________________________________________\n",
      " Layer (type)                Output Shape              Param #   \n",
      "=================================================================\n",
      " conv2d (Conv2D)             (None, 26, 26, 32)        320       \n",
      "                                                                 \n",
      " max_pooling2d (MaxPooling2D  (None, 13, 13, 32)       0         \n",
      " )                                                               \n",
      "                                                                 \n",
      " conv2d_1 (Conv2D)           (None, 11, 11, 64)        18496     \n",
      "                                                                 \n",
      " max_pooling2d_1 (MaxPooling  (None, 5, 5, 64)         0         \n",
      " 2D)                                                             \n",
      "                                                                 \n",
      " flatten (Flatten)           (None, 1600)              0         \n",
      "                                                                 \n",
      " dense (Dense)               (None, 128)               204928    \n",
      "                                                                 \n",
      " dense_1 (Dense)             (None, 10)                1290      \n",
      "                                                                 \n",
      "=================================================================\n",
      "Total params: 225,034\n",
      "Trainable params: 225,034\n",
      "Non-trainable params: 0\n",
      "_________________________________________________________________\n"
     ]
    }
   ],
   "execution_count": 4
  },
  {
   "metadata": {},
   "cell_type": "markdown",
   "source": [
    "Step 5: Training the Model\n",
    "\n",
    "Train the CNN model on the MNIST dataset."
   ],
   "id": "4c35a02d8826bfe4"
  },
  {
   "metadata": {
    "ExecuteTime": {
     "end_time": "2024-07-29T06:17:55.672481Z",
     "start_time": "2024-07-29T06:14:19.953480Z"
    }
   },
   "cell_type": "code",
   "source": [
    "# Set up callbacks\n",
    "early_stopping = tf.keras.callbacks.EarlyStopping(monitor='val_loss', patience=5, restore_best_weights=True)\n",
    "model_checkpoint = tf.keras.callbacks.ModelCheckpoint('best_model.keras', save_best_only=True, monitor='val_loss')\n",
    "#early_stopping\n",
    "#model_checkpoint\n",
    "\n",
    "# Train the model\n",
    "history = model.fit(\n",
    "    X_train, y_train, \n",
    "    epochs=50, \n",
    "    validation_split=0.2, \n",
    "    callbacks=[early_stopping, model_checkpoint]\n",
    ")\n",
    "\n",
    "# Save the final model\n",
    "model.save('final_model.keras')"
   ],
   "id": "69fb6f8a75d0d19e",
   "outputs": [
    {
     "name": "stdout",
     "output_type": "stream",
     "text": [
      "Epoch 1/50\n",
      "1500/1500 [==============================] - 19s 12ms/step - loss: 0.1470 - accuracy: 0.9549 - val_loss: 0.0570 - val_accuracy: 0.9827\n",
      "Epoch 2/50\n",
      "1500/1500 [==============================] - 18s 12ms/step - loss: 0.0461 - accuracy: 0.9860 - val_loss: 0.0468 - val_accuracy: 0.9853\n",
      "Epoch 3/50\n",
      "1500/1500 [==============================] - 17s 11ms/step - loss: 0.0327 - accuracy: 0.9895 - val_loss: 0.0540 - val_accuracy: 0.9837\n",
      "Epoch 4/50\n",
      "1500/1500 [==============================] - 17s 12ms/step - loss: 0.0235 - accuracy: 0.9924 - val_loss: 0.0444 - val_accuracy: 0.9873\n",
      "Epoch 5/50\n",
      "1500/1500 [==============================] - 17s 11ms/step - loss: 0.0175 - accuracy: 0.9938 - val_loss: 0.0418 - val_accuracy: 0.9884\n",
      "Epoch 6/50\n",
      "1500/1500 [==============================] - 17s 11ms/step - loss: 0.0122 - accuracy: 0.9958 - val_loss: 0.0474 - val_accuracy: 0.9880\n",
      "Epoch 7/50\n",
      "1500/1500 [==============================] - 20s 13ms/step - loss: 0.0110 - accuracy: 0.9961 - val_loss: 0.0398 - val_accuracy: 0.9912\n",
      "Epoch 8/50\n",
      "1500/1500 [==============================] - 18s 12ms/step - loss: 0.0085 - accuracy: 0.9972 - val_loss: 0.0439 - val_accuracy: 0.9908\n",
      "Epoch 9/50\n",
      "1500/1500 [==============================] - 18s 12ms/step - loss: 0.0082 - accuracy: 0.9971 - val_loss: 0.0479 - val_accuracy: 0.9887\n",
      "Epoch 10/50\n",
      "1500/1500 [==============================] - 18s 12ms/step - loss: 0.0064 - accuracy: 0.9980 - val_loss: 0.0521 - val_accuracy: 0.9901\n",
      "Epoch 11/50\n",
      "1500/1500 [==============================] - 19s 12ms/step - loss: 0.0059 - accuracy: 0.9981 - val_loss: 0.0596 - val_accuracy: 0.9878\n",
      "Epoch 12/50\n",
      "1500/1500 [==============================] - 18s 12ms/step - loss: 0.0053 - accuracy: 0.9983 - val_loss: 0.0477 - val_accuracy: 0.9894\n"
     ]
    }
   ],
   "execution_count": 5
  },
  {
   "metadata": {},
   "cell_type": "markdown",
   "source": [
    "Step 6: Evaluating the Model\n",
    "\n",
    "Evaluate the model to see its performance."
   ],
   "id": "a8c807d45bee2d14"
  },
  {
   "metadata": {
    "ExecuteTime": {
     "end_time": "2024-07-29T06:18:44.351430Z",
     "start_time": "2024-07-29T06:17:55.673983Z"
    }
   },
   "cell_type": "code",
   "source": [
    "loss, accuracy = model.evaluate(X_test, y_test)\n",
    "print(f'Accuracy: {accuracy}')"
   ],
   "id": "b46587e1b1db725",
   "outputs": [
    {
     "name": "stdout",
     "output_type": "stream",
     "text": [
      "313/313 [==============================] - 2s 4ms/step - loss: 0.0298 - accuracy: 0.9914\n",
      "Accuracy: 0.9914000034332275\n"
     ]
    }
   ],
   "execution_count": 6
  },
  {
   "metadata": {},
   "cell_type": "markdown",
   "source": "Also make a plot",
   "id": "c0a4bad488bb3bbd"
  },
  {
   "metadata": {
    "ExecuteTime": {
     "end_time": "2024-07-29T06:18:45.513929Z",
     "start_time": "2024-07-29T06:18:44.352929Z"
    }
   },
   "cell_type": "code",
   "source": [
    "import matplotlib.pyplot as plt\n",
    "\n",
    "# Plot training & validation accuracy values\n",
    "plt.figure(figsize=(12, 4))\n",
    "plt.subplot(1, 2, 1)\n",
    "plt.plot(history.history['accuracy'], label='Train Accuracy')\n",
    "plt.plot(history.history['val_accuracy'], label='Validation Accuracy')\n",
    "plt.title('Model Accuracy')\n",
    "plt.ylabel('Accuracy')\n",
    "plt.xlabel('Epoch')\n",
    "plt.legend(loc='upper left')\n",
    "\n",
    "# Plot training & validation loss values\n",
    "plt.subplot(1, 2, 2)\n",
    "plt.plot(history.history['loss'], label='Train Loss')\n",
    "plt.plot(history.history['val_loss'], label='Validation Loss')\n",
    "plt.title('Model Loss')\n",
    "plt.ylabel('Loss')\n",
    "plt.xlabel('Epoch')\n",
    "plt.legend(loc='upper left')\n",
    "\n",
    "plt.show()"
   ],
   "id": "b32876cbce3880c7",
   "outputs": [
    {
     "data": {
      "text/plain": [
       "<Figure size 864x288 with 2 Axes>"
      ],
      "image/png": "[encoded data removed]"
     },
     "metadata": {
      "needs_background": "light"
     },
     "output_type": "display_data"
    }
   ],
   "execution_count": 7
  },
  {
   "metadata": {},
   "cell_type": "markdown",
   "source": [
    "The best epoch is Epoch 7, which has the lowest validation loss of 0.0398 and a high validation accuracy of 0.9912.\n",
    "\n",
    "To evaluate the model at this specific epoch, you should load the best model saved by the ModelCheckpoint callback, which already saves the model with the lowest validation loss."
   ],
   "id": "3a6dca4f01f3d2ea"
  },
  {
   "metadata": {
    "ExecuteTime": {
     "end_time": "2024-07-29T06:29:11.318301Z",
     "start_time": "2024-07-29T06:29:09.772302Z"
    }
   },
   "cell_type": "code",
   "source": [
    "load_model = tf.keras.models.load_model\n",
    "\n",
    "# Load the best model\n",
    "best_model = load_model('best_model.keras')\n",
    "\n",
    "# Evaluate the best model\n",
    "loss, accuracy = best_model.evaluate(X_test, y_test)\n",
    "print(f'Best Model Accuracy: {accuracy}')"
   ],
   "id": "42ff637994caed8",
   "outputs": [
    {
     "name": "stdout",
     "output_type": "stream",
     "text": [
      "313/313 [==============================] - 1s 4ms/step - loss: 0.0298 - accuracy: 0.9914\n",
      "Best Model Accuracy: 0.9914000034332275\n"
     ]
    }
   ],
   "execution_count": 9
  },
  {
   "metadata": {},
   "cell_type": "markdown",
   "source": [
    "Step 7: Using the Model for Prediction\n",
    "\n",
    "You can use the trained model to make predictions on new images."
   ],
   "id": "9672076c1082eba"
  },
  {
   "metadata": {
    "ExecuteTime": {
     "end_time": "2024-07-29T06:18:48.086927Z",
     "start_time": "2024-07-29T06:18:45.515429Z"
    }
   },
   "cell_type": "code",
   "source": [
    "# Load an image (example image path: 'digit.png')\n",
    "image = cv2.imread('digit.png', cv2.IMREAD_GRAYSCALE)\n",
    "image = cv2.resize(image, (28, 28))\n",
    "image = image / 255.0\n",
    "image = image.reshape(-1, 28, 28, 1)\n",
    "\n",
    "# Make a prediction\n",
    "prediction = model.predict(image)\n",
    "predicted_class = np.argmax(prediction, axis=1)\n",
    "print(f'Predicted Class: {predicted_class[0]}')"
   ],
   "id": "5e4c5760fa3f88a5",
   "outputs": [
    {
     "ename": "error",
     "evalue": "OpenCV(4.6.0) D:\\a\\opencv-python\\opencv-python\\opencv\\modules\\imgproc\\src\\resize.cpp:4052: error: (-215:Assertion failed) !ssize.empty() in function 'cv::resize'\n",
     "output_type": "error",
     "traceback": [
      "\u001B[1;31m---------------------------------------------------------------------------\u001B[0m",
      "\u001B[1;31merror\u001B[0m                                     Traceback (most recent call last)",
      "\u001B[1;32m~\\AppData\\Local\\Temp/ipykernel_59520/181897649.py\u001B[0m in \u001B[0;36m<module>\u001B[1;34m\u001B[0m\n\u001B[0;32m      1\u001B[0m \u001B[1;31m# Load an image (example image path: 'digit.png')\u001B[0m\u001B[1;33m\u001B[0m\u001B[1;33m\u001B[0m\u001B[0m\n\u001B[0;32m      2\u001B[0m \u001B[0mimage\u001B[0m \u001B[1;33m=\u001B[0m \u001B[0mcv2\u001B[0m\u001B[1;33m.\u001B[0m\u001B[0mimread\u001B[0m\u001B[1;33m(\u001B[0m\u001B[1;34m'digit.png'\u001B[0m\u001B[1;33m,\u001B[0m \u001B[0mcv2\u001B[0m\u001B[1;33m.\u001B[0m\u001B[0mIMREAD_GRAYSCALE\u001B[0m\u001B[1;33m)\u001B[0m\u001B[1;33m\u001B[0m\u001B[1;33m\u001B[0m\u001B[0m\n\u001B[1;32m----> 3\u001B[1;33m \u001B[0mimage\u001B[0m \u001B[1;33m=\u001B[0m \u001B[0mcv2\u001B[0m\u001B[1;33m.\u001B[0m\u001B[0mresize\u001B[0m\u001B[1;33m(\u001B[0m\u001B[0mimage\u001B[0m\u001B[1;33m,\u001B[0m \u001B[1;33m(\u001B[0m\u001B[1;36m28\u001B[0m\u001B[1;33m,\u001B[0m \u001B[1;36m28\u001B[0m\u001B[1;33m)\u001B[0m\u001B[1;33m)\u001B[0m\u001B[1;33m\u001B[0m\u001B[1;33m\u001B[0m\u001B[0m\n\u001B[0m\u001B[0;32m      4\u001B[0m \u001B[0mimage\u001B[0m \u001B[1;33m=\u001B[0m \u001B[0mimage\u001B[0m \u001B[1;33m/\u001B[0m \u001B[1;36m255.0\u001B[0m\u001B[1;33m\u001B[0m\u001B[1;33m\u001B[0m\u001B[0m\n\u001B[0;32m      5\u001B[0m \u001B[0mimage\u001B[0m \u001B[1;33m=\u001B[0m \u001B[0mimage\u001B[0m\u001B[1;33m.\u001B[0m\u001B[0mreshape\u001B[0m\u001B[1;33m(\u001B[0m\u001B[1;33m-\u001B[0m\u001B[1;36m1\u001B[0m\u001B[1;33m,\u001B[0m \u001B[1;36m28\u001B[0m\u001B[1;33m,\u001B[0m \u001B[1;36m28\u001B[0m\u001B[1;33m,\u001B[0m \u001B[1;36m1\u001B[0m\u001B[1;33m)\u001B[0m\u001B[1;33m\u001B[0m\u001B[1;33m\u001B[0m\u001B[0m\n",
      "\u001B[1;31merror\u001B[0m: OpenCV(4.6.0) D:\\a\\opencv-python\\opencv-python\\opencv\\modules\\imgproc\\src\\resize.cpp:4052: error: (-215:Assertion failed) !ssize.empty() in function 'cv::resize'\n"
     ]
    }
   ],
   "execution_count": 8
  },
  {
   "metadata": {},
   "cell_type": "markdown",
   "source": [
    "Step 8: Visualizing the Prediction\n",
    "\n",
    "Display the input image and its predicted class."
   ],
   "id": "8edb57dad16c7e7e"
  },
  {
   "metadata": {},
   "cell_type": "code",
   "source": [
    "plt.imshow(image.reshape(28, 28), cmap='gray')\n",
    "plt.title(f'Predicted Class: {predicted_class[0]}')\n",
    "plt.show()"
   ],
   "id": "f9de873e1930f09c",
   "outputs": [],
   "execution_count": null
  },
  {
   "metadata": {},
   "cell_type": "markdown",
   "source": [
    "Step 9: Integrating with PyQt6 (Optional)\n",
    "\n",
    "If you want to integrate this OCR with a PyQt6 GUI, you can refer to the previous steps provided for setting up a PyQt6 application and adapting the prediction and visualization code accordingly.\n",
    "\n",
    "This guide provides a basic framework for OCR using Keras, TensorFlow, and OpenCV. For more advanced topics such as handwriting recognition or using more complex datasets, you can look for specific tutorials and datasets that fit your needs."
   ],
   "id": "e50ff7cc8d4076c9"
  },
  {
   "metadata": {},
   "cell_type": "code",
   "source": "",
   "id": "4dd856c4019bd343",
   "outputs": [],
   "execution_count": null
  }
 ],
 "metadata": {
  "kernelspec": {
   "display_name": "Python 3",
   "language": "python",
   "name": "python3"
  },
  "language_info": {
   "codemirror_mode": {
    "name": "ipython",
    "version": 2
   },
   "file_extension": ".py",
   "mimetype": "text/x-python",
   "name": "python",
   "nbconvert_exporter": "python",
   "pygments_lexer": "ipython2",
   "version": "2.7.6"
  }
 },
 "nbformat": 4,
 "nbformat_minor": 5
}
